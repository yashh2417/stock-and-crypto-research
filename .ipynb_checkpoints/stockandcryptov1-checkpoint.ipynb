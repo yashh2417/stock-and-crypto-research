{
 "cells": [
  {
   "cell_type": "markdown",
   "metadata": {},
   "source": [
    "# 1. Install and Import Baseline Dependencies"
   ]
  },
  {
   "cell_type": "code",
   "execution_count": 66,
   "metadata": {},
   "outputs": [
    {
     "name": "stdout",
     "output_type": "stream",
     "text": [
      "Package            Version\n",
      "------------------ ----------\n",
      "beautifulsoup4     4.12.3\n",
      "certifi            2024.12.14\n",
      "charset-normalizer 3.4.1\n",
      "click              8.1.8\n",
      "filelock           3.16.1\n",
      "fsspec             2024.12.0\n",
      "huggingface-hub    0.27.0\n",
      "idna               3.10\n",
      "Jinja2             3.1.5\n",
      "joblib             1.4.2\n",
      "MarkupSafe         3.0.2\n",
      "mpmath             1.3.0\n",
      "networkx           3.4.2\n",
      "nltk               3.9.1\n",
      "numpy              2.2.1\n",
      "packaging          24.2\n",
      "pip                24.3.1\n",
      "PyYAML             6.0.2\n",
      "regex              2024.11.6\n",
      "requests           2.32.3\n",
      "safetensors        0.4.5\n",
      "setuptools         75.6.0\n",
      "soupsieve          2.6\n",
      "sympy              1.13.1\n",
      "tokenizers         0.21.0\n",
      "torch              2.5.1\n",
      "tqdm               4.67.1\n",
      "transformers       4.47.1\n",
      "typing_extensions  4.12.2\n",
      "urllib3            2.3.0\n",
      "wheel              0.45.1\n"
     ]
    }
   ],
   "source": [
    "!pip list"
   ]
  },
  {
   "cell_type": "code",
   "execution_count": 1,
   "metadata": {},
   "outputs": [
    {
     "name": "stdout",
     "output_type": "stream",
     "text": [
      "Collecting Transformers\n",
      "  Downloading transformers-4.46.3-py3-none-any.whl.metadata (44 kB)\n",
      "\u001b[2K     \u001b[38;2;114;156;31m━━━━━━━━━━━━━━━━━━━━━━━━━━━━━━━━━━━━━━━\u001b[0m \u001b[32m44.1/44.1 kB\u001b[0m \u001b[31m632.1 kB/s\u001b[0m eta \u001b[36m0:00:00\u001b[0m kB/s\u001b[0m eta \u001b[36m0:00:01\u001b[0m\n",
      "\u001b[?25hRequirement already satisfied: filelock in /Library/Frameworks/Python.framework/Versions/3.11/lib/python3.11/site-packages (from Transformers) (3.16.1)\n",
      "Collecting huggingface-hub<1.0,>=0.23.2 (from Transformers)\n",
      "  Downloading huggingface_hub-0.26.3-py3-none-any.whl.metadata (13 kB)\n",
      "Requirement already satisfied: numpy>=1.17 in /Library/Frameworks/Python.framework/Versions/3.11/lib/python3.11/site-packages (from Transformers) (1.25.2)\n",
      "Requirement already satisfied: packaging>=20.0 in /Library/Frameworks/Python.framework/Versions/3.11/lib/python3.11/site-packages (from Transformers) (23.1)\n",
      "Requirement already satisfied: pyyaml>=5.1 in /Library/Frameworks/Python.framework/Versions/3.11/lib/python3.11/site-packages (from Transformers) (6.0)\n",
      "Collecting regex!=2019.12.17 (from Transformers)\n",
      "  Using cached regex-2024.11.6-cp311-cp311-macosx_11_0_arm64.whl.metadata (40 kB)\n",
      "Requirement already satisfied: requests in /Library/Frameworks/Python.framework/Versions/3.11/lib/python3.11/site-packages (from Transformers) (2.31.0)\n",
      "Collecting tokenizers<0.21,>=0.20 (from Transformers)\n",
      "  Downloading tokenizers-0.20.3-cp311-cp311-macosx_11_0_arm64.whl.metadata (6.7 kB)\n",
      "Collecting safetensors>=0.4.1 (from Transformers)\n",
      "  Downloading safetensors-0.4.5-cp311-cp311-macosx_11_0_arm64.whl.metadata (3.8 kB)\n",
      "Requirement already satisfied: tqdm>=4.27 in /Library/Frameworks/Python.framework/Versions/3.11/lib/python3.11/site-packages (from Transformers) (4.66.1)\n",
      "Requirement already satisfied: fsspec>=2023.5.0 in /Library/Frameworks/Python.framework/Versions/3.11/lib/python3.11/site-packages (from huggingface-hub<1.0,>=0.23.2->Transformers) (2024.10.0)\n",
      "Requirement already satisfied: typing-extensions>=3.7.4.3 in /Library/Frameworks/Python.framework/Versions/3.11/lib/python3.11/site-packages (from huggingface-hub<1.0,>=0.23.2->Transformers) (4.8.0)\n",
      "Requirement already satisfied: charset-normalizer<4,>=2 in /Library/Frameworks/Python.framework/Versions/3.11/lib/python3.11/site-packages (from requests->Transformers) (3.1.0)\n",
      "Requirement already satisfied: idna<4,>=2.5 in /Library/Frameworks/Python.framework/Versions/3.11/lib/python3.11/site-packages (from requests->Transformers) (3.4)\n",
      "Requirement already satisfied: urllib3<3,>=1.21.1 in /Library/Frameworks/Python.framework/Versions/3.11/lib/python3.11/site-packages (from requests->Transformers) (2.0.3)\n",
      "Requirement already satisfied: certifi>=2017.4.17 in /Library/Frameworks/Python.framework/Versions/3.11/lib/python3.11/site-packages (from requests->Transformers) (2023.5.7)\n",
      "Downloading transformers-4.46.3-py3-none-any.whl (10.0 MB)\n",
      "\u001b[2K   \u001b[38;2;114;156;31m━━━━━━━━━━━━━━━━━━━━━━━━━━━━━━━━━━━━━━━━\u001b[0m \u001b[32m10.0/10.0 MB\u001b[0m \u001b[31m4.4 MB/s\u001b[0m eta \u001b[36m0:00:00\u001b[0m31m4.3 MB/s\u001b[0m eta \u001b[36m0:00:01\u001b[0m\n",
      "\u001b[?25hDownloading huggingface_hub-0.26.3-py3-none-any.whl (447 kB)\n",
      "\u001b[2K   \u001b[38;2;114;156;31m━━━━━━━━━━━━━━━━━━━━━━━━━━━━━━━━━━━━━━━━\u001b[0m \u001b[32m447.6/447.6 kB\u001b[0m \u001b[31m14.0 MB/s\u001b[0m eta \u001b[36m0:00:00\u001b[0m\n",
      "\u001b[?25hUsing cached regex-2024.11.6-cp311-cp311-macosx_11_0_arm64.whl (284 kB)\n",
      "Downloading safetensors-0.4.5-cp311-cp311-macosx_11_0_arm64.whl (381 kB)\n",
      "\u001b[2K   \u001b[38;2;114;156;31m━━━━━━━━━━━━━━━━━━━━━━━━━━━━━━━━━━━━━━━━\u001b[0m \u001b[32m381.5/381.5 kB\u001b[0m \u001b[31m10.0 MB/s\u001b[0m eta \u001b[36m0:00:00\u001b[0m\n",
      "\u001b[?25hDownloading tokenizers-0.20.3-cp311-cp311-macosx_11_0_arm64.whl (2.6 MB)\n",
      "\u001b[2K   \u001b[38;2;114;156;31m━━━━━━━━━━━━━━━━━━━━━━━━━━━━━━━━━━━━━━━━\u001b[0m \u001b[32m2.6/2.6 MB\u001b[0m \u001b[31m8.7 MB/s\u001b[0m eta \u001b[36m0:00:00\u001b[0m[31m9.1 MB/s\u001b[0m eta \u001b[36m0:00:01\u001b[0mm\n",
      "\u001b[?25hInstalling collected packages: safetensors, regex, huggingface-hub, tokenizers, Transformers\n",
      "Successfully installed Transformers-4.46.3 huggingface-hub-0.26.3 regex-2024.11.6 safetensors-0.4.5 tokenizers-0.20.3\n",
      "\n",
      "\u001b[1m[\u001b[0m\u001b[34;49mnotice\u001b[0m\u001b[1;39;49m]\u001b[0m\u001b[39;49m A new release of pip is available: \u001b[0m\u001b[31;49m24.0\u001b[0m\u001b[39;49m -> \u001b[0m\u001b[32;49m24.3.1\u001b[0m\n",
      "\u001b[1m[\u001b[0m\u001b[34;49mnotice\u001b[0m\u001b[1;39;49m]\u001b[0m\u001b[39;49m To update, run: \u001b[0m\u001b[32;49mpip3.11 install --upgrade pip\u001b[0m\n",
      "Note: you may need to restart the kernel to use updated packages.\n"
     ]
    }
   ],
   "source": [
    "pip install Transformers"
   ]
  },
  {
   "cell_type": "code",
   "execution_count": 67,
   "metadata": {},
   "outputs": [],
   "source": [
    "from transformers import PegasusTokenizer, PegasusForConditionalGeneration\n",
    "from bs4 import BeautifulSoup\n",
    "import requests"
   ]
  },
  {
   "cell_type": "markdown",
   "metadata": {},
   "source": [
    "# 2. Setup Summarization Model"
   ]
  },
  {
   "cell_type": "code",
   "execution_count": 68,
   "metadata": {},
   "outputs": [
    {
     "name": "stderr",
     "output_type": "stream",
     "text": [
      "Some weights of PegasusForConditionalGeneration were not initialized from the model checkpoint at human-centered-summarization/financial-summarization-pegasus and are newly initialized: ['model.decoder.embed_positions.weight', 'model.encoder.embed_positions.weight']\n",
      "You should probably TRAIN this model on a down-stream task to be able to use it for predictions and inference.\n"
     ]
    }
   ],
   "source": [
    "model_name = \"human-centered-summarization/financial-summarization-pegasus\"\n",
    "tokenizer = PegasusTokenizer.from_pretrained(model_name)\n",
    "model = PegasusForConditionalGeneration.from_pretrained(model_name)"
   ]
  },
  {
   "cell_type": "markdown",
   "metadata": {},
   "source": [
    "# 3. Summarize a Single Article"
   ]
  },
  {
   "cell_type": "code",
   "execution_count": null,
   "metadata": {},
   "outputs": [],
   "source": [
    "url = \"https://finance.yahoo.com/news/us-bitcoin-etf-inflows-near-035640575.html\"\n",
    "r = requests.get(url)\n",
    "soup = BeautifulSoup(r.text, 'html.parser')\n",
    "paragraphs = soup.find_all('p')"
   ]
  },
  {
   "cell_type": "code",
   "execution_count": null,
   "metadata": {},
   "outputs": [],
   "source": [
    "paragraphs[0].text"
   ]
  },
  {
   "cell_type": "code",
   "execution_count": null,
   "metadata": {},
   "outputs": [],
   "source": [
    "text = [paragraph.text for paragraph in paragraphs]\n",
    "words = ' '.join(text).split(' ')[:400]\n",
    "ARTICLE = ' '.join(words)"
   ]
  },
  {
   "cell_type": "code",
   "execution_count": 53,
   "metadata": {},
   "outputs": [
    {
     "data": {
      "text/plain": [
       "'Thank you for your patience. Our engineers are working quickly to resolve the issue.'"
      ]
     },
     "execution_count": 53,
     "metadata": {},
     "output_type": "execute_result"
    }
   ],
   "source": [
    "ARTICLE"
   ]
  },
  {
   "cell_type": "code",
   "execution_count": 8,
   "metadata": {},
   "outputs": [],
   "source": [
    "input_ids = tokenizer.encode(ARTICLE, return_tensors='pt')\n",
    "output = model.generate(input_ids, max_length=55, num_beams=5, early_stopping=True)\n",
    "summary = tokenizer.decode(output[0], skip_special_tokens=True)"
   ]
  },
  {
   "cell_type": "code",
   "execution_count": 9,
   "metadata": {},
   "outputs": [
    {
     "data": {
      "text/plain": [
       "'We are aware of the issue and are working to resolve it.'"
      ]
     },
     "execution_count": 9,
     "metadata": {},
     "output_type": "execute_result"
    }
   ],
   "source": [
    "summary"
   ]
  },
  {
   "cell_type": "markdown",
   "metadata": {},
   "source": [
    "# 4. Building a News and Sentiment Pipeline"
   ]
  },
  {
   "cell_type": "code",
   "execution_count": 10,
   "metadata": {},
   "outputs": [],
   "source": [
    "monitored_tickers = ['GME', 'TSLA', 'BTC']"
   ]
  },
  {
   "cell_type": "markdown",
   "metadata": {},
   "source": [
    "## 4.1. Search for Stock News using Google and Yahoo Finance"
   ]
  },
  {
   "cell_type": "code",
   "execution_count": 11,
   "metadata": {},
   "outputs": [],
   "source": [
    "def search_for_stock_news_urls(ticker):\n",
    "    search_url = \"https://www.google.com/search?q=yahoo+finance+{}&tbm=nws\".format(ticker)\n",
    "    r = requests.get(search_url)\n",
    "    soup = BeautifulSoup(r.text, 'html.parser')\n",
    "    atags = soup.find_all('a')\n",
    "    hrefs = [link['href'] for link in atags]\n",
    "    return hrefs "
   ]
  },
  {
   "cell_type": "code",
   "execution_count": 12,
   "metadata": {},
   "outputs": [
    {
     "data": {
      "text/plain": [
       "{'GME': ['/?sa=X&ved=0ahUKEwirndLr9ZWLAxXMS2wGHfkXEPoQOwgC',\n",
       "  '/search?q=yahoo+finance+GME&sca_esv=de83184fb318f94f&ie=UTF-8&tbm=nws&gbv=1&sei=d36XZ-uFBcyXseMP-a_A0A8',\n",
       "  '/search?q=yahoo+finance+GME&sca_esv=de83184fb318f94f&ie=UTF-8&source=lnms&sa=X&ved=0ahUKEwirndLr9ZWLAxXMS2wGHfkXEPoQ_AUIBSgA',\n",
       "  '/search?q=yahoo+finance+GME&sca_esv=de83184fb318f94f&ie=UTF-8&tbm=vid&source=lnms&sa=X&ved=0ahUKEwirndLr9ZWLAxXMS2wGHfkXEPoQ_AUIBigB',\n",
       "  '/search?q=yahoo+finance+GME&sca_esv=de83184fb318f94f&ie=UTF-8&tbm=isch&source=lnms&sa=X&ved=0ahUKEwirndLr9ZWLAxXMS2wGHfkXEPoQ_AUICCgD',\n",
       "  '/url?q=https://maps.google.com/maps%3Fq%3Dyahoo%2Bfinance%2BGME%26um%3D1%26ie%3DUTF-8%26ved%3D1t:200713%26ictx%3D111&opi=89978449&sa=U&ved=0ahUKEwirndLr9ZWLAxXMS2wGHfkXEPoQiaAMCAkoBA&usg=AOvVaw2e317nD2XzOmRp0tfRxII7',\n",
       "  '/url?q=/search%3Fq%3Dyahoo%2Bfinance%2BGME%26sca_esv%3Dde83184fb318f94f%26ie%3DUTF-8%26tbm%3Dshop%26source%3Dlnms%26ved%3D1t:200713%26ictx%3D111&opi=89978449&sa=U&ved=0ahUKEwirndLr9ZWLAxXMS2wGHfkXEPoQiaAMCAooBQ&usg=AOvVaw1C3j7FYJdSWeF8x5-A7qT0',\n",
       "  '/search?q=yahoo+finance+GME&sca_esv=de83184fb318f94f&ie=UTF-8&tbm=bks&source=lnms&sa=X&ved=0ahUKEwirndLr9ZWLAxXMS2wGHfkXEPoQ_AUICygG',\n",
       "  '/advanced_search',\n",
       "  '/search?q=yahoo+finance+GME&sca_esv=de83184fb318f94f&ie=UTF-8&tbm=nws&source=lnt&tbs=qdr:h&sa=X&ved=0ahUKEwirndLr9ZWLAxXMS2wGHfkXEPoQpwUIDQ',\n",
       "  '/search?q=yahoo+finance+GME&sca_esv=de83184fb318f94f&ie=UTF-8&tbm=nws&source=lnt&tbs=qdr:d&sa=X&ved=0ahUKEwirndLr9ZWLAxXMS2wGHfkXEPoQpwUIDg',\n",
       "  '/search?q=yahoo+finance+GME&sca_esv=de83184fb318f94f&ie=UTF-8&tbm=nws&source=lnt&tbs=qdr:w&sa=X&ved=0ahUKEwirndLr9ZWLAxXMS2wGHfkXEPoQpwUIDw',\n",
       "  '/search?q=yahoo+finance+GME&sca_esv=de83184fb318f94f&ie=UTF-8&tbm=nws&source=lnt&tbs=qdr:m&sa=X&ved=0ahUKEwirndLr9ZWLAxXMS2wGHfkXEPoQpwUIEA',\n",
       "  '/search?q=yahoo+finance+GME&sca_esv=de83184fb318f94f&ie=UTF-8&tbm=nws&source=lnt&tbs=qdr:y&sa=X&ved=0ahUKEwirndLr9ZWLAxXMS2wGHfkXEPoQpwUIEQ',\n",
       "  '/search?q=yahoo+finance+GME&sca_esv=de83184fb318f94f&ie=UTF-8&tbm=nws&source=lnt&tbs=ar:1&sa=X&ved=0ahUKEwirndLr9ZWLAxXMS2wGHfkXEPoQpwUIEg',\n",
       "  '/search?q=yahoo+finance+GME&sca_esv=de83184fb318f94f&ie=UTF-8&tbm=nws&source=lnt&tbs=sbd:1&sa=X&ved=0ahUKEwirndLr9ZWLAxXMS2wGHfkXEPoQpwUIFA',\n",
       "  '/url?q=https://finance.yahoo.com/news/why-gamestop-corp-gme-crashed-055747341.html&sa=U&ved=2ahUKEwirndLr9ZWLAxXMS2wGHfkXEPoQxfQBegQIBxAC&usg=AOvVaw1UuUxQMZ-0HIWOeTJ92MX9',\n",
       "  '/url?q=https://finance.yahoo.com/news/consumer-discretionary-stocks-lagging-gamestop-144012488.html&sa=U&ved=2ahUKEwirndLr9ZWLAxXMS2wGHfkXEPoQxfQBegQICRAC&usg=AOvVaw2tl_OVXv1kSPQbI_Ot8C7R',\n",
       "  '/url?q=https://finance.yahoo.com/news/gamestop-gme-registers-bigger-fall-214521016.html&sa=U&ved=2ahUKEwirndLr9ZWLAxXMS2wGHfkXEPoQxfQBegQIABAC&usg=AOvVaw05pM-0gKVz5rB_5QPt9ESo',\n",
       "  '/url?q=https://finance.yahoo.com/news/why-gamestop-gme-13-8-163011734.html&sa=U&ved=2ahUKEwirndLr9ZWLAxXMS2wGHfkXEPoQxfQBegQIAhAC&usg=AOvVaw1gAcBWYtbvK3MXx13S7a9A',\n",
       "  '/url?q=https://finance.yahoo.com/news/healthy-balance-sheet-won-t-193646025.html&sa=U&ved=2ahUKEwirndLr9ZWLAxXMS2wGHfkXEPoQxfQBegQIARAC&usg=AOvVaw00znHy_tJbKEEF25VKTpU-',\n",
       "  '/url?q=https://finance.yahoo.com/news/gamestop-gme-gains-market-dips-224505608.html&sa=U&ved=2ahUKEwirndLr9ZWLAxXMS2wGHfkXEPoQxfQBegQICBAC&usg=AOvVaw2-7Dna5JhQYA9GdOq0Rong',\n",
       "  '/url?q=https://finance.yahoo.com/news/heres-why-gamestop-gme-fell-224520124.html&sa=U&ved=2ahUKEwirndLr9ZWLAxXMS2wGHfkXEPoQxfQBegQIAxAC&usg=AOvVaw2NDGVFa4W3-Ud3MrMteE3R',\n",
       "  '/url?q=https://finance.yahoo.com/news/why-gme-bce-slumping-today-185804276.html&sa=U&ved=2ahUKEwirndLr9ZWLAxXMS2wGHfkXEPoQxfQBegQIBBAC&usg=AOvVaw0KjQ6PYKIltArRPn_M0Bak',\n",
       "  '/url?q=https://finance.yahoo.com/news/why-gamestop-gme-stock-down-162604744.html&sa=U&ved=2ahUKEwirndLr9ZWLAxXMS2wGHfkXEPoQxfQBegQIBhAC&usg=AOvVaw1IykPM4JNiO9BX0WfJApsU',\n",
       "  '/url?q=https://finance.yahoo.com/news/gamestop-gme-falls-more-steeply-224520779.html&sa=U&ved=2ahUKEwirndLr9ZWLAxXMS2wGHfkXEPoQxfQBegQIBRAC&usg=AOvVaw0ssYU-nb-pgqg105Mvu-CY',\n",
       "  '/search?q=yahoo+finance+GME&sca_esv=de83184fb318f94f&ie=UTF-8&tbm=nws&ei=d36XZ-uFBcyXseMP-a_A0A8&start=10&sa=N',\n",
       "  '/url?q=https://support.google.com/websearch%3Fp%3Dws_settings_location%26hl%3Den-IN&opi=89978449&sa=U&ved=0ahUKEwirndLr9ZWLAxXMS2wGHfkXEPoQty4IUw&usg=AOvVaw0x5ZfVH9cl3qu4Ywnz7XKG',\n",
       "  '/url?q=https://accounts.google.com/ServiceLogin%3Fcontinue%3Dhttps://www.google.com/search%253Fq%253Dyahoo%252Bfinance%252BGME%2526tbm%253Dnws%26hl%3Den&opi=89978449&sa=U&ved=0ahUKEwirndLr9ZWLAxXMS2wGHfkXEPoQxs8CCFQ&usg=AOvVaw3ESuFfOtsv-04_x7L2qzxO',\n",
       "  'https://www.google.com/preferences?hl=en-IN&fg=1&sa=X&ved=0ahUKEwirndLr9ZWLAxXMS2wGHfkXEPoQ5fUCCFU',\n",
       "  'https://policies.google.com/privacy?hl=en-IN&fg=1',\n",
       "  'https://policies.google.com/terms?hl=en-IN&fg=1',\n",
       "  '/setprefs?hl=en&prev=https://www.google.com/search?q%3Dyahoo%2Bfinance%2BGME%26tbm%3Dnws%26pccc%3D1&sig=0_UrOLrQb3DvqVbQZQ_42ZI2PP0so%3D&cs=2&sa=X&ved=0ahUKEwirndLr9ZWLAxXMS2wGHfkXEPoQjcAJCFY'],\n",
       " 'TSLA': ['/?sa=X&ved=0ahUKEwjsnPnr9ZWLAxWJS2wGHRhWOE0QOwgC',\n",
       "  '/search?q=yahoo+finance+TSLA&sca_esv=de83184fb318f94f&ie=UTF-8&tbm=nws&gbv=1&sei=d36XZ6yFLImXseMPmKzh6QQ',\n",
       "  '/search?q=yahoo+finance+TSLA&sca_esv=de83184fb318f94f&ie=UTF-8&source=lnms&sa=X&ved=0ahUKEwjsnPnr9ZWLAxWJS2wGHRhWOE0Q_AUIBSgA',\n",
       "  '/search?q=yahoo+finance+TSLA&sca_esv=de83184fb318f94f&ie=UTF-8&tbm=isch&source=lnms&sa=X&ved=0ahUKEwjsnPnr9ZWLAxWJS2wGHRhWOE0Q_AUIBygC',\n",
       "  '/search?q=yahoo+finance+TSLA&sca_esv=de83184fb318f94f&ie=UTF-8&tbm=vid&source=lnms&sa=X&ved=0ahUKEwjsnPnr9ZWLAxWJS2wGHRhWOE0Q_AUICCgD',\n",
       "  '/url?q=https://maps.google.com/maps%3Fq%3Dyahoo%2Bfinance%2BTSLA%26um%3D1%26ie%3DUTF-8%26ved%3D1t:200713%26ictx%3D111&opi=89978449&sa=U&ved=0ahUKEwjsnPnr9ZWLAxWJS2wGHRhWOE0QiaAMCAkoBA&usg=AOvVaw2LsM1nAmJbXdpf-Rs44xX6',\n",
       "  '/url?q=/search%3Fq%3Dyahoo%2Bfinance%2BTSLA%26sca_esv%3Dde83184fb318f94f%26ie%3DUTF-8%26tbm%3Dshop%26source%3Dlnms%26ved%3D1t:200713%26ictx%3D111&opi=89978449&sa=U&ved=0ahUKEwjsnPnr9ZWLAxWJS2wGHRhWOE0QiaAMCAooBQ&usg=AOvVaw2xav8IHJ_X3A2letSUaXtU',\n",
       "  '/search?q=yahoo+finance+TSLA&sca_esv=de83184fb318f94f&ie=UTF-8&tbm=bks&source=lnms&sa=X&ved=0ahUKEwjsnPnr9ZWLAxWJS2wGHRhWOE0Q_AUICygG',\n",
       "  '/advanced_search',\n",
       "  '/search?q=yahoo+finance+TSLA&sca_esv=de83184fb318f94f&ie=UTF-8&tbm=nws&source=lnt&tbs=qdr:h&sa=X&ved=0ahUKEwjsnPnr9ZWLAxWJS2wGHRhWOE0QpwUIDQ',\n",
       "  '/search?q=yahoo+finance+TSLA&sca_esv=de83184fb318f94f&ie=UTF-8&tbm=nws&source=lnt&tbs=qdr:d&sa=X&ved=0ahUKEwjsnPnr9ZWLAxWJS2wGHRhWOE0QpwUIDg',\n",
       "  '/search?q=yahoo+finance+TSLA&sca_esv=de83184fb318f94f&ie=UTF-8&tbm=nws&source=lnt&tbs=qdr:w&sa=X&ved=0ahUKEwjsnPnr9ZWLAxWJS2wGHRhWOE0QpwUIDw',\n",
       "  '/search?q=yahoo+finance+TSLA&sca_esv=de83184fb318f94f&ie=UTF-8&tbm=nws&source=lnt&tbs=qdr:m&sa=X&ved=0ahUKEwjsnPnr9ZWLAxWJS2wGHRhWOE0QpwUIEA',\n",
       "  '/search?q=yahoo+finance+TSLA&sca_esv=de83184fb318f94f&ie=UTF-8&tbm=nws&source=lnt&tbs=qdr:y&sa=X&ved=0ahUKEwjsnPnr9ZWLAxWJS2wGHRhWOE0QpwUIEQ',\n",
       "  '/search?q=yahoo+finance+TSLA&sca_esv=de83184fb318f94f&ie=UTF-8&tbm=nws&source=lnt&tbs=ar:1&sa=X&ved=0ahUKEwjsnPnr9ZWLAxWJS2wGHRhWOE0QpwUIEg',\n",
       "  '/search?q=yahoo+finance+TSLA&sca_esv=de83184fb318f94f&ie=UTF-8&tbm=nws&source=lnt&tbs=sbd:1&sa=X&ved=0ahUKEwjsnPnr9ZWLAxWJS2wGHRhWOE0QpwUIFA',\n",
       "  '/url?q=https://finance.yahoo.com/news/tesla-tsla-among-stocks-chatgpt-221105346.html&sa=U&ved=2ahUKEwjsnPnr9ZWLAxWJS2wGHRhWOE0QxfQBegQIABAC&usg=AOvVaw1hxEI3HRZW1negdhkz2QeB',\n",
       "  '/url?q=https://finance.yahoo.com/video/tesla-earnings-kick-off-massive-180000390.html&sa=U&ved=2ahUKEwjsnPnr9ZWLAxWJS2wGHRhWOE0QxfQBegQICRAC&usg=AOvVaw1Us73isLNnxn8nvbrVcKQM',\n",
       "  '/url?q=https://finance.yahoo.com/news/tesla-stock-jumps-amid-speculation-musk-could-buy-tiktok-191001660.html&sa=U&ved=2ahUKEwjsnPnr9ZWLAxWJS2wGHRhWOE0QxfQBegQIARAC&usg=AOvVaw28cVow0OAHUmv2_qkemLR5',\n",
       "  '/url?q=https://finance.yahoo.com/news/tesla-stock-falls-as-trump-ends-ev-mandate-looks-to-eliminate-subsidies-152217391.html&sa=U&ved=2ahUKEwjsnPnr9ZWLAxWJS2wGHRhWOE0QxfQBegQIBxAC&usg=AOvVaw3OPMceCSVas3GyV95zHFjx',\n",
       "  '/url?q=https://finance.yahoo.com/news/tesla-tsla-best-stock-buy-115413754.html&sa=U&ved=2ahUKEwjsnPnr9ZWLAxWJS2wGHRhWOE0QxfQBegQIBRAC&usg=AOvVaw1ZBtwoN9xkmyqBdBApDGHr',\n",
       "  '/url?q=https://finance.yahoo.com/news/p-futures-slip-meta-microsoft-080635465.html&sa=U&ved=2ahUKEwjsnPnr9ZWLAxWJS2wGHRhWOE0QxfQBegQIBhAC&usg=AOvVaw2MuoQC53H9oag1S2n0tt5S',\n",
       "  '/url?q=https://finance.yahoo.com/news/analyst-says-tesla-tsla-facing-165729425.html&sa=U&ved=2ahUKEwjsnPnr9ZWLAxWJS2wGHRhWOE0QxfQBegQIAxAC&usg=AOvVaw0TMpxe4SH62OQnxxdMJdVa',\n",
       "  '/url?q=https://uk.finance.yahoo.com/news/tesla-investors-pin-hopes-cheaper-112330018.html&sa=U&ved=2ahUKEwjsnPnr9ZWLAxWJS2wGHRhWOE0QxfQBegQIAhAC&usg=AOvVaw2ha0ZcRnminNubELeM2dJC',\n",
       "  '/url?q=https://finance.yahoo.com/news/teslas-future-under-president-trump-weight-ai-potential-against-slowing-ev-demand-150331648.html&sa=U&ved=2ahUKEwjsnPnr9ZWLAxWJS2wGHRhWOE0QxfQBegQIBBAC&usg=AOvVaw3B-EN2HIjewFXI8JPGS10c',\n",
       "  '/url?q=https://finance.yahoo.com/news/tesla-set-strong-2025-550-171702300.html&sa=U&ved=2ahUKEwjsnPnr9ZWLAxWJS2wGHRhWOE0QxfQBegQICBAC&usg=AOvVaw0n_vsQrsEUOjYyGFd0BlD5',\n",
       "  '/search?q=yahoo+finance+TSLA&sca_esv=de83184fb318f94f&ie=UTF-8&tbm=nws&ei=d36XZ6yFLImXseMPmKzh6QQ&start=10&sa=N',\n",
       "  '/url?q=https://support.google.com/websearch%3Fp%3Dws_settings_location%26hl%3Den-IN&opi=89978449&sa=U&ved=0ahUKEwjsnPnr9ZWLAxWJS2wGHRhWOE0Qty4IUw&usg=AOvVaw3JMelOodNKNQurlHked4-h',\n",
       "  '/url?q=https://accounts.google.com/ServiceLogin%3Fcontinue%3Dhttps://www.google.com/search%253Fq%253Dyahoo%252Bfinance%252BTSLA%2526tbm%253Dnws%26hl%3Den&opi=89978449&sa=U&ved=0ahUKEwjsnPnr9ZWLAxWJS2wGHRhWOE0Qxs8CCFQ&usg=AOvVaw0Jp6NQGZRe1H5RDahtRTDP',\n",
       "  'https://www.google.com/preferences?hl=en-IN&fg=1&sa=X&ved=0ahUKEwjsnPnr9ZWLAxWJS2wGHRhWOE0Q5fUCCFU',\n",
       "  'https://policies.google.com/privacy?hl=en-IN&fg=1',\n",
       "  'https://policies.google.com/terms?hl=en-IN&fg=1',\n",
       "  '/setprefs?hl=en&prev=https://www.google.com/search?q%3Dyahoo%2Bfinance%2BTSLA%26tbm%3Dnws%26pccc%3D1&sig=0_Z2wNz2XbfnsIcojjlxTT7bvYkeE%3D&cs=2&sa=X&ved=0ahUKEwjsnPnr9ZWLAxWJS2wGHRhWOE0QjcAJCFY'],\n",
       " 'BTC': ['/?sa=X&ved=0ahUKEwi0nqXs9ZWLAxVhcGwGHXMcH4oQOwgC',\n",
       "  '/search?q=yahoo+finance+BTC&sca_esv=de83184fb318f94f&ie=UTF-8&tbm=nws&gbv=1&sei=eH6XZ7SCG-HgseMP87j80Ag',\n",
       "  '/search?q=yahoo+finance+BTC&sca_esv=de83184fb318f94f&ie=UTF-8&source=lnms&sa=X&ved=0ahUKEwi0nqXs9ZWLAxVhcGwGHXMcH4oQ_AUIBSgA',\n",
       "  '/search?q=yahoo+finance+BTC&sca_esv=de83184fb318f94f&ie=UTF-8&tbm=isch&source=lnms&sa=X&ved=0ahUKEwi0nqXs9ZWLAxVhcGwGHXMcH4oQ_AUIBygC',\n",
       "  '/search?q=yahoo+finance+BTC&sca_esv=de83184fb318f94f&ie=UTF-8&tbm=vid&source=lnms&sa=X&ved=0ahUKEwi0nqXs9ZWLAxVhcGwGHXMcH4oQ_AUICCgD',\n",
       "  '/url?q=https://maps.google.com/maps%3Fq%3Dyahoo%2Bfinance%2BBTC%26um%3D1%26ie%3DUTF-8%26ved%3D1t:200713%26ictx%3D111&opi=89978449&sa=U&ved=0ahUKEwi0nqXs9ZWLAxVhcGwGHXMcH4oQiaAMCAkoBA&usg=AOvVaw1HXVEgLgdwNQdfHDCqXD5x',\n",
       "  '/url?q=/search%3Fq%3Dyahoo%2Bfinance%2BBTC%26sca_esv%3Dde83184fb318f94f%26ie%3DUTF-8%26tbm%3Dshop%26source%3Dlnms%26ved%3D1t:200713%26ictx%3D111&opi=89978449&sa=U&ved=0ahUKEwi0nqXs9ZWLAxVhcGwGHXMcH4oQiaAMCAooBQ&usg=AOvVaw2NLGYNPxZ9eXkUBS3yTosI',\n",
       "  '/search?q=yahoo+finance+BTC&sca_esv=de83184fb318f94f&ie=UTF-8&tbm=bks&source=lnms&sa=X&ved=0ahUKEwi0nqXs9ZWLAxVhcGwGHXMcH4oQ_AUICygG',\n",
       "  '/advanced_search',\n",
       "  '/search?q=yahoo+finance+BTC&sca_esv=de83184fb318f94f&ie=UTF-8&tbm=nws&source=lnt&tbs=qdr:h&sa=X&ved=0ahUKEwi0nqXs9ZWLAxVhcGwGHXMcH4oQpwUIDQ',\n",
       "  '/search?q=yahoo+finance+BTC&sca_esv=de83184fb318f94f&ie=UTF-8&tbm=nws&source=lnt&tbs=qdr:d&sa=X&ved=0ahUKEwi0nqXs9ZWLAxVhcGwGHXMcH4oQpwUIDg',\n",
       "  '/search?q=yahoo+finance+BTC&sca_esv=de83184fb318f94f&ie=UTF-8&tbm=nws&source=lnt&tbs=qdr:w&sa=X&ved=0ahUKEwi0nqXs9ZWLAxVhcGwGHXMcH4oQpwUIDw',\n",
       "  '/search?q=yahoo+finance+BTC&sca_esv=de83184fb318f94f&ie=UTF-8&tbm=nws&source=lnt&tbs=qdr:m&sa=X&ved=0ahUKEwi0nqXs9ZWLAxVhcGwGHXMcH4oQpwUIEA',\n",
       "  '/search?q=yahoo+finance+BTC&sca_esv=de83184fb318f94f&ie=UTF-8&tbm=nws&source=lnt&tbs=qdr:y&sa=X&ved=0ahUKEwi0nqXs9ZWLAxVhcGwGHXMcH4oQpwUIEQ',\n",
       "  '/search?q=yahoo+finance+BTC&sca_esv=de83184fb318f94f&ie=UTF-8&tbm=nws&source=lnt&tbs=ar:1&sa=X&ved=0ahUKEwi0nqXs9ZWLAxVhcGwGHXMcH4oQpwUIEg',\n",
       "  '/search?q=yahoo+finance+BTC&sca_esv=de83184fb318f94f&ie=UTF-8&tbm=nws&source=lnt&tbs=sbd:1&sa=X&ved=0ahUKEwi0nqXs9ZWLAxVhcGwGHXMcH4oQpwUIFA',\n",
       "  '/url?q=https://finance.yahoo.com/news/microstrategy-plans-bitcoin-purchase-btc-080120946.html&sa=U&ved=2ahUKEwi0nqXs9ZWLAxVhcGwGHXMcH4oQxfQBegQIAhAC&usg=AOvVaw02STIzmkSK8fJQQ3NKGBJd',\n",
       "  '/url?q=https://finance.yahoo.com/news/bitcoin-short-term-holders-speculative-074451751.html&sa=U&ved=2ahUKEwi0nqXs9ZWLAxVhcGwGHXMcH4oQxfQBegQICRAC&usg=AOvVaw3Zh_n04YcfOu4eX2BtPWyM',\n",
       "  '/url?q=https://finance.yahoo.com/news/bitcoin-slips-traders-profits-trump-032048830.html&sa=U&ved=2ahUKEwi0nqXs9ZWLAxVhcGwGHXMcH4oQxfQBegQIBRAC&usg=AOvVaw3VgYHq4WOYDw3LMSc8LZgP',\n",
       "  '/url?q=https://finance.yahoo.com/news/bitcoin-miners-bitdeer-cleanspark-core-092435548.html&sa=U&ved=2ahUKEwi0nqXs9ZWLAxVhcGwGHXMcH4oQxfQBegQIBhAC&usg=AOvVaw2S6Ywu_QGLXDeS47A8wZnF',\n",
       "  '/url?q=https://sg.finance.yahoo.com/news/bitcoin-may-double-topping-price-065246984.html&sa=U&ved=2ahUKEwi0nqXs9ZWLAxVhcGwGHXMcH4oQxfQBegQIAxAC&usg=AOvVaw3ufwZhaEQ-88Tz2-vQlZlm',\n",
       "  '/url?q=https://finance.yahoo.com/news/chinas-deepseek-sets-off-ai-071458375.html&sa=U&ved=2ahUKEwi0nqXs9ZWLAxVhcGwGHXMcH4oQxfQBegQIARAC&usg=AOvVaw0Ov3pdjyYIvRHXX_LFs6Te',\n",
       "  '/url?q=https://finance.yahoo.com/video/blackrocks-chaudhuri-growing-appeal-gold-150001002.html&sa=U&ved=2ahUKEwi0nqXs9ZWLAxVhcGwGHXMcH4oQxfQBegQICBAC&usg=AOvVaw3huToRLnvS3PRICqs3g2ST',\n",
       "  '/url?q=https://finance.yahoo.com/news/nasdaq-files-kind-redemptions-blackrock-214733982.html&sa=U&ved=2ahUKEwi0nqXs9ZWLAxVhcGwGHXMcH4oQxfQBegQIBBAC&usg=AOvVaw3m2unJnJDvvcue9oGmtBJB',\n",
       "  '/url?q=https://finance.yahoo.com/video/why-banks-now-green-light-215347775.html&sa=U&ved=2ahUKEwi0nqXs9ZWLAxVhcGwGHXMcH4oQxfQBegQIBxAC&usg=AOvVaw1OV1h93U7VsWR4blMPTp67',\n",
       "  '/url?q=https://finance.yahoo.com/news/greenlight-capital-thoughts-bitcoin-microstrategy-142536485.html&sa=U&ved=2ahUKEwi0nqXs9ZWLAxVhcGwGHXMcH4oQxfQBegQIABAC&usg=AOvVaw2_YYboznTxfmx15Le2ddyX',\n",
       "  '/search?q=yahoo+finance+BTC&sca_esv=de83184fb318f94f&ie=UTF-8&tbm=nws&ei=eH6XZ7SCG-HgseMP87j80Ag&start=10&sa=N',\n",
       "  '/url?q=https://support.google.com/websearch%3Fp%3Dws_settings_location%26hl%3Den-IN&opi=89978449&sa=U&ved=0ahUKEwi0nqXs9ZWLAxVhcGwGHXMcH4oQty4IUw&usg=AOvVaw30ARI5AEDF81uOOoUjLf7j',\n",
       "  '/url?q=https://accounts.google.com/ServiceLogin%3Fcontinue%3Dhttps://www.google.com/search%253Fq%253Dyahoo%252Bfinance%252BBTC%2526tbm%253Dnws%26hl%3Den&opi=89978449&sa=U&ved=0ahUKEwi0nqXs9ZWLAxVhcGwGHXMcH4oQxs8CCFQ&usg=AOvVaw05C_Hxd2WZojKQdodFTMOr',\n",
       "  'https://www.google.com/preferences?hl=en-IN&fg=1&sa=X&ved=0ahUKEwi0nqXs9ZWLAxVhcGwGHXMcH4oQ5fUCCFU',\n",
       "  'https://policies.google.com/privacy?hl=en-IN&fg=1',\n",
       "  'https://policies.google.com/terms?hl=en-IN&fg=1',\n",
       "  '/setprefs?hl=en&prev=https://www.google.com/search?q%3Dyahoo%2Bfinance%2BBTC%26tbm%3Dnws%26pccc%3D1&sig=0_JV74Z9XNY-amjcqWNSKFmDkU4bM%3D&cs=2&sa=X&ved=0ahUKEwi0nqXs9ZWLAxVhcGwGHXMcH4oQjcAJCFY']}"
      ]
     },
     "execution_count": 12,
     "metadata": {},
     "output_type": "execute_result"
    }
   ],
   "source": [
    "raw_urls = {ticker:search_for_stock_news_urls(ticker) for ticker in monitored_tickers}\n",
    "raw_urls"
   ]
  },
  {
   "cell_type": "code",
   "execution_count": 13,
   "metadata": {},
   "outputs": [
    {
     "data": {
      "text/plain": [
       "['/?sa=X&ved=0ahUKEwirndLr9ZWLAxXMS2wGHfkXEPoQOwgC',\n",
       " '/search?q=yahoo+finance+GME&sca_esv=de83184fb318f94f&ie=UTF-8&tbm=nws&gbv=1&sei=d36XZ-uFBcyXseMP-a_A0A8',\n",
       " '/search?q=yahoo+finance+GME&sca_esv=de83184fb318f94f&ie=UTF-8&source=lnms&sa=X&ved=0ahUKEwirndLr9ZWLAxXMS2wGHfkXEPoQ_AUIBSgA',\n",
       " '/search?q=yahoo+finance+GME&sca_esv=de83184fb318f94f&ie=UTF-8&tbm=vid&source=lnms&sa=X&ved=0ahUKEwirndLr9ZWLAxXMS2wGHfkXEPoQ_AUIBigB',\n",
       " '/search?q=yahoo+finance+GME&sca_esv=de83184fb318f94f&ie=UTF-8&tbm=isch&source=lnms&sa=X&ved=0ahUKEwirndLr9ZWLAxXMS2wGHfkXEPoQ_AUICCgD',\n",
       " '/url?q=https://maps.google.com/maps%3Fq%3Dyahoo%2Bfinance%2BGME%26um%3D1%26ie%3DUTF-8%26ved%3D1t:200713%26ictx%3D111&opi=89978449&sa=U&ved=0ahUKEwirndLr9ZWLAxXMS2wGHfkXEPoQiaAMCAkoBA&usg=AOvVaw2e317nD2XzOmRp0tfRxII7',\n",
       " '/url?q=/search%3Fq%3Dyahoo%2Bfinance%2BGME%26sca_esv%3Dde83184fb318f94f%26ie%3DUTF-8%26tbm%3Dshop%26source%3Dlnms%26ved%3D1t:200713%26ictx%3D111&opi=89978449&sa=U&ved=0ahUKEwirndLr9ZWLAxXMS2wGHfkXEPoQiaAMCAooBQ&usg=AOvVaw1C3j7FYJdSWeF8x5-A7qT0',\n",
       " '/search?q=yahoo+finance+GME&sca_esv=de83184fb318f94f&ie=UTF-8&tbm=bks&source=lnms&sa=X&ved=0ahUKEwirndLr9ZWLAxXMS2wGHfkXEPoQ_AUICygG',\n",
       " '/advanced_search',\n",
       " '/search?q=yahoo+finance+GME&sca_esv=de83184fb318f94f&ie=UTF-8&tbm=nws&source=lnt&tbs=qdr:h&sa=X&ved=0ahUKEwirndLr9ZWLAxXMS2wGHfkXEPoQpwUIDQ',\n",
       " '/search?q=yahoo+finance+GME&sca_esv=de83184fb318f94f&ie=UTF-8&tbm=nws&source=lnt&tbs=qdr:d&sa=X&ved=0ahUKEwirndLr9ZWLAxXMS2wGHfkXEPoQpwUIDg',\n",
       " '/search?q=yahoo+finance+GME&sca_esv=de83184fb318f94f&ie=UTF-8&tbm=nws&source=lnt&tbs=qdr:w&sa=X&ved=0ahUKEwirndLr9ZWLAxXMS2wGHfkXEPoQpwUIDw',\n",
       " '/search?q=yahoo+finance+GME&sca_esv=de83184fb318f94f&ie=UTF-8&tbm=nws&source=lnt&tbs=qdr:m&sa=X&ved=0ahUKEwirndLr9ZWLAxXMS2wGHfkXEPoQpwUIEA',\n",
       " '/search?q=yahoo+finance+GME&sca_esv=de83184fb318f94f&ie=UTF-8&tbm=nws&source=lnt&tbs=qdr:y&sa=X&ved=0ahUKEwirndLr9ZWLAxXMS2wGHfkXEPoQpwUIEQ',\n",
       " '/search?q=yahoo+finance+GME&sca_esv=de83184fb318f94f&ie=UTF-8&tbm=nws&source=lnt&tbs=ar:1&sa=X&ved=0ahUKEwirndLr9ZWLAxXMS2wGHfkXEPoQpwUIEg',\n",
       " '/search?q=yahoo+finance+GME&sca_esv=de83184fb318f94f&ie=UTF-8&tbm=nws&source=lnt&tbs=sbd:1&sa=X&ved=0ahUKEwirndLr9ZWLAxXMS2wGHfkXEPoQpwUIFA',\n",
       " '/url?q=https://finance.yahoo.com/news/why-gamestop-corp-gme-crashed-055747341.html&sa=U&ved=2ahUKEwirndLr9ZWLAxXMS2wGHfkXEPoQxfQBegQIBxAC&usg=AOvVaw1UuUxQMZ-0HIWOeTJ92MX9',\n",
       " '/url?q=https://finance.yahoo.com/news/consumer-discretionary-stocks-lagging-gamestop-144012488.html&sa=U&ved=2ahUKEwirndLr9ZWLAxXMS2wGHfkXEPoQxfQBegQICRAC&usg=AOvVaw2tl_OVXv1kSPQbI_Ot8C7R',\n",
       " '/url?q=https://finance.yahoo.com/news/gamestop-gme-registers-bigger-fall-214521016.html&sa=U&ved=2ahUKEwirndLr9ZWLAxXMS2wGHfkXEPoQxfQBegQIABAC&usg=AOvVaw05pM-0gKVz5rB_5QPt9ESo',\n",
       " '/url?q=https://finance.yahoo.com/news/why-gamestop-gme-13-8-163011734.html&sa=U&ved=2ahUKEwirndLr9ZWLAxXMS2wGHfkXEPoQxfQBegQIAhAC&usg=AOvVaw1gAcBWYtbvK3MXx13S7a9A',\n",
       " '/url?q=https://finance.yahoo.com/news/healthy-balance-sheet-won-t-193646025.html&sa=U&ved=2ahUKEwirndLr9ZWLAxXMS2wGHfkXEPoQxfQBegQIARAC&usg=AOvVaw00znHy_tJbKEEF25VKTpU-',\n",
       " '/url?q=https://finance.yahoo.com/news/gamestop-gme-gains-market-dips-224505608.html&sa=U&ved=2ahUKEwirndLr9ZWLAxXMS2wGHfkXEPoQxfQBegQICBAC&usg=AOvVaw2-7Dna5JhQYA9GdOq0Rong',\n",
       " '/url?q=https://finance.yahoo.com/news/heres-why-gamestop-gme-fell-224520124.html&sa=U&ved=2ahUKEwirndLr9ZWLAxXMS2wGHfkXEPoQxfQBegQIAxAC&usg=AOvVaw2NDGVFa4W3-Ud3MrMteE3R',\n",
       " '/url?q=https://finance.yahoo.com/news/why-gme-bce-slumping-today-185804276.html&sa=U&ved=2ahUKEwirndLr9ZWLAxXMS2wGHfkXEPoQxfQBegQIBBAC&usg=AOvVaw0KjQ6PYKIltArRPn_M0Bak',\n",
       " '/url?q=https://finance.yahoo.com/news/why-gamestop-gme-stock-down-162604744.html&sa=U&ved=2ahUKEwirndLr9ZWLAxXMS2wGHfkXEPoQxfQBegQIBhAC&usg=AOvVaw1IykPM4JNiO9BX0WfJApsU',\n",
       " '/url?q=https://finance.yahoo.com/news/gamestop-gme-falls-more-steeply-224520779.html&sa=U&ved=2ahUKEwirndLr9ZWLAxXMS2wGHfkXEPoQxfQBegQIBRAC&usg=AOvVaw0ssYU-nb-pgqg105Mvu-CY',\n",
       " '/search?q=yahoo+finance+GME&sca_esv=de83184fb318f94f&ie=UTF-8&tbm=nws&ei=d36XZ-uFBcyXseMP-a_A0A8&start=10&sa=N',\n",
       " '/url?q=https://support.google.com/websearch%3Fp%3Dws_settings_location%26hl%3Den-IN&opi=89978449&sa=U&ved=0ahUKEwirndLr9ZWLAxXMS2wGHfkXEPoQty4IUw&usg=AOvVaw0x5ZfVH9cl3qu4Ywnz7XKG',\n",
       " '/url?q=https://accounts.google.com/ServiceLogin%3Fcontinue%3Dhttps://www.google.com/search%253Fq%253Dyahoo%252Bfinance%252BGME%2526tbm%253Dnws%26hl%3Den&opi=89978449&sa=U&ved=0ahUKEwirndLr9ZWLAxXMS2wGHfkXEPoQxs8CCFQ&usg=AOvVaw3ESuFfOtsv-04_x7L2qzxO',\n",
       " 'https://www.google.com/preferences?hl=en-IN&fg=1&sa=X&ved=0ahUKEwirndLr9ZWLAxXMS2wGHfkXEPoQ5fUCCFU',\n",
       " 'https://policies.google.com/privacy?hl=en-IN&fg=1',\n",
       " 'https://policies.google.com/terms?hl=en-IN&fg=1',\n",
       " '/setprefs?hl=en&prev=https://www.google.com/search?q%3Dyahoo%2Bfinance%2BGME%26tbm%3Dnws%26pccc%3D1&sig=0_UrOLrQb3DvqVbQZQ_42ZI2PP0so%3D&cs=2&sa=X&ved=0ahUKEwirndLr9ZWLAxXMS2wGHfkXEPoQjcAJCFY']"
      ]
     },
     "execution_count": 13,
     "metadata": {},
     "output_type": "execute_result"
    }
   ],
   "source": [
    "raw_urls['GME']"
   ]
  },
  {
   "cell_type": "markdown",
   "metadata": {},
   "source": [
    "## 4.2. Strip out unwanted URLs"
   ]
  },
  {
   "cell_type": "code",
   "execution_count": 14,
   "metadata": {},
   "outputs": [],
   "source": [
    "import re"
   ]
  },
  {
   "cell_type": "code",
   "execution_count": 15,
   "metadata": {},
   "outputs": [],
   "source": [
    "exclude_list = ['maps', 'policies', 'preferences', 'accounts', 'support']"
   ]
  },
  {
   "cell_type": "code",
   "execution_count": 16,
   "metadata": {},
   "outputs": [],
   "source": [
    "def strip_unwanted_urls(urls, exclude_list):\n",
    "    val = []\n",
    "    for url in urls: \n",
    "        if 'https://' in url and not any(exclude_word in url for exclude_word in exclude_list):\n",
    "            res = re.findall(r'(https?://\\S+)', url)[0].split('&')[0]\n",
    "            val.append(res)\n",
    "    return list(set(val))"
   ]
  },
  {
   "cell_type": "code",
   "execution_count": 17,
   "metadata": {},
   "outputs": [
    {
     "data": {
      "text/plain": [
       "{'GME': ['https://finance.yahoo.com/news/why-gamestop-corp-gme-crashed-055747341.html',\n",
       "  'https://www.google.com/search?q%3Dyahoo%2Bfinance%2BGME%26tbm%3Dnws%26pccc%3D1',\n",
       "  'https://finance.yahoo.com/news/consumer-discretionary-stocks-lagging-gamestop-144012488.html',\n",
       "  'https://finance.yahoo.com/news/healthy-balance-sheet-won-t-193646025.html',\n",
       "  'https://finance.yahoo.com/news/heres-why-gamestop-gme-fell-224520124.html',\n",
       "  'https://finance.yahoo.com/news/gamestop-gme-falls-more-steeply-224520779.html',\n",
       "  'https://finance.yahoo.com/news/why-gamestop-gme-13-8-163011734.html',\n",
       "  'https://finance.yahoo.com/news/why-gamestop-gme-stock-down-162604744.html',\n",
       "  'https://finance.yahoo.com/news/why-gme-bce-slumping-today-185804276.html',\n",
       "  'https://finance.yahoo.com/news/gamestop-gme-gains-market-dips-224505608.html',\n",
       "  'https://finance.yahoo.com/news/gamestop-gme-registers-bigger-fall-214521016.html'],\n",
       " 'TSLA': ['https://finance.yahoo.com/news/tesla-tsla-among-stocks-chatgpt-221105346.html',\n",
       "  'https://finance.yahoo.com/news/tesla-stock-jumps-amid-speculation-musk-could-buy-tiktok-191001660.html',\n",
       "  'https://finance.yahoo.com/news/teslas-future-under-president-trump-weight-ai-potential-against-slowing-ev-demand-150331648.html',\n",
       "  'https://finance.yahoo.com/news/analyst-says-tesla-tsla-facing-165729425.html',\n",
       "  'https://uk.finance.yahoo.com/news/tesla-investors-pin-hopes-cheaper-112330018.html',\n",
       "  'https://finance.yahoo.com/news/tesla-tsla-best-stock-buy-115413754.html',\n",
       "  'https://www.google.com/search?q%3Dyahoo%2Bfinance%2BTSLA%26tbm%3Dnws%26pccc%3D1',\n",
       "  'https://finance.yahoo.com/news/tesla-stock-falls-as-trump-ends-ev-mandate-looks-to-eliminate-subsidies-152217391.html',\n",
       "  'https://finance.yahoo.com/news/tesla-set-strong-2025-550-171702300.html',\n",
       "  'https://finance.yahoo.com/news/p-futures-slip-meta-microsoft-080635465.html',\n",
       "  'https://finance.yahoo.com/video/tesla-earnings-kick-off-massive-180000390.html'],\n",
       " 'BTC': ['https://finance.yahoo.com/news/chinas-deepseek-sets-off-ai-071458375.html',\n",
       "  'https://finance.yahoo.com/news/microstrategy-plans-bitcoin-purchase-btc-080120946.html',\n",
       "  'https://finance.yahoo.com/news/bitcoin-miners-bitdeer-cleanspark-core-092435548.html',\n",
       "  'https://sg.finance.yahoo.com/news/bitcoin-may-double-topping-price-065246984.html',\n",
       "  'https://finance.yahoo.com/video/why-banks-now-green-light-215347775.html',\n",
       "  'https://finance.yahoo.com/news/bitcoin-short-term-holders-speculative-074451751.html',\n",
       "  'https://finance.yahoo.com/video/blackrocks-chaudhuri-growing-appeal-gold-150001002.html',\n",
       "  'https://finance.yahoo.com/news/nasdaq-files-kind-redemptions-blackrock-214733982.html',\n",
       "  'https://www.google.com/search?q%3Dyahoo%2Bfinance%2BBTC%26tbm%3Dnws%26pccc%3D1',\n",
       "  'https://finance.yahoo.com/news/greenlight-capital-thoughts-bitcoin-microstrategy-142536485.html',\n",
       "  'https://finance.yahoo.com/news/bitcoin-slips-traders-profits-trump-032048830.html']}"
      ]
     },
     "execution_count": 17,
     "metadata": {},
     "output_type": "execute_result"
    }
   ],
   "source": [
    "cleaned_urls = {ticker:strip_unwanted_urls(raw_urls[ticker], exclude_list) for ticker in monitored_tickers}\n",
    "cleaned_urls"
   ]
  },
  {
   "cell_type": "markdown",
   "metadata": {},
   "source": [
    "## 4.3. Search and Scrape Cleaned URLs"
   ]
  },
  {
   "cell_type": "code",
   "execution_count": 18,
   "metadata": {},
   "outputs": [],
   "source": [
    "def scrape_and_process(URLs):\n",
    "    ARTICLES = []\n",
    "    for url in URLs: \n",
    "        r = requests.get(url)\n",
    "        soup = BeautifulSoup(r.text, 'html.parser')\n",
    "        paragraphs = soup.find_all('p')\n",
    "        text = [paragraph.text for paragraph in paragraphs]\n",
    "        words = ' '.join(text).split(' ')[:350]\n",
    "        ARTICLE = ' '.join(words)\n",
    "        ARTICLES.append(ARTICLE)\n",
    "    return ARTICLES"
   ]
  },
  {
   "cell_type": "code",
   "execution_count": 19,
   "metadata": {},
   "outputs": [
    {
     "data": {
      "text/plain": [
       "{'GME': [\"We are experiencing some temporary issues. The market data on this page is currently delayed. Please bear with us as we address this and restore your personalized lists. We recently compiled a list of the These 10 Firms Were Last Week's Worst Performers.\\xa0In this article, we are going to take a look at where GameStop Corp. (NYSE:GME) stands against the other stocks. Wall Street’s main indices finished firmer on Friday, with all main indices settling in the green territory ahead of President-elect Donald Trump’s return to the White House. Week-on-week, the Dow eked out a 3.81-percent gain, the S&P rallied 3.79 percent, while the Nasdaq increased by 3.84 percent. Ten companies from diverse sectors, however, ended Friday weaker, posting notable declines versus the week prior. In this article, let’s look at which firms suffered a bloodbath and the reasons that dragged their performance. For this week’s list, we only focused on companies with a market capitalization of at least $2 billion and a minimum trading volume of $5 million. A gamer playing a game on one of the specialty retail company's gaming platforms. Shares of GameStop Corp. (NYSE:GME) fell by 14.8 percent on Friday to close at $27.51 versus the $32.31 week-on-week amid reports that it was closing stores in the US, often with little to no warning. According to reports, the closure announcements were reported by employees on their social media platforms. Since 2020 alone, GameStop (NYSE:GME) has been shutting down more than 700 stores as the COVID-19 pandemic heavily weighed on its profits. This was further aggravated by the continued rise in the digital age particularly online sales, and video game makers resorting to digital-only access to games. This year alone, GameStop (NYSE:GME) reportedly will close dozens of stores across Texas, and it is uncertain whether other states will see similar store closures. GameStop (NYSE:GME) is a retailer that sells video games, consumer electronics, and collectibles, with stores across the US, Canada, Australia, New Zealand, and Europe. Overall GME ranks 5th on our list of last week's worst performers. While we acknowledge the potential of GME as an\",\n",
       "  '© 2025 - Privacy - Terms',\n",
       "  \"We are experiencing some temporary issues. The market data on this page is currently delayed. Please bear with us as we address this and restore your personalized lists. Investors interested in Consumer Discretionary stocks should always be looking to find the best-performing companies in the group. Is GameStop (GME) one of those stocks right now? A quick glance at the company's year-to-date performance in comparison to the rest of the Consumer Discretionary sector should help us answer this question. GameStop is a member of our Consumer Discretionary group, which includes 267 different companies and currently sits at #7 in the Zacks Sector Rank. The Zacks Sector Rank gauges the strength of our 16 individual sector groups by measuring the average Zacks Rank of the individual stocks within the groups. The Zacks Rank is a proven model that highlights a variety of stocks with the right characteristics to outperform the market over the next one to three months. The system emphasizes earnings estimate revisions and favors companies with improving earnings outlooks. GameStop is currently sporting a Zacks Rank of #1 (Strong Buy). Over the past three months, the Zacks Consensus Estimate for GME's full-year earnings has moved 700% higher. This is a sign of improving analyst sentiment and a positive earnings outlook trend. Based on the latest available data, GME has gained about 78.8% so far this year. Meanwhile, the Consumer Discretionary sector has returned an average of 11.6% on a year-to-date basis. This means that GameStop is performing better than its sector in terms of year-to-date returns. Sony (SONY) is another Consumer Discretionary stock that has outperformed the sector so far this year. Since the beginning of the year, the stock has returned 11.7%. Over the past three months, Sony's consensus EPS estimate for the current year has increased 4%. The stock currently has a Zacks Rank #2 (Buy). Looking more specifically, GameStop belongs to the Gaming industry, which includes 39 individual stocks and currently sits at #161 in the Zacks Industry Rank. On average, stocks in this group have gained 19% this year, meaning that GME is performing better\",\n",
       "  'Thank you for your patience. Our engineers are working quickly to resolve the issue.',\n",
       "  'Thank you for your patience. Our engineers are working quickly to resolve the issue.',\n",
       "  'Thank you for your patience. Our engineers are working quickly to resolve the issue.',\n",
       "  \"We are experiencing some temporary issues. The market data on this page is currently delayed. Please bear with us as we address this and restore your personalized lists. A month has gone by since the last earnings report for GameStop (GME). Shares have added about 13.8% in that time frame, outperforming the S&P 500. Will the recent positive trend continue leading up to its next earnings release, or is GameStop due for a pullback? Before we dive into how investors and analysts have reacted as of late, let's take a quick look at its most recent earnings report in order to get a better handle on the important catalysts. GameStop posted third-quarter fiscal 2024 results, wherein the top line missed the Zacks Consensus Estimate and declined year over year. On the contrary, the bottom line beat the consensus mark and improved from the year-ago period. GME posted adjusted earnings per share of 6 cents, beating the Zacks Consensus Estimate of break-even earnings.GameStop reported net sales of $860.3 million, which missed the consensus estimate of $900 million. Also, the metric decreased 20.2% from $1,078.3 million in the year-ago quarter. The decrease in consolidated net sales was caused by lower sales across all categories.By sales mix, hardware and accessories sales fell 28% to $417.4 million from $579.4 million in the year-ago quarter. Software sales were $271.8 million, down 15.4% from $321.3 million in the year-ago quarter. Sales in the collectibles unit declined 3.7% to $171.1 million from $177.6 million in the year-ago quarter.By geographic location, net sales declined 24.5% in Canada, 22% in Europe, 20.4% in the United States and 12.5% in Australia year over year. Gross profit decreased 8.7% to $257.2 million from $281.8 million in the year-ago quarter. The gross margin expanded 380 basis points (bps) to 29.9% compared with 26.1% in the third quarter of fiscal 2023. This margin expansion was driven by a strategic shift toward higher-margin product categories, including collectibles and preowned hardware and accessories, along with enhanced inventory management.Adjusted selling, general and administrative (SG&A) expenses declined 4.4% to $281.8 million from $294.9 million in the year-ago\",\n",
       "  'Thank you for your patience. Our engineers are working quickly to resolve the issue.',\n",
       "  'We are experiencing some temporary issues. The market data on this page is currently delayed. Please bear with us as we address this and restore your personalized lists. GameStop (GME) and Canadian telecom company BCE (BCE) are among today\\'s losers, falling 6% and 4.5%, respectively. GME Closing Stores, Planning PR Offensive According to multiple, recent reports, the video game retailer intends to close down over 100 stores in January. In 2024, GME reportedly shuttered over 200 locations. In the past, many brick-and-mortar retailers that shut down a high number of their stores have ultimately ended up going bankrupt. 25 Technologies That Have Changed the World Separately, on Jan. 10, The New York Post reported that GameStop was looking to hire a publicist. The publicist\\'s mission will be to boost the public image of GME CEO Ryan Cohen, and he or she will probably also seek to improve consumers\\' view of GME as well, the newspaper asserted. BCE Was Downgraded by Bank of America\\xa0 Bank of America lowered its rating on BCE to Underperform from Neutral. The bank is worried about the company\\'s debt levels and the sustainability of its dividend. According to Bank of America, BCE will \"underperform its peers\" until it finds ways of addressing those two issues. Additionally, the bank believes that all Canadian wireless companies lack pricing power and are likely to be hindered by slowing immigration. Bank of America does not expect the firms\\' pricing power to rebound \"in the short term.\" While we acknowledge the potential of GME, our conviction lies in the belief that some AI stocks hold greater promise for delivering higher returns, and doing so within a shorter time frame. If you are looking for an AI stock that is more promising than GME but that trades at less than 5 times its earnings, check out our report about the cheapest AI stock. READ ALSO\\xa08 Best Wide Moat Stocks to Buy Now\\xa0and\\xa030 Most Important AI Stocks According to BlackRock Disclosure: None. This article is originally published at Insider Monkey. Sign in to access your portfolio',\n",
       "  'Thank you for your patience. Our engineers are working quickly to resolve the issue.',\n",
       "  'Thank you for your patience. Our engineers are working quickly to resolve the issue.'],\n",
       " 'TSLA': ['We are experiencing some temporary issues. The market data on this page is currently delayed. Please bear with us as we address this and restore your personalized lists. We recently published a list of 15 Stocks ChatGPT Predicts Could Make You Wealthy in 10 Years. In this article, we are going to take a look at where Tesla, Inc. (NASDAQ:TSLA) stands against other stocks ChatGPT predicts could make you wealthy in 10 years. 2024 was a stellar year for the US markets, driven by a strong performance in the technology sector. The broader market expanded by more than 23% during the year, marking two consecutive years of over 20% growth—something that had not happened in nearly three decades. READ ALSO:\\xa010 Best Single Digit Stocks To Buy Now\\xa0and\\xa010 Under-the-Radar Stocks with Massive Upside for 2025. The stock market benefited from a resilient economy that avoided recession, declining interest rates, and waning inflation. Analysts are projecting continued growth in 2025 amid strong economic data and optimism about a business-friendly Trump administration returning to power. In a note on December 30, Wedbush Securities analyst, Dan Ives, wrote that he expects a 25% surge in tech stocks as the new government focuses on slashing unnecessary regulations. On the other hand, Todd Rosenbluth, the head of research at VettaFi, anticipates that ETFs specializing in small-caps will make gains as investors broaden their market exposure with interest rates dropping. While the general outlook for 2025 is encouraging, analysts are also cautious about the potential downsides of the new administration’s promised tariffs. Following his election victory, Trump has vowed to impose steep tariffs on imports from Canada, China, and Mexico, which could increase manufacturers’ costs. Ongoing geopolitical tensions in different parts of the world could also hurt the stock market. A growing number of investors are turning to ChatGPT for stock suggestions. According to a 2023 survey, around 53% of the Millenials and 50% of Generation Z respondents had used the AI chatbot for investing advice. In contrast, older Americans were skeptical of the recommendations, with only 25% of the Baby Boomers saying they had used ChatGPT',\n",
       "  'We are experiencing some temporary issues. The market data on this page is currently delayed. Please bear with us as we address this and restore your personalized lists. Tesla (TSLA) stock jumped 3% Friday amid speculation that CEO Elon Musk could potentially buy TikTok. The social media platform needs to find an American buyer, or it will effectively face a countrywide ban starting next week — and Musk is reportedly the most likely candidate. The US Supreme Court on Friday rejected an appeal from TikTok to overturn a federal law banning the social media platform. The ban would penalize major companies for offering TikTok in their app stores. It’s set to take effect Jan. 19 unless TikTok’s Chinese parent company ByteDance sells the app to an American owner, per a federal law signed by President Biden in 2024 citing national security concerns related to the platform. “We believe ByteDance and ultimately Beijing is looking at the possibility that Musk/X could buy the US TikTok operations,” wrote Wedbush analyst Dan Ives in a note to investors. “Beijing/Xi Jinping has a strong relationship with Musk so there would be added comfort in this deal/potential partnership to avoid a TikTok ban in our view.” Even before Ives tossed his thoughts into the mix, Bloomberg this week reported that Chinese officials were exploring such an option, citing unnamed sources. Bloomberg’s sources said Beijing preferred TikTok remain under ByteDance rather than selling it to Musk. TikTok denied the claim, calling the report “pure fiction.” In the meantime, Trump has vowed to “save” the app. Trump has several avenues of action he could take to fend off a TikTok ban. For example, he could push Congress to repeal the ban or extend the deadline for the TikTok sale. “We continue to believe Musk will be heavily involved in finding a solution for TikTok and ultimately could build a consortium to buy TikTok,” Ives wrote, believing its price tag to be in the $40 billion to $50 billion range. Musk has become a close ally of Trump over the course of his campaign and even scored a',\n",
       "  'We are experiencing some temporary issues. The market data on this page is currently delayed. Please bear with us as we address this and restore your personalized lists. Tesla’s (TSLA) eye-watering post-election rally may soon resume. The stock, which has rocketed a staggering 65% since Nov. 5, has taken a breather in recent weeks, as worry over slowing demand trends and a rollback of pro-EV policies raised fears of near-term financial performance. Tesla shares fell 4% during President Trump’s first week back in office, contributing to a one-month decline of 12%. Despite the recent dip, many analysts remain confident in the company heading into its critical fourth quarter earnings report. Rather than focusing on Tesla’s first annual sales decline in over a decade, they’re becoming increasingly optimistic about Tesla’s AI potential. Analysts at Piper Sandler and Wedbush were among the teams raising their 12-month price targets this week, with Piper Sandler naming Tesla its top \"buy-and-hold idea\" and Wedbush calling the new administration a \"total game changer\" for the company. Watch: GM\\'s CEO Marry Barra on the company\\'s EV plans “The $7,500 credit rollback is more of a negative for new entrants and Detroit’s big three automakers,” Ives told me on Yahoo Finance’s Morning Brief. “For Tesla, 90% of what\\'s going to drive the stock is autonomous and AI … that\\'s the ultimate story.” Ives predicts Tesla’s valuation will reach $2 trillion by the end of this year, driven by what he described as a “regulatory friendly” White House that will “fast-track the autonomous future.” Morgan Stanley’s Adam Jonas also sees AI as a key growth driver for Tesla. In a recent note to investors, the Tesla bull wrote that AI and robotics have become top of mind for clients following Nvidia (NVDA) CEO Jensen Huang’s CES presentation. The AI chip juggernaut announced a partnership with Toyota (TM) for autonomous vehicles and another deal with automotive company Continental and self-driving truck firm Aurora. However, Jonas has not yet priced embodied AI into his value modeling for Tesla. “We are receiving more incoming client requests to discuss humanoids than the entirety',\n",
       "  'We are experiencing some temporary issues. The market data on this page is currently delayed. Please bear with us as we address this and restore your personalized lists. We recently published a list of Top 10 AI News You Shouldn’t Miss. In this article, we are going to take a look at where Tesla, Inc. (NASDAQ:TSLA) stands against other top AI news you shouldn’t miss. All everyone could talk about in the technical AI landscape these days is DeepSeek-R1, a Chinese open-source LLM that analysts believe can give major American AI companies a run for their money. Why is DeepSeek making waves and why is it called a breakthrough in the AI race? DeepSeek AI model is several times cheaper to use for professional purposes when compared to its American counterparts including OpenAI’s o1 model. Media reports also suggest the model beat almost all key AI models in the industry by significant margins. CNBC’s Deirdre Bosa explained what makes these Chinese models a challenge for US tech companies: “The cost, I mean, these models coming out of China are just built at a fraction of the price when you think about OpenAI. That’s spending $5 billion a year, burning through billions of dollars a year. These models, the DeepSeek for example, they say they built it for less than $6 million. ByteDance as well, you know, shows that it was built and you can access it at much, much lower prices. So, this really turns on sort of this truth that we have thought about generative AI for the last few years—that you need hundreds of millions of dollars to develop bigger and better models. What the Chinese labs and companies are doing is they’re going straight to the frontier. They’re building with sort of infrastructure and outputs that are already out there, built in many cases by American companies and startups, and they’re improving on it, they’re innovating on it, and producing models that are just as good, in some cases, at a fraction of the cost.” READ ALSO: 7 Best Stocks to Buy For Long-Term\\xa0and\\xa08 Cheap Jim Cramer',\n",
       "  'We are experiencing some temporary issues. The market data on this page is currently delayed. Please bear with us as we address this and restore your personalised lists. By Akash Sriram (Reuters) - Tesla investors will look for more details on the automaker\\'s lower-priced model when it reports quarterly results on Wednesday as some expect the cheaper car to help the company hit its goal to increase deliveries by up to 30% this year. The world\\'s most valuable automaker has seen its stock market valuation soar more than 60% to $1.3 trillion since President Donald Trump won November\\'s election with the financial backing of Tesla CEO Elon Musk. Investors are betting the new administration will ease regulation on self-driving vehicle systems that Tesla is developing. Faced with intense competition in China from BYD and other electric vehicle makers, Tesla in 2024 recorded its first-ever decline in annual deliveries. Analysts now expect lower borrowing costs this year to fuel a rebound in sales volume. Tesla, however, is yet to deliver major upgrades to its aging line up of cars in the U.S., and it is relying on its relatively new Cybertruck electric pickup truck, with its polarizing design, to boost sales. The company launched an updated version of its best-seller Model Y crossover SUV on Thursday, weeks after its launch in China to attract new customers. \"As the opportunity for growth from Tesla\\'s existing lineup appears quite limited, Tesla\\'s new low-cost model remains crucial to Tesla\\'s plan for growth, even if not to the extent of the prior 20-30% y/y target,\" Barclays analyst Dan Levy said in a research note. Tesla said in April last year that it would launch cheaper cars based on its current platforms and their existing production lines in the first half of 2025, as part of a pivot from ambitious plans to produce an all-new model that had been expected to cost $25,000. Some investors are concerned that the new model may not qualify for federal subsidies under the Inflation Reduction Act. However, Reuters late last year reported that these Biden-era subsidies are likely to be',\n",
       "  'We are experiencing some temporary issues. The market data on this page is currently delayed. Please bear with us as we address this and restore your personalized lists. We recently published a list of 10 Best Stocks to Buy for High Returns in 2025. In this article, we are going to take a look at where Tesla, Inc. (NASDAQ:TSLA) stands against other best stocks to buy for high returns in 2025. On December 17, 2024, J.P. Morgan released its market outlook 2025. The report expects the global economy to continue growing at a robust rate, however a sharp slowdown in China is expected. Regarding the equity market, the firm anticipates depressing trends across stocks, sectors, and themes. Analysts at the firm estimate the S&P 500 to be around 6,500 in 2025 with earnings per share of $270. The head of Global Market Research, Hussain Malik noted that the policies of the United States regarding trade, immigration, and regulatory policy will play a critical role in defining the year’s outcome for the country and globally. The report further elaborated on its anticipation of a depressed stock market by highlighting de-coupling central bank policies, uneven progress in disinflation, and ongoing technological innovation. Moreover, increased geopolitical tensions are also likely to add unusual complexity to the global stock market. Despite all this, the firm has bright expectations for the United States. It believes that the country will remain a key driver of growth due to factors such as an expanding business cycle, a robust labor market, increased capital spending related to AI, and active capital markets. On the other hand, Europe is expected to grapple with structural challenges, while emerging markets may face headwinds from persistent high interest rates, a strong US dollar, and trade policy issues. Lakos-Bujas, head of Global Markets Strategy at J.P. Morgan warned that a key risk to their base case involves disinflation stalling or reversing, which could prompt the Federal Reserve to consider interest rate hikes later in 2025 or early 2026. Such developments would necessitate a reassessment of their market outlook. To curate the list of the',\n",
       "  '© 2025 - Privacy - Terms',\n",
       "  'We are experiencing some temporary issues. The market data on this page is currently delayed. Please bear with us as we address this and restore your personalized lists. Tesla (TSLA) stock sank as much as 3% Tuesday, reversing premarket gains on the first trading day since the inauguration of Donald Trump after the president scrapped a pro-EV policy put into place by his predecessor in an executive action late Monday. On his first afternoon in office, Trump wasted no time shedding the skin of the outgoing administration, revoking 78 executive orders made by former President Joe Biden during his tenure. One of those Biden-era policies that was revoked mandated that half of the new US cars manufactured be electric by 2030. Other electric vehicle stocks fell on the news. Lucid (LCID) tumbled nearly 7%, while Rivian (RIVN) slid 5%. Meanwhile, General Motors (GM) and Ford (F) stocks were up. Tesla ended Tuesday down nearly 1%. Trump also directed his administration to consider the elimination of what he called “unfair subsidies” and “other ill-conceived government-imposed market distortions that favor EVs.” The Biden administration had issued grants and extended tax credits with funding from the Inflation Reduction Act — much of which went to red states — aimed at bolstering the electric vehicle industry and promoting clean energy to combat climate change. The first EV tax credit was passed under former President George W. Bush. \"[EVs] are a rapidly growing market and relatively new technology, but [loss of the EV tax credit] is not trivial. I mean, $7,500 is not trivial,” Joseph Shapiro, UC Berkeley associate professor of economics, told Yahoo Finance in November. Tesla CEO Elon Musk, a close confidant of the president, said last year his company wouldn\\'t take a hit like other EV makers from the rollbacks. “I guess that there would be, like, some impact, but I think it would be devastating for our competitors and for Tesla slightly,” Musk said on a call with analysts after Tesla’s second quarter earnings report in July. “But long term probably actually helps Tesla, would be my guess, yes … the',\n",
       "  'We are experiencing some temporary issues. The market data on this page is currently delayed. Please bear with us as we address this and restore your personalized lists. Wedbush Securities now believes Tesla\\'s (TSLA, Financial) business will grow more strongly with its new price target of $550. The company\\'s \"Outperform\" rating remains unchanged despite Tesla delivering 101% market returns in one year. Tesla\\'s delivery prospects for 2025 and autonomous driving technology gain factors in Wedbush\\'s $550 price target, which stands among other analysts\\' forecasts between $125 and $528. Based on its Washington D.C. interactions with officials, Wedbush expects the Trump administration to propel Tesla forward, especially with self-driving cars and AI technology. According to many analysts, Tesla needs political backing from the US government to grow by 3% during the next fiscal year. Wedbush expects Tesla to control the EV market beyond 2025 and achieve major advancements in self-driving technology, so it set its 2025 price target at $650. The firm\\'s \"outperform\" rating demonstrates that Tesla\\'s stock will advance faster than other stocks thanks to continuous technical updates and government backing of electric vehicles. This article first appeared on GuruFocus. Sign in to access your portfolio',\n",
       "  'We are experiencing some temporary issues. The market data on this page is currently delayed. Please bear with us as we address this and restore your personalized lists. Early on Monday, U.S. stock futures declined while the futures connected to the Dow Jones Industrial Average fell 182 points, which equated to a 0.41% decrease. A cautious outlook emerged as S&P 500 futures dropped 0.98% while Nasdaq 100 futures declined 1.96% ahead of a key earnings week. The upcoming earnings reports from tech giants Big Seven members Meta Platforms (META, Financial), Apple (AAPL, Financial) and Microsoft (MSFT, Financial) alongside Tesla (TSLA, Financial) represent key indicators for investors this week. As major companies deliver quarterly earnings reports, investors will analyze the strength of the bull market and the ongoing impact of AI on their businesses. These stocks represent 40% of the S&P 500 portfolio; therefore, any results below expectations from these \"Magnificent 7\" companies could produce widespread market declines. As S&P 500 companies announce their fourth-quarter earnings results, FactSet shows that 80% of companies outperformed EPS forecasts by 16% of reporting companies. Market sentiment could shift based on the forthcoming Federal Reserve meeting scheduled for Wednesday, together with the upcoming inflation data on Friday. Broader market momentum continues to rise as the S&P 500 recently broke new record highs despite weakening performance in December. This article first appeared on GuruFocus. Sign in to access your portfolio',\n",
       "  'Thank you for your patience. Our engineers are working quickly to resolve the issue.'],\n",
       " 'BTC': ['We are experiencing some temporary issues. The market data on this page is currently delayed. Please bear with us as we address this and restore your personalized lists. SINGAPORE (Reuters) - Nasdaq futures slumped and technology shares slid in Japan on Monday as surging popularity of a Chinese discount artificial intelligence model wobbled investors\\' faith in the profitability of AI and the sector\\'s voracious demand for high-tech chips. Nasdaq 100 futures were down 2.4% and S&P 500 futures by the Asia afternoon, and shares in Nvidia supplier Advantest fell 8.5% in Tokyo. Startup DeepSeek has rolled out a free assistant it says uses lower-cost chips and less data, seemingly challenging a widespread bet in financial markets that AI will drive demand along a supply chain from chipmakers to data centres. \"It\\'s a case of a crowded trade, and now DeepSeek is giving a reason for investors and traders to unwind,\" said Wong Kok Hoong, head of equity sales trading at Maybank. AI-focused startup investor SoftBank Group slid more than 8%, on course for its biggest one-day fall since Sept. 30. Last week it announced a $19 billion commitment to fund Stargate, a data-centre joint venture with OpenAI. Chip-making equipment giant Tokyo Electron fell 5%. Tech-heavy markets in Taiwan and South Korea were closed. European tech stocks, especially Dutch computer chip equipment maker ASML, which counts Taiwan\\'s TSMC, Intel and Samsung as its customers, will likely face pressure at the open. Shares of Nvidia, the poster child of AI, have risen 196% since the start of 2024, outperforming the 35% gain in the Nasdaq. CAPEX IN QUESTION Little is known about the small Hangzhou startup behind DeepSeek, but its assistant leapfrogged rival ChatGPT to become the top-rated free application on Apple\\'s App Store in the United States on Monday. DeepSeek researchers wrote in a paper last month that the DeepSeek-V3 model, launched on Jan. 10, used Nvidia\\'s H800 chips for training, spending less than $6 million. H800 chips are not top-of-the-line. Initially developed as a reduced-capability product to get around restrictions on sales to China, they were subsequently banned by U.S.',\n",
       "  'We are experiencing some temporary issues. The market data on this page is currently delayed. Please bear with us as we address this and restore your personalized lists. MicroStrategy co-founder Michael Saylor has hinted at another Bitcoin purchase scheduled for Jan. 27, following the company’s recent acquisition of 11,000 BTC on Jan. 21 at an average price of $101,191 per coin. This brings MicroStrategy\\'s total holdings to 461,000 BTC, worth approximately $48.4 billion, surpassing the U.S. government’s Bitcoin holdings. Despite Bitcoin’s recent pullback from an all-time high of $108,786 on Jan. 20, the cryptocurrency has been consolidating around $101,000. The announcement coincides with a significant development in U.S. digital asset policy. On Jan. 23, President Trump signed an executive order creating the President\\'s Working Group on Digital Asset Markets. Chaired by David Sacks, the group is tasked with researching the creation of a \"national digital asset stockpile.\" However, Bitcoin’s role in this stockpile remains unclear, as the order did not explicitly mention the cryptocurrency. The executive order has sparked mixed reactions from the Bitcoin community. Max Keiser, a prominent Bitcoin evangelist, criticized the potential inclusion of altcoins in a U.S. digital asset reserve, calling it destructive to Bitcoin’s dominance. Meanwhile, Pierre Rochard, VP of research at Riot Platforms, warned that Ripple\\'s lobbying efforts could prevent Bitcoin from being the sole asset in a strategic reserve, instead promoting a more diverse collection of digital assets. Ripple CEO Brad Garlinghouse acknowledged the company\\'s lobbying efforts but assured that Bitcoin would still be part of any future reserve. While MicroStrategy’s Bitcoin investments have been profitable, with an unrealized gain of over $19 billion, traders are uncertain about the short-term outlook for Bitcoin. The potential shift toward a multi-asset digital asset reserve has left the market apprehensive, as the policy could include inflationary assets alongside Bitcoin. Despite this uncertainty, Saylor remains committed to growing MicroStrategy’s Bitcoin holdings, signaling further acquisitions in the coming days. Bitcoin\\'s price action has been volatile in recent weeks, but MicroStrategy’s continued investments demonstrate the company\\'s confidence in the long-term potential of the cryptocurrency. However, the debate surrounding the U.S.',\n",
       "  'We are experiencing some temporary issues. The market data on this page is currently delayed. Please bear with us as we address this and restore your personalized lists. Bitcoin (BTC) miners Bitdeer Technologies (BTDR), CleanSpark (CLSK) and Core Scientific (CORZ) were initiated with an outperform rating by KBW, the investment bank said in a report Monday. The three bitcoin mining companies offer varying degrees of exposure to the largest cryptocurrency, the bank said. Bitdeer offers diverse exposure to a bitcoin mining business model that is augmented by a growing ASIC manufacturing arm, the report said. The company also has an artificial intelligence (AI)/high performance computing (HPC) unit with a \"live cloud service platform and a robust power pipeline that affords optionality for hosting/co-location opportunities\" in the future. KBW has a price target of $26.50 on Bitdeer\\'s shares. The stock was 0.3% lower at around $20.60 in early trading. CleanSpark is one of the largest publicly listed miners in the bank\\'s coverage, with a roughly 50 exahashes per second (EH/s) hashrate target for mid-2025. It benefits from one of the most efficient mining fleets in the sector which gives it \"strong unit economics and outsized BTC production.\" KBW gave the stock a $19 price target. Core Scientific offers exposure to the biggest and most appealing AI/HPC hosting services contract in the sector through the 12-year deal it inked with CoreWeave last year, as well as bitcoin mining, KBW said. Core Scientific is well positioned to \"secure incremental capacity\" as it has an engineering team with previous experience in data center operations, the report added. KBW initiated coverage of the shares with a $22 price target. Core Scientific was trading little changed at $16 on Monday. Galaxy (GLXY) remains the bank\\'s top outperform idea in the digital assets space. Read more: Bitcoin Mining Economics Expected to be Stable, Profitable in 2025, Canaccord Says (Bloomberg) -- Nvidia Corp. and ASML Holding NV shares plunged early Monday as Chinese artificial intelligence startup DeepSeek appeared to provide comparable performance to Western chatbots at a fraction of the price.Most Read from BloombergWhat Happened to Hanging Out',\n",
       "  \"We are experiencing some temporary issues. The market data on this page is currently delayed. Please bear with us as we address this and restore your personalised lists. Bitcoin (BTC) may drop to $75,000 should it trigger a so-called 'double top' bearish reversal pattern. A double top comprises two consecutive peaks at approximately the same price, with a trendline drawn through the low point between these peaks. The failure to break above the previous peak, followed by a subsequent decline, suggests that the uptrend is losing momentum. So, an eventual breakdown of the horizontal trendline support, the double top neckline, is said to confirm a bullish-to-bearish trend change. BTC has pulled back to $100,000 at the time of writing, having failed to maintain a foothold above the December high last week. In other words, BTC looks to have formed a double top, with neckline support positioned around $91,300. A UTC close below the neckline level would confirm the bearish reversal pattern, potentially triggering a decline to $75,000. This target is calculated using the measured move method, subtracting the gap between the twin peaks and the neckline from the neckline level. Sign in to access your portfolio\",\n",
       "  'Thank you for your patience. Our engineers are working quickly to resolve the issue.',\n",
       "  \"We are experiencing some temporary issues. The market data on this page is currently delayed. Please bear with us as we address this and restore your personalized lists. Bitcoin's price is currently $101,099, according to CoinMarketCap, following a recovery that saw 80% of short-term holders return to profit. Earlier in the month, the supply of short-term holders in loss dropped to 65% before Bitcoin regained momentum above $100,000. The short-term realized price is $90,541, based on Checkonchain data. In January, Bitcoin fluctuated around the $100,000 level, briefly dipping below before reaching an all-time high of $109,000 on Jan. 20, just before Donald Trump’s presidential inauguration. Analysts have pointed to the behavior of short-term holders, often driven by fear of missing out (FOMO), as a sign of market optimism. These investors tend to buy aggressively during price surges, which IT Tech, a CryptoQuant contributor, says contributes to a “bullish tone” for 2025. Long-term holders, who have held Bitcoin for over 155 days, maintain a dominant position in the market, continuing to accumulate during price declines while taking profits strategically during upward trends. The average long-term holder's cost is $24,639 per Bitcoin, according to Bitbo, meaning most are seeing profits of over four times their investment. Occasional sell-offs by these holders are viewed as healthy, creating opportunities for others to accumulate. IT Tech also noted that short-term holders are becoming increasingly confident, particularly as Bitcoin’s price gains upward momentum. Their activity signals strong speculative behavior, which, combined with the steady actions of long-term holders, supports the cryptocurrency's positive outlook for the year ahead. A separate analysis by CryptoQuant’s “Crazzyblockk” highlighted that long-term holders are refraining from major sell-offs. Only 18% of Bitcoin deposits into Binance were attributed to long-term holders, signaling continued commitment despite market volatility. This behavior reinforces the market’s overall stability, even during periods of fluctuation. Throughout this period, Bitcoin’s market dynamics have been shaped by the contrasting behaviors of long-term and short-term holders. While long-term holders focus on accumulation during downturns, short-term holders seize opportunities during price rallies. This dual dynamic has set the stage for a bullish market\",\n",
       "  'Thank you for your patience. Our engineers are working quickly to resolve the issue.',\n",
       "  'We are experiencing some temporary issues. The market data on this page is currently delayed. Please bear with us as we address this and restore your personalized lists. Nasdaq has filed a proposed rule change to allow in-kind creation and redemption for the BlackRock iShares Bitcoin Trust (IBIT), according to a Friday  filing to the U.S. Securities and Exchange Commission (SEC). The process allows large institutional investors, called authorized participants (APs), to buy and redeem shares of the fund directly to bitcoin (BTC). It is considered to be more efficient as it allows APs to closely monitor the demand for the ETF and act quickly by buying or selling shares of the fund without cash being involved. Retail investors are not eligible to participate. When the SEC first approved spot bitcoin ETFs, including IBIT, last January, the agency allowed the launch of the funds with cash redemption instead of bitcoin. \"It should have been approved in the first place but Gensler/Crenshaw didn\\'t want to allow it for a whole host of reasons they gave,\" Bloomberg Intelligence ETF analyst James Seyffart wrote on X. \"Mainly [they] didn\\'t want brokers touching actual Bitcoin.\" BlackRock\\'s IBIT is the largest spot BTC ETF on the market, attracting nearly $40 billion of inflows in its first year, making it the most successful ETF debut ever. Sign in to access your portfolio',\n",
       "  '© 2025 - Privacy - Terms',\n",
       "  'We are experiencing some temporary issues. The market data on this page is currently delayed. Please bear with us as we address this and restore your personalized lists. Greenlight Capital, an investment management firm, released its fourth-quarter 2024 investor letter. A copy of the letter can be downloaded here. In 2024, the Greenlight Capital funds returned 7.2% net of fees and expenses, compared to 25.0% for the S&P 500 index. The Partnerships have returned 3,117% cumulatively or 12.9% annualized both net of fees and expenses, since its inception in May 1996. The S&P 500 index has returned 1,421% or 10.0% annualized, over the same period. Election uncertainty dominated 2024, and now that the election is over, it seems like there is more uncertainty than ever before. In addition, please check the fund’s top five holdings to know its best picks in 2024. Greenlight Capital highlighted stocks like MicroStrategy Incorporated (NASDAQ:MSTR), in the fourth quarter 2024 investor letter. MicroStrategy Incorporated (NASDAQ:MSTR) provides artificial intelligence-powered enterprise analytics software and services. The one-month return of MicroStrategy Incorporated (NASDAQ:MSTR) was 14.34%, and its shares gained 663.01% of their value over the last 52 weeks. On January 22, 2024, MicroStrategy Incorporated (NASDAQ:MSTR) stock closed at $377.31 per share with a market capitalization of $93.003 billion. Greenlight Capital stated the following regarding MicroStrategy Incorporated (NASDAQ:MSTR) in its Q4 2024 investor letter: \"There is an open debate as to whether Bitcoin will at some point enter the mainstream as an official currency. In fact, there is a bill before Congress for the U.S. to establish a \"Strategic Bitcoin Reserve\" and buy one million Bitcoins over five years. The bill’s purpose appears to be the use of public funds to ramp up the price of Bitcoin, thereby enhancing the wealth of existing Bitcoin holders. This seems a dubious use of taxpayer funds, but the new administration has a lot of Bitcoin-owning supporters, so it might happen. More likely, cooler heads will decide that the government should not borrow another trillion dollars in the bond market to speculate in Bitcoin and that there is, in fact, nothing strategic about',\n",
       "  'We are experiencing some temporary issues. The market data on this page is currently delayed. Please bear with us as we address this and restore your personalized lists. (Bloomberg) -- Bitcoin and other cryptocurrencies tumbled as the emergence of a new Chinese artificial intelligence model triggered a global selloff in riskier assets. Most Read from Bloomberg What Happened to Hanging Out on the Street? Vienna Embraces Heat Pumps to Ditch Russian Gas Billionaire Developer Caruso Slams LA Leadership Over Wildfires How Sanctuary Cities Are Preparing for Another Showdown With Trump Hoboken PATH Station Will Close for Almost a Month on Jan. 30 The original cryptoasset fell as much as 6.5% on Monday morning in London, the biggest intraday drop since Dec. 6. Smaller tokens suffered even deeper losses, with XRP sliding 9% and Solana down by a similar magnitude. The crypto declines mirrored weakness across most stock markets, with US technology futures down sharply. Crypto traders have so far shrugged off Donald Trump’s executive order to support the industry last week, shortly after he returned to the White House, with some arguing that prices already reflected the move. Concerns that Chinese startup DeepSeek’s AI model will hit tech valuations added to the risk-off mood in crypto on Monday. “The Chinese LLM poses a potential threat to US equity markets by disrupting US AI dominance with their cost efficiency and groundbreaking open-source technology,” QCP Asia said in a report on Monday, referring to so-called large language models. “Now the question is how will Trump retaliate?” The slump comes after the President on Friday ordered the creation of a working group to advise the White House on crypto policy in a long-awaited executive action. The group is tasked with proposing a regulatory framework for digital assets in the US within six months, while evaluating the creation of a crypto stockpile. The order stopped short of confirming that the US would establish a Bitcoin reserve — something Trump had vowed to do on the campaign trail. “Even though the market got 90% of what it wanted with the executive orders, it evidently was']}"
      ]
     },
     "execution_count": 19,
     "metadata": {},
     "output_type": "execute_result"
    }
   ],
   "source": [
    "articles = {ticker:scrape_and_process(cleaned_urls[ticker]) for ticker in monitored_tickers}\n",
    "articles"
   ]
  },
  {
   "cell_type": "code",
   "execution_count": 20,
   "metadata": {},
   "outputs": [
    {
     "data": {
      "text/plain": [
       "'We are experiencing some temporary issues. The market data on this page is currently delayed. Please bear with us as we address this and restore your personalized lists. We recently published a list of 15 Stocks ChatGPT Predicts Could Make You Wealthy in 10 Years. In this article, we are going to take a look at where Tesla, Inc. (NASDAQ:TSLA) stands against other stocks ChatGPT predicts could make you wealthy in 10 years. 2024 was a stellar year for the US markets, driven by a strong performance in the technology sector. The broader market expanded by more than 23% during the year, marking two consecutive years of over 20% growth—something that had not happened in nearly three decades. READ ALSO:\\xa010 Best Single Digit Stocks To Buy Now\\xa0and\\xa010 Under-the-Radar Stocks with Massive Upside for 2025. The stock market benefited from a resilient economy that avoided recession, declining interest rates, and waning inflation. Analysts are projecting continued growth in 2025 amid strong economic data and optimism about a business-friendly Trump administration returning to power. In a note on December 30, Wedbush Securities analyst, Dan Ives, wrote that he expects a 25% surge in tech stocks as the new government focuses on slashing unnecessary regulations. On the other hand, Todd Rosenbluth, the head of research at VettaFi, anticipates that ETFs specializing in small-caps will make gains as investors broaden their market exposure with interest rates dropping. While the general outlook for 2025 is encouraging, analysts are also cautious about the potential downsides of the new administration’s promised tariffs. Following his election victory, Trump has vowed to impose steep tariffs on imports from Canada, China, and Mexico, which could increase manufacturers’ costs. Ongoing geopolitical tensions in different parts of the world could also hurt the stock market. A growing number of investors are turning to ChatGPT for stock suggestions. According to a 2023 survey, around 53% of the Millenials and 50% of Generation Z respondents had used the AI chatbot for investing advice. In contrast, older Americans were skeptical of the recommendations, with only 25% of the Baby Boomers saying they had used ChatGPT'"
      ]
     },
     "execution_count": 20,
     "metadata": {},
     "output_type": "execute_result"
    }
   ],
   "source": [
    "articles['TSLA'][0]"
   ]
  },
  {
   "cell_type": "markdown",
   "metadata": {},
   "source": [
    "## 4.4. Summarise all Articles"
   ]
  },
  {
   "cell_type": "code",
   "execution_count": 21,
   "metadata": {},
   "outputs": [],
   "source": [
    "def summarize(articles):\n",
    "    summaries = []\n",
    "    max_input_length = 512  # Maximum sequence length for the model\n",
    "\n",
    "    for article in articles:\n",
    "        # Truncate the article if necessary\n",
    "        encoded_input = tokenizer.encode(article, max_length=max_input_length, truncation=True, return_tensors='pt')\n",
    "        \n",
    "        # Generate the summary\n",
    "        output = model.generate(encoded_input, max_length=55, num_beams=5, early_stopping=True)\n",
    "        summary = tokenizer.decode(output[0], skip_special_tokens=True)\n",
    "        summaries.append(summary)\n",
    "    \n",
    "    return summaries"
   ]
  },
  {
   "cell_type": "code",
   "execution_count": 22,
   "metadata": {},
   "outputs": [
    {
     "data": {
      "text/plain": [
       "\"def summarize(articles):\\n    summaries = []\\n    for article in articles:\\n        input_ids = tokenizer.encode(article, return_tensors='pt')\\n        output = model.generate(input_ids, max_length=55, num_beams=5, early_stopping=True)\\n        summary = tokenizer.decode(output[0], skip_special_tokens=True)\\n        summaries.append(summary)\\n    return summaries\""
      ]
     },
     "execution_count": 22,
     "metadata": {},
     "output_type": "execute_result"
    }
   ],
   "source": [
    "'''def summarize(articles):\n",
    "    summaries = []\n",
    "    for article in articles:\n",
    "        input_ids = tokenizer.encode(article, return_tensors='pt')\n",
    "        output = model.generate(input_ids, max_length=55, num_beams=5, early_stopping=True)\n",
    "        summary = tokenizer.decode(output[0], skip_special_tokens=True)\n",
    "        summaries.append(summary)\n",
    "    return summaries'''"
   ]
  },
  {
   "cell_type": "code",
   "execution_count": 23,
   "metadata": {},
   "outputs": [
    {
     "data": {
      "text/plain": [
       "{'GME': ['Video game retailer plans to close hundreds of stores in U.S., Australia.',\n",
       "  'Your information may be shared with third parties.',\n",
       "  'Consumer Discretionary sector has returned an average of 11.6% this year.',\n",
       "  'We are aware of the issue and are working to resolve it.',\n",
       "  'We are aware of the issue and are working to resolve it.',\n",
       "  'We are aware of the issue and are working to resolve it.',\n",
       "  'Video game retailer reported better-than-expected third-quarter results.',\n",
       "  'We are aware of the issue and are working to resolve it.',\n",
       "  'Video game retailer plans to close down over 100 stores in 2019.',\n",
       "  'We are aware of the issue and are working to resolve it.',\n",
       "  'We are aware of the issue and are working to resolve it.'],\n",
       " 'TSLA': ['Tesla stands against other stocks on list of 15 stocks. Analysts are expecting continued growth in 2025 amid strong economic data',\n",
       "  'Musk is most likely candidate to buy TikTok, says Wedbush. TikTok needs to find an American buyer or face a countrywide ban',\n",
       "  'President Trump’s pro-EV policies are a ‘game-changer,’ says Wedbush. Tesla’s valuation seen reaching $2 trillion by year-end',\n",
       "  'China’s DeepSeek-R1 model is a ‘breakthrough’ in the industry. Tesla’s self-driving car technology is in early testing',\n",
       "  'Wall Street expects lower borrowing costs to boost sales. Tesla to unveil lower-priced model in first half of 2025',\n",
       "  'Tesla stands against other best stocks to buy for high returns. Analysts at J.P. Morgan expect S&P 500 to be around 6,500 in 2025',\n",
       "  'Your information may be shared with third parties.',\n",
       "  'President Trump revokes predecessor’s pro-EV policy. Tesla has said it wouldn’t take a hit from the rollbacks',\n",
       "  \"Analysts set Tesla's 2025 price target at $650. Tesla has delivered 101% market returns in one year\",\n",
       "  'Tech giants Meta Platforms, Apple, Microsoft, Tesla are due to report.',\n",
       "  'We are aware of the issue and are working to resolve it.'],\n",
       " 'BTC': ['SoftBank tumbles; Tokyo Electron falls; Advantest tumbles. Chinese AI assistant becomes top-rated app on Apple Store',\n",
       "  'MicroStrategy acquired 11,000 BTC on Jan. 21 at an average price of $101,191 per coin.',\n",
       "  'Bitdeer, CleanSpark, Core Scientific given outperform ratings by KBW. Shares of Bitdeer, Core Scientific little changed on Monday',\n",
       "  'Bitcoin has failed to maintain a foothold above the December high.',\n",
       "  'We are aware of the issue and are working to resolve it.',\n",
       "  'Supply of short-term holders in loss drops to 65%. Bitcoin’s price has risen to $101,099 on CoinMarket',\n",
       "  'We are aware of the issue and are working to resolve it.',\n",
       "  'The proposed rule change would allow in-kind creation and redemption. Retail investors are not eligible to participate',\n",
       "  'Your information may be shared with third parties.',\n",
       "  'Greenlight Capital releases fourth-quarter 2024 investor letter. MicroStrategy returned 14.34% in one month, 663.01% in 52 weeks',\n",
       "  'Bitcoin tumbles as much as 6.5%, the most since Dec. 6; smaller tokens also fall.']}"
      ]
     },
     "execution_count": 23,
     "metadata": {},
     "output_type": "execute_result"
    }
   ],
   "source": [
    "summaries = {ticker:summarize(articles[ticker]) for ticker in monitored_tickers}\n",
    "summaries"
   ]
  },
  {
   "cell_type": "code",
   "execution_count": 24,
   "metadata": {},
   "outputs": [
    {
     "data": {
      "text/plain": [
       "['SoftBank tumbles; Tokyo Electron falls; Advantest tumbles. Chinese AI assistant becomes top-rated app on Apple Store',\n",
       " 'MicroStrategy acquired 11,000 BTC on Jan. 21 at an average price of $101,191 per coin.',\n",
       " 'Bitdeer, CleanSpark, Core Scientific given outperform ratings by KBW. Shares of Bitdeer, Core Scientific little changed on Monday',\n",
       " 'Bitcoin has failed to maintain a foothold above the December high.',\n",
       " 'We are aware of the issue and are working to resolve it.',\n",
       " 'Supply of short-term holders in loss drops to 65%. Bitcoin’s price has risen to $101,099 on CoinMarket',\n",
       " 'We are aware of the issue and are working to resolve it.',\n",
       " 'The proposed rule change would allow in-kind creation and redemption. Retail investors are not eligible to participate',\n",
       " 'Your information may be shared with third parties.',\n",
       " 'Greenlight Capital releases fourth-quarter 2024 investor letter. MicroStrategy returned 14.34% in one month, 663.01% in 52 weeks',\n",
       " 'Bitcoin tumbles as much as 6.5%, the most since Dec. 6; smaller tokens also fall.']"
      ]
     },
     "execution_count": 24,
     "metadata": {},
     "output_type": "execute_result"
    }
   ],
   "source": [
    "summaries['BTC']"
   ]
  },
  {
   "cell_type": "markdown",
   "metadata": {},
   "source": [
    "# 5. Adding Sentiment Analysis"
   ]
  },
  {
   "cell_type": "code",
   "execution_count": 25,
   "metadata": {},
   "outputs": [
    {
     "name": "stderr",
     "output_type": "stream",
     "text": [
      "Some weights of the model checkpoint at cardiffnlp/twitter-roberta-base-sentiment-latest were not used when initializing RobertaForSequenceClassification: ['roberta.pooler.dense.bias', 'roberta.pooler.dense.weight']\n",
      "- This IS expected if you are initializing RobertaForSequenceClassification from the checkpoint of a model trained on another task or with another architecture (e.g. initializing a BertForSequenceClassification model from a BertForPreTraining model).\n",
      "- This IS NOT expected if you are initializing RobertaForSequenceClassification from the checkpoint of a model that you expect to be exactly identical (initializing a BertForSequenceClassification model from a BertForSequenceClassification model).\n",
      "Hardware accelerator e.g. GPU is available in the environment, but no `device` argument is passed to the `Pipeline` object. Model will be on CPU.\n"
     ]
    }
   ],
   "source": [
    "from transformers import pipeline\n",
    "model_id = \"cardiffnlp/twitter-roberta-base-sentiment-latest\"\n",
    "\n",
    "sentiment = pipeline(\"sentiment-analysis\", model=model_id)\n",
    "#sentiment = pipeline('sentiment-analysis')"
   ]
  },
  {
   "cell_type": "code",
   "execution_count": 26,
   "metadata": {},
   "outputs": [
    {
     "data": {
      "text/plain": [
       "[{'label': 'neutral', 'score': 0.6020844578742981},\n",
       " {'label': 'neutral', 'score': 0.876939594745636},\n",
       " {'label': 'neutral', 'score': 0.6462451219558716},\n",
       " {'label': 'negative', 'score': 0.7771878242492676},\n",
       " {'label': 'neutral', 'score': 0.7725824117660522},\n",
       " {'label': 'neutral', 'score': 0.7576373815536499},\n",
       " {'label': 'neutral', 'score': 0.7725824117660522},\n",
       " {'label': 'negative', 'score': 0.5008041262626648},\n",
       " {'label': 'neutral', 'score': 0.9321518540382385},\n",
       " {'label': 'neutral', 'score': 0.637456476688385},\n",
       " {'label': 'negative', 'score': 0.8159453868865967}]"
      ]
     },
     "execution_count": 26,
     "metadata": {},
     "output_type": "execute_result"
    }
   ],
   "source": [
    "sentiment(summaries['BTC'])"
   ]
  },
  {
   "cell_type": "code",
   "execution_count": 27,
   "metadata": {},
   "outputs": [
    {
     "data": {
      "text/plain": [
       "{'GME': [{'label': 'negative', 'score': 0.5612890720367432},\n",
       "  {'label': 'neutral', 'score': 0.9321518540382385},\n",
       "  {'label': 'positive', 'score': 0.5528727173805237},\n",
       "  {'label': 'neutral', 'score': 0.7725824117660522},\n",
       "  {'label': 'neutral', 'score': 0.7725824117660522},\n",
       "  {'label': 'neutral', 'score': 0.7725824117660522},\n",
       "  {'label': 'positive', 'score': 0.939883291721344},\n",
       "  {'label': 'neutral', 'score': 0.7725824117660522},\n",
       "  {'label': 'negative', 'score': 0.5539353489875793},\n",
       "  {'label': 'neutral', 'score': 0.7725824117660522},\n",
       "  {'label': 'neutral', 'score': 0.7725824117660522}],\n",
       " 'TSLA': [{'label': 'positive', 'score': 0.8914781808853149},\n",
       "  {'label': 'neutral', 'score': 0.7599111199378967},\n",
       "  {'label': 'positive', 'score': 0.9157435894012451},\n",
       "  {'label': 'positive', 'score': 0.760628342628479},\n",
       "  {'label': 'positive', 'score': 0.7351009845733643},\n",
       "  {'label': 'positive', 'score': 0.861246645450592},\n",
       "  {'label': 'neutral', 'score': 0.9321518540382385},\n",
       "  {'label': 'neutral', 'score': 0.6731071472167969},\n",
       "  {'label': 'positive', 'score': 0.6543174982070923},\n",
       "  {'label': 'neutral', 'score': 0.677474319934845},\n",
       "  {'label': 'neutral', 'score': 0.7725824117660522}],\n",
       " 'BTC': [{'label': 'neutral', 'score': 0.6020844578742981},\n",
       "  {'label': 'neutral', 'score': 0.876939594745636},\n",
       "  {'label': 'neutral', 'score': 0.6462451219558716},\n",
       "  {'label': 'negative', 'score': 0.7771878242492676},\n",
       "  {'label': 'neutral', 'score': 0.7725824117660522},\n",
       "  {'label': 'neutral', 'score': 0.7576373815536499},\n",
       "  {'label': 'neutral', 'score': 0.7725824117660522},\n",
       "  {'label': 'negative', 'score': 0.5008041262626648},\n",
       "  {'label': 'neutral', 'score': 0.9321518540382385},\n",
       "  {'label': 'neutral', 'score': 0.637456476688385},\n",
       "  {'label': 'negative', 'score': 0.8159453868865967}]}"
      ]
     },
     "execution_count": 27,
     "metadata": {},
     "output_type": "execute_result"
    }
   ],
   "source": [
    "scores = {ticker:sentiment(summaries[ticker]) for ticker in monitored_tickers}\n",
    "scores"
   ]
  },
  {
   "cell_type": "code",
   "execution_count": 28,
   "metadata": {},
   "outputs": [
    {
     "name": "stdout",
     "output_type": "stream",
     "text": [
      "We are aware of the issue and are working to resolve it. neutral 0.7725824117660522\n"
     ]
    }
   ],
   "source": [
    "print(summaries['GME'][3], scores['GME'][3]['label'], scores['GME'][3]['score'])"
   ]
  },
  {
   "cell_type": "code",
   "execution_count": 29,
   "metadata": {},
   "outputs": [
    {
     "data": {
      "text/plain": [
       "0.6020844578742981"
      ]
     },
     "execution_count": 29,
     "metadata": {},
     "output_type": "execute_result"
    }
   ],
   "source": [
    "scores['BTC'][0]['score']"
   ]
  },
  {
   "cell_type": "markdown",
   "metadata": {},
   "source": [
    "# 6. Exporting Results to CSV"
   ]
  },
  {
   "cell_type": "code",
   "execution_count": 30,
   "metadata": {},
   "outputs": [
    {
     "data": {
      "text/plain": [
       "{'GME': ['Video game retailer plans to close hundreds of stores in U.S., Australia.',\n",
       "  'Your information may be shared with third parties.',\n",
       "  'Consumer Discretionary sector has returned an average of 11.6% this year.',\n",
       "  'We are aware of the issue and are working to resolve it.',\n",
       "  'We are aware of the issue and are working to resolve it.',\n",
       "  'We are aware of the issue and are working to resolve it.',\n",
       "  'Video game retailer reported better-than-expected third-quarter results.',\n",
       "  'We are aware of the issue and are working to resolve it.',\n",
       "  'Video game retailer plans to close down over 100 stores in 2019.',\n",
       "  'We are aware of the issue and are working to resolve it.',\n",
       "  'We are aware of the issue and are working to resolve it.'],\n",
       " 'TSLA': ['Tesla stands against other stocks on list of 15 stocks. Analysts are expecting continued growth in 2025 amid strong economic data',\n",
       "  'Musk is most likely candidate to buy TikTok, says Wedbush. TikTok needs to find an American buyer or face a countrywide ban',\n",
       "  'President Trump’s pro-EV policies are a ‘game-changer,’ says Wedbush. Tesla’s valuation seen reaching $2 trillion by year-end',\n",
       "  'China’s DeepSeek-R1 model is a ‘breakthrough’ in the industry. Tesla’s self-driving car technology is in early testing',\n",
       "  'Wall Street expects lower borrowing costs to boost sales. Tesla to unveil lower-priced model in first half of 2025',\n",
       "  'Tesla stands against other best stocks to buy for high returns. Analysts at J.P. Morgan expect S&P 500 to be around 6,500 in 2025',\n",
       "  'Your information may be shared with third parties.',\n",
       "  'President Trump revokes predecessor’s pro-EV policy. Tesla has said it wouldn’t take a hit from the rollbacks',\n",
       "  \"Analysts set Tesla's 2025 price target at $650. Tesla has delivered 101% market returns in one year\",\n",
       "  'Tech giants Meta Platforms, Apple, Microsoft, Tesla are due to report.',\n",
       "  'We are aware of the issue and are working to resolve it.'],\n",
       " 'BTC': ['SoftBank tumbles; Tokyo Electron falls; Advantest tumbles. Chinese AI assistant becomes top-rated app on Apple Store',\n",
       "  'MicroStrategy acquired 11,000 BTC on Jan. 21 at an average price of $101,191 per coin.',\n",
       "  'Bitdeer, CleanSpark, Core Scientific given outperform ratings by KBW. Shares of Bitdeer, Core Scientific little changed on Monday',\n",
       "  'Bitcoin has failed to maintain a foothold above the December high.',\n",
       "  'We are aware of the issue and are working to resolve it.',\n",
       "  'Supply of short-term holders in loss drops to 65%. Bitcoin’s price has risen to $101,099 on CoinMarket',\n",
       "  'We are aware of the issue and are working to resolve it.',\n",
       "  'The proposed rule change would allow in-kind creation and redemption. Retail investors are not eligible to participate',\n",
       "  'Your information may be shared with third parties.',\n",
       "  'Greenlight Capital releases fourth-quarter 2024 investor letter. MicroStrategy returned 14.34% in one month, 663.01% in 52 weeks',\n",
       "  'Bitcoin tumbles as much as 6.5%, the most since Dec. 6; smaller tokens also fall.']}"
      ]
     },
     "execution_count": 30,
     "metadata": {},
     "output_type": "execute_result"
    }
   ],
   "source": [
    "summaries"
   ]
  },
  {
   "cell_type": "code",
   "execution_count": 31,
   "metadata": {},
   "outputs": [
    {
     "data": {
      "text/plain": [
       "{'GME': [{'label': 'negative', 'score': 0.5612890720367432},\n",
       "  {'label': 'neutral', 'score': 0.9321518540382385},\n",
       "  {'label': 'positive', 'score': 0.5528727173805237},\n",
       "  {'label': 'neutral', 'score': 0.7725824117660522},\n",
       "  {'label': 'neutral', 'score': 0.7725824117660522},\n",
       "  {'label': 'neutral', 'score': 0.7725824117660522},\n",
       "  {'label': 'positive', 'score': 0.939883291721344},\n",
       "  {'label': 'neutral', 'score': 0.7725824117660522},\n",
       "  {'label': 'negative', 'score': 0.5539353489875793},\n",
       "  {'label': 'neutral', 'score': 0.7725824117660522},\n",
       "  {'label': 'neutral', 'score': 0.7725824117660522}],\n",
       " 'TSLA': [{'label': 'positive', 'score': 0.8914781808853149},\n",
       "  {'label': 'neutral', 'score': 0.7599111199378967},\n",
       "  {'label': 'positive', 'score': 0.9157435894012451},\n",
       "  {'label': 'positive', 'score': 0.760628342628479},\n",
       "  {'label': 'positive', 'score': 0.7351009845733643},\n",
       "  {'label': 'positive', 'score': 0.861246645450592},\n",
       "  {'label': 'neutral', 'score': 0.9321518540382385},\n",
       "  {'label': 'neutral', 'score': 0.6731071472167969},\n",
       "  {'label': 'positive', 'score': 0.6543174982070923},\n",
       "  {'label': 'neutral', 'score': 0.677474319934845},\n",
       "  {'label': 'neutral', 'score': 0.7725824117660522}],\n",
       " 'BTC': [{'label': 'neutral', 'score': 0.6020844578742981},\n",
       "  {'label': 'neutral', 'score': 0.876939594745636},\n",
       "  {'label': 'neutral', 'score': 0.6462451219558716},\n",
       "  {'label': 'negative', 'score': 0.7771878242492676},\n",
       "  {'label': 'neutral', 'score': 0.7725824117660522},\n",
       "  {'label': 'neutral', 'score': 0.7576373815536499},\n",
       "  {'label': 'neutral', 'score': 0.7725824117660522},\n",
       "  {'label': 'negative', 'score': 0.5008041262626648},\n",
       "  {'label': 'neutral', 'score': 0.9321518540382385},\n",
       "  {'label': 'neutral', 'score': 0.637456476688385},\n",
       "  {'label': 'negative', 'score': 0.8159453868865967}]}"
      ]
     },
     "execution_count": 31,
     "metadata": {},
     "output_type": "execute_result"
    }
   ],
   "source": [
    "scores"
   ]
  },
  {
   "cell_type": "code",
   "execution_count": 32,
   "metadata": {},
   "outputs": [
    {
     "data": {
      "text/plain": [
       "{'GME': ['https://finance.yahoo.com/news/why-gamestop-corp-gme-crashed-055747341.html',\n",
       "  'https://www.google.com/search?q%3Dyahoo%2Bfinance%2BGME%26tbm%3Dnws%26pccc%3D1',\n",
       "  'https://finance.yahoo.com/news/consumer-discretionary-stocks-lagging-gamestop-144012488.html',\n",
       "  'https://finance.yahoo.com/news/healthy-balance-sheet-won-t-193646025.html',\n",
       "  'https://finance.yahoo.com/news/heres-why-gamestop-gme-fell-224520124.html',\n",
       "  'https://finance.yahoo.com/news/gamestop-gme-falls-more-steeply-224520779.html',\n",
       "  'https://finance.yahoo.com/news/why-gamestop-gme-13-8-163011734.html',\n",
       "  'https://finance.yahoo.com/news/why-gamestop-gme-stock-down-162604744.html',\n",
       "  'https://finance.yahoo.com/news/why-gme-bce-slumping-today-185804276.html',\n",
       "  'https://finance.yahoo.com/news/gamestop-gme-gains-market-dips-224505608.html',\n",
       "  'https://finance.yahoo.com/news/gamestop-gme-registers-bigger-fall-214521016.html'],\n",
       " 'TSLA': ['https://finance.yahoo.com/news/tesla-tsla-among-stocks-chatgpt-221105346.html',\n",
       "  'https://finance.yahoo.com/news/tesla-stock-jumps-amid-speculation-musk-could-buy-tiktok-191001660.html',\n",
       "  'https://finance.yahoo.com/news/teslas-future-under-president-trump-weight-ai-potential-against-slowing-ev-demand-150331648.html',\n",
       "  'https://finance.yahoo.com/news/analyst-says-tesla-tsla-facing-165729425.html',\n",
       "  'https://uk.finance.yahoo.com/news/tesla-investors-pin-hopes-cheaper-112330018.html',\n",
       "  'https://finance.yahoo.com/news/tesla-tsla-best-stock-buy-115413754.html',\n",
       "  'https://www.google.com/search?q%3Dyahoo%2Bfinance%2BTSLA%26tbm%3Dnws%26pccc%3D1',\n",
       "  'https://finance.yahoo.com/news/tesla-stock-falls-as-trump-ends-ev-mandate-looks-to-eliminate-subsidies-152217391.html',\n",
       "  'https://finance.yahoo.com/news/tesla-set-strong-2025-550-171702300.html',\n",
       "  'https://finance.yahoo.com/news/p-futures-slip-meta-microsoft-080635465.html',\n",
       "  'https://finance.yahoo.com/video/tesla-earnings-kick-off-massive-180000390.html'],\n",
       " 'BTC': ['https://finance.yahoo.com/news/chinas-deepseek-sets-off-ai-071458375.html',\n",
       "  'https://finance.yahoo.com/news/microstrategy-plans-bitcoin-purchase-btc-080120946.html',\n",
       "  'https://finance.yahoo.com/news/bitcoin-miners-bitdeer-cleanspark-core-092435548.html',\n",
       "  'https://sg.finance.yahoo.com/news/bitcoin-may-double-topping-price-065246984.html',\n",
       "  'https://finance.yahoo.com/video/why-banks-now-green-light-215347775.html',\n",
       "  'https://finance.yahoo.com/news/bitcoin-short-term-holders-speculative-074451751.html',\n",
       "  'https://finance.yahoo.com/video/blackrocks-chaudhuri-growing-appeal-gold-150001002.html',\n",
       "  'https://finance.yahoo.com/news/nasdaq-files-kind-redemptions-blackrock-214733982.html',\n",
       "  'https://www.google.com/search?q%3Dyahoo%2Bfinance%2BBTC%26tbm%3Dnws%26pccc%3D1',\n",
       "  'https://finance.yahoo.com/news/greenlight-capital-thoughts-bitcoin-microstrategy-142536485.html',\n",
       "  'https://finance.yahoo.com/news/bitcoin-slips-traders-profits-trump-032048830.html']}"
      ]
     },
     "execution_count": 32,
     "metadata": {},
     "output_type": "execute_result"
    }
   ],
   "source": [
    "cleaned_urls"
   ]
  },
  {
   "cell_type": "code",
   "execution_count": 33,
   "metadata": {},
   "outputs": [
    {
     "data": {
      "text/plain": [
       "range(0, 11)"
      ]
     },
     "execution_count": 33,
     "metadata": {},
     "output_type": "execute_result"
    }
   ],
   "source": [
    "range(len(summaries['GME']))"
   ]
  },
  {
   "cell_type": "code",
   "execution_count": 34,
   "metadata": {},
   "outputs": [
    {
     "data": {
      "text/plain": [
       "'We are aware of the issue and are working to resolve it.'"
      ]
     },
     "execution_count": 34,
     "metadata": {},
     "output_type": "execute_result"
    }
   ],
   "source": [
    "summaries['GME'][3]"
   ]
  },
  {
   "cell_type": "code",
   "execution_count": 36,
   "metadata": {},
   "outputs": [],
   "source": [
    "def create_output_array(summaries, scores, urls):\n",
    "    output = []\n",
    "    for ticker in monitored_tickers:\n",
    "        for counter in range(len(summaries[ticker])):\n",
    "            output_this = [\n",
    "                ticker,\n",
    "                summaries[ticker][counter],\n",
    "                scores[ticker][counter]['label'],\n",
    "                scores[ticker][counter]['score'],\n",
    "                urls[ticker][counter]\n",
    "            ]\n",
    "            output.append(output_this)\n",
    "    return output"
   ]
  },
  {
   "cell_type": "code",
   "execution_count": 37,
   "metadata": {},
   "outputs": [
    {
     "data": {
      "text/plain": [
       "[['GME',\n",
       "  'Video game retailer plans to close hundreds of stores in U.S., Australia.',\n",
       "  'negative',\n",
       "  0.5612890720367432,\n",
       "  'https://finance.yahoo.com/news/why-gamestop-corp-gme-crashed-055747341.html'],\n",
       " ['GME',\n",
       "  'Your information may be shared with third parties.',\n",
       "  'neutral',\n",
       "  0.9321518540382385,\n",
       "  'https://www.google.com/search?q%3Dyahoo%2Bfinance%2BGME%26tbm%3Dnws%26pccc%3D1'],\n",
       " ['GME',\n",
       "  'Consumer Discretionary sector has returned an average of 11.6% this year.',\n",
       "  'positive',\n",
       "  0.5528727173805237,\n",
       "  'https://finance.yahoo.com/news/consumer-discretionary-stocks-lagging-gamestop-144012488.html'],\n",
       " ['GME',\n",
       "  'We are aware of the issue and are working to resolve it.',\n",
       "  'neutral',\n",
       "  0.7725824117660522,\n",
       "  'https://finance.yahoo.com/news/healthy-balance-sheet-won-t-193646025.html'],\n",
       " ['GME',\n",
       "  'We are aware of the issue and are working to resolve it.',\n",
       "  'neutral',\n",
       "  0.7725824117660522,\n",
       "  'https://finance.yahoo.com/news/heres-why-gamestop-gme-fell-224520124.html'],\n",
       " ['GME',\n",
       "  'We are aware of the issue and are working to resolve it.',\n",
       "  'neutral',\n",
       "  0.7725824117660522,\n",
       "  'https://finance.yahoo.com/news/gamestop-gme-falls-more-steeply-224520779.html'],\n",
       " ['GME',\n",
       "  'Video game retailer reported better-than-expected third-quarter results.',\n",
       "  'positive',\n",
       "  0.939883291721344,\n",
       "  'https://finance.yahoo.com/news/why-gamestop-gme-13-8-163011734.html'],\n",
       " ['GME',\n",
       "  'We are aware of the issue and are working to resolve it.',\n",
       "  'neutral',\n",
       "  0.7725824117660522,\n",
       "  'https://finance.yahoo.com/news/why-gamestop-gme-stock-down-162604744.html'],\n",
       " ['GME',\n",
       "  'Video game retailer plans to close down over 100 stores in 2019.',\n",
       "  'negative',\n",
       "  0.5539353489875793,\n",
       "  'https://finance.yahoo.com/news/why-gme-bce-slumping-today-185804276.html'],\n",
       " ['GME',\n",
       "  'We are aware of the issue and are working to resolve it.',\n",
       "  'neutral',\n",
       "  0.7725824117660522,\n",
       "  'https://finance.yahoo.com/news/gamestop-gme-gains-market-dips-224505608.html'],\n",
       " ['GME',\n",
       "  'We are aware of the issue and are working to resolve it.',\n",
       "  'neutral',\n",
       "  0.7725824117660522,\n",
       "  'https://finance.yahoo.com/news/gamestop-gme-registers-bigger-fall-214521016.html'],\n",
       " ['TSLA',\n",
       "  'Tesla stands against other stocks on list of 15 stocks. Analysts are expecting continued growth in 2025 amid strong economic data',\n",
       "  'positive',\n",
       "  0.8914781808853149,\n",
       "  'https://finance.yahoo.com/news/tesla-tsla-among-stocks-chatgpt-221105346.html'],\n",
       " ['TSLA',\n",
       "  'Musk is most likely candidate to buy TikTok, says Wedbush. TikTok needs to find an American buyer or face a countrywide ban',\n",
       "  'neutral',\n",
       "  0.7599111199378967,\n",
       "  'https://finance.yahoo.com/news/tesla-stock-jumps-amid-speculation-musk-could-buy-tiktok-191001660.html'],\n",
       " ['TSLA',\n",
       "  'President Trump’s pro-EV policies are a ‘game-changer,’ says Wedbush. Tesla’s valuation seen reaching $2 trillion by year-end',\n",
       "  'positive',\n",
       "  0.9157435894012451,\n",
       "  'https://finance.yahoo.com/news/teslas-future-under-president-trump-weight-ai-potential-against-slowing-ev-demand-150331648.html'],\n",
       " ['TSLA',\n",
       "  'China’s DeepSeek-R1 model is a ‘breakthrough’ in the industry. Tesla’s self-driving car technology is in early testing',\n",
       "  'positive',\n",
       "  0.760628342628479,\n",
       "  'https://finance.yahoo.com/news/analyst-says-tesla-tsla-facing-165729425.html'],\n",
       " ['TSLA',\n",
       "  'Wall Street expects lower borrowing costs to boost sales. Tesla to unveil lower-priced model in first half of 2025',\n",
       "  'positive',\n",
       "  0.7351009845733643,\n",
       "  'https://uk.finance.yahoo.com/news/tesla-investors-pin-hopes-cheaper-112330018.html'],\n",
       " ['TSLA',\n",
       "  'Tesla stands against other best stocks to buy for high returns. Analysts at J.P. Morgan expect S&P 500 to be around 6,500 in 2025',\n",
       "  'positive',\n",
       "  0.861246645450592,\n",
       "  'https://finance.yahoo.com/news/tesla-tsla-best-stock-buy-115413754.html'],\n",
       " ['TSLA',\n",
       "  'Your information may be shared with third parties.',\n",
       "  'neutral',\n",
       "  0.9321518540382385,\n",
       "  'https://www.google.com/search?q%3Dyahoo%2Bfinance%2BTSLA%26tbm%3Dnws%26pccc%3D1'],\n",
       " ['TSLA',\n",
       "  'President Trump revokes predecessor’s pro-EV policy. Tesla has said it wouldn’t take a hit from the rollbacks',\n",
       "  'neutral',\n",
       "  0.6731071472167969,\n",
       "  'https://finance.yahoo.com/news/tesla-stock-falls-as-trump-ends-ev-mandate-looks-to-eliminate-subsidies-152217391.html'],\n",
       " ['TSLA',\n",
       "  \"Analysts set Tesla's 2025 price target at $650. Tesla has delivered 101% market returns in one year\",\n",
       "  'positive',\n",
       "  0.6543174982070923,\n",
       "  'https://finance.yahoo.com/news/tesla-set-strong-2025-550-171702300.html'],\n",
       " ['TSLA',\n",
       "  'Tech giants Meta Platforms, Apple, Microsoft, Tesla are due to report.',\n",
       "  'neutral',\n",
       "  0.677474319934845,\n",
       "  'https://finance.yahoo.com/news/p-futures-slip-meta-microsoft-080635465.html'],\n",
       " ['TSLA',\n",
       "  'We are aware of the issue and are working to resolve it.',\n",
       "  'neutral',\n",
       "  0.7725824117660522,\n",
       "  'https://finance.yahoo.com/video/tesla-earnings-kick-off-massive-180000390.html'],\n",
       " ['BTC',\n",
       "  'SoftBank tumbles; Tokyo Electron falls; Advantest tumbles. Chinese AI assistant becomes top-rated app on Apple Store',\n",
       "  'neutral',\n",
       "  0.6020844578742981,\n",
       "  'https://finance.yahoo.com/news/chinas-deepseek-sets-off-ai-071458375.html'],\n",
       " ['BTC',\n",
       "  'MicroStrategy acquired 11,000 BTC on Jan. 21 at an average price of $101,191 per coin.',\n",
       "  'neutral',\n",
       "  0.876939594745636,\n",
       "  'https://finance.yahoo.com/news/microstrategy-plans-bitcoin-purchase-btc-080120946.html'],\n",
       " ['BTC',\n",
       "  'Bitdeer, CleanSpark, Core Scientific given outperform ratings by KBW. Shares of Bitdeer, Core Scientific little changed on Monday',\n",
       "  'neutral',\n",
       "  0.6462451219558716,\n",
       "  'https://finance.yahoo.com/news/bitcoin-miners-bitdeer-cleanspark-core-092435548.html'],\n",
       " ['BTC',\n",
       "  'Bitcoin has failed to maintain a foothold above the December high.',\n",
       "  'negative',\n",
       "  0.7771878242492676,\n",
       "  'https://sg.finance.yahoo.com/news/bitcoin-may-double-topping-price-065246984.html'],\n",
       " ['BTC',\n",
       "  'We are aware of the issue and are working to resolve it.',\n",
       "  'neutral',\n",
       "  0.7725824117660522,\n",
       "  'https://finance.yahoo.com/video/why-banks-now-green-light-215347775.html'],\n",
       " ['BTC',\n",
       "  'Supply of short-term holders in loss drops to 65%. Bitcoin’s price has risen to $101,099 on CoinMarket',\n",
       "  'neutral',\n",
       "  0.7576373815536499,\n",
       "  'https://finance.yahoo.com/news/bitcoin-short-term-holders-speculative-074451751.html'],\n",
       " ['BTC',\n",
       "  'We are aware of the issue and are working to resolve it.',\n",
       "  'neutral',\n",
       "  0.7725824117660522,\n",
       "  'https://finance.yahoo.com/video/blackrocks-chaudhuri-growing-appeal-gold-150001002.html'],\n",
       " ['BTC',\n",
       "  'The proposed rule change would allow in-kind creation and redemption. Retail investors are not eligible to participate',\n",
       "  'negative',\n",
       "  0.5008041262626648,\n",
       "  'https://finance.yahoo.com/news/nasdaq-files-kind-redemptions-blackrock-214733982.html'],\n",
       " ['BTC',\n",
       "  'Your information may be shared with third parties.',\n",
       "  'neutral',\n",
       "  0.9321518540382385,\n",
       "  'https://www.google.com/search?q%3Dyahoo%2Bfinance%2BBTC%26tbm%3Dnws%26pccc%3D1'],\n",
       " ['BTC',\n",
       "  'Greenlight Capital releases fourth-quarter 2024 investor letter. MicroStrategy returned 14.34% in one month, 663.01% in 52 weeks',\n",
       "  'neutral',\n",
       "  0.637456476688385,\n",
       "  'https://finance.yahoo.com/news/greenlight-capital-thoughts-bitcoin-microstrategy-142536485.html'],\n",
       " ['BTC',\n",
       "  'Bitcoin tumbles as much as 6.5%, the most since Dec. 6; smaller tokens also fall.',\n",
       "  'negative',\n",
       "  0.8159453868865967,\n",
       "  'https://finance.yahoo.com/news/bitcoin-slips-traders-profits-trump-032048830.html']]"
      ]
     },
     "execution_count": 37,
     "metadata": {},
     "output_type": "execute_result"
    }
   ],
   "source": [
    "final_output = create_output_array(summaries, scores, cleaned_urls)\n",
    "final_output"
   ]
  },
  {
   "cell_type": "code",
   "execution_count": 38,
   "metadata": {},
   "outputs": [],
   "source": [
    "final_output.insert(0, ['Ticker', 'Summary', 'Label', 'Confidence', 'URL'])"
   ]
  },
  {
   "cell_type": "code",
   "execution_count": 39,
   "metadata": {},
   "outputs": [
    {
     "data": {
      "text/plain": [
       "[['Ticker', 'Summary', 'Label', 'Confidence', 'URL'],\n",
       " ['GME',\n",
       "  'Video game retailer plans to close hundreds of stores in U.S., Australia.',\n",
       "  'negative',\n",
       "  0.5612890720367432,\n",
       "  'https://finance.yahoo.com/news/why-gamestop-corp-gme-crashed-055747341.html'],\n",
       " ['GME',\n",
       "  'Your information may be shared with third parties.',\n",
       "  'neutral',\n",
       "  0.9321518540382385,\n",
       "  'https://www.google.com/search?q%3Dyahoo%2Bfinance%2BGME%26tbm%3Dnws%26pccc%3D1'],\n",
       " ['GME',\n",
       "  'Consumer Discretionary sector has returned an average of 11.6% this year.',\n",
       "  'positive',\n",
       "  0.5528727173805237,\n",
       "  'https://finance.yahoo.com/news/consumer-discretionary-stocks-lagging-gamestop-144012488.html'],\n",
       " ['GME',\n",
       "  'We are aware of the issue and are working to resolve it.',\n",
       "  'neutral',\n",
       "  0.7725824117660522,\n",
       "  'https://finance.yahoo.com/news/healthy-balance-sheet-won-t-193646025.html'],\n",
       " ['GME',\n",
       "  'We are aware of the issue and are working to resolve it.',\n",
       "  'neutral',\n",
       "  0.7725824117660522,\n",
       "  'https://finance.yahoo.com/news/heres-why-gamestop-gme-fell-224520124.html'],\n",
       " ['GME',\n",
       "  'We are aware of the issue and are working to resolve it.',\n",
       "  'neutral',\n",
       "  0.7725824117660522,\n",
       "  'https://finance.yahoo.com/news/gamestop-gme-falls-more-steeply-224520779.html'],\n",
       " ['GME',\n",
       "  'Video game retailer reported better-than-expected third-quarter results.',\n",
       "  'positive',\n",
       "  0.939883291721344,\n",
       "  'https://finance.yahoo.com/news/why-gamestop-gme-13-8-163011734.html'],\n",
       " ['GME',\n",
       "  'We are aware of the issue and are working to resolve it.',\n",
       "  'neutral',\n",
       "  0.7725824117660522,\n",
       "  'https://finance.yahoo.com/news/why-gamestop-gme-stock-down-162604744.html'],\n",
       " ['GME',\n",
       "  'Video game retailer plans to close down over 100 stores in 2019.',\n",
       "  'negative',\n",
       "  0.5539353489875793,\n",
       "  'https://finance.yahoo.com/news/why-gme-bce-slumping-today-185804276.html'],\n",
       " ['GME',\n",
       "  'We are aware of the issue and are working to resolve it.',\n",
       "  'neutral',\n",
       "  0.7725824117660522,\n",
       "  'https://finance.yahoo.com/news/gamestop-gme-gains-market-dips-224505608.html'],\n",
       " ['GME',\n",
       "  'We are aware of the issue and are working to resolve it.',\n",
       "  'neutral',\n",
       "  0.7725824117660522,\n",
       "  'https://finance.yahoo.com/news/gamestop-gme-registers-bigger-fall-214521016.html'],\n",
       " ['TSLA',\n",
       "  'Tesla stands against other stocks on list of 15 stocks. Analysts are expecting continued growth in 2025 amid strong economic data',\n",
       "  'positive',\n",
       "  0.8914781808853149,\n",
       "  'https://finance.yahoo.com/news/tesla-tsla-among-stocks-chatgpt-221105346.html'],\n",
       " ['TSLA',\n",
       "  'Musk is most likely candidate to buy TikTok, says Wedbush. TikTok needs to find an American buyer or face a countrywide ban',\n",
       "  'neutral',\n",
       "  0.7599111199378967,\n",
       "  'https://finance.yahoo.com/news/tesla-stock-jumps-amid-speculation-musk-could-buy-tiktok-191001660.html'],\n",
       " ['TSLA',\n",
       "  'President Trump’s pro-EV policies are a ‘game-changer,’ says Wedbush. Tesla’s valuation seen reaching $2 trillion by year-end',\n",
       "  'positive',\n",
       "  0.9157435894012451,\n",
       "  'https://finance.yahoo.com/news/teslas-future-under-president-trump-weight-ai-potential-against-slowing-ev-demand-150331648.html'],\n",
       " ['TSLA',\n",
       "  'China’s DeepSeek-R1 model is a ‘breakthrough’ in the industry. Tesla’s self-driving car technology is in early testing',\n",
       "  'positive',\n",
       "  0.760628342628479,\n",
       "  'https://finance.yahoo.com/news/analyst-says-tesla-tsla-facing-165729425.html'],\n",
       " ['TSLA',\n",
       "  'Wall Street expects lower borrowing costs to boost sales. Tesla to unveil lower-priced model in first half of 2025',\n",
       "  'positive',\n",
       "  0.7351009845733643,\n",
       "  'https://uk.finance.yahoo.com/news/tesla-investors-pin-hopes-cheaper-112330018.html'],\n",
       " ['TSLA',\n",
       "  'Tesla stands against other best stocks to buy for high returns. Analysts at J.P. Morgan expect S&P 500 to be around 6,500 in 2025',\n",
       "  'positive',\n",
       "  0.861246645450592,\n",
       "  'https://finance.yahoo.com/news/tesla-tsla-best-stock-buy-115413754.html'],\n",
       " ['TSLA',\n",
       "  'Your information may be shared with third parties.',\n",
       "  'neutral',\n",
       "  0.9321518540382385,\n",
       "  'https://www.google.com/search?q%3Dyahoo%2Bfinance%2BTSLA%26tbm%3Dnws%26pccc%3D1'],\n",
       " ['TSLA',\n",
       "  'President Trump revokes predecessor’s pro-EV policy. Tesla has said it wouldn’t take a hit from the rollbacks',\n",
       "  'neutral',\n",
       "  0.6731071472167969,\n",
       "  'https://finance.yahoo.com/news/tesla-stock-falls-as-trump-ends-ev-mandate-looks-to-eliminate-subsidies-152217391.html'],\n",
       " ['TSLA',\n",
       "  \"Analysts set Tesla's 2025 price target at $650. Tesla has delivered 101% market returns in one year\",\n",
       "  'positive',\n",
       "  0.6543174982070923,\n",
       "  'https://finance.yahoo.com/news/tesla-set-strong-2025-550-171702300.html'],\n",
       " ['TSLA',\n",
       "  'Tech giants Meta Platforms, Apple, Microsoft, Tesla are due to report.',\n",
       "  'neutral',\n",
       "  0.677474319934845,\n",
       "  'https://finance.yahoo.com/news/p-futures-slip-meta-microsoft-080635465.html'],\n",
       " ['TSLA',\n",
       "  'We are aware of the issue and are working to resolve it.',\n",
       "  'neutral',\n",
       "  0.7725824117660522,\n",
       "  'https://finance.yahoo.com/video/tesla-earnings-kick-off-massive-180000390.html'],\n",
       " ['BTC',\n",
       "  'SoftBank tumbles; Tokyo Electron falls; Advantest tumbles. Chinese AI assistant becomes top-rated app on Apple Store',\n",
       "  'neutral',\n",
       "  0.6020844578742981,\n",
       "  'https://finance.yahoo.com/news/chinas-deepseek-sets-off-ai-071458375.html'],\n",
       " ['BTC',\n",
       "  'MicroStrategy acquired 11,000 BTC on Jan. 21 at an average price of $101,191 per coin.',\n",
       "  'neutral',\n",
       "  0.876939594745636,\n",
       "  'https://finance.yahoo.com/news/microstrategy-plans-bitcoin-purchase-btc-080120946.html'],\n",
       " ['BTC',\n",
       "  'Bitdeer, CleanSpark, Core Scientific given outperform ratings by KBW. Shares of Bitdeer, Core Scientific little changed on Monday',\n",
       "  'neutral',\n",
       "  0.6462451219558716,\n",
       "  'https://finance.yahoo.com/news/bitcoin-miners-bitdeer-cleanspark-core-092435548.html'],\n",
       " ['BTC',\n",
       "  'Bitcoin has failed to maintain a foothold above the December high.',\n",
       "  'negative',\n",
       "  0.7771878242492676,\n",
       "  'https://sg.finance.yahoo.com/news/bitcoin-may-double-topping-price-065246984.html'],\n",
       " ['BTC',\n",
       "  'We are aware of the issue and are working to resolve it.',\n",
       "  'neutral',\n",
       "  0.7725824117660522,\n",
       "  'https://finance.yahoo.com/video/why-banks-now-green-light-215347775.html'],\n",
       " ['BTC',\n",
       "  'Supply of short-term holders in loss drops to 65%. Bitcoin’s price has risen to $101,099 on CoinMarket',\n",
       "  'neutral',\n",
       "  0.7576373815536499,\n",
       "  'https://finance.yahoo.com/news/bitcoin-short-term-holders-speculative-074451751.html'],\n",
       " ['BTC',\n",
       "  'We are aware of the issue and are working to resolve it.',\n",
       "  'neutral',\n",
       "  0.7725824117660522,\n",
       "  'https://finance.yahoo.com/video/blackrocks-chaudhuri-growing-appeal-gold-150001002.html'],\n",
       " ['BTC',\n",
       "  'The proposed rule change would allow in-kind creation and redemption. Retail investors are not eligible to participate',\n",
       "  'negative',\n",
       "  0.5008041262626648,\n",
       "  'https://finance.yahoo.com/news/nasdaq-files-kind-redemptions-blackrock-214733982.html'],\n",
       " ['BTC',\n",
       "  'Your information may be shared with third parties.',\n",
       "  'neutral',\n",
       "  0.9321518540382385,\n",
       "  'https://www.google.com/search?q%3Dyahoo%2Bfinance%2BBTC%26tbm%3Dnws%26pccc%3D1'],\n",
       " ['BTC',\n",
       "  'Greenlight Capital releases fourth-quarter 2024 investor letter. MicroStrategy returned 14.34% in one month, 663.01% in 52 weeks',\n",
       "  'neutral',\n",
       "  0.637456476688385,\n",
       "  'https://finance.yahoo.com/news/greenlight-capital-thoughts-bitcoin-microstrategy-142536485.html'],\n",
       " ['BTC',\n",
       "  'Bitcoin tumbles as much as 6.5%, the most since Dec. 6; smaller tokens also fall.',\n",
       "  'negative',\n",
       "  0.8159453868865967,\n",
       "  'https://finance.yahoo.com/news/bitcoin-slips-traders-profits-trump-032048830.html']]"
      ]
     },
     "execution_count": 39,
     "metadata": {},
     "output_type": "execute_result"
    }
   ],
   "source": [
    "final_output"
   ]
  },
  {
   "cell_type": "code",
   "execution_count": 40,
   "metadata": {},
   "outputs": [],
   "source": [
    "import csv\n",
    "with open('yelobhai.csv', mode='w', newline='') as f:\n",
    "    csv_writer = csv.writer(f, delimiter=',', quotechar='\"', quoting=csv.QUOTE_MINIMAL)\n",
    "    csv_writer.writerows(final_output)"
   ]
  },
  {
   "cell_type": "code",
   "execution_count": null,
   "metadata": {},
   "outputs": [],
   "source": []
  },
  {
   "cell_type": "code",
   "execution_count": null,
   "metadata": {},
   "outputs": [],
   "source": []
  },
  {
   "cell_type": "code",
   "execution_count": null,
   "metadata": {},
   "outputs": [],
   "source": []
  }
 ],
 "metadata": {
  "kernelspec": {
   "display_name": "Python 3 (ipykernel)",
   "language": "python",
   "name": "python3"
  },
  "language_info": {
   "codemirror_mode": {
    "name": "ipython",
    "version": 3
   },
   "file_extension": ".py",
   "mimetype": "text/x-python",
   "name": "python",
   "nbconvert_exporter": "python",
   "pygments_lexer": "ipython3",
   "version": "3.11.3"
  }
 },
 "nbformat": 4,
 "nbformat_minor": 4
}
