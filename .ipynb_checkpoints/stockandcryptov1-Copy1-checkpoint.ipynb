{
 "cells": [
  {
   "cell_type": "markdown",
   "metadata": {},
   "source": [
    "# 1. Install and Import Baseline Dependencies"
   ]
  },
  {
   "cell_type": "code",
   "execution_count": null,
   "metadata": {},
   "outputs": [],
   "source": [
    "!pip list"
   ]
  },
  {
   "cell_type": "code",
   "execution_count": 1,
   "metadata": {},
   "outputs": [
    {
     "name": "stdout",
     "output_type": "stream",
     "text": [
      "fatal: destination path 'transformers' already exists and is not an empty directory.\n",
      "Obtaining file:///Users/yash/Library/Stock-and-Crypto-News-ScrapingSummarizationSentiment-main\n",
      "\u001b[31mERROR: file:///Users/yash/Library/Stock-and-Crypto-News-ScrapingSummarizationSentiment-main does not appear to be a Python project: neither 'setup.py' nor 'pyproject.toml' found.\u001b[0m\u001b[31m\n",
      "\u001b[0m"
     ]
    }
   ],
   "source": [
    "!pip install transformers\n",
    "!pip install torch"
   ]
  },
  {
   "cell_type": "code",
   "execution_count": 1,
   "metadata": {},
   "outputs": [
    {
     "name": "stdout",
     "output_type": "stream",
     "text": [
      "Collecting Transformers\n",
      "  Downloading transformers-4.46.3-py3-none-any.whl.metadata (44 kB)\n",
      "\u001b[2K     \u001b[38;2;114;156;31m━━━━━━━━━━━━━━━━━━━━━━━━━━━━━━━━━━━━━━━\u001b[0m \u001b[32m44.1/44.1 kB\u001b[0m \u001b[31m632.1 kB/s\u001b[0m eta \u001b[36m0:00:00\u001b[0m kB/s\u001b[0m eta \u001b[36m0:00:01\u001b[0m\n",
      "\u001b[?25hRequirement already satisfied: filelock in /Library/Frameworks/Python.framework/Versions/3.11/lib/python3.11/site-packages (from Transformers) (3.16.1)\n",
      "Collecting huggingface-hub<1.0,>=0.23.2 (from Transformers)\n",
      "  Downloading huggingface_hub-0.26.3-py3-none-any.whl.metadata (13 kB)\n",
      "Requirement already satisfied: numpy>=1.17 in /Library/Frameworks/Python.framework/Versions/3.11/lib/python3.11/site-packages (from Transformers) (1.25.2)\n",
      "Requirement already satisfied: packaging>=20.0 in /Library/Frameworks/Python.framework/Versions/3.11/lib/python3.11/site-packages (from Transformers) (23.1)\n",
      "Requirement already satisfied: pyyaml>=5.1 in /Library/Frameworks/Python.framework/Versions/3.11/lib/python3.11/site-packages (from Transformers) (6.0)\n",
      "Collecting regex!=2019.12.17 (from Transformers)\n",
      "  Using cached regex-2024.11.6-cp311-cp311-macosx_11_0_arm64.whl.metadata (40 kB)\n",
      "Requirement already satisfied: requests in /Library/Frameworks/Python.framework/Versions/3.11/lib/python3.11/site-packages (from Transformers) (2.31.0)\n",
      "Collecting tokenizers<0.21,>=0.20 (from Transformers)\n",
      "  Downloading tokenizers-0.20.3-cp311-cp311-macosx_11_0_arm64.whl.metadata (6.7 kB)\n",
      "Collecting safetensors>=0.4.1 (from Transformers)\n",
      "  Downloading safetensors-0.4.5-cp311-cp311-macosx_11_0_arm64.whl.metadata (3.8 kB)\n",
      "Requirement already satisfied: tqdm>=4.27 in /Library/Frameworks/Python.framework/Versions/3.11/lib/python3.11/site-packages (from Transformers) (4.66.1)\n",
      "Requirement already satisfied: fsspec>=2023.5.0 in /Library/Frameworks/Python.framework/Versions/3.11/lib/python3.11/site-packages (from huggingface-hub<1.0,>=0.23.2->Transformers) (2024.10.0)\n",
      "Requirement already satisfied: typing-extensions>=3.7.4.3 in /Library/Frameworks/Python.framework/Versions/3.11/lib/python3.11/site-packages (from huggingface-hub<1.0,>=0.23.2->Transformers) (4.8.0)\n",
      "Requirement already satisfied: charset-normalizer<4,>=2 in /Library/Frameworks/Python.framework/Versions/3.11/lib/python3.11/site-packages (from requests->Transformers) (3.1.0)\n",
      "Requirement already satisfied: idna<4,>=2.5 in /Library/Frameworks/Python.framework/Versions/3.11/lib/python3.11/site-packages (from requests->Transformers) (3.4)\n",
      "Requirement already satisfied: urllib3<3,>=1.21.1 in /Library/Frameworks/Python.framework/Versions/3.11/lib/python3.11/site-packages (from requests->Transformers) (2.0.3)\n",
      "Requirement already satisfied: certifi>=2017.4.17 in /Library/Frameworks/Python.framework/Versions/3.11/lib/python3.11/site-packages (from requests->Transformers) (2023.5.7)\n",
      "Downloading transformers-4.46.3-py3-none-any.whl (10.0 MB)\n",
      "\u001b[2K   \u001b[38;2;114;156;31m━━━━━━━━━━━━━━━━━━━━━━━━━━━━━━━━━━━━━━━━\u001b[0m \u001b[32m10.0/10.0 MB\u001b[0m \u001b[31m4.4 MB/s\u001b[0m eta \u001b[36m0:00:00\u001b[0m31m4.3 MB/s\u001b[0m eta \u001b[36m0:00:01\u001b[0m\n",
      "\u001b[?25hDownloading huggingface_hub-0.26.3-py3-none-any.whl (447 kB)\n",
      "\u001b[2K   \u001b[38;2;114;156;31m━━━━━━━━━━━━━━━━━━━━━━━━━━━━━━━━━━━━━━━━\u001b[0m \u001b[32m447.6/447.6 kB\u001b[0m \u001b[31m14.0 MB/s\u001b[0m eta \u001b[36m0:00:00\u001b[0m\n",
      "\u001b[?25hUsing cached regex-2024.11.6-cp311-cp311-macosx_11_0_arm64.whl (284 kB)\n",
      "Downloading safetensors-0.4.5-cp311-cp311-macosx_11_0_arm64.whl (381 kB)\n",
      "\u001b[2K   \u001b[38;2;114;156;31m━━━━━━━━━━━━━━━━━━━━━━━━━━━━━━━━━━━━━━━━\u001b[0m \u001b[32m381.5/381.5 kB\u001b[0m \u001b[31m10.0 MB/s\u001b[0m eta \u001b[36m0:00:00\u001b[0m\n",
      "\u001b[?25hDownloading tokenizers-0.20.3-cp311-cp311-macosx_11_0_arm64.whl (2.6 MB)\n",
      "\u001b[2K   \u001b[38;2;114;156;31m━━━━━━━━━━━━━━━━━━━━━━━━━━━━━━━━━━━━━━━━\u001b[0m \u001b[32m2.6/2.6 MB\u001b[0m \u001b[31m8.7 MB/s\u001b[0m eta \u001b[36m0:00:00\u001b[0m[31m9.1 MB/s\u001b[0m eta \u001b[36m0:00:01\u001b[0mm\n",
      "\u001b[?25hInstalling collected packages: safetensors, regex, huggingface-hub, tokenizers, Transformers\n",
      "Successfully installed Transformers-4.46.3 huggingface-hub-0.26.3 regex-2024.11.6 safetensors-0.4.5 tokenizers-0.20.3\n",
      "\n",
      "\u001b[1m[\u001b[0m\u001b[34;49mnotice\u001b[0m\u001b[1;39;49m]\u001b[0m\u001b[39;49m A new release of pip is available: \u001b[0m\u001b[31;49m24.0\u001b[0m\u001b[39;49m -> \u001b[0m\u001b[32;49m24.3.1\u001b[0m\n",
      "\u001b[1m[\u001b[0m\u001b[34;49mnotice\u001b[0m\u001b[1;39;49m]\u001b[0m\u001b[39;49m To update, run: \u001b[0m\u001b[32;49mpip3.11 install --upgrade pip\u001b[0m\n",
      "Note: you may need to restart the kernel to use updated packages.\n"
     ]
    }
   ],
   "source": [
    "pip install nltk"
   ]
  },
  {
   "cell_type": "code",
   "execution_count": 1,
   "metadata": {},
   "outputs": [],
   "source": [
    "import nltk\n",
    "#nltk.download('punkt')\n",
    "from transformers import PegasusTokenizer, PegasusForConditionalGeneration, pipeline, AutoTokenizer, AutoModelForSequenceClassification, RobertaTokenizer, RobertaForSequenceClassification, AlbertTokenizer, AlbertForSequenceClassification\n",
    "from bs4 import BeautifulSoup\n",
    "import requests\n",
    "import re\n",
    "import csv\n",
    "import torch\n",
    "from torch.optim import Adam\n",
    "from nltk.tokenize import word_tokenize\n",
    "import numpy as np"
   ]
  },
  {
   "cell_type": "markdown",
   "metadata": {},
   "source": [
    "# 2. Setup Summarization Model"
   ]
  },
  {
   "cell_type": "code",
   "execution_count": 2,
   "metadata": {},
   "outputs": [
    {
     "name": "stderr",
     "output_type": "stream",
     "text": [
      "Some weights of PegasusForConditionalGeneration were not initialized from the model checkpoint at human-centered-summarization/financial-summarization-pegasus and are newly initialized: ['model.decoder.embed_positions.weight', 'model.encoder.embed_positions.weight']\n",
      "You should probably TRAIN this model on a down-stream task to be able to use it for predictions and inference.\n"
     ]
    }
   ],
   "source": [
    "model_name = \"human-centered-summarization/financial-summarization-pegasus\"\n",
    "tokenizer_pegasus = PegasusTokenizer.from_pretrained(model_name)\n",
    "model_pegasus = PegasusForConditionalGeneration.from_pretrained(model_name)"
   ]
  },
  {
   "cell_type": "markdown",
   "metadata": {},
   "source": [
    "# 3. Summarize a Single Article"
   ]
  },
  {
   "cell_type": "code",
   "execution_count": 3,
   "metadata": {},
   "outputs": [],
   "source": [
    "url = \"https://finance.yahoo.com/news/us-bitcoin-etf-inflows-near-035640575.html\"\n",
    "r = requests.get(url)\n",
    "soup = BeautifulSoup(r.text, 'html.parser')\n",
    "paragraphs = soup.find_all('p')"
   ]
  },
  {
   "cell_type": "code",
   "execution_count": 4,
   "metadata": {},
   "outputs": [
    {
     "data": {
      "text/plain": [
       "'We are experiencing some temporary issues. The market data on this page is currently delayed. Please bear with us as we address this and restore your personalized lists.'"
      ]
     },
     "execution_count": 4,
     "metadata": {},
     "output_type": "execute_result"
    }
   ],
   "source": [
    "paragraphs[0].text"
   ]
  },
  {
   "cell_type": "code",
   "execution_count": 5,
   "metadata": {},
   "outputs": [],
   "source": [
    "text = [paragraph.text for paragraph in paragraphs]\n",
    "words = ' '.join(text).split(' ')[:400]\n",
    "ARTICLE = ' '.join(words)"
   ]
  },
  {
   "cell_type": "code",
   "execution_count": 6,
   "metadata": {},
   "outputs": [
    {
     "data": {
      "text/plain": [
       "'We are experiencing some temporary issues. The market data on this page is currently delayed. Please bear with us as we address this and restore your personalized lists. (Bloomberg) -- Almost $10 billion has poured into US exchange-traded funds investing directly in Bitcoin since Donald Trump became president-elect, in a bet that his embrace of the crypto sector heralds a boom for the market. Most Read from Bloomberg A Chicago Skyscraper Cements the Legacy of a Visionary Postmodern Architect NYC’s Run-Down Bus Terminal Gets Approval for $10 Billion Revamp Kansas City Looks Back on its Long, Costly Ride With Microtransit The dozen funds from issuers including BlackRock Inc. and Fidelity Investments have attracted about $9.9 billion of net inflows in the period following Election Day on Nov. 5, helping to lift the group’s total assets to approximately $113 billion, according to data compiled by Bloomberg. The president-elect last week picked a digital-asset supporter to be the next head of the US securities regulator and named the first-ever White House czar for artificial intelligence and crypto. Trump has vowed to replace Biden administration skepticism about digital assets with supportive rules and even backed the idea of a strategic national Bitcoin reserve. The Republican used to be a crypto skeptic but pivoted as the industry unleashed an election campaign war chest to promote its interests. Bitcoin topped $100,000 for the first time on Dec. 5 and traded at $98,860 as of 11:55 a.m. Monday in Singapore. The token’s six-week streak of gains through Sunday is the longest such run since the crypto frenzy of 2021. Volatility swept across Bitcoin a day after the token achieved the landmark six-figure level. The swings briefly drove the largest digital asset down toward $92,000, a drop that sowed some caution over the immediate outlook. A “sustained and decided” push past $100,000 may require further positive catalysts to materialize, David Lawant, head of research at crypto prime broker FalconX, wrote in a note. US regulators have also permitted spot-Ether ETFs, a group of nine funds that lured almost $2 billion of net subscriptions in the wake of Trump’s election win. Ether, the second-ranked token, has outperformed Bitcoin of late. Most Read from Bloomberg Businessweek Dubai’s Alleged Crypto Scams Are Raking in Billions The Quest to Turn Human Waste Into Medicine How a Billionaire’s ‘Baby Project’ Ensnared Dozens of Women Grand Theft Auto VI Will Rule the Video'"
      ]
     },
     "execution_count": 6,
     "metadata": {},
     "output_type": "execute_result"
    }
   ],
   "source": [
    "ARTICLE"
   ]
  },
  {
   "cell_type": "code",
   "execution_count": 7,
   "metadata": {},
   "outputs": [],
   "source": [
    "input_ids = tokenizer.encode(ARTICLE, return_tensors='pt')\n",
    "output = model.generate(input_ids, max_length=55, num_beams=5, early_stopping=True)\n",
    "summary = tokenizer.decode(output[0], skip_special_tokens=True)"
   ]
  },
  {
   "cell_type": "code",
   "execution_count": 8,
   "metadata": {},
   "outputs": [
    {
     "data": {
      "text/plain": [
       "'Almost $10 billion has poured into Bitcoin-related funds. Volatility briefly drives Bitcoin lower after hitting $100,000 level'"
      ]
     },
     "execution_count": 8,
     "metadata": {},
     "output_type": "execute_result"
    }
   ],
   "source": [
    "summary"
   ]
  },
  {
   "cell_type": "markdown",
   "metadata": {},
   "source": [
    "# 4. Building a News and Sentiment Pipeline"
   ]
  },
  {
   "cell_type": "code",
   "execution_count": 9,
   "metadata": {},
   "outputs": [],
   "source": [
    "monitored_tickers = ['GME', 'TSLA', 'BTC']"
   ]
  },
  {
   "cell_type": "markdown",
   "metadata": {},
   "source": [
    "## 4.1. Search for Stock News using Google and Yahoo Finance"
   ]
  },
  {
   "cell_type": "code",
   "execution_count": 10,
   "metadata": {},
   "outputs": [],
   "source": [
    "def search_for_stock_news_urls(ticker):\n",
    "    search_url = \"https://www.google.com/search?q=yahoo+finance+{}&tbm=nws\".format(ticker)\n",
    "    r = requests.get(search_url)\n",
    "    soup = BeautifulSoup(r.text, 'html.parser')\n",
    "    atags = soup.find_all('a')\n",
    "    hrefs = [link['href'] for link in atags]\n",
    "    return hrefs "
   ]
  },
  {
   "cell_type": "code",
   "execution_count": 11,
   "metadata": {},
   "outputs": [
    {
     "data": {
      "text/plain": [
       "{'GME': ['/?sa=X&ved=0ahUKEwims967ss-KAxVqrVYBHSa-Kh8QOwgC',\n",
       "  '/search?q=yahoo+finance+GME&sca_esv=b564cb405e09753d&ie=UTF-8&tbm=nws&gbv=1&sei=k4RyZ-adLura2roPpvyq-QE',\n",
       "  '/search?q=yahoo+finance+GME&sca_esv=b564cb405e09753d&ie=UTF-8&source=lnms&sa=X&ved=0ahUKEwims967ss-KAxVqrVYBHSa-Kh8Q_AUIBSgA',\n",
       "  '/search?q=yahoo+finance+GME&sca_esv=b564cb405e09753d&ie=UTF-8&tbm=vid&source=lnms&sa=X&ved=0ahUKEwims967ss-KAxVqrVYBHSa-Kh8Q_AUIBygC',\n",
       "  '/search?q=yahoo+finance+GME&sca_esv=b564cb405e09753d&ie=UTF-8&tbm=bks&source=lnms&sa=X&ved=0ahUKEwims967ss-KAxVqrVYBHSa-Kh8Q_AUICCgD',\n",
       "  '/search?q=yahoo+finance+GME&sca_esv=b564cb405e09753d&ie=UTF-8&tbm=isch&source=lnms&sa=X&ved=0ahUKEwims967ss-KAxVqrVYBHSa-Kh8Q_AUICSgE',\n",
       "  '/url?q=https://maps.google.com/maps%3Fq%3Dyahoo%2Bfinance%2BGME%26um%3D1%26ie%3DUTF-8%26ved%3D1t:200713%26ictx%3D111&opi=89978449&sa=U&ved=0ahUKEwims967ss-KAxVqrVYBHSa-Kh8QiaAMCAooBQ&usg=AOvVaw34HddZrhIL1kfjJqrdq3aW',\n",
       "  '/url?q=/search%3Fq%3Dyahoo%2Bfinance%2BGME%26sca_esv%3Db564cb405e09753d%26ie%3DUTF-8%26tbm%3Dshop%26source%3Dlnms%26ved%3D1t:200713%26ictx%3D111&opi=89978449&sa=U&ved=0ahUKEwims967ss-KAxVqrVYBHSa-Kh8QiaAMCAsoBg&usg=AOvVaw0WD9U5iL_TJp1GZ0BkZv2H',\n",
       "  '/advanced_search',\n",
       "  '/search?q=yahoo+finance+GME&sca_esv=b564cb405e09753d&ie=UTF-8&tbm=nws&source=lnt&tbs=qdr:h&sa=X&ved=0ahUKEwims967ss-KAxVqrVYBHSa-Kh8QpwUIDQ',\n",
       "  '/search?q=yahoo+finance+GME&sca_esv=b564cb405e09753d&ie=UTF-8&tbm=nws&source=lnt&tbs=qdr:d&sa=X&ved=0ahUKEwims967ss-KAxVqrVYBHSa-Kh8QpwUIDg',\n",
       "  '/search?q=yahoo+finance+GME&sca_esv=b564cb405e09753d&ie=UTF-8&tbm=nws&source=lnt&tbs=qdr:w&sa=X&ved=0ahUKEwims967ss-KAxVqrVYBHSa-Kh8QpwUIDw',\n",
       "  '/search?q=yahoo+finance+GME&sca_esv=b564cb405e09753d&ie=UTF-8&tbm=nws&source=lnt&tbs=qdr:m&sa=X&ved=0ahUKEwims967ss-KAxVqrVYBHSa-Kh8QpwUIEA',\n",
       "  '/search?q=yahoo+finance+GME&sca_esv=b564cb405e09753d&ie=UTF-8&tbm=nws&source=lnt&tbs=qdr:y&sa=X&ved=0ahUKEwims967ss-KAxVqrVYBHSa-Kh8QpwUIEQ',\n",
       "  '/search?q=yahoo+finance+GME&sca_esv=b564cb405e09753d&ie=UTF-8&tbm=nws&source=lnt&tbs=ar:1&sa=X&ved=0ahUKEwims967ss-KAxVqrVYBHSa-Kh8QpwUIEg',\n",
       "  '/search?q=yahoo+finance+GME&sca_esv=b564cb405e09753d&ie=UTF-8&tbm=nws&source=lnt&tbs=sbd:1&sa=X&ved=0ahUKEwims967ss-KAxVqrVYBHSa-Kh8QpwUIFA',\n",
       "  '/url?q=https://finance.yahoo.com/news/3-reasons-sell-gme-1-091114257.html&sa=U&ved=2ahUKEwims967ss-KAxVqrVYBHSa-Kh8QxfQBegQIAxAC&usg=AOvVaw1ossTlnXqR0BLHk6dkgn0_',\n",
       "  '/url?q=https://finance.yahoo.com/news/why-gamestop-gme-stock-down-162604744.html&sa=U&ved=2ahUKEwims967ss-KAxVqrVYBHSa-Kh8QxfQBegQICRAC&usg=AOvVaw2jMnTX8kBO5Q0xHDW9Vygp',\n",
       "  '/url?q=https://finance.yahoo.com/news/bull-day-gamestop-gme-090000895.html&sa=U&ved=2ahUKEwims967ss-KAxVqrVYBHSa-Kh8QxfQBegQIBxAC&usg=AOvVaw292k1hdZqLtuOK7ilJ5c5W',\n",
       "  '/url?q=https://finance.yahoo.com/news/company-news-dec-27-2024-122000815.html&sa=U&ved=2ahUKEwims967ss-KAxVqrVYBHSa-Kh8QxfQBegQIARAC&usg=AOvVaw3hyIIKXJ3KiXyIsz3x1whZ',\n",
       "  '/url?q=https://finance.yahoo.com/news/gamestop-gets-holiday-boost-roaring-163100508.html&sa=U&ved=2ahUKEwims967ss-KAxVqrVYBHSa-Kh8QxfQBegQIBRAC&usg=AOvVaw1ykFCHflBr7wmD9RmWZvTo',\n",
       "  '/url?q=https://finance.yahoo.com/news/makes-gamestop-gme-strong-buy-170011043.html&sa=U&ved=2ahUKEwims967ss-KAxVqrVYBHSa-Kh8QxfQBegQIAhAC&usg=AOvVaw1yT7DwWwREFGCyNJ5Cb-QM',\n",
       "  '/url?q=https://finance.yahoo.com/news/gamestop-gme-stock-outpacing-consumer-144011955.html&sa=U&ved=2ahUKEwims967ss-KAxVqrVYBHSa-Kh8QxfQBegQIBhAC&usg=AOvVaw1UZDvSFPOi9xAA9XFDGIfz',\n",
       "  '/url?q=https://finance.yahoo.com/news/gamestop-nyse-gme-reports-sales-211114985.html&sa=U&ved=2ahUKEwims967ss-KAxVqrVYBHSa-Kh8QxfQBegQICBAC&usg=AOvVaw2SqsMn9-gOJf6bCpg3lgFJ',\n",
       "  '/url?q=https://finance.yahoo.com/news/gamestop-gme-registers-bigger-fall-214521016.html&sa=U&ved=2ahUKEwims967ss-KAxVqrVYBHSa-Kh8QxfQBegQIABAC&usg=AOvVaw36XbhAj2B1W5aVDk0mU8KL',\n",
       "  '/url?q=https://finance.yahoo.com/news/jim-cramer-refers-gamestop-corp-235402974.html&sa=U&ved=2ahUKEwims967ss-KAxVqrVYBHSa-Kh8QxfQBegQIBBAC&usg=AOvVaw1hSzmKNX7jtWMDEdDCM2E3',\n",
       "  '/search?q=yahoo+finance+GME&sca_esv=b564cb405e09753d&ie=UTF-8&tbm=nws&ei=k4RyZ-adLura2roPpvyq-QE&start=10&sa=N',\n",
       "  '/url?q=https://support.google.com/websearch%3Fp%3Dws_settings_location%26hl%3Den-IN&opi=89978449&sa=U&ved=0ahUKEwims967ss-KAxVqrVYBHSa-Kh8Qty4IUw&usg=AOvVaw2BRiAT3cBWnFb59YrXyuPI',\n",
       "  '/url?q=https://accounts.google.com/ServiceLogin%3Fcontinue%3Dhttps://www.google.com/search%253Fq%253Dyahoo%252Bfinance%252BGME%2526tbm%253Dnws%26hl%3Den&opi=89978449&sa=U&ved=0ahUKEwims967ss-KAxVqrVYBHSa-Kh8Qxs8CCFQ&usg=AOvVaw0J5fksqs1beQ7R5CI-6xT_',\n",
       "  'https://www.google.com/preferences?hl=en-IN&fg=1&sa=X&ved=0ahUKEwims967ss-KAxVqrVYBHSa-Kh8Q5fUCCFU',\n",
       "  'https://policies.google.com/privacy?hl=en-IN&fg=1',\n",
       "  'https://policies.google.com/terms?hl=en-IN&fg=1',\n",
       "  '/setprefs?hl=en&prev=https://www.google.com/search?q%3Dyahoo%2Bfinance%2BGME%26tbm%3Dnws%26pccc%3D1&sig=0_d4LIjelB6ptBFy4q4aZFqBnwVsA%3D&cs=2&sa=X&ved=0ahUKEwims967ss-KAxVqrVYBHSa-Kh8QjcAJCFY'],\n",
       " 'TSLA': ['/?sa=X&ved=0ahUKEwjfnpu8ss-KAxVO8DQHHXUINNQQOwgC',\n",
       "  '/search?q=yahoo+finance+TSLA&sca_esv=b564cb405e09753d&ie=UTF-8&tbm=nws&gbv=1&sei=lIRyZ9-ELs7g0-kP9ZDQoQ0',\n",
       "  '/search?q=yahoo+finance+TSLA&sca_esv=b564cb405e09753d&ie=UTF-8&source=lnms&sa=X&ved=0ahUKEwjfnpu8ss-KAxVO8DQHHXUINNQQ_AUIBSgA',\n",
       "  '/search?q=yahoo+finance+TSLA&sca_esv=b564cb405e09753d&ie=UTF-8&tbm=vid&source=lnms&sa=X&ved=0ahUKEwjfnpu8ss-KAxVO8DQHHXUINNQQ_AUIBygC',\n",
       "  '/search?q=yahoo+finance+TSLA&sca_esv=b564cb405e09753d&ie=UTF-8&tbm=isch&source=lnms&sa=X&ved=0ahUKEwjfnpu8ss-KAxVO8DQHHXUINNQQ_AUICCgD',\n",
       "  '/url?q=https://maps.google.com/maps%3Fq%3Dyahoo%2Bfinance%2BTSLA%26um%3D1%26ie%3DUTF-8%26ved%3D1t:200713%26ictx%3D111&opi=89978449&sa=U&ved=0ahUKEwjfnpu8ss-KAxVO8DQHHXUINNQQiaAMCAkoBA&usg=AOvVaw1ppxbDDGvTJpHZF6MdYNbr',\n",
       "  '/url?q=/search%3Fq%3Dyahoo%2Bfinance%2BTSLA%26sca_esv%3Db564cb405e09753d%26ie%3DUTF-8%26tbm%3Dshop%26source%3Dlnms%26ved%3D1t:200713%26ictx%3D111&opi=89978449&sa=U&ved=0ahUKEwjfnpu8ss-KAxVO8DQHHXUINNQQiaAMCAooBQ&usg=AOvVaw14iN3hjh_REgY8PtTkcEmp',\n",
       "  '/search?q=yahoo+finance+TSLA&sca_esv=b564cb405e09753d&ie=UTF-8&tbm=bks&source=lnms&sa=X&ved=0ahUKEwjfnpu8ss-KAxVO8DQHHXUINNQQ_AUICygG',\n",
       "  '/advanced_search',\n",
       "  '/search?q=yahoo+finance+TSLA&sca_esv=b564cb405e09753d&ie=UTF-8&tbm=nws&source=lnt&tbs=qdr:h&sa=X&ved=0ahUKEwjfnpu8ss-KAxVO8DQHHXUINNQQpwUIDQ',\n",
       "  '/search?q=yahoo+finance+TSLA&sca_esv=b564cb405e09753d&ie=UTF-8&tbm=nws&source=lnt&tbs=qdr:d&sa=X&ved=0ahUKEwjfnpu8ss-KAxVO8DQHHXUINNQQpwUIDg',\n",
       "  '/search?q=yahoo+finance+TSLA&sca_esv=b564cb405e09753d&ie=UTF-8&tbm=nws&source=lnt&tbs=qdr:w&sa=X&ved=0ahUKEwjfnpu8ss-KAxVO8DQHHXUINNQQpwUIDw',\n",
       "  '/search?q=yahoo+finance+TSLA&sca_esv=b564cb405e09753d&ie=UTF-8&tbm=nws&source=lnt&tbs=qdr:m&sa=X&ved=0ahUKEwjfnpu8ss-KAxVO8DQHHXUINNQQpwUIEA',\n",
       "  '/search?q=yahoo+finance+TSLA&sca_esv=b564cb405e09753d&ie=UTF-8&tbm=nws&source=lnt&tbs=qdr:y&sa=X&ved=0ahUKEwjfnpu8ss-KAxVO8DQHHXUINNQQpwUIEQ',\n",
       "  '/search?q=yahoo+finance+TSLA&sca_esv=b564cb405e09753d&ie=UTF-8&tbm=nws&source=lnt&tbs=ar:1&sa=X&ved=0ahUKEwjfnpu8ss-KAxVO8DQHHXUINNQQpwUIEg',\n",
       "  '/search?q=yahoo+finance+TSLA&sca_esv=b564cb405e09753d&ie=UTF-8&tbm=nws&source=lnt&tbs=sbd:1&sa=X&ved=0ahUKEwjfnpu8ss-KAxVO8DQHHXUINNQQpwUIFA',\n",
       "  '/url?q=https://finance.yahoo.com/news/why-tesla-tsla-shares-falling-162607540.html&sa=U&ved=2ahUKEwjfnpu8ss-KAxVO8DQHHXUINNQQxfQBegQIABAC&usg=AOvVaw0zuQnhlaOUOtIIHylV2_1V',\n",
       "  '/url?q=https://finance.yahoo.com/video/consumer-discretionary-tesla-led-sectors-154352588.html&sa=U&ved=2ahUKEwjfnpu8ss-KAxVO8DQHHXUINNQQxfQBegQICRAC&usg=AOvVaw3yZQHtzmSvRgsYwjlLEd8f',\n",
       "  '/url?q=https://finance.yahoo.com/news/tesla-stock-jumps-to-another-high-as-mizuho-more-than-doubles-price-target-to-515-163030620.html&sa=U&ved=2ahUKEwjfnpu8ss-KAxVO8DQHHXUINNQQxfQBegQICBAC&usg=AOvVaw1VIbRszcxz5MAV9W8eyrCI',\n",
       "  '/url?q=https://finance.yahoo.com/news/tesla-2024-3-things-that-defined-its-big-year-140032809.html&sa=U&ved=2ahUKEwjfnpu8ss-KAxVO8DQHHXUINNQQxfQBegQIBRAC&usg=AOvVaw3HXZKSkw8hJ-cQj925SwE1',\n",
       "  '/url?q=https://finance.yahoo.com/news/tesla-stock-pops-as-giga-austin-visit-has-bofa-bullish-172718038.html&sa=U&ved=2ahUKEwjfnpu8ss-KAxVO8DQHHXUINNQQxfQBegQIBxAC&usg=AOvVaw3N2OV94oD0VaFN-lbbb0hI',\n",
       "  '/url?q=https://finance.yahoo.com/news/teslas-cheaper-model-q-on-the-way-and-likely-new-china-ev-analyst-says-following-tesla-meeting-164534610.html&sa=U&ved=2ahUKEwjfnpu8ss-KAxVO8DQHHXUINNQQxfQBegQIBhAC&usg=AOvVaw3JQfBZTkse5veu8SX8DO81',\n",
       "  '/url?q=https://finance.yahoo.com/news/nvidia-gm-walmart-palantir-tesla-meta-and-others-battle-this-yahoo-finance-awards-season-110036402.html&sa=U&ved=2ahUKEwjfnpu8ss-KAxVO8DQHHXUINNQQxfQBegQIARAC&usg=AOvVaw0X8Bpw4Mo5oQbsTdl2O8wd',\n",
       "  '/url?q=https://finance.yahoo.com/news/jim-cramer-tesla-inc-tsla-051807610.html&sa=U&ved=2ahUKEwjfnpu8ss-KAxVO8DQHHXUINNQQxfQBegQIBBAC&usg=AOvVaw1o6c-vIaE2PbWfnQs6t3Qk',\n",
       "  '/url?q=https://finance.yahoo.com/news/tesla-stock-buy-2025-092600652.html&sa=U&ved=2ahUKEwjfnpu8ss-KAxVO8DQHHXUINNQQxfQBegQIAhAC&usg=AOvVaw1HL3L3LmffeqgOEzw28s3G',\n",
       "  '/url?q=https://finance.yahoo.com/news/watch-tesla-price-levels-stock-032341339.html&sa=U&ved=2ahUKEwjfnpu8ss-KAxVO8DQHHXUINNQQxfQBegQIAxAC&usg=AOvVaw1d_38Jeu9KzjD9pCKKB-R-',\n",
       "  '/search?q=yahoo+finance+TSLA&sca_esv=b564cb405e09753d&ie=UTF-8&tbm=nws&ei=lIRyZ9-ELs7g0-kP9ZDQoQ0&start=10&sa=N',\n",
       "  '/url?q=https://support.google.com/websearch%3Fp%3Dws_settings_location%26hl%3Den-IN&opi=89978449&sa=U&ved=0ahUKEwjfnpu8ss-KAxVO8DQHHXUINNQQty4IUw&usg=AOvVaw2kzxUqBbmgFBjJTd8CC5xI',\n",
       "  '/url?q=https://accounts.google.com/ServiceLogin%3Fcontinue%3Dhttps://www.google.com/search%253Fq%253Dyahoo%252Bfinance%252BTSLA%2526tbm%253Dnws%26hl%3Den&opi=89978449&sa=U&ved=0ahUKEwjfnpu8ss-KAxVO8DQHHXUINNQQxs8CCFQ&usg=AOvVaw23eg8v0VzoeqeyttJsPbP5',\n",
       "  'https://www.google.com/preferences?hl=en-IN&fg=1&sa=X&ved=0ahUKEwjfnpu8ss-KAxVO8DQHHXUINNQQ5fUCCFU',\n",
       "  'https://policies.google.com/privacy?hl=en-IN&fg=1',\n",
       "  'https://policies.google.com/terms?hl=en-IN&fg=1',\n",
       "  '/setprefs?hl=en&prev=https://www.google.com/search?q%3Dyahoo%2Bfinance%2BTSLA%26tbm%3Dnws%26pccc%3D1&sig=0_cWiKF8Um1ijqeCjPH7eICZNgQAM%3D&cs=2&sa=X&ved=0ahUKEwjfnpu8ss-KAxVO8DQHHXUINNQQjcAJCFY'],\n",
       " 'BTC': ['/?sa=X&ved=0ahUKEwjD3dO8ss-KAxVp1jQHHXlFJO8QOwgC',\n",
       "  '/search?q=yahoo+finance+BTC&sca_esv=b564cb405e09753d&ie=UTF-8&tbm=nws&gbv=1&sei=lYRyZ4O_Kems0-kP-YqR-Q4',\n",
       "  '/search?q=yahoo+finance+BTC&sca_esv=b564cb405e09753d&ie=UTF-8&source=lnms&sa=X&ved=0ahUKEwjD3dO8ss-KAxVp1jQHHXlFJO8Q_AUIBSgA',\n",
       "  '/search?q=yahoo+finance+BTC&sca_esv=b564cb405e09753d&ie=UTF-8&tbm=isch&source=lnms&sa=X&ved=0ahUKEwjD3dO8ss-KAxVp1jQHHXlFJO8Q_AUIBygC',\n",
       "  '/search?q=yahoo+finance+BTC&sca_esv=b564cb405e09753d&ie=UTF-8&tbm=vid&source=lnms&sa=X&ved=0ahUKEwjD3dO8ss-KAxVp1jQHHXlFJO8Q_AUICCgD',\n",
       "  '/url?q=https://maps.google.com/maps%3Fq%3Dyahoo%2Bfinance%2BBTC%26um%3D1%26ie%3DUTF-8%26ved%3D1t:200713%26ictx%3D111&opi=89978449&sa=U&ved=0ahUKEwjD3dO8ss-KAxVp1jQHHXlFJO8QiaAMCAkoBA&usg=AOvVaw0dkGNeX5-GLuiFsmQSt66N',\n",
       "  '/url?q=/search%3Fq%3Dyahoo%2Bfinance%2BBTC%26sca_esv%3Db564cb405e09753d%26ie%3DUTF-8%26tbm%3Dshop%26source%3Dlnms%26ved%3D1t:200713%26ictx%3D111&opi=89978449&sa=U&ved=0ahUKEwjD3dO8ss-KAxVp1jQHHXlFJO8QiaAMCAooBQ&usg=AOvVaw2-I4mflp7kZVaEyOu0QItl',\n",
       "  '/search?q=yahoo+finance+BTC&sca_esv=b564cb405e09753d&ie=UTF-8&tbm=bks&source=lnms&sa=X&ved=0ahUKEwjD3dO8ss-KAxVp1jQHHXlFJO8Q_AUICygG',\n",
       "  '/advanced_search',\n",
       "  '/search?q=yahoo+finance+BTC&sca_esv=b564cb405e09753d&ie=UTF-8&tbm=nws&source=lnt&tbs=qdr:h&sa=X&ved=0ahUKEwjD3dO8ss-KAxVp1jQHHXlFJO8QpwUIDQ',\n",
       "  '/search?q=yahoo+finance+BTC&sca_esv=b564cb405e09753d&ie=UTF-8&tbm=nws&source=lnt&tbs=qdr:d&sa=X&ved=0ahUKEwjD3dO8ss-KAxVp1jQHHXlFJO8QpwUIDg',\n",
       "  '/search?q=yahoo+finance+BTC&sca_esv=b564cb405e09753d&ie=UTF-8&tbm=nws&source=lnt&tbs=qdr:w&sa=X&ved=0ahUKEwjD3dO8ss-KAxVp1jQHHXlFJO8QpwUIDw',\n",
       "  '/search?q=yahoo+finance+BTC&sca_esv=b564cb405e09753d&ie=UTF-8&tbm=nws&source=lnt&tbs=qdr:m&sa=X&ved=0ahUKEwjD3dO8ss-KAxVp1jQHHXlFJO8QpwUIEA',\n",
       "  '/search?q=yahoo+finance+BTC&sca_esv=b564cb405e09753d&ie=UTF-8&tbm=nws&source=lnt&tbs=qdr:y&sa=X&ved=0ahUKEwjD3dO8ss-KAxVp1jQHHXlFJO8QpwUIEQ',\n",
       "  '/search?q=yahoo+finance+BTC&sca_esv=b564cb405e09753d&ie=UTF-8&tbm=nws&source=lnt&tbs=ar:1&sa=X&ved=0ahUKEwjD3dO8ss-KAxVp1jQHHXlFJO8QpwUIEg',\n",
       "  '/search?q=yahoo+finance+BTC&sca_esv=b564cb405e09753d&ie=UTF-8&tbm=nws&source=lnt&tbs=sbd:1&sa=X&ved=0ahUKEwjD3dO8ss-KAxVp1jQHHXlFJO8QpwUIFA',\n",
       "  '/url?q=https://finance.yahoo.com/video/crypto-surge-key-players-reveal-130034728.html&sa=U&ved=2ahUKEwjD3dO8ss-KAxVp1jQHHXlFJO8QxfQBegQIABAC&usg=AOvVaw15z7JxLbjn3UwfjiK11gmj',\n",
       "  '/url?q=https://www.yahoo.com/finance/news/bitcoins-price-may-peak-mid-090001631.html&sa=U&ved=2ahUKEwjD3dO8ss-KAxVp1jQHHXlFJO8QxfQBegQICRAC&usg=AOvVaw2kNDLIc_tK9QmDUUew3mkd',\n",
       "  '/url?q=https://finance.yahoo.com/news/bitcoin-surpasses-107000-to-hit-new-high-amid-relentless-etf-demand-172001994.html&sa=U&ved=2ahUKEwjD3dO8ss-KAxVp1jQHHXlFJO8QxfQBegQIAxAC&usg=AOvVaw168x8XpH_pWJmzco0ied7o',\n",
       "  '/url?q=https://finance.yahoo.com/video/us-strategic-could-push-bitcoin-213000587.html&sa=U&ved=2ahUKEwjD3dO8ss-KAxVp1jQHHXlFJO8QxfQBegQIARAC&usg=AOvVaw1SyjUCtc76baXLjcleBoUX',\n",
       "  '/url?q=https://finance.yahoo.com/news/live/stock-market-today-dow-ekes-out-gains-bitcoin-slumps-as-santa-claus-rally-takes-a-pause-175235354.html&sa=U&ved=2ahUKEwjD3dO8ss-KAxVp1jQHHXlFJO8QxfQBegQIBBAC&usg=AOvVaw3NDWYH-jAHmJPB4NlJKr3w',\n",
       "  '/url?q=https://finance.yahoo.com/news/bitcoin-just-crossed-100000-for-the-first-time-wall-street-sees-200000-following-soon-200622402.html&sa=U&ved=2ahUKEwjD3dO8ss-KAxVp1jQHHXlFJO8QxfQBegQIBxAC&usg=AOvVaw1HGMa8xabfK8iP84PtQkgT',\n",
       "  '/url?q=https://finance.yahoo.com/news/bitcoin-drops-below-94k-market-055852355.html&sa=U&ved=2ahUKEwjD3dO8ss-KAxVp1jQHHXlFJO8QxfQBegQICBAC&usg=AOvVaw3qO3ygDuE4sMuJGAk8qAxE',\n",
       "  '/url?q=https://finance.yahoo.com/video/kulr-technology-stock-pops-bitcoin-205706742.html&sa=U&ved=2ahUKEwjD3dO8ss-KAxVp1jQHHXlFJO8QxfQBegQIAhAC&usg=AOvVaw0MYfSqFJtHny2BUwjnA1Id',\n",
       "  '/url?q=https://finance.yahoo.com/video/stocks-set-open-lower-jobless-140951379.html&sa=U&ved=2ahUKEwjD3dO8ss-KAxVp1jQHHXlFJO8QxfQBegQIBhAC&usg=AOvVaw21zchL-H-Vyo7V_vR94Aaf',\n",
       "  '/url?q=https://finance.yahoo.com/video/stocks-erase-earlier-losses-bitcoin-181630721.html&sa=U&ved=2ahUKEwjD3dO8ss-KAxVp1jQHHXlFJO8QxfQBegQIBRAC&usg=AOvVaw0dIO3q9codf5usI85PvYyl',\n",
       "  '/search?q=yahoo+finance+BTC&sca_esv=b564cb405e09753d&ie=UTF-8&tbm=nws&ei=lYRyZ4O_Kems0-kP-YqR-Q4&start=10&sa=N',\n",
       "  '/url?q=https://support.google.com/websearch%3Fp%3Dws_settings_location%26hl%3Den-IN&opi=89978449&sa=U&ved=0ahUKEwjD3dO8ss-KAxVp1jQHHXlFJO8Qty4IUw&usg=AOvVaw3-bx_u6p8jTpnA8QSZ-OJJ',\n",
       "  '/url?q=https://accounts.google.com/ServiceLogin%3Fcontinue%3Dhttps://www.google.com/search%253Fq%253Dyahoo%252Bfinance%252BBTC%2526tbm%253Dnws%26hl%3Den&opi=89978449&sa=U&ved=0ahUKEwjD3dO8ss-KAxVp1jQHHXlFJO8Qxs8CCFQ&usg=AOvVaw2_IqH1iiVCO8mEZBli-uxK',\n",
       "  'https://www.google.com/preferences?hl=en-IN&fg=1&sa=X&ved=0ahUKEwjD3dO8ss-KAxVp1jQHHXlFJO8Q5fUCCFU',\n",
       "  'https://policies.google.com/privacy?hl=en-IN&fg=1',\n",
       "  'https://policies.google.com/terms?hl=en-IN&fg=1',\n",
       "  '/setprefs?hl=en&prev=https://www.google.com/search?q%3Dyahoo%2Bfinance%2BBTC%26tbm%3Dnws%26pccc%3D1&sig=0_zDuTX274SljoSxbvwy3xTyYjTtE%3D&cs=2&sa=X&ved=0ahUKEwjD3dO8ss-KAxVp1jQHHXlFJO8QjcAJCFY']}"
      ]
     },
     "execution_count": 11,
     "metadata": {},
     "output_type": "execute_result"
    }
   ],
   "source": [
    "raw_urls = {ticker:search_for_stock_news_urls(ticker) for ticker in monitored_tickers}\n",
    "raw_urls"
   ]
  },
  {
   "cell_type": "code",
   "execution_count": 12,
   "metadata": {},
   "outputs": [
    {
     "data": {
      "text/plain": [
       "['/?sa=X&ved=0ahUKEwims967ss-KAxVqrVYBHSa-Kh8QOwgC',\n",
       " '/search?q=yahoo+finance+GME&sca_esv=b564cb405e09753d&ie=UTF-8&tbm=nws&gbv=1&sei=k4RyZ-adLura2roPpvyq-QE',\n",
       " '/search?q=yahoo+finance+GME&sca_esv=b564cb405e09753d&ie=UTF-8&source=lnms&sa=X&ved=0ahUKEwims967ss-KAxVqrVYBHSa-Kh8Q_AUIBSgA',\n",
       " '/search?q=yahoo+finance+GME&sca_esv=b564cb405e09753d&ie=UTF-8&tbm=vid&source=lnms&sa=X&ved=0ahUKEwims967ss-KAxVqrVYBHSa-Kh8Q_AUIBygC',\n",
       " '/search?q=yahoo+finance+GME&sca_esv=b564cb405e09753d&ie=UTF-8&tbm=bks&source=lnms&sa=X&ved=0ahUKEwims967ss-KAxVqrVYBHSa-Kh8Q_AUICCgD',\n",
       " '/search?q=yahoo+finance+GME&sca_esv=b564cb405e09753d&ie=UTF-8&tbm=isch&source=lnms&sa=X&ved=0ahUKEwims967ss-KAxVqrVYBHSa-Kh8Q_AUICSgE',\n",
       " '/url?q=https://maps.google.com/maps%3Fq%3Dyahoo%2Bfinance%2BGME%26um%3D1%26ie%3DUTF-8%26ved%3D1t:200713%26ictx%3D111&opi=89978449&sa=U&ved=0ahUKEwims967ss-KAxVqrVYBHSa-Kh8QiaAMCAooBQ&usg=AOvVaw34HddZrhIL1kfjJqrdq3aW',\n",
       " '/url?q=/search%3Fq%3Dyahoo%2Bfinance%2BGME%26sca_esv%3Db564cb405e09753d%26ie%3DUTF-8%26tbm%3Dshop%26source%3Dlnms%26ved%3D1t:200713%26ictx%3D111&opi=89978449&sa=U&ved=0ahUKEwims967ss-KAxVqrVYBHSa-Kh8QiaAMCAsoBg&usg=AOvVaw0WD9U5iL_TJp1GZ0BkZv2H',\n",
       " '/advanced_search',\n",
       " '/search?q=yahoo+finance+GME&sca_esv=b564cb405e09753d&ie=UTF-8&tbm=nws&source=lnt&tbs=qdr:h&sa=X&ved=0ahUKEwims967ss-KAxVqrVYBHSa-Kh8QpwUIDQ',\n",
       " '/search?q=yahoo+finance+GME&sca_esv=b564cb405e09753d&ie=UTF-8&tbm=nws&source=lnt&tbs=qdr:d&sa=X&ved=0ahUKEwims967ss-KAxVqrVYBHSa-Kh8QpwUIDg',\n",
       " '/search?q=yahoo+finance+GME&sca_esv=b564cb405e09753d&ie=UTF-8&tbm=nws&source=lnt&tbs=qdr:w&sa=X&ved=0ahUKEwims967ss-KAxVqrVYBHSa-Kh8QpwUIDw',\n",
       " '/search?q=yahoo+finance+GME&sca_esv=b564cb405e09753d&ie=UTF-8&tbm=nws&source=lnt&tbs=qdr:m&sa=X&ved=0ahUKEwims967ss-KAxVqrVYBHSa-Kh8QpwUIEA',\n",
       " '/search?q=yahoo+finance+GME&sca_esv=b564cb405e09753d&ie=UTF-8&tbm=nws&source=lnt&tbs=qdr:y&sa=X&ved=0ahUKEwims967ss-KAxVqrVYBHSa-Kh8QpwUIEQ',\n",
       " '/search?q=yahoo+finance+GME&sca_esv=b564cb405e09753d&ie=UTF-8&tbm=nws&source=lnt&tbs=ar:1&sa=X&ved=0ahUKEwims967ss-KAxVqrVYBHSa-Kh8QpwUIEg',\n",
       " '/search?q=yahoo+finance+GME&sca_esv=b564cb405e09753d&ie=UTF-8&tbm=nws&source=lnt&tbs=sbd:1&sa=X&ved=0ahUKEwims967ss-KAxVqrVYBHSa-Kh8QpwUIFA',\n",
       " '/url?q=https://finance.yahoo.com/news/3-reasons-sell-gme-1-091114257.html&sa=U&ved=2ahUKEwims967ss-KAxVqrVYBHSa-Kh8QxfQBegQIAxAC&usg=AOvVaw1ossTlnXqR0BLHk6dkgn0_',\n",
       " '/url?q=https://finance.yahoo.com/news/why-gamestop-gme-stock-down-162604744.html&sa=U&ved=2ahUKEwims967ss-KAxVqrVYBHSa-Kh8QxfQBegQICRAC&usg=AOvVaw2jMnTX8kBO5Q0xHDW9Vygp',\n",
       " '/url?q=https://finance.yahoo.com/news/bull-day-gamestop-gme-090000895.html&sa=U&ved=2ahUKEwims967ss-KAxVqrVYBHSa-Kh8QxfQBegQIBxAC&usg=AOvVaw292k1hdZqLtuOK7ilJ5c5W',\n",
       " '/url?q=https://finance.yahoo.com/news/company-news-dec-27-2024-122000815.html&sa=U&ved=2ahUKEwims967ss-KAxVqrVYBHSa-Kh8QxfQBegQIARAC&usg=AOvVaw3hyIIKXJ3KiXyIsz3x1whZ',\n",
       " '/url?q=https://finance.yahoo.com/news/gamestop-gets-holiday-boost-roaring-163100508.html&sa=U&ved=2ahUKEwims967ss-KAxVqrVYBHSa-Kh8QxfQBegQIBRAC&usg=AOvVaw1ykFCHflBr7wmD9RmWZvTo',\n",
       " '/url?q=https://finance.yahoo.com/news/makes-gamestop-gme-strong-buy-170011043.html&sa=U&ved=2ahUKEwims967ss-KAxVqrVYBHSa-Kh8QxfQBegQIAhAC&usg=AOvVaw1yT7DwWwREFGCyNJ5Cb-QM',\n",
       " '/url?q=https://finance.yahoo.com/news/gamestop-gme-stock-outpacing-consumer-144011955.html&sa=U&ved=2ahUKEwims967ss-KAxVqrVYBHSa-Kh8QxfQBegQIBhAC&usg=AOvVaw1UZDvSFPOi9xAA9XFDGIfz',\n",
       " '/url?q=https://finance.yahoo.com/news/gamestop-nyse-gme-reports-sales-211114985.html&sa=U&ved=2ahUKEwims967ss-KAxVqrVYBHSa-Kh8QxfQBegQICBAC&usg=AOvVaw2SqsMn9-gOJf6bCpg3lgFJ',\n",
       " '/url?q=https://finance.yahoo.com/news/gamestop-gme-registers-bigger-fall-214521016.html&sa=U&ved=2ahUKEwims967ss-KAxVqrVYBHSa-Kh8QxfQBegQIABAC&usg=AOvVaw36XbhAj2B1W5aVDk0mU8KL',\n",
       " '/url?q=https://finance.yahoo.com/news/jim-cramer-refers-gamestop-corp-235402974.html&sa=U&ved=2ahUKEwims967ss-KAxVqrVYBHSa-Kh8QxfQBegQIBBAC&usg=AOvVaw1hSzmKNX7jtWMDEdDCM2E3',\n",
       " '/search?q=yahoo+finance+GME&sca_esv=b564cb405e09753d&ie=UTF-8&tbm=nws&ei=k4RyZ-adLura2roPpvyq-QE&start=10&sa=N',\n",
       " '/url?q=https://support.google.com/websearch%3Fp%3Dws_settings_location%26hl%3Den-IN&opi=89978449&sa=U&ved=0ahUKEwims967ss-KAxVqrVYBHSa-Kh8Qty4IUw&usg=AOvVaw2BRiAT3cBWnFb59YrXyuPI',\n",
       " '/url?q=https://accounts.google.com/ServiceLogin%3Fcontinue%3Dhttps://www.google.com/search%253Fq%253Dyahoo%252Bfinance%252BGME%2526tbm%253Dnws%26hl%3Den&opi=89978449&sa=U&ved=0ahUKEwims967ss-KAxVqrVYBHSa-Kh8Qxs8CCFQ&usg=AOvVaw0J5fksqs1beQ7R5CI-6xT_',\n",
       " 'https://www.google.com/preferences?hl=en-IN&fg=1&sa=X&ved=0ahUKEwims967ss-KAxVqrVYBHSa-Kh8Q5fUCCFU',\n",
       " 'https://policies.google.com/privacy?hl=en-IN&fg=1',\n",
       " 'https://policies.google.com/terms?hl=en-IN&fg=1',\n",
       " '/setprefs?hl=en&prev=https://www.google.com/search?q%3Dyahoo%2Bfinance%2BGME%26tbm%3Dnws%26pccc%3D1&sig=0_d4LIjelB6ptBFy4q4aZFqBnwVsA%3D&cs=2&sa=X&ved=0ahUKEwims967ss-KAxVqrVYBHSa-Kh8QjcAJCFY']"
      ]
     },
     "execution_count": 12,
     "metadata": {},
     "output_type": "execute_result"
    }
   ],
   "source": [
    "raw_urls['GME']"
   ]
  },
  {
   "cell_type": "markdown",
   "metadata": {},
   "source": [
    "## 4.2. Strip out unwanted URLs"
   ]
  },
  {
   "cell_type": "code",
   "execution_count": 13,
   "metadata": {},
   "outputs": [],
   "source": [
    "import re"
   ]
  },
  {
   "cell_type": "code",
   "execution_count": 14,
   "metadata": {},
   "outputs": [],
   "source": [
    "exclude_list = ['maps', 'policies', 'preferences', 'accounts', 'support']"
   ]
  },
  {
   "cell_type": "code",
   "execution_count": 15,
   "metadata": {},
   "outputs": [],
   "source": [
    "def strip_unwanted_urls(urls, exclude_list):\n",
    "    val = []\n",
    "    for url in urls: \n",
    "        if 'https://' in url and not any(exclude_word in url for exclude_word in exclude_list):\n",
    "            res = re.findall(r'(https?://\\S+)', url)[0].split('&')[0]\n",
    "            val.append(res)\n",
    "    return list(set(val))"
   ]
  },
  {
   "cell_type": "code",
   "execution_count": 16,
   "metadata": {},
   "outputs": [
    {
     "data": {
      "text/plain": [
       "{'GME': ['https://finance.yahoo.com/news/makes-gamestop-gme-strong-buy-170011043.html',\n",
       "  'https://finance.yahoo.com/news/why-gamestop-gme-stock-down-162604744.html',\n",
       "  'https://finance.yahoo.com/news/gamestop-gets-holiday-boost-roaring-163100508.html',\n",
       "  'https://finance.yahoo.com/news/company-news-dec-27-2024-122000815.html',\n",
       "  'https://www.google.com/search?q%3Dyahoo%2Bfinance%2BGME%26tbm%3Dnws%26pccc%3D1',\n",
       "  'https://finance.yahoo.com/news/gamestop-gme-stock-outpacing-consumer-144011955.html',\n",
       "  'https://finance.yahoo.com/news/gamestop-nyse-gme-reports-sales-211114985.html',\n",
       "  'https://finance.yahoo.com/news/jim-cramer-refers-gamestop-corp-235402974.html',\n",
       "  'https://finance.yahoo.com/news/3-reasons-sell-gme-1-091114257.html',\n",
       "  'https://finance.yahoo.com/news/bull-day-gamestop-gme-090000895.html',\n",
       "  'https://finance.yahoo.com/news/gamestop-gme-registers-bigger-fall-214521016.html'],\n",
       " 'TSLA': ['https://finance.yahoo.com/news/tesla-2024-3-things-that-defined-its-big-year-140032809.html',\n",
       "  'https://www.google.com/search?q%3Dyahoo%2Bfinance%2BTSLA%26tbm%3Dnws%26pccc%3D1',\n",
       "  'https://finance.yahoo.com/news/tesla-stock-jumps-to-another-high-as-mizuho-more-than-doubles-price-target-to-515-163030620.html',\n",
       "  'https://finance.yahoo.com/news/why-tesla-tsla-shares-falling-162607540.html',\n",
       "  'https://finance.yahoo.com/news/watch-tesla-price-levels-stock-032341339.html',\n",
       "  'https://finance.yahoo.com/news/nvidia-gm-walmart-palantir-tesla-meta-and-others-battle-this-yahoo-finance-awards-season-110036402.html',\n",
       "  'https://finance.yahoo.com/video/consumer-discretionary-tesla-led-sectors-154352588.html',\n",
       "  'https://finance.yahoo.com/news/tesla-stock-pops-as-giga-austin-visit-has-bofa-bullish-172718038.html',\n",
       "  'https://finance.yahoo.com/news/teslas-cheaper-model-q-on-the-way-and-likely-new-china-ev-analyst-says-following-tesla-meeting-164534610.html',\n",
       "  'https://finance.yahoo.com/news/jim-cramer-tesla-inc-tsla-051807610.html',\n",
       "  'https://finance.yahoo.com/news/tesla-stock-buy-2025-092600652.html'],\n",
       " 'BTC': ['https://finance.yahoo.com/news/bitcoin-surpasses-107000-to-hit-new-high-amid-relentless-etf-demand-172001994.html',\n",
       "  'https://www.yahoo.com/finance/news/bitcoins-price-may-peak-mid-090001631.html',\n",
       "  'https://finance.yahoo.com/video/crypto-surge-key-players-reveal-130034728.html',\n",
       "  'https://finance.yahoo.com/video/kulr-technology-stock-pops-bitcoin-205706742.html',\n",
       "  'https://finance.yahoo.com/video/stocks-set-open-lower-jobless-140951379.html',\n",
       "  'https://www.google.com/search?q%3Dyahoo%2Bfinance%2BBTC%26tbm%3Dnws%26pccc%3D1',\n",
       "  'https://finance.yahoo.com/video/us-strategic-could-push-bitcoin-213000587.html',\n",
       "  'https://finance.yahoo.com/news/bitcoin-drops-below-94k-market-055852355.html',\n",
       "  'https://finance.yahoo.com/news/bitcoin-just-crossed-100000-for-the-first-time-wall-street-sees-200000-following-soon-200622402.html',\n",
       "  'https://finance.yahoo.com/video/stocks-erase-earlier-losses-bitcoin-181630721.html',\n",
       "  'https://finance.yahoo.com/news/live/stock-market-today-dow-ekes-out-gains-bitcoin-slumps-as-santa-claus-rally-takes-a-pause-175235354.html']}"
      ]
     },
     "execution_count": 16,
     "metadata": {},
     "output_type": "execute_result"
    }
   ],
   "source": [
    "cleaned_urls = {ticker:strip_unwanted_urls(raw_urls[ticker], exclude_list) for ticker in monitored_tickers}\n",
    "cleaned_urls"
   ]
  },
  {
   "cell_type": "markdown",
   "metadata": {},
   "source": [
    "## 4.3. Search and Scrape Cleaned URLs"
   ]
  },
  {
   "cell_type": "code",
   "execution_count": 17,
   "metadata": {},
   "outputs": [],
   "source": [
    "def scrape_and_process(URLs):\n",
    "    ARTICLES = []\n",
    "    for url in URLs: \n",
    "        r = requests.get(url)\n",
    "        soup = BeautifulSoup(r.text, 'html.parser')\n",
    "        paragraphs = soup.find_all('p')\n",
    "        text = [paragraph.text for paragraph in paragraphs]\n",
    "        words = ' '.join(text).split(' ')[:350]\n",
    "        ARTICLE = ' '.join(words)\n",
    "        ARTICLES.append(ARTICLE)\n",
    "    return ARTICLES"
   ]
  },
  {
   "cell_type": "code",
   "execution_count": 18,
   "metadata": {},
   "outputs": [
    {
     "data": {
      "text/plain": [
       "{'GME': [\"We are experiencing some temporary issues. The market data on this page is currently delayed. Please bear with us as we address this and restore your personalized lists. Investors might want to bet on GameStop (GME), as it has been recently upgraded to a Zacks Rank #1 (Strong Buy). An upward trend in earnings estimates -- one of the most powerful forces impacting stock prices -- has triggered this rating change. A company's changing earnings picture is at the core of the Zacks rating. The system tracks the Zacks Consensus Estimate -- the consensus measure of EPS estimates from the sell-side analysts covering the stock -- for the current and following years. The power of a changing earnings picture in determining near-term stock price movements makes the Zacks rating system highly useful for individual investors, since it can be difficult to make decisions based on rating upgrades by Wall Street analysts. These are mostly driven by subjective factors that are hard to see and measure in real time. As such, the Zacks rating upgrade for GameStop is essentially a positive comment on its earnings outlook that could have a favorable impact on its stock price. The change in a company's future earnings potential, as reflected in earnings estimate revisions, has proven to be strongly correlated with the near-term price movement of its stock. That's partly because of the influence of institutional investors that use earnings and earnings estimates for calculating the fair value of a company's shares. An increase or decrease in earnings estimates in their valuation models simply results in higher or lower fair value for a stock, and institutional investors typically buy or sell it. Their bulk investment action then leads to price movement for the stock. For GameStop, rising earnings estimates and the consequent rating upgrade fundamentally mean an improvement in the company's underlying business. And investors' appreciation of this improving business trend should push the stock higher. Empirical research shows a strong correlation between trends in earnings estimate revisions and near-term stock movements, so it could be truly rewarding if such revisions are tracked for making\",\n",
       "  'We are experiencing some temporary issues. The market data on this page is currently delayed. Please bear with us as we address this and restore your personalized lists. Shares of video game retailer GameStop (NYSE:GME) fell 5.2% in the morning session after the major indices declined sharply (Nasdaq down 1.9%, S&P 500 down 1.1%) as investors appeared to be locking in some gains in a year marked by significant progress in the Fed\\'s effort to deliver a soft landing—taming inflation without causing more damage to the economy—despite early signs of weakness in the labor market. With two more trading days to wrap up the year, investors are likely hoping for a \"Santa Claus Rally.\" So far, the Nasdaq has climbed more than 30% year to date, while the S&P 500 has gained over 25%, reflecting the resilience of the U.S. economy. The improved momentum, especially in the second half of the year, was fueled by the ongoing investment in AI within the tech sector, the Fed\\'s continued dovish shift as inflation cooled, enabling the Powell-led committee to deliver three rate cuts (0.5% in September and 0.25% each in November and December). Additionally, the November 2024 elections sparked optimism for more business-friendly regulations in energy, tech, and industrials following Donald Trump\\'s return to the presidency. Nonetheless, the outlook for 2025 remains clouded by the pace and magnitude of future rate cuts as well as potential changes in trade policy and corporate taxes once the Trump administration takes over. The path forward is marked by uncertainty. The stock market overreacts to news, and big price drops can present good opportunities to buy high-quality stocks. Is now the time to buy GameStop? Access our full analysis report here, it’s free. GameStop’s shares are extremely volatile and have had 55 moves greater than 5% over the last year. In that context, today’s move indicates the market considers this news meaningful but not something that would fundamentally change its perception of the business. The previous big move we wrote about was 16 days ago when the stock gained 8.5% on the news that the company',\n",
       "  'We are experiencing some temporary issues. The market data on this page is currently delayed. Please bear with us as we address this and restore your personalized lists. Shares of the popular meme stock GameStop (GME) (GME) increased on Thursday afternoon after Keith Gill, the investor popularly known as “Roaring Kitty,” shared an image of a wrapped Christmas present on X. While it’s unclear what is inside the gift box, the video game retailer’s fans went on a buying spree on Thursday morning, which helped lift the stock price by 3.5%, bringing it to $32 per share. Till Thursday mid-morning, more than 4 million people had viewed the post, which received 47,000 likes and 8,800 retweets. This isn’t the first time Gill has posted a vague message or image on Twitter, leaving followers wondering what it means and driving up the stock price. GameStop’s run as a meme stock reached its peak in 2021 when a group of small investors, encouraged by the Reddit community WallStreetBets and helped along by an Elon Musk tweet, pushed its shares from $3 to $120. Following that, Gill disappeared from Twitter. Earlier this year, Gill ended his three-year hiatus with a tweet in May. He posted a picture on X featuring a gamer leaning forward in a chair, which suggested intense focus. This prompted speculation among his followers that he might return to Reddit. Shares of the company are up nearly 94% year-to-date. Earlier this month, GameStop reported its latest quarterly results, which showed a decline in sales. For the latest news, Facebook, Twitter and Instagram. Sign in to access your portfolio',\n",
       "  'We are experiencing some temporary issues. The market data on this page is currently delayed. Please bear with us as we address this and restore your personalized lists. Shares of Toyota Motor Corporation (TM) increased 8.8% following reports that the company plans to double its return on equity target, signaling stronger financial performance. GameStop Corp. (GME) shares rose 5.9% after “Roaring Kitty,” Keith Gill, made a mysterious social media post that excited meme stock investors. Apple (AAPL) shares rose 0.3% as the company moved closer to becoming the first ever to reach a $4 trillion market valuation. MicroStrategy Incorporated (MSTR) shares fell 4.8% as Bitcoin prices dropped by 3.4%. Want the latest recommendations from Zacks Investment Research? Today, you can download 7 Best Stocks for the Next 30 Days. Click to get this free report Apple Inc. (AAPL) : Free Stock Analysis Report Toyota Motor Corporation (TM) : Free Stock Analysis Report GameStop Corp. (GME) : Free Stock Analysis Report MicroStrategy Incorporated (MSTR) : Free Stock Analysis Report To read this article on Zacks.com click here. Zacks Investment Research Sign in to access your portfolio',\n",
       "  '© 2024 - Privacy - Terms',\n",
       "  \"We are experiencing some temporary issues. The market data on this page is currently delayed. Please bear with us as we address this and restore your personalized lists. For those looking to find strong Consumer Discretionary stocks, it is prudent to search for companies in the group that are outperforming their peers. Is GameStop (GME) one of those stocks right now? Let's take a closer look at the stock's year-to-date performance to find out. GameStop is a member of our Consumer Discretionary group, which includes 272 different companies and currently sits at #6 in the Zacks Sector Rank. The Zacks Sector Rank considers 16 different sector groups. The average Zacks Rank of the individual stocks within the groups is measured, and the sectors are listed from best to worst. The Zacks Rank emphasizes earnings estimates and estimate revisions to find stocks with improving earnings outlooks. This system has a long record of success, and these stocks tend to be on track to beat the market over the next one to three months. GameStop is currently sporting a Zacks Rank of #1 (Strong Buy). Over the past 90 days, the Zacks Consensus Estimate for GME's full-year earnings has moved 700% higher. This shows that analyst sentiment has improved and the company's earnings outlook is stronger. According to our latest data, GME has moved about 59.7% on a year-to-date basis. In comparison, Consumer Discretionary companies have returned an average of 15.6%. This means that GameStop is performing better than its sector in terms of year-to-date returns. Another stock in the Consumer Discretionary sector, Cinemark Holdings (CNK), has outperformed the sector so far this year. The stock's year-to-date return is 128.3%. The consensus estimate for Cinemark Holdings' current year EPS has increased 49.6% over the past three months. The stock currently has a Zacks Rank #2 (Buy). To break things down more, GameStop belongs to the Gaming industry, a group that includes 42 individual companies and currently sits at #148 in the Zacks Industry Rank. This group has gained an average of 25.3% so far this year, so GME is performing better in\",\n",
       "  'We are experiencing some temporary issues. The market data on this page is currently delayed. Please bear with us as we address this and restore your personalized lists. Video game retailer GameStop (NYSE:GME) missed Wall Street’s revenue expectations in Q3 CY2024, with sales falling 20.2% year on year to $860.3 million. Its non-GAAP profit of $0.06 per share was significantly above analysts’ consensus estimates. Is now the time to buy GameStop? Find out in our full research report. Revenue: $860.3 million vs analyst estimates of $887.7 million (20.2% year-on-year decline, 3.1% miss) Adjusted EPS: $0.06 vs analyst estimates of -$0.03 (significant beat) Operating Margin: -3.9%, down from -1.4% in the same quarter last year Free Cash Flow Margin: 2.3%, up from 1% in the same quarter last year Market Capitalization: $12.47 billion Drawing gaming fans with demo units set up with the latest releases, GameStop (NYSE:GME) sells new and used video games, consoles, and accessories, as well as pop culture merchandise. After a long day, some of us want to just watch TV, play video games, listen to music, or scroll through our phones; electronics and gaming retailers sell the technology that makes this possible, plus more. Shoppers can find everything from surround-sound speakers to gaming controllers to home appliances in their stores. Competitive prices and helpful store associates that can talk through topics like the latest technology in gaming and installation keep customers coming back. This is a category that has moved rapidly online over the last few decades, so these electronics and gaming retailers have needed to be nimble and aggressive with their e-commerce and omnichannel investments. A company’s long-term performance is an indicator of its overall quality. While any business can experience short-term success, top-performing ones enjoy sustained growth for years. GameStop is a small retailer, which sometimes brings disadvantages compared to larger competitors benefiting from economies of scale and negotiating leverage. As you can see below, GameStop struggled to generate demand over the last five years (we compare to 2019 to normalize for COVID-19 impacts). Its sales dropped by 10% annually as it closed stores and',\n",
       "  \"We are experiencing some temporary issues. The market data on this page is currently delayed. Please bear with us as we address this and restore your personalized lists. We recently compiled a list of the Jim Cramer's Game Plan This Week: 10 Stocks to Watch.\\xa0In this article, we are going to take a look at where GameStop Corp. (NYSE:GME) stands against the other stocks featured in Jim Cramer's game plan for this week . Jim Cramer, the host of Mad Money, recently discussed the current state of the market, touching on various factors including upcoming earnings reports and new inflation data. Reflecting on the November jobs report, which came in largely as expected, Cramer noted: “After basically in line November jobs report, better than October, but with the unemployment rate still ticking up to 4.2%, I don't think that does much to change the Federal Reserve's rate cut calculus.” On Friday, Cramer remarked that the market had a relatively calm session, with the Dow dipping by 123 points, the S&P gaining 0.25%, and the NASDAQ climbing 0.81%. He emphasized that nothing about Friday’s action surprised him, and he maintained his expectation for a 25-basis point rate cut later this month. Cramer added that he still anticipates the Fed will go ahead with this move despite the recent data. READ ALSO Jim Cramer Discussed 10 Stocks That Can Do Well in December and Jim Cramer’s Lightning Round: 7 Stocks to Watch Looking ahead, Cramer highlighted Wednesday’s upcoming release of the Consumer Price Index (CPI), which he noted could play a crucial role in the Fed’s decision-making. With the Federal Reserve meeting in just two weeks, he cautioned that there will be chatter about the Fed’s decision to cut rates. “All of us still see high prices when we go to the supermarket, right? So we shouldn't be surprised if the CPI comes in hot. At that point, why should the Fed really bother to cut? Be ready for that kind of chatter. Don't worry, they'll still cut.” The following day, Thursday, will bring the release of the Producer Price Index (PPI),\",\n",
       "  \"We are experiencing some temporary issues. The market data on this page is currently delayed. Please bear with us as we address this and restore your personalized lists. GameStop currently trades at $32.17 and has been a dream stock for shareholders. It’s returned 2,081% since December 2019, blowing past the S&P 500’s 85.7% gain. The company has also beaten the index over the past six months as its stock price is up 28.2% thanks to its solid quarterly results. Is there a buying opportunity in GameStop, or does it present a risk to your portfolio? Get the full stock story straight from our expert analysts, it’s free. We’re happy investors have made money, but we're sitting this one out for now. Here are three reasons why GME doesn't excite us and a stock we'd rather own. Drawing gaming fans with demo units set up with the latest releases, GameStop (NYSE:GME) sells new and used video games, consoles, and accessories, as well as pop culture merchandise. Same-store sales show the change in sales for a retailer's e-commerce platform and brick-and-mortar shops that have existed for at least a year. This is a key performance indicator because it measures organic growth. GameStop’s demand has been shrinking over the last two years as its same-store sales have averaged 4.5% annual declines. Note that GameStop reports its same-store sales intermittently, so some data points are missing in the chart below. Operating margin is an important measure of profitability as it shows the portion of revenue left after accounting for all core expenses–everything from the cost of goods sold to advertising and wages. It’s also useful for comparing profitability across companies with different levels of debt and tax rates because it excludes interest and taxes. GameStop was roughly breakeven when averaging the last two years of quarterly operating profits, one of the worst outcomes in the consumer retail sector. This result isn’t too surprising given its low gross margin as a starting point. Growth gives us insight into a company’s long-term potential, but how capital-efficient was that growth? A company’s ROIC explains this by showing\",\n",
       "  'We are experiencing some temporary issues. The market data on this page is currently delayed. Please bear with us as we address this and restore your personalized lists. Zacks Rank #1 (Strong Buy) stock GameStop (GME) is the leading brick-and-mortar video game and gaming console retailer. GameStop, the world’s largest video game retailer, has more than 4,000 locations internationally. The company also has an online presence with its GameStop.com and EBgames.com websites. Despite GME’s dominance in the gaming realm, digitization in the industry has led to hurdles for the company and sparked management close some GameStop locations and take portfolio optimization measures. The Covid-19 era was truly unprecedented on Wall Street and let to the “meme stock” craze. As the unknown virus spread, most US citizens who were deemed “non-essential” workers, were told by their managers to work from home. With no sports on television, many gyms closed, and little in the way of activities to do, many people who previously never traded stocks began to take up interest in Wall Street and open Robinhood (HOOD) brokerage accounts. These new investors, flush with stimulus checks from the government, took to social media platform Redditt (RDDT) to discuss stock ideas. Under the “subreddit” r/WallStreetBets, a large group of savvy retail investors banded together to orchestrate a short squeeze. The plan worked, and institutional investors who were heavily short the stock were “squeezed” sending GME shares soaring by more than 6,000% Image Source: Zacks Investment Research Normally, most short squeeze stories would end with the stock crashing back to Earth and investors who failed to sell into the spike, out of luck. However, the GME story is different in that there have been multiple short squeezes, and each time management has made the prescient decision of raising cash through stock sales near the top, translating to a massive cash hoard for the company. Image Source: Zacks Investment Research GameStop enjoys more than $4 billion in cash reserves as a result of management’s prudent stock sales. This large cash hoard gives the company flexibility to make strategic investments, acquisitions, or pay a special',\n",
       "  'Thank you for your patience. Our engineers are working quickly to resolve the issue.'],\n",
       " 'TSLA': [\"We are experiencing some temporary issues. The market data on this page is currently delayed. Please bear with us as we address this and restore your personalized lists. Tesla's (TSLA) 2024 went out with a bang, thanks to CEO Elon Musk and one of his biggest gambles yet. While the stock gained over 70% year to date thanks to a post-Trump election surge, it wasn’t all smooth sailing for the EV giant. Here are three highlights from the year and what to expect in 2025. When Tesla released its third quarter 2023 results in January, it warned its production growth would be “notably lower” in the year ahead. Meanwhile, investors questioning Tesla’s profitability picture in March sent shares to their lowest in nearly a year. Another big delivery miss in the first quarter didn’t help matters — nor did growing competition in China. Musk saw an opening and tried to turn the tide, claiming Tesla would finally reveal its long-awaited robotaxi in August. Initially, there was concern that the robotaxi push would hamper the release of the cheaper EV or relegate it to the dustbin. Emmanuel Rosner, a Deutsche Bank analyst at the time, felt Tesla’s focus on the robotaxi came at the abandonment of the cheap EV, which was a main reason for owning the stock. In fact, Musk had said in the past that a cheap EV would be difficult to make profitably. Later in the month of April, after Tesla stock hit its nadir for the year, Tesla confirmed in its fiscal Q1 earnings report it would indeed accelerate the launch of more affordable vehicles while it worked on the robotaxi, assuaging investors and analysts. A couple of months later, while investors awaited news on the robotaxi and cheap EV, issues with design and functionality led Tesla to delay its robotaxi reveal to Oct. 10. At the time of the robotaxi delay, a run-up in shares plus Musk’s open support for Donald Trump — whose antipathy toward EVs was not secret — led some investors to dump Tesla shares. “TSLA has always traded with a premium attached\",\n",
       "  '© 2024 - Privacy - Terms',\n",
       "  'We are experiencing some temporary issues. The market data on this page is currently delayed. Please bear with us as we address this and restore your personalized lists. Tesla stock (TSLA) pushed higher on Tuesday, hitting another record and adding to monster end-of-year gains as another Wall Street analyst says there\\'s more room to run. Tesla shares jumped 3.6%, closing over $479 per share. The stock is up nearly 20% in the past five days, reflecting positive news reports regarding Tesla\\'s — and CEO Elon Musk’s — connection to President-elect Donald Trump. Tesla stock is now up over 85% since Election Day. The latest analyst to weigh in is Vijay Rakesh of Mizuho Securities, who upgraded Tesla to Outperform from Neutral and more than doubled his price target to $515 from $230. Citing \"idiosyncratic tailwinds,\" Rakesh like other analysts, believes loosening autonomous driving rules from the incoming Trump administration, the repeal of consumer electric vehicle tax credits — which Rakesh believes will ultimately benefit Tesla over others — and a more profitable low-cost EV versus its peers gives Tesla room to run in 2025 and beyond. \"We expect TSLA\\'s leadership across EVs, solar/battery storage, and charging infrastructure should allow the company to better weather the storm than less-established peers as the Trump administration removes subsidies for key end-markets,\" Rakesh wrote to clients. \"We also see less stringent regulation on autonomous vehicles (\\'AVs\\') as a key tailwind to TSLA\\'s ability to scale FSD/Robo-Taxi deployments, with our base case scenario implying significant long-term revenue from AV operations.\" Bumping Mizuho\\'s price target to $515 shows the bank is playing catch-up due to missing out on the rally, but the firm\\'s new target implies around 10% more upside is possible. Mizuho and Rakesh see a \"bull case\" of $681 a share if Tesla can accelerate its Full Self-Driving (FSD) and robotaxi deployments, and hit breakthroughs with its Optimus robot and AI development. On Monday Wedbush analyst Dan Ives kicked off Tesla\\'s good week with a price target improvement as well. “We estimate the AI and autonomous opportunity is worth at least $1 trillion alone',\n",
       "  'We are experiencing some temporary issues. The market data on this page is currently delayed. Please bear with us as we address this and restore your personalized lists. Shares of electric vehicle pioneer Tesla (NASDAQ:TSLA) fell 4.6% in the morning session after the major indices declined sharply (Nasdaq down 1.9%, S&P 500 down 1.1%) as investors appeared to be locking in some gains in a year marked by significant progress in the Fed\\'s effort to deliver a soft landing—taming inflation without causing more damage to the economy—despite early signs of weakness in the labor market. With two more trading days to wrap up the year, investors are likely hoping for a \"Santa Claus Rally.\" So far, the Nasdaq has climbed more than 30% year to date, while the S&P 500 has gained over 25%, reflecting the resilience of the U.S. economy. The improved momentum, especially in the second half of the year, was fueled by the ongoing investment in AI within the tech sector, the Fed\\'s continued dovish shift as inflation cooled, enabling the Powell-led committee to deliver three rate cuts (0.5% in September and 0.25% each in November and December). Additionally, the November 2024 elections sparked optimism for more business-friendly regulations in energy, tech, and industrials following Donald Trump\\'s return to the presidency. Nonetheless, the outlook for 2025 remains clouded by the pace and magnitude of future rate cuts as well as potential changes in trade policy and corporate taxes once the Trump administration takes over. The path forward is marked by uncertainty. The stock market overreacts to news, and big price drops can present good opportunities to buy high-quality stocks. Is now the time to buy Tesla? Access our full analysis report here, it’s free. Tesla’s shares are extremely volatile and have had 107 moves greater than 2.5% over the last year. In that context, today’s move indicates the market considers this news meaningful but not something that would fundamentally change its perception of the business. The previous big move we wrote about was 9 days ago when the stock dropped 7.1% as stocks tumbled (Nasdaq down 2%,',\n",
       "  \"We are experiencing some temporary issues. The market data on this page is currently delayed. Please bear with us as we address this and restore your personalized lists.  Tesla shares will be in focus to start the week after logging two consecutive days of losses, as investors look ahead to the EV maker’s fourth-quarter deliveries report. The stock has consolidated within a pennant, a chart pattern that signals a continuation of the current uptrend. A measured move, which calculates the distance in points of the impulsive move higher that preceded the pennant and adds that amount to the pattern’s top trendline, forecasts a price target of $615. During pullbacks, investors should watch key support levels on Tesla's chart around $360 and $300.  Tesla (TSLA) shares will be in focus to start the week after logging two consecutive days of losses, as investors reassess the stock’s extended post-election rally and look ahead to the EV maker’s fourth-quarter deliveries report. Wall Street predicts the deliveries number, which is expected to be released on Thursday, to come in around 510,000 units, which would represent 10% growth from the prior quarter and a 5% improvement from a year earlier. Since the Nov. 5 presidential election, Tesla shares have surged more than 70% on expectations that CEO Elon Musk’s ties with President-elect Donald Trump and growing influence in Washington will benefit the automaker’s autonomous driving ambitions. Tesla shares lost nearly 7% over the last two trading sessions, closing Friday at $431.66. The stock is down from an all-time high of $488.54 set on Dec. 18, the same day the Federal Reserve said that it would likely slow the pace of interest rate cuts in 2025. High interest rates could weigh on vehicle sales as most buyers finance purchases. Below, we take a closer look at the technicals on Tesla’s chart and point out important price levels to watch out for. Tesla shares trended sharply higher for several weeks after breaking out from an ascending triangle in early December, but have since consolidated within a pennant, a chart pattern that signals a continuation of\",\n",
       "  \"We are experiencing some temporary issues. The market data on this page is currently delayed. Please bear with us as we address this and restore your personalized lists. This is The Takeaway from today's Morning Brief, which you can sign up to receive in your inbox every morning along with: The chart of the day What we're watching What we're reading Economic data releases and earnings It's awards season here at Yahoo Finance! Yahoo Finance has been releasing its coveted Company of the Year award since 2014. Our newsroom has done some amazing work reporting on the annual award across text, video, social media, and infographics. In many instances, we've profiled companies before they became household names. In 2014, for example, we gave the award to what was then a scrappy workout apparel company named Under Armour (UA) as it was shaking up its industry. Last year, the award went to weight-loss drug and insulin supplier Novo Nordisk (NVO) for its life-changing work and stock price performance. We don’t take the decision of who wins lightly, and names are thoroughly discussed by our editorial leaders. The winner must fulfill several criteria laid out by our veteran team of news and investing lovers. These criteria range from stock price performance and financial performance to leadership effectiveness and a couple of intangibles. This year, we thought, why not throw some gas on this annual ritual and expand our awards franchise? So we have done just that. Starting Monday morning and continuing through Thursday, we'll reveal a winner in the following categories: Company of the Year Comeback of the Year Surprise of the Year Product of the Year There will be a host of exclusive interviews and content shared across Yahoo Finance video (which you can stream on desktop, our app, and all major streaming platforms) and our podcasts from sunup to sundown. The fun begins live on the Opening Bid podcast at 8:30 a.m. ET on Monday from the Nasdaq in Times Square. The feature leadership interviews will drop online at 6 a.m. ET each morning. I can tell you there were\",\n",
       "  'Thank you for your patience. Our engineers are working quickly to resolve the issue.',\n",
       "  \"We are experiencing some temporary issues. The market data on this page is currently delayed. Please bear with us as we address this and restore your personalized lists. Tesla (TSLA) stock popped Thursday on the back of bullish comments from BofA Securities, with the firm’s analysts fresh off a Giga Austin factory visit. “The trip gave us increased confidence that TSLA is well-positioned to grow in 2025+ with its core EV business and launch of its robotaxi offering, and longer-term from its investments in Optimus,” lead analyst John Murphy wrote in a note to investors. Murphy reiterated his Buy rating for Tesla and upped his price target to $400 from $350. Tesla shares jumped 3% in midday trade. Following the factory visit, Murphy and BofA claim the first big driver for Tesla is the prospect of an upcoming low-cost EV, which Tesla said is coming in the first half of 2025. Murphy believes the new vehicle will increase Tesla’s TAM (total addressable market), cost less than $30,000, and benefit from a lower cost due to factors like “de-contenting, making the motor more efficient and thereby enabling a smaller battery, and changing the interior,” among other factors. Murphy is confident the low-cost model won't be its only new model in 2025, per Tesla’s past statements. BofA and the team are also bullish on Tesla’s latest FSD (full self-driving) software, currently in beta. “The Cybertruck and Model Y we rode in … drove seamlessly to a charging station several miles away despite abnormal road conditions, traveling on roads under construction and taking a tough left turn against traffic,” Murphy wrote, noting that the minimal interventions needed by a human driver suggest a supervised launch of Tesla’s robotaxi business is near. Murphy said a shift to grow software-based products like FSD would also improve margins. Tesla has said it plans to expand its robotaxi testing next year, and CEO Elon Musk predicted during the Q3 earnings conference call that the Cybercab would reach volume production in 2026, with the company aiming for 2 million Cybercabs per year. One of the more intriguing points\",\n",
       "  'We are experiencing some temporary issues. The market data on this page is currently delayed. Please bear with us as we address this and restore your personalized lists. Deutsche Bank is upping its price target for Tesla (TSLA) following investor meetings where Tesla revealed more about its upcoming vehicles. While the majority of the meeting was about FSD (full self-driving), robotaxis, and Tesla’s Optimus robot, the discussion with Tesla investors and head of investor relations Travis Axelrod also covered what was coming down the product pipeline. “The new Tesla model (we refer to as ‘Model Q’) should launch in 1H25 and will be priced <$30,000 including subsidies (i.e., $37,499 if US EV tax credit goes away),” analyst Edison Yu wrote in a note late Monday. Yu also said there will likely be other vehicles intended to increase Tesla’s TAM (total addressable market), with Yu suspecting “a 3-row longer wheelbase Model Y variant” in China. There have also been rumors of a Tesla van for passengers and cargo, and while the cheaper EV was expected, the revelation of the Model Q name and a new Model Y variant coming to China was notable. Yu and Deutsche Bank upped their Tesla price target to $370 from $295, citing these new products and other Tesla initiatives. Tesla closed up 2.9%, resulting in a five-day winning streak for the stock. Yu is just the latest analyst touting the growth of Tesla’s TAM due to upcoming products. Last week BofA upped its Tesla price target following a Giga Austin factory visit. Bofa said the new, cheap EV will increase Tesla’s TAM, cost less than $30,000, and benefit from a lower cost due to reduced features and cost-cutting. BofA also said it was confident more models were coming in 2025. In addition, following its investor meeting with Axelrod, Yu wrote Tesla was confident that it would hit volume growth of 25%-30% next year, with the company touting its ability to squeeze out more production capacity in its existing factories. A main concern has been demand for Tesla and its EVs with regards to volume growth. Goldman',\n",
       "  \"We are experiencing some temporary issues. The market data on this page is currently delayed. Please bear with us as we address this and restore your personalized lists. We recently published an article titled Jim Cramer's Bold Predictions About These 15 AI Stocks.\\xa0In this article, we are going to take a look at where Tesla, Inc (NASDAQ:TSLA) stands against the other AI stocks Jim Cramer talked about. As trading in 2024 heads towards a close, major stock market indexes have had a good run despite mixed performance across sectors. The flagship S&P index is up 26% year-to-date while the broader NASDAQ index has gained 33.56%. On top of this, the index of the NASDAQ's top 100 stocks is up 29.8%, which solidifies the conclusion that technology stocks have driven the stock market's 2024 returns. For further evidence, consider the Dow's performance. The stock index which tracks industries across the US economy is up 14% YTD, making it the weakest-performing index among all mentioned. However, even within technology, not all stocks have performed equally well. As an example, consider the performance of two stocks. Both of these are semiconductor companies. The first, which ranked 3rd on our list of Jim Cramer's bearish tech calls is the largest American manufacturer of memory chips. The second, which ranked 1st on the same list is Wall Street's AI darling. The two stocks have gained 7.64% and 184.60% year-to-date, so even though both of them are technology companies, their share price returns have differed primarily because of the firms' varying exposures to artificial intelligence. Yet even though AI has held up the stock market in 2024, other factors continue to influence stock performance as well. Continuing with our example of the GPU designer's shares, the stock dropped by 1.1% on the day the Federal Reserve cut interest rates but guided two cuts for 2024 instead of the earlier four. The shares fell despite the fact that the firm enjoys the widest moat possible in the AI industry. On the same day, the flagship S&P and the broader NASDAQ indexes shed 2.9% and 3.6%, respectively. Following\",\n",
       "  \"We are experiencing some temporary issues. The market data on this page is currently delayed. Please bear with us as we address this and restore your personalized lists. Shares of electric-car maker Tesla (NASDAQ: TSLA) have been on an absolute tear in 2024, rising more than 70% as of this writing. This obliterated the S&P 500's 25% gain during this time. The huge gain has unsurprisingly sparked a lot of excitement around the stock. Fueling upbeat sentiment for shares, Tesla CEO Elon Musk has been praised for cozying up with President-elect Donald Trump, and the company is viewed as a major beneficiary of artificial intelligence as it works on autonomous driving technology and robots. But is the stock's recent gain more representative of hype or substance? After all, even a great company's stock can become overpriced if investor expectations become too optimistic. Let's examine whether Tesla shares look attractive at their current price. Fundamentally, the automaker's business is strong. Long gone are the days when the company was burning through cash. These days, Tesla's a cash cow. Free cash flow in the company's most recent quarter came in at more than $2.7 billion, growing 233% year over year. This helped bring Tesla's total cash and investments at the end of the quarter to approximately $33.6 billion. While this balance sheet and the company's profitability give the company staying power, the key to any bull thesis for Tesla stock is a rosy view for a science fiction-like future. Investors are betting that the company's artificial intelligence software and hardware product development will culminate in an autonomous network of Tesla vehicles, adding an Uber-like revenue stream for the company. In addition, investors are looking for continued rapid growth in electric car, energy storage, and solar product sales. On top of all of this, there is hope that the far-reaching technology giant can make money by selling humanoid robots. While the bull case for Tesla stock is fun to think about, other more skeptical investors worry there's too much speculation and hope baked into the stock price today. Shares trade at a price-to-earnings\"],\n",
       " 'BTC': ['We are experiencing some temporary issues. The market data on this page is currently delayed. Please bear with us as we address this and restore your personalized lists. Bitcoin (BTC-USD) recaptured investor attention on Monday afternoon as the world\\'s biggest cryptocurrency jumped beyond $107,000 to a new record. The token has gained more than 50% since Donald Trump\\'s presidential victory in November on optimism over bitcoin-friendly policies under his incoming administration. Much of the upward price action stems from institutional buyers and flows into bitcoin spot exchange-traded funds (ETFs). \"Bitcoin ETF demand has been relentless with over $2Bn inflows clocked last week. Seven out of the last nine weeks, Bitcoin ETF inflows have exceeded $2Bn,\" Bernstein analyst Gautam Chhugani wrote in a note on Monday. Even as bitcoin\\'s price has more than doubled this year, Chhugani forecasts the token will reach $200,000 by the end of 2025. UK-based Standard Chartered analysts recently noted institutions have bought 683,000 tokens year to date via spot ETFs and purchases by software firm MicroStrategy (MSTR). About a third of those inflows, or the purchase of 245,000 bitcoins, have occurred since the presidential election. \"In 2025, we expect institutional flows to continue at or above the 2024 pace,\" wrote Geoff Kendrick, global head of digital assets research at Standard Chartered, earlier this month. Crypto-related stocks also rallied on Monday with bitcoin proxy MicroStrategy (MSTR) popping 6% as investors reacted to the company’s latest token purchase and its upcoming addition to the Nasdaq 100. Read more: Bitcoin clears another record: Is now the time to invest?\\xa0 Bitcoin\\'s meteoric rise over the past month has made the asset hard to ignore even among more traditional portfolio managers. \"It’s worked like crazy, and it’ll probably continue to work like crazy, but I can’t put my pencil to the paper and make sense of it from a financial standpoint,\" George Seay, Annandale Capital founder and chairman, told Yahoo Finance on Monday morning. \"It’s much more of a psychological anti-fiat currency, anti-government, anti-inflation trade, but it’s worked so I don’t have anything against it,\" he said. Ines Ferre is a',\n",
       "  'We are experiencing some temporary issues. The market data on this page is currently delayed. Please bear with us as we address this and restore your personalized lists. Bitcoin could reach a cycle peak in January, K33 calculated. The prediction is based on historical data showing a 318-day cycle for crypto prices. K33 sees the next peak as \"a natural area to reduce risk and realize profits for the short term.\" If history is any indication, bitcoin could hit a new peak in a matter of weeks, which could present an opportunity to lock in gains. According to a research firm K33, the flagship token is set to reach an all-time high in mid-January, just in time for the inauguration of Donald Trump. In a recent post on its website, K33 outlined that, on average, there are 318 days between the first peak in a crypto cycle and its last. This cycle\\'s initial peak occurred on March 5, indicating that the final one in the current cycle may occur on January 17. That date would fall in line with the start of Trump\\'s January 20 inauguration. The incoming administration has proven a catalyst for bitcoin\\'s year-end rally thanks to promises to make Washington more crypto-friendly. This combined with other factors — such as the bitcoin national reserve idea — have helped turbocharge the token\\'s price across the six-digit milestone for the first time. K33, however, noted that crypto enthusiasm may have gotten out of hand: \"It\\'s highly likely that the market has delusional expectations for the pace of policy changes and will overprice the impact running into the inauguration,\" head of research Vetle Lunde wrote in the December note. \"We expect the current rally to peak in mid-January before the inauguration and view that area as a natural area to reduce risk and realize profits for the short term.\" K33 projected bitcoin\\'s price using two different methods. Based on past cycle peaks, the token could land at $146,000. But based on growth projected by bitcoin\\'s rising market capitalization, it could instead reach $212,500. Adrian Zduńczyk, a chartered market technician familiar',\n",
       "  'Thank you for your patience. Our engineers are working quickly to resolve the issue.',\n",
       "  'Thank you for your patience. Our engineers are working quickly to resolve the issue.',\n",
       "  'Thank you for your patience. Our engineers are working quickly to resolve the issue.',\n",
       "  '© 2024 - Privacy - Terms',\n",
       "  'Thank you for your patience. Our engineers are working quickly to resolve the issue.',\n",
       "  \"We are experiencing some temporary issues. The market data on this page is currently delayed. Please bear with us as we address this and restore your personalized lists. Bitcoin's price dropped below $94,000 on Dec. 29, 2024, down from an all-time high of $108,000 reached on Dec 17. Over the past 24 hours, the cryptocurrency has seen a 1.29% dip, recording a 2.67% decrease over the past week. Bitcoin is currently trading well below its 20-day exponential moving average (EMA) but is approaching its 50-day EMA, with prices consolidating between $92,000 and $99,000 following a strong rally in November and December. Despite the decline, Bitcoin remains above its 200-day EMA, a critical support level that has held since October 2024. The Relative Strength Index (RSI) is at 42, indicating that Bitcoin is neither overbought nor oversold. However, there are growing concerns in the market. The Bitcoin Taker-Buy-Sell Ratio, which measures market sentiment, has dropped to 0.92. A reading below 1 suggests that bears are now in control. A trading view contributor called The ForexX Mindset warned that Bitcoin could fall to $81,500, pointing to rising dominance in the USDT market as a sign that investors are seeking safer assets. The increasing dominance of USDT could signal a preference for stablecoins, often seen as a defensive move when risk assets like Bitcoin are under pressure. Technical analyst Aksel Kibar also pointed to a potential price correction, predicting that Bitcoin could fall to around $80,000 in the coming days or weeks. He noted a head and shoulders pattern on the charts,\\xa0 commonly associated with downward price movement. Despite these bearish signals, Bitcoin’s perpetual futures funding rates remain positive. This suggests that traders with long positions are still dominating the market and are willing to pay short traders to maintain their positions, a sign that bullish sentiment is still present in some parts of the market. Looking ahead, Bitcoin’s future price movements will likely be influenced by external factors such as the incoming administration's regulatory policies and the Federal Reserve's monetary stance in 2025. The uncertainty around these factors has led to a\",\n",
       "  'We are experiencing some temporary issues. The market data on this page is currently delayed. Please bear with us as we address this and restore your personalized lists. Bitcoin\\'s (BTC-USD) recent cross above $100,000 has emboldened Wall Street bulls. After Donald Trump\\'s presidential win catalyzed the token\\'s rally on hopes of crypto-friendly policies, this week\\'s push to record highs above $103,000 per token has some strategists looking for another doubling in price by the end of next year. \"We remain convinced $100,000 is not the final milestone,\" Bernstein analyst Gautam Chhugani wrote in a note on Thursday. \"We expect Bitcoin to hit a cycle-high of $200,000 in late 2025,\" Chhugani noted the President-elect\\'s pick of crypto advocate Paul Atkins to chair the Securities and Exchange Commission, along with a broader regulatory direction under Trump 2.0, \"is materially positive\" for the wider crypto industry. After bitcoin surpassed $100,000 for the first time, Trump took to social media early Thursday to congratulate crypto investors, adding, \"YOU\\'RE WELCOME!!!\" Later that day, the president-elect announced he would appoint venture capitalist David Sacks as the incoming administration\\'s \"AI and Crypto Czar.\" The move was seen as yet another positive sign for the industry. \"As crypto becomes mainstream, it will likely converge and transform capital markets and change the way we deliver financial services across the world,\" Bernstein\\'s Chhugani wrote. \"We expect Bitcoin to emerge as the new-age premier ‘store of value’ asset eventually replacing Gold over the next decade and becoming a permanent part of institutional multi-asset allocation and a standard for corporate treasury management,\" he added. At UK-based Standard Chartered, analysts noted bitcoin flows have been dominated by institutional investors this year, with institutions buying 683,000 tokens year to date via spot ETFs along with big purchases by software firm MicroStrategy (MSTR). About a third of those inflows, or the purchase of 245,000 bitcoins, have occurred since the presidential election. \"In 2025, we expect institutional flows to continue at or above the 2024 pace,\" wrote Geoff Kendrick, global head of digital assets research at Standard Chartered. Kendrick expects global pension funds to increase their',\n",
       "  'Thank you for your patience. Our engineers are working quickly to resolve the issue.',\n",
       "  'We are experiencing some temporary issues. The market data on this page is currently delayed. Please bear with us as we address this and restore your personalized lists. US stocks struggled to meaningfully extend a \"Santa Claus\" rally the day after Christmas while Wall Street digested one of the only significant economic data points of the week. The S&P 500 (^GSPC) fell below the flatline while the tech-heavy Nasdaq (^IXIC) fell slightly. The Dow Jones Industrial Average (^DJI) closed the session up 28 points after flipping between positive and negative territory throughout the light trading session. Small cap stocks inched higher, sending the Russell 2000 (^RUT) up 0.9%. Meanwhile, bitcoin (BTC-USD) fell to hover near the $96,000 level as volatile trading continued. Crypto-linked stocks like MicroStrategy (MSTR) tracked the declines. Markets kicked off the \"Santa Claus\" rally on Tuesday as the S&P 500 notched its best Christmas Eve performance since 1974, according to Bespoke. The broader index and Nasdaq Composite moved to within striking distance of their records after clawing back gains from a Fed-fueled dive last week. As Wall Street saunters back from its holiday break, the normally routine release of weekly jobless claims took more of a spotlight than usual as the only piece of the jobs puzzle on the docket this week. According to the latest Labor Department data, weekly jobless claims fell to 219,000 compared with expectations of 223,000. However continuing claims pointed to a cooling labor market, jumping by 46,000 in the week ending Dec. 14 to 1.91 million, the highest level since November 2021. Stocks closed mixed amid a light trading session on Thursday following the Christmas holiday break. The S&P 500 (^GSPC) and tech-heavy Nasdaq (^IXIC) closed just below the flat line. The Dow Jones Industrial Average (^DJI) rose about 28 points, or nearly 0.1%. Stocks were little changed throughout the session, with the major averages flipping between positive and negative territory as the market struggled to meaningfully extend its Santa Claus rally. Small cap stocks however rose as the Russell 2000 (^RUT) gained more than 0.9%. The Dow Jones Industrial Average is']}"
      ]
     },
     "execution_count": 18,
     "metadata": {},
     "output_type": "execute_result"
    }
   ],
   "source": [
    "articles = {ticker:scrape_and_process(cleaned_urls[ticker]) for ticker in monitored_tickers}\n",
    "articles"
   ]
  },
  {
   "cell_type": "code",
   "execution_count": 19,
   "metadata": {},
   "outputs": [
    {
     "data": {
      "text/plain": [
       "\"We are experiencing some temporary issues. The market data on this page is currently delayed. Please bear with us as we address this and restore your personalized lists. Tesla's (TSLA) 2024 went out with a bang, thanks to CEO Elon Musk and one of his biggest gambles yet. While the stock gained over 70% year to date thanks to a post-Trump election surge, it wasn’t all smooth sailing for the EV giant. Here are three highlights from the year and what to expect in 2025. When Tesla released its third quarter 2023 results in January, it warned its production growth would be “notably lower” in the year ahead. Meanwhile, investors questioning Tesla’s profitability picture in March sent shares to their lowest in nearly a year. Another big delivery miss in the first quarter didn’t help matters — nor did growing competition in China. Musk saw an opening and tried to turn the tide, claiming Tesla would finally reveal its long-awaited robotaxi in August. Initially, there was concern that the robotaxi push would hamper the release of the cheaper EV or relegate it to the dustbin. Emmanuel Rosner, a Deutsche Bank analyst at the time, felt Tesla’s focus on the robotaxi came at the abandonment of the cheap EV, which was a main reason for owning the stock. In fact, Musk had said in the past that a cheap EV would be difficult to make profitably. Later in the month of April, after Tesla stock hit its nadir for the year, Tesla confirmed in its fiscal Q1 earnings report it would indeed accelerate the launch of more affordable vehicles while it worked on the robotaxi, assuaging investors and analysts. A couple of months later, while investors awaited news on the robotaxi and cheap EV, issues with design and functionality led Tesla to delay its robotaxi reveal to Oct. 10. At the time of the robotaxi delay, a run-up in shares plus Musk’s open support for Donald Trump — whose antipathy toward EVs was not secret — led some investors to dump Tesla shares. “TSLA has always traded with a premium attached\""
      ]
     },
     "execution_count": 19,
     "metadata": {},
     "output_type": "execute_result"
    }
   ],
   "source": [
    "articles['TSLA'][0]"
   ]
  },
  {
   "cell_type": "markdown",
   "metadata": {},
   "source": [
    "## 4.4. Summarise all Articles"
   ]
  },
  {
   "cell_type": "code",
   "execution_count": 20,
   "metadata": {},
   "outputs": [],
   "source": [
    "def summarize(articles):\n",
    "    summaries = []\n",
    "    max_input_length = 512  # Maximum sequence length for the model\n",
    "\n",
    "    for article in articles:\n",
    "        # Truncate the article if necessary\n",
    "        encoded_input = tokenizer.encode(article, max_length=max_input_length, truncation=True, return_tensors='pt')\n",
    "        \n",
    "        # Generate the summary\n",
    "        output = model.generate(encoded_input, max_length=55, num_beams=5, early_stopping=True)\n",
    "        summary = tokenizer.decode(output[0], skip_special_tokens=True)\n",
    "        summaries.append(summary)\n",
    "    \n",
    "    return summaries"
   ]
  },
  {
   "cell_type": "code",
   "execution_count": 21,
   "metadata": {},
   "outputs": [
    {
     "data": {
      "text/plain": [
       "\"def summarize(articles):\\n    summaries = []\\n    for article in articles:\\n        input_ids = tokenizer.encode(article, return_tensors='pt')\\n        output = model.generate(input_ids, max_length=55, num_beams=5, early_stopping=True)\\n        summary = tokenizer.decode(output[0], skip_special_tokens=True)\\n        summaries.append(summary)\\n    return summaries\""
      ]
     },
     "execution_count": 21,
     "metadata": {},
     "output_type": "execute_result"
    }
   ],
   "source": [
    "'''def summarize(articles):\n",
    "    summaries = []\n",
    "    for article in articles:\n",
    "        input_ids = tokenizer.encode(article, return_tensors='pt')\n",
    "        output = model.generate(input_ids, max_length=55, num_beams=5, early_stopping=True)\n",
    "        summary = tokenizer.decode(output[0], skip_special_tokens=True)\n",
    "        summaries.append(summary)\n",
    "    return summaries'''"
   ]
  },
  {
   "cell_type": "code",
   "execution_count": 22,
   "metadata": {},
   "outputs": [
    {
     "data": {
      "text/plain": [
       "{'GME': [\"Wall Street's earnings estimate revisions are at the heart of this rating change.\",\n",
       "  'Video game retailer’s shares have had 55 moves greater than 5% over last year.',\n",
       "  'Investor known as ‘Roaring Kitty’ posts picture on Twitter. Video game retailer’s shares are up 94% year-to-date',\n",
       "  'Apple nears $4 trillion market valuation, Bitcoin drops. Toyota plans to double its return on equity target',\n",
       "  'Your information may be shared with third parties.',\n",
       "  'Stocks in the Consumer Discretionary sector have been outperforming this year.',\n",
       "  'Video game retailer’s sales fell 20.2% year on year. Adjusted EPS was significantly above analysts’ estimates',\n",
       "  'GameStop stands against other stocks featured in Jim Cramer’s game plan.',\n",
       "  'Video game retailer’s same-store sales have been falling for two years. Return on invested capital (ROIC) is also a key metric',\n",
       "  'Video game and console retailer has more than 4,000 locations. Management has been prudent in raising cash through stock sales',\n",
       "  'We are aware of the issue and are working to resolve it.'],\n",
       " 'TSLA': ['Musk’s big bet on robotaxi and cheap EV paid off. EV giant to unveil cheaper, longer-range model in 2021',\n",
       "  'Your information may be shared with third parties.',\n",
       "  'Mizuho more than doubled its price target on Tuesday. Musk’s connection to Trump seen boosting shares',\n",
       "  'Tesla says it will produce 5,000 Model 3s per week in first quarter. Shares have had 107 moves greater than 2.5% over last year',\n",
       "  'EV maker’s fourth-quarter deliveries report expected on Thursday. Wall Street predicts deliveries number to come in around 510,000 units',\n",
       "  'A look back at some of the top Company of the Year winners. Comeback of the Year, surprise of the year',\n",
       "  'We are aware of the issue and are working to resolve it.',\n",
       "  'BofA says low-cost EV coming in first half of 2025. Tesla has said it plans to expand its robotaxi testing next year',\n",
       "  'Model Q to be priced $30,000, new Model Y to be launched in China. Tesla is confident of volume growth of 25%-30% next year',\n",
       "  \"Tesla, Inc ranked 3rd on Jim Cramer's list of bearish tech calls.\",\n",
       "  'Electric-car maker has been on an absolute tear in 2024. Is the stock too expensive based on hype or substance?'],\n",
       " 'BTC': ['The token has gained more than 50% since Donald Trump’s election victory. Bitcoin ETF inflows have exceeded $2Bn this year',\n",
       "  'Research firm K33 expects rally to peak in mid-January. Cycle peaks occur on average of 318 days between first and last.',\n",
       "  'We are aware of the issue and are working to resolve it.',\n",
       "  'We are aware of the issue and are working to resolve it.',\n",
       "  'We are aware of the issue and are working to resolve it.',\n",
       "  'Your information may be shared with third parties.',\n",
       "  'We are aware of the issue and are working to resolve it.',\n",
       "  'Falling dominance of USDT could signal a preference for stablecoins.',\n",
       "  'Bitcoin to hit cycle-high of $200,000 in late 2025, Bernstein says. Standard Chartered sees crypto inflows at or above 2024 pace',\n",
       "  'We are aware of the issue and are working to resolve it.',\n",
       "  'Weekly jobless claims rise to highest since November 2021.']}"
      ]
     },
     "execution_count": 22,
     "metadata": {},
     "output_type": "execute_result"
    }
   ],
   "source": [
    "summaries = {ticker:summarize(articles[ticker]) for ticker in monitored_tickers}\n",
    "summaries"
   ]
  },
  {
   "cell_type": "code",
   "execution_count": 23,
   "metadata": {},
   "outputs": [
    {
     "data": {
      "text/plain": [
       "['The token has gained more than 50% since Donald Trump’s election victory. Bitcoin ETF inflows have exceeded $2Bn this year',\n",
       " 'Research firm K33 expects rally to peak in mid-January. Cycle peaks occur on average of 318 days between first and last.',\n",
       " 'We are aware of the issue and are working to resolve it.',\n",
       " 'We are aware of the issue and are working to resolve it.',\n",
       " 'We are aware of the issue and are working to resolve it.',\n",
       " 'Your information may be shared with third parties.',\n",
       " 'We are aware of the issue and are working to resolve it.',\n",
       " 'Falling dominance of USDT could signal a preference for stablecoins.',\n",
       " 'Bitcoin to hit cycle-high of $200,000 in late 2025, Bernstein says. Standard Chartered sees crypto inflows at or above 2024 pace',\n",
       " 'We are aware of the issue and are working to resolve it.',\n",
       " 'Weekly jobless claims rise to highest since November 2021.']"
      ]
     },
     "execution_count": 23,
     "metadata": {},
     "output_type": "execute_result"
    }
   ],
   "source": [
    "summaries['BTC']"
   ]
  },
  {
   "cell_type": "markdown",
   "metadata": {},
   "source": [
    "# 5. Adding Sentiment Analysis"
   ]
  },
  {
   "cell_type": "code",
   "execution_count": 24,
   "metadata": {},
   "outputs": [
    {
     "name": "stderr",
     "output_type": "stream",
     "text": [
      "Some weights of the model checkpoint at cardiffnlp/twitter-roberta-base-sentiment-latest were not used when initializing RobertaForSequenceClassification: ['roberta.pooler.dense.bias', 'roberta.pooler.dense.weight']\n",
      "- This IS expected if you are initializing RobertaForSequenceClassification from the checkpoint of a model trained on another task or with another architecture (e.g. initializing a BertForSequenceClassification model from a BertForPreTraining model).\n",
      "- This IS NOT expected if you are initializing RobertaForSequenceClassification from the checkpoint of a model that you expect to be exactly identical (initializing a BertForSequenceClassification model from a BertForSequenceClassification model).\n",
      "Hardware accelerator e.g. GPU is available in the environment, but no `device` argument is passed to the `Pipeline` object. Model will be on CPU.\n"
     ]
    }
   ],
   "source": [
    "from transformers import pipeline\n",
    "model_id = \"cardiffnlp/twitter-roberta-base-sentiment-latest\"\n",
    "\n",
    "sentiment = pipeline(\"sentiment-analysis\", model=model_id)\n",
    "#sentiment = pipeline('sentiment-analysis')"
   ]
  },
  {
   "cell_type": "code",
   "execution_count": 25,
   "metadata": {},
   "outputs": [
    {
     "data": {
      "text/plain": [
       "[{'label': 'positive', 'score': 0.9506503343582153},\n",
       " {'label': 'neutral', 'score': 0.7605228424072266},\n",
       " {'label': 'neutral', 'score': 0.7725824117660522},\n",
       " {'label': 'neutral', 'score': 0.7725824117660522},\n",
       " {'label': 'neutral', 'score': 0.7725824117660522},\n",
       " {'label': 'neutral', 'score': 0.9321518540382385},\n",
       " {'label': 'neutral', 'score': 0.7725824117660522},\n",
       " {'label': 'neutral', 'score': 0.7419131994247437},\n",
       " {'label': 'positive', 'score': 0.5200138688087463},\n",
       " {'label': 'neutral', 'score': 0.7725824117660522},\n",
       " {'label': 'negative', 'score': 0.6393394470214844}]"
      ]
     },
     "execution_count": 25,
     "metadata": {},
     "output_type": "execute_result"
    }
   ],
   "source": [
    "sentiment(summaries['BTC'])"
   ]
  },
  {
   "cell_type": "code",
   "execution_count": 26,
   "metadata": {},
   "outputs": [
    {
     "data": {
      "text/plain": [
       "{'GME': [{'label': 'neutral', 'score': 0.8268831372261047},\n",
       "  {'label': 'neutral', 'score': 0.7576891183853149},\n",
       "  {'label': 'positive', 'score': 0.8081803917884827},\n",
       "  {'label': 'neutral', 'score': 0.7444053888320923},\n",
       "  {'label': 'neutral', 'score': 0.9321518540382385},\n",
       "  {'label': 'positive', 'score': 0.924379289150238},\n",
       "  {'label': 'negative', 'score': 0.4804984927177429},\n",
       "  {'label': 'neutral', 'score': 0.8605117797851562},\n",
       "  {'label': 'negative', 'score': 0.7111995220184326},\n",
       "  {'label': 'positive', 'score': 0.6059834957122803},\n",
       "  {'label': 'neutral', 'score': 0.7725824117660522}],\n",
       " 'TSLA': [{'label': 'positive', 'score': 0.8464134335517883},\n",
       "  {'label': 'neutral', 'score': 0.9321518540382385},\n",
       "  {'label': 'positive', 'score': 0.8544108271598816},\n",
       "  {'label': 'positive', 'score': 0.6389766335487366},\n",
       "  {'label': 'neutral', 'score': 0.8093989491462708},\n",
       "  {'label': 'positive', 'score': 0.8511285185813904},\n",
       "  {'label': 'neutral', 'score': 0.7725824117660522},\n",
       "  {'label': 'positive', 'score': 0.5922951698303223},\n",
       "  {'label': 'positive', 'score': 0.7652406096458435},\n",
       "  {'label': 'negative', 'score': 0.6994861960411072},\n",
       "  {'label': 'neutral', 'score': 0.424185186624527}],\n",
       " 'BTC': [{'label': 'positive', 'score': 0.9506503343582153},\n",
       "  {'label': 'neutral', 'score': 0.7605228424072266},\n",
       "  {'label': 'neutral', 'score': 0.7725824117660522},\n",
       "  {'label': 'neutral', 'score': 0.7725824117660522},\n",
       "  {'label': 'neutral', 'score': 0.7725824117660522},\n",
       "  {'label': 'neutral', 'score': 0.9321518540382385},\n",
       "  {'label': 'neutral', 'score': 0.7725824117660522},\n",
       "  {'label': 'neutral', 'score': 0.7419131994247437},\n",
       "  {'label': 'positive', 'score': 0.5200138688087463},\n",
       "  {'label': 'neutral', 'score': 0.7725824117660522},\n",
       "  {'label': 'negative', 'score': 0.6393394470214844}]}"
      ]
     },
     "execution_count": 26,
     "metadata": {},
     "output_type": "execute_result"
    }
   ],
   "source": [
    "scores = {ticker:sentiment(summaries[ticker]) for ticker in monitored_tickers}\n",
    "scores"
   ]
  },
  {
   "cell_type": "code",
   "execution_count": 27,
   "metadata": {},
   "outputs": [
    {
     "name": "stdout",
     "output_type": "stream",
     "text": [
      "Apple nears $4 trillion market valuation, Bitcoin drops. Toyota plans to double its return on equity target neutral 0.7444053888320923\n"
     ]
    }
   ],
   "source": [
    "print(summaries['GME'][3], scores['GME'][3]['label'], scores['GME'][3]['score'])"
   ]
  },
  {
   "cell_type": "code",
   "execution_count": 28,
   "metadata": {},
   "outputs": [
    {
     "data": {
      "text/plain": [
       "0.9506503343582153"
      ]
     },
     "execution_count": 28,
     "metadata": {},
     "output_type": "execute_result"
    }
   ],
   "source": [
    "scores['BTC'][0]['score']"
   ]
  },
  {
   "cell_type": "markdown",
   "metadata": {},
   "source": [
    "# 6. Exporting Results to CSV"
   ]
  },
  {
   "cell_type": "code",
   "execution_count": 29,
   "metadata": {},
   "outputs": [
    {
     "data": {
      "text/plain": [
       "{'GME': [\"Wall Street's earnings estimate revisions are at the heart of this rating change.\",\n",
       "  'Video game retailer’s shares have had 55 moves greater than 5% over last year.',\n",
       "  'Investor known as ‘Roaring Kitty’ posts picture on Twitter. Video game retailer’s shares are up 94% year-to-date',\n",
       "  'Apple nears $4 trillion market valuation, Bitcoin drops. Toyota plans to double its return on equity target',\n",
       "  'Your information may be shared with third parties.',\n",
       "  'Stocks in the Consumer Discretionary sector have been outperforming this year.',\n",
       "  'Video game retailer’s sales fell 20.2% year on year. Adjusted EPS was significantly above analysts’ estimates',\n",
       "  'GameStop stands against other stocks featured in Jim Cramer’s game plan.',\n",
       "  'Video game retailer’s same-store sales have been falling for two years. Return on invested capital (ROIC) is also a key metric',\n",
       "  'Video game and console retailer has more than 4,000 locations. Management has been prudent in raising cash through stock sales',\n",
       "  'We are aware of the issue and are working to resolve it.'],\n",
       " 'TSLA': ['Musk’s big bet on robotaxi and cheap EV paid off. EV giant to unveil cheaper, longer-range model in 2021',\n",
       "  'Your information may be shared with third parties.',\n",
       "  'Mizuho more than doubled its price target on Tuesday. Musk’s connection to Trump seen boosting shares',\n",
       "  'Tesla says it will produce 5,000 Model 3s per week in first quarter. Shares have had 107 moves greater than 2.5% over last year',\n",
       "  'EV maker’s fourth-quarter deliveries report expected on Thursday. Wall Street predicts deliveries number to come in around 510,000 units',\n",
       "  'A look back at some of the top Company of the Year winners. Comeback of the Year, surprise of the year',\n",
       "  'We are aware of the issue and are working to resolve it.',\n",
       "  'BofA says low-cost EV coming in first half of 2025. Tesla has said it plans to expand its robotaxi testing next year',\n",
       "  'Model Q to be priced $30,000, new Model Y to be launched in China. Tesla is confident of volume growth of 25%-30% next year',\n",
       "  \"Tesla, Inc ranked 3rd on Jim Cramer's list of bearish tech calls.\",\n",
       "  'Electric-car maker has been on an absolute tear in 2024. Is the stock too expensive based on hype or substance?'],\n",
       " 'BTC': ['The token has gained more than 50% since Donald Trump’s election victory. Bitcoin ETF inflows have exceeded $2Bn this year',\n",
       "  'Research firm K33 expects rally to peak in mid-January. Cycle peaks occur on average of 318 days between first and last.',\n",
       "  'We are aware of the issue and are working to resolve it.',\n",
       "  'We are aware of the issue and are working to resolve it.',\n",
       "  'We are aware of the issue and are working to resolve it.',\n",
       "  'Your information may be shared with third parties.',\n",
       "  'We are aware of the issue and are working to resolve it.',\n",
       "  'Falling dominance of USDT could signal a preference for stablecoins.',\n",
       "  'Bitcoin to hit cycle-high of $200,000 in late 2025, Bernstein says. Standard Chartered sees crypto inflows at or above 2024 pace',\n",
       "  'We are aware of the issue and are working to resolve it.',\n",
       "  'Weekly jobless claims rise to highest since November 2021.']}"
      ]
     },
     "execution_count": 29,
     "metadata": {},
     "output_type": "execute_result"
    }
   ],
   "source": [
    "summaries"
   ]
  },
  {
   "cell_type": "code",
   "execution_count": 30,
   "metadata": {},
   "outputs": [
    {
     "data": {
      "text/plain": [
       "{'GME': [{'label': 'neutral', 'score': 0.8268831372261047},\n",
       "  {'label': 'neutral', 'score': 0.7576891183853149},\n",
       "  {'label': 'positive', 'score': 0.8081803917884827},\n",
       "  {'label': 'neutral', 'score': 0.7444053888320923},\n",
       "  {'label': 'neutral', 'score': 0.9321518540382385},\n",
       "  {'label': 'positive', 'score': 0.924379289150238},\n",
       "  {'label': 'negative', 'score': 0.4804984927177429},\n",
       "  {'label': 'neutral', 'score': 0.8605117797851562},\n",
       "  {'label': 'negative', 'score': 0.7111995220184326},\n",
       "  {'label': 'positive', 'score': 0.6059834957122803},\n",
       "  {'label': 'neutral', 'score': 0.7725824117660522}],\n",
       " 'TSLA': [{'label': 'positive', 'score': 0.8464134335517883},\n",
       "  {'label': 'neutral', 'score': 0.9321518540382385},\n",
       "  {'label': 'positive', 'score': 0.8544108271598816},\n",
       "  {'label': 'positive', 'score': 0.6389766335487366},\n",
       "  {'label': 'neutral', 'score': 0.8093989491462708},\n",
       "  {'label': 'positive', 'score': 0.8511285185813904},\n",
       "  {'label': 'neutral', 'score': 0.7725824117660522},\n",
       "  {'label': 'positive', 'score': 0.5922951698303223},\n",
       "  {'label': 'positive', 'score': 0.7652406096458435},\n",
       "  {'label': 'negative', 'score': 0.6994861960411072},\n",
       "  {'label': 'neutral', 'score': 0.424185186624527}],\n",
       " 'BTC': [{'label': 'positive', 'score': 0.9506503343582153},\n",
       "  {'label': 'neutral', 'score': 0.7605228424072266},\n",
       "  {'label': 'neutral', 'score': 0.7725824117660522},\n",
       "  {'label': 'neutral', 'score': 0.7725824117660522},\n",
       "  {'label': 'neutral', 'score': 0.7725824117660522},\n",
       "  {'label': 'neutral', 'score': 0.9321518540382385},\n",
       "  {'label': 'neutral', 'score': 0.7725824117660522},\n",
       "  {'label': 'neutral', 'score': 0.7419131994247437},\n",
       "  {'label': 'positive', 'score': 0.5200138688087463},\n",
       "  {'label': 'neutral', 'score': 0.7725824117660522},\n",
       "  {'label': 'negative', 'score': 0.6393394470214844}]}"
      ]
     },
     "execution_count": 30,
     "metadata": {},
     "output_type": "execute_result"
    }
   ],
   "source": [
    "scores"
   ]
  },
  {
   "cell_type": "code",
   "execution_count": 31,
   "metadata": {},
   "outputs": [
    {
     "data": {
      "text/plain": [
       "{'GME': ['https://finance.yahoo.com/news/makes-gamestop-gme-strong-buy-170011043.html',\n",
       "  'https://finance.yahoo.com/news/why-gamestop-gme-stock-down-162604744.html',\n",
       "  'https://finance.yahoo.com/news/gamestop-gets-holiday-boost-roaring-163100508.html',\n",
       "  'https://finance.yahoo.com/news/company-news-dec-27-2024-122000815.html',\n",
       "  'https://www.google.com/search?q%3Dyahoo%2Bfinance%2BGME%26tbm%3Dnws%26pccc%3D1',\n",
       "  'https://finance.yahoo.com/news/gamestop-gme-stock-outpacing-consumer-144011955.html',\n",
       "  'https://finance.yahoo.com/news/gamestop-nyse-gme-reports-sales-211114985.html',\n",
       "  'https://finance.yahoo.com/news/jim-cramer-refers-gamestop-corp-235402974.html',\n",
       "  'https://finance.yahoo.com/news/3-reasons-sell-gme-1-091114257.html',\n",
       "  'https://finance.yahoo.com/news/bull-day-gamestop-gme-090000895.html',\n",
       "  'https://finance.yahoo.com/news/gamestop-gme-registers-bigger-fall-214521016.html'],\n",
       " 'TSLA': ['https://finance.yahoo.com/news/tesla-2024-3-things-that-defined-its-big-year-140032809.html',\n",
       "  'https://www.google.com/search?q%3Dyahoo%2Bfinance%2BTSLA%26tbm%3Dnws%26pccc%3D1',\n",
       "  'https://finance.yahoo.com/news/tesla-stock-jumps-to-another-high-as-mizuho-more-than-doubles-price-target-to-515-163030620.html',\n",
       "  'https://finance.yahoo.com/news/why-tesla-tsla-shares-falling-162607540.html',\n",
       "  'https://finance.yahoo.com/news/watch-tesla-price-levels-stock-032341339.html',\n",
       "  'https://finance.yahoo.com/news/nvidia-gm-walmart-palantir-tesla-meta-and-others-battle-this-yahoo-finance-awards-season-110036402.html',\n",
       "  'https://finance.yahoo.com/video/consumer-discretionary-tesla-led-sectors-154352588.html',\n",
       "  'https://finance.yahoo.com/news/tesla-stock-pops-as-giga-austin-visit-has-bofa-bullish-172718038.html',\n",
       "  'https://finance.yahoo.com/news/teslas-cheaper-model-q-on-the-way-and-likely-new-china-ev-analyst-says-following-tesla-meeting-164534610.html',\n",
       "  'https://finance.yahoo.com/news/jim-cramer-tesla-inc-tsla-051807610.html',\n",
       "  'https://finance.yahoo.com/news/tesla-stock-buy-2025-092600652.html'],\n",
       " 'BTC': ['https://finance.yahoo.com/news/bitcoin-surpasses-107000-to-hit-new-high-amid-relentless-etf-demand-172001994.html',\n",
       "  'https://www.yahoo.com/finance/news/bitcoins-price-may-peak-mid-090001631.html',\n",
       "  'https://finance.yahoo.com/video/crypto-surge-key-players-reveal-130034728.html',\n",
       "  'https://finance.yahoo.com/video/kulr-technology-stock-pops-bitcoin-205706742.html',\n",
       "  'https://finance.yahoo.com/video/stocks-set-open-lower-jobless-140951379.html',\n",
       "  'https://www.google.com/search?q%3Dyahoo%2Bfinance%2BBTC%26tbm%3Dnws%26pccc%3D1',\n",
       "  'https://finance.yahoo.com/video/us-strategic-could-push-bitcoin-213000587.html',\n",
       "  'https://finance.yahoo.com/news/bitcoin-drops-below-94k-market-055852355.html',\n",
       "  'https://finance.yahoo.com/news/bitcoin-just-crossed-100000-for-the-first-time-wall-street-sees-200000-following-soon-200622402.html',\n",
       "  'https://finance.yahoo.com/video/stocks-erase-earlier-losses-bitcoin-181630721.html',\n",
       "  'https://finance.yahoo.com/news/live/stock-market-today-dow-ekes-out-gains-bitcoin-slumps-as-santa-claus-rally-takes-a-pause-175235354.html']}"
      ]
     },
     "execution_count": 31,
     "metadata": {},
     "output_type": "execute_result"
    }
   ],
   "source": [
    "cleaned_urls"
   ]
  },
  {
   "cell_type": "code",
   "execution_count": 32,
   "metadata": {},
   "outputs": [
    {
     "data": {
      "text/plain": [
       "range(0, 11)"
      ]
     },
     "execution_count": 32,
     "metadata": {},
     "output_type": "execute_result"
    }
   ],
   "source": [
    "range(len(summaries['GME']))"
   ]
  },
  {
   "cell_type": "code",
   "execution_count": 33,
   "metadata": {},
   "outputs": [
    {
     "data": {
      "text/plain": [
       "'Apple nears $4 trillion market valuation, Bitcoin drops. Toyota plans to double its return on equity target'"
      ]
     },
     "execution_count": 33,
     "metadata": {},
     "output_type": "execute_result"
    }
   ],
   "source": [
    "summaries['GME'][3]"
   ]
  },
  {
   "cell_type": "code",
   "execution_count": 34,
   "metadata": {},
   "outputs": [],
   "source": [
    "def create_output_array(summaries, scores, urls):\n",
    "    output = []\n",
    "    for ticker in monitored_tickers:\n",
    "        for counter in range(len(summaries[ticker])):\n",
    "            output_this = [\n",
    "                ticker,\n",
    "                summaries[ticker][counter],\n",
    "                scores[ticker][counter]['label'],\n",
    "                scores[ticker][counter]['score'],\n",
    "                urls[ticker][counter]\n",
    "            ]\n",
    "            output.append(output_this)\n",
    "    return output"
   ]
  },
  {
   "cell_type": "code",
   "execution_count": 35,
   "metadata": {},
   "outputs": [
    {
     "data": {
      "text/plain": [
       "[['GME',\n",
       "  \"Wall Street's earnings estimate revisions are at the heart of this rating change.\",\n",
       "  'neutral',\n",
       "  0.8268831372261047,\n",
       "  'https://finance.yahoo.com/news/makes-gamestop-gme-strong-buy-170011043.html'],\n",
       " ['GME',\n",
       "  'Video game retailer’s shares have had 55 moves greater than 5% over last year.',\n",
       "  'neutral',\n",
       "  0.7576891183853149,\n",
       "  'https://finance.yahoo.com/news/why-gamestop-gme-stock-down-162604744.html'],\n",
       " ['GME',\n",
       "  'Investor known as ‘Roaring Kitty’ posts picture on Twitter. Video game retailer’s shares are up 94% year-to-date',\n",
       "  'positive',\n",
       "  0.8081803917884827,\n",
       "  'https://finance.yahoo.com/news/gamestop-gets-holiday-boost-roaring-163100508.html'],\n",
       " ['GME',\n",
       "  'Apple nears $4 trillion market valuation, Bitcoin drops. Toyota plans to double its return on equity target',\n",
       "  'neutral',\n",
       "  0.7444053888320923,\n",
       "  'https://finance.yahoo.com/news/company-news-dec-27-2024-122000815.html'],\n",
       " ['GME',\n",
       "  'Your information may be shared with third parties.',\n",
       "  'neutral',\n",
       "  0.9321518540382385,\n",
       "  'https://www.google.com/search?q%3Dyahoo%2Bfinance%2BGME%26tbm%3Dnws%26pccc%3D1'],\n",
       " ['GME',\n",
       "  'Stocks in the Consumer Discretionary sector have been outperforming this year.',\n",
       "  'positive',\n",
       "  0.924379289150238,\n",
       "  'https://finance.yahoo.com/news/gamestop-gme-stock-outpacing-consumer-144011955.html'],\n",
       " ['GME',\n",
       "  'Video game retailer’s sales fell 20.2% year on year. Adjusted EPS was significantly above analysts’ estimates',\n",
       "  'negative',\n",
       "  0.4804984927177429,\n",
       "  'https://finance.yahoo.com/news/gamestop-nyse-gme-reports-sales-211114985.html'],\n",
       " ['GME',\n",
       "  'GameStop stands against other stocks featured in Jim Cramer’s game plan.',\n",
       "  'neutral',\n",
       "  0.8605117797851562,\n",
       "  'https://finance.yahoo.com/news/jim-cramer-refers-gamestop-corp-235402974.html'],\n",
       " ['GME',\n",
       "  'Video game retailer’s same-store sales have been falling for two years. Return on invested capital (ROIC) is also a key metric',\n",
       "  'negative',\n",
       "  0.7111995220184326,\n",
       "  'https://finance.yahoo.com/news/3-reasons-sell-gme-1-091114257.html'],\n",
       " ['GME',\n",
       "  'Video game and console retailer has more than 4,000 locations. Management has been prudent in raising cash through stock sales',\n",
       "  'positive',\n",
       "  0.6059834957122803,\n",
       "  'https://finance.yahoo.com/news/bull-day-gamestop-gme-090000895.html'],\n",
       " ['GME',\n",
       "  'We are aware of the issue and are working to resolve it.',\n",
       "  'neutral',\n",
       "  0.7725824117660522,\n",
       "  'https://finance.yahoo.com/news/gamestop-gme-registers-bigger-fall-214521016.html'],\n",
       " ['TSLA',\n",
       "  'Musk’s big bet on robotaxi and cheap EV paid off. EV giant to unveil cheaper, longer-range model in 2021',\n",
       "  'positive',\n",
       "  0.8464134335517883,\n",
       "  'https://finance.yahoo.com/news/tesla-2024-3-things-that-defined-its-big-year-140032809.html'],\n",
       " ['TSLA',\n",
       "  'Your information may be shared with third parties.',\n",
       "  'neutral',\n",
       "  0.9321518540382385,\n",
       "  'https://www.google.com/search?q%3Dyahoo%2Bfinance%2BTSLA%26tbm%3Dnws%26pccc%3D1'],\n",
       " ['TSLA',\n",
       "  'Mizuho more than doubled its price target on Tuesday. Musk’s connection to Trump seen boosting shares',\n",
       "  'positive',\n",
       "  0.8544108271598816,\n",
       "  'https://finance.yahoo.com/news/tesla-stock-jumps-to-another-high-as-mizuho-more-than-doubles-price-target-to-515-163030620.html'],\n",
       " ['TSLA',\n",
       "  'Tesla says it will produce 5,000 Model 3s per week in first quarter. Shares have had 107 moves greater than 2.5% over last year',\n",
       "  'positive',\n",
       "  0.6389766335487366,\n",
       "  'https://finance.yahoo.com/news/why-tesla-tsla-shares-falling-162607540.html'],\n",
       " ['TSLA',\n",
       "  'EV maker’s fourth-quarter deliveries report expected on Thursday. Wall Street predicts deliveries number to come in around 510,000 units',\n",
       "  'neutral',\n",
       "  0.8093989491462708,\n",
       "  'https://finance.yahoo.com/news/watch-tesla-price-levels-stock-032341339.html'],\n",
       " ['TSLA',\n",
       "  'A look back at some of the top Company of the Year winners. Comeback of the Year, surprise of the year',\n",
       "  'positive',\n",
       "  0.8511285185813904,\n",
       "  'https://finance.yahoo.com/news/nvidia-gm-walmart-palantir-tesla-meta-and-others-battle-this-yahoo-finance-awards-season-110036402.html'],\n",
       " ['TSLA',\n",
       "  'We are aware of the issue and are working to resolve it.',\n",
       "  'neutral',\n",
       "  0.7725824117660522,\n",
       "  'https://finance.yahoo.com/video/consumer-discretionary-tesla-led-sectors-154352588.html'],\n",
       " ['TSLA',\n",
       "  'BofA says low-cost EV coming in first half of 2025. Tesla has said it plans to expand its robotaxi testing next year',\n",
       "  'positive',\n",
       "  0.5922951698303223,\n",
       "  'https://finance.yahoo.com/news/tesla-stock-pops-as-giga-austin-visit-has-bofa-bullish-172718038.html'],\n",
       " ['TSLA',\n",
       "  'Model Q to be priced $30,000, new Model Y to be launched in China. Tesla is confident of volume growth of 25%-30% next year',\n",
       "  'positive',\n",
       "  0.7652406096458435,\n",
       "  'https://finance.yahoo.com/news/teslas-cheaper-model-q-on-the-way-and-likely-new-china-ev-analyst-says-following-tesla-meeting-164534610.html'],\n",
       " ['TSLA',\n",
       "  \"Tesla, Inc ranked 3rd on Jim Cramer's list of bearish tech calls.\",\n",
       "  'negative',\n",
       "  0.6994861960411072,\n",
       "  'https://finance.yahoo.com/news/jim-cramer-tesla-inc-tsla-051807610.html'],\n",
       " ['TSLA',\n",
       "  'Electric-car maker has been on an absolute tear in 2024. Is the stock too expensive based on hype or substance?',\n",
       "  'neutral',\n",
       "  0.424185186624527,\n",
       "  'https://finance.yahoo.com/news/tesla-stock-buy-2025-092600652.html'],\n",
       " ['BTC',\n",
       "  'The token has gained more than 50% since Donald Trump’s election victory. Bitcoin ETF inflows have exceeded $2Bn this year',\n",
       "  'positive',\n",
       "  0.9506503343582153,\n",
       "  'https://finance.yahoo.com/news/bitcoin-surpasses-107000-to-hit-new-high-amid-relentless-etf-demand-172001994.html'],\n",
       " ['BTC',\n",
       "  'Research firm K33 expects rally to peak in mid-January. Cycle peaks occur on average of 318 days between first and last.',\n",
       "  'neutral',\n",
       "  0.7605228424072266,\n",
       "  'https://www.yahoo.com/finance/news/bitcoins-price-may-peak-mid-090001631.html'],\n",
       " ['BTC',\n",
       "  'We are aware of the issue and are working to resolve it.',\n",
       "  'neutral',\n",
       "  0.7725824117660522,\n",
       "  'https://finance.yahoo.com/video/crypto-surge-key-players-reveal-130034728.html'],\n",
       " ['BTC',\n",
       "  'We are aware of the issue and are working to resolve it.',\n",
       "  'neutral',\n",
       "  0.7725824117660522,\n",
       "  'https://finance.yahoo.com/video/kulr-technology-stock-pops-bitcoin-205706742.html'],\n",
       " ['BTC',\n",
       "  'We are aware of the issue and are working to resolve it.',\n",
       "  'neutral',\n",
       "  0.7725824117660522,\n",
       "  'https://finance.yahoo.com/video/stocks-set-open-lower-jobless-140951379.html'],\n",
       " ['BTC',\n",
       "  'Your information may be shared with third parties.',\n",
       "  'neutral',\n",
       "  0.9321518540382385,\n",
       "  'https://www.google.com/search?q%3Dyahoo%2Bfinance%2BBTC%26tbm%3Dnws%26pccc%3D1'],\n",
       " ['BTC',\n",
       "  'We are aware of the issue and are working to resolve it.',\n",
       "  'neutral',\n",
       "  0.7725824117660522,\n",
       "  'https://finance.yahoo.com/video/us-strategic-could-push-bitcoin-213000587.html'],\n",
       " ['BTC',\n",
       "  'Falling dominance of USDT could signal a preference for stablecoins.',\n",
       "  'neutral',\n",
       "  0.7419131994247437,\n",
       "  'https://finance.yahoo.com/news/bitcoin-drops-below-94k-market-055852355.html'],\n",
       " ['BTC',\n",
       "  'Bitcoin to hit cycle-high of $200,000 in late 2025, Bernstein says. Standard Chartered sees crypto inflows at or above 2024 pace',\n",
       "  'positive',\n",
       "  0.5200138688087463,\n",
       "  'https://finance.yahoo.com/news/bitcoin-just-crossed-100000-for-the-first-time-wall-street-sees-200000-following-soon-200622402.html'],\n",
       " ['BTC',\n",
       "  'We are aware of the issue and are working to resolve it.',\n",
       "  'neutral',\n",
       "  0.7725824117660522,\n",
       "  'https://finance.yahoo.com/video/stocks-erase-earlier-losses-bitcoin-181630721.html'],\n",
       " ['BTC',\n",
       "  'Weekly jobless claims rise to highest since November 2021.',\n",
       "  'negative',\n",
       "  0.6393394470214844,\n",
       "  'https://finance.yahoo.com/news/live/stock-market-today-dow-ekes-out-gains-bitcoin-slumps-as-santa-claus-rally-takes-a-pause-175235354.html']]"
      ]
     },
     "execution_count": 35,
     "metadata": {},
     "output_type": "execute_result"
    }
   ],
   "source": [
    "final_output = create_output_array(summaries, scores, cleaned_urls)\n",
    "final_output"
   ]
  },
  {
   "cell_type": "code",
   "execution_count": 36,
   "metadata": {},
   "outputs": [],
   "source": [
    "final_output.insert(0, ['Ticker', 'Summary', 'Label', 'Confidence', 'URL'])"
   ]
  },
  {
   "cell_type": "code",
   "execution_count": 37,
   "metadata": {},
   "outputs": [
    {
     "data": {
      "text/plain": [
       "[['Ticker', 'Summary', 'Label', 'Confidence', 'URL'],\n",
       " ['GME',\n",
       "  \"Wall Street's earnings estimate revisions are at the heart of this rating change.\",\n",
       "  'neutral',\n",
       "  0.8268831372261047,\n",
       "  'https://finance.yahoo.com/news/makes-gamestop-gme-strong-buy-170011043.html'],\n",
       " ['GME',\n",
       "  'Video game retailer’s shares have had 55 moves greater than 5% over last year.',\n",
       "  'neutral',\n",
       "  0.7576891183853149,\n",
       "  'https://finance.yahoo.com/news/why-gamestop-gme-stock-down-162604744.html'],\n",
       " ['GME',\n",
       "  'Investor known as ‘Roaring Kitty’ posts picture on Twitter. Video game retailer’s shares are up 94% year-to-date',\n",
       "  'positive',\n",
       "  0.8081803917884827,\n",
       "  'https://finance.yahoo.com/news/gamestop-gets-holiday-boost-roaring-163100508.html'],\n",
       " ['GME',\n",
       "  'Apple nears $4 trillion market valuation, Bitcoin drops. Toyota plans to double its return on equity target',\n",
       "  'neutral',\n",
       "  0.7444053888320923,\n",
       "  'https://finance.yahoo.com/news/company-news-dec-27-2024-122000815.html'],\n",
       " ['GME',\n",
       "  'Your information may be shared with third parties.',\n",
       "  'neutral',\n",
       "  0.9321518540382385,\n",
       "  'https://www.google.com/search?q%3Dyahoo%2Bfinance%2BGME%26tbm%3Dnws%26pccc%3D1'],\n",
       " ['GME',\n",
       "  'Stocks in the Consumer Discretionary sector have been outperforming this year.',\n",
       "  'positive',\n",
       "  0.924379289150238,\n",
       "  'https://finance.yahoo.com/news/gamestop-gme-stock-outpacing-consumer-144011955.html'],\n",
       " ['GME',\n",
       "  'Video game retailer’s sales fell 20.2% year on year. Adjusted EPS was significantly above analysts’ estimates',\n",
       "  'negative',\n",
       "  0.4804984927177429,\n",
       "  'https://finance.yahoo.com/news/gamestop-nyse-gme-reports-sales-211114985.html'],\n",
       " ['GME',\n",
       "  'GameStop stands against other stocks featured in Jim Cramer’s game plan.',\n",
       "  'neutral',\n",
       "  0.8605117797851562,\n",
       "  'https://finance.yahoo.com/news/jim-cramer-refers-gamestop-corp-235402974.html'],\n",
       " ['GME',\n",
       "  'Video game retailer’s same-store sales have been falling for two years. Return on invested capital (ROIC) is also a key metric',\n",
       "  'negative',\n",
       "  0.7111995220184326,\n",
       "  'https://finance.yahoo.com/news/3-reasons-sell-gme-1-091114257.html'],\n",
       " ['GME',\n",
       "  'Video game and console retailer has more than 4,000 locations. Management has been prudent in raising cash through stock sales',\n",
       "  'positive',\n",
       "  0.6059834957122803,\n",
       "  'https://finance.yahoo.com/news/bull-day-gamestop-gme-090000895.html'],\n",
       " ['GME',\n",
       "  'We are aware of the issue and are working to resolve it.',\n",
       "  'neutral',\n",
       "  0.7725824117660522,\n",
       "  'https://finance.yahoo.com/news/gamestop-gme-registers-bigger-fall-214521016.html'],\n",
       " ['TSLA',\n",
       "  'Musk’s big bet on robotaxi and cheap EV paid off. EV giant to unveil cheaper, longer-range model in 2021',\n",
       "  'positive',\n",
       "  0.8464134335517883,\n",
       "  'https://finance.yahoo.com/news/tesla-2024-3-things-that-defined-its-big-year-140032809.html'],\n",
       " ['TSLA',\n",
       "  'Your information may be shared with third parties.',\n",
       "  'neutral',\n",
       "  0.9321518540382385,\n",
       "  'https://www.google.com/search?q%3Dyahoo%2Bfinance%2BTSLA%26tbm%3Dnws%26pccc%3D1'],\n",
       " ['TSLA',\n",
       "  'Mizuho more than doubled its price target on Tuesday. Musk’s connection to Trump seen boosting shares',\n",
       "  'positive',\n",
       "  0.8544108271598816,\n",
       "  'https://finance.yahoo.com/news/tesla-stock-jumps-to-another-high-as-mizuho-more-than-doubles-price-target-to-515-163030620.html'],\n",
       " ['TSLA',\n",
       "  'Tesla says it will produce 5,000 Model 3s per week in first quarter. Shares have had 107 moves greater than 2.5% over last year',\n",
       "  'positive',\n",
       "  0.6389766335487366,\n",
       "  'https://finance.yahoo.com/news/why-tesla-tsla-shares-falling-162607540.html'],\n",
       " ['TSLA',\n",
       "  'EV maker’s fourth-quarter deliveries report expected on Thursday. Wall Street predicts deliveries number to come in around 510,000 units',\n",
       "  'neutral',\n",
       "  0.8093989491462708,\n",
       "  'https://finance.yahoo.com/news/watch-tesla-price-levels-stock-032341339.html'],\n",
       " ['TSLA',\n",
       "  'A look back at some of the top Company of the Year winners. Comeback of the Year, surprise of the year',\n",
       "  'positive',\n",
       "  0.8511285185813904,\n",
       "  'https://finance.yahoo.com/news/nvidia-gm-walmart-palantir-tesla-meta-and-others-battle-this-yahoo-finance-awards-season-110036402.html'],\n",
       " ['TSLA',\n",
       "  'We are aware of the issue and are working to resolve it.',\n",
       "  'neutral',\n",
       "  0.7725824117660522,\n",
       "  'https://finance.yahoo.com/video/consumer-discretionary-tesla-led-sectors-154352588.html'],\n",
       " ['TSLA',\n",
       "  'BofA says low-cost EV coming in first half of 2025. Tesla has said it plans to expand its robotaxi testing next year',\n",
       "  'positive',\n",
       "  0.5922951698303223,\n",
       "  'https://finance.yahoo.com/news/tesla-stock-pops-as-giga-austin-visit-has-bofa-bullish-172718038.html'],\n",
       " ['TSLA',\n",
       "  'Model Q to be priced $30,000, new Model Y to be launched in China. Tesla is confident of volume growth of 25%-30% next year',\n",
       "  'positive',\n",
       "  0.7652406096458435,\n",
       "  'https://finance.yahoo.com/news/teslas-cheaper-model-q-on-the-way-and-likely-new-china-ev-analyst-says-following-tesla-meeting-164534610.html'],\n",
       " ['TSLA',\n",
       "  \"Tesla, Inc ranked 3rd on Jim Cramer's list of bearish tech calls.\",\n",
       "  'negative',\n",
       "  0.6994861960411072,\n",
       "  'https://finance.yahoo.com/news/jim-cramer-tesla-inc-tsla-051807610.html'],\n",
       " ['TSLA',\n",
       "  'Electric-car maker has been on an absolute tear in 2024. Is the stock too expensive based on hype or substance?',\n",
       "  'neutral',\n",
       "  0.424185186624527,\n",
       "  'https://finance.yahoo.com/news/tesla-stock-buy-2025-092600652.html'],\n",
       " ['BTC',\n",
       "  'The token has gained more than 50% since Donald Trump’s election victory. Bitcoin ETF inflows have exceeded $2Bn this year',\n",
       "  'positive',\n",
       "  0.9506503343582153,\n",
       "  'https://finance.yahoo.com/news/bitcoin-surpasses-107000-to-hit-new-high-amid-relentless-etf-demand-172001994.html'],\n",
       " ['BTC',\n",
       "  'Research firm K33 expects rally to peak in mid-January. Cycle peaks occur on average of 318 days between first and last.',\n",
       "  'neutral',\n",
       "  0.7605228424072266,\n",
       "  'https://www.yahoo.com/finance/news/bitcoins-price-may-peak-mid-090001631.html'],\n",
       " ['BTC',\n",
       "  'We are aware of the issue and are working to resolve it.',\n",
       "  'neutral',\n",
       "  0.7725824117660522,\n",
       "  'https://finance.yahoo.com/video/crypto-surge-key-players-reveal-130034728.html'],\n",
       " ['BTC',\n",
       "  'We are aware of the issue and are working to resolve it.',\n",
       "  'neutral',\n",
       "  0.7725824117660522,\n",
       "  'https://finance.yahoo.com/video/kulr-technology-stock-pops-bitcoin-205706742.html'],\n",
       " ['BTC',\n",
       "  'We are aware of the issue and are working to resolve it.',\n",
       "  'neutral',\n",
       "  0.7725824117660522,\n",
       "  'https://finance.yahoo.com/video/stocks-set-open-lower-jobless-140951379.html'],\n",
       " ['BTC',\n",
       "  'Your information may be shared with third parties.',\n",
       "  'neutral',\n",
       "  0.9321518540382385,\n",
       "  'https://www.google.com/search?q%3Dyahoo%2Bfinance%2BBTC%26tbm%3Dnws%26pccc%3D1'],\n",
       " ['BTC',\n",
       "  'We are aware of the issue and are working to resolve it.',\n",
       "  'neutral',\n",
       "  0.7725824117660522,\n",
       "  'https://finance.yahoo.com/video/us-strategic-could-push-bitcoin-213000587.html'],\n",
       " ['BTC',\n",
       "  'Falling dominance of USDT could signal a preference for stablecoins.',\n",
       "  'neutral',\n",
       "  0.7419131994247437,\n",
       "  'https://finance.yahoo.com/news/bitcoin-drops-below-94k-market-055852355.html'],\n",
       " ['BTC',\n",
       "  'Bitcoin to hit cycle-high of $200,000 in late 2025, Bernstein says. Standard Chartered sees crypto inflows at or above 2024 pace',\n",
       "  'positive',\n",
       "  0.5200138688087463,\n",
       "  'https://finance.yahoo.com/news/bitcoin-just-crossed-100000-for-the-first-time-wall-street-sees-200000-following-soon-200622402.html'],\n",
       " ['BTC',\n",
       "  'We are aware of the issue and are working to resolve it.',\n",
       "  'neutral',\n",
       "  0.7725824117660522,\n",
       "  'https://finance.yahoo.com/video/stocks-erase-earlier-losses-bitcoin-181630721.html'],\n",
       " ['BTC',\n",
       "  'Weekly jobless claims rise to highest since November 2021.',\n",
       "  'negative',\n",
       "  0.6393394470214844,\n",
       "  'https://finance.yahoo.com/news/live/stock-market-today-dow-ekes-out-gains-bitcoin-slumps-as-santa-claus-rally-takes-a-pause-175235354.html']]"
      ]
     },
     "execution_count": 37,
     "metadata": {},
     "output_type": "execute_result"
    }
   ],
   "source": [
    "final_output"
   ]
  },
  {
   "cell_type": "code",
   "execution_count": 1,
   "metadata": {},
   "outputs": [
    {
     "ename": "NameError",
     "evalue": "name 'final_output' is not defined",
     "output_type": "error",
     "traceback": [
      "\u001b[0;31m---------------------------------------------------------------------------\u001b[0m",
      "\u001b[0;31mNameError\u001b[0m                                 Traceback (most recent call last)",
      "Cell \u001b[0;32mIn[1], line 4\u001b[0m\n\u001b[1;32m      2\u001b[0m \u001b[38;5;28;01mwith\u001b[39;00m \u001b[38;5;28mopen\u001b[39m(\u001b[38;5;124m'\u001b[39m\u001b[38;5;124massetsummariesv1.csv\u001b[39m\u001b[38;5;124m'\u001b[39m, mode\u001b[38;5;241m=\u001b[39m\u001b[38;5;124m'\u001b[39m\u001b[38;5;124mw\u001b[39m\u001b[38;5;124m'\u001b[39m, newline\u001b[38;5;241m=\u001b[39m\u001b[38;5;124m'\u001b[39m\u001b[38;5;124m'\u001b[39m) \u001b[38;5;28;01mas\u001b[39;00m f:\n\u001b[1;32m      3\u001b[0m     csv_writer \u001b[38;5;241m=\u001b[39m csv\u001b[38;5;241m.\u001b[39mwriter(f, delimiter\u001b[38;5;241m=\u001b[39m\u001b[38;5;124m'\u001b[39m\u001b[38;5;124m,\u001b[39m\u001b[38;5;124m'\u001b[39m, quotechar\u001b[38;5;241m=\u001b[39m\u001b[38;5;124m'\u001b[39m\u001b[38;5;124m\"\u001b[39m\u001b[38;5;124m'\u001b[39m, quoting\u001b[38;5;241m=\u001b[39mcsv\u001b[38;5;241m.\u001b[39mQUOTE_MINIMAL)\n\u001b[0;32m----> 4\u001b[0m     csv_writer\u001b[38;5;241m.\u001b[39mwriterows(\u001b[43mfinal_output\u001b[49m)\n",
      "\u001b[0;31mNameError\u001b[0m: name 'final_output' is not defined"
     ]
    }
   ],
   "source": [
    "import csv\n",
    "with open('assetsummariesv1.csv', mode='w', newline='') as f:\n",
    "    csv_writer = csv.writer(f, delimiter=',', quotechar='\"', quoting=csv.QUOTE_MINIMAL)\n",
    "    csv_writer.writerows(final_output)"
   ]
  },
  {
   "cell_type": "code",
   "execution_count": null,
   "metadata": {},
   "outputs": [],
   "source": []
  },
  {
   "cell_type": "code",
   "execution_count": null,
   "metadata": {},
   "outputs": [],
   "source": []
  },
  {
   "cell_type": "code",
   "execution_count": null,
   "metadata": {},
   "outputs": [],
   "source": []
  }
 ],
 "metadata": {
  "kernelspec": {
   "display_name": "Python 3 (ipykernel)",
   "language": "python",
   "name": "python3"
  },
  "language_info": {
   "codemirror_mode": {
    "name": "ipython",
    "version": 3
   },
   "file_extension": ".py",
   "mimetype": "text/x-python",
   "name": "python",
   "nbconvert_exporter": "python",
   "pygments_lexer": "ipython3",
   "version": "3.11.3"
  }
 },
 "nbformat": 4,
 "nbformat_minor": 4
}
