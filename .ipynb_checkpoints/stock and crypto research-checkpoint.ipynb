{
 "cells": [
  {
   "cell_type": "markdown",
   "metadata": {},
   "source": [
    "# 1. Install and Import Baseline Dependencies"
   ]
  },
  {
   "cell_type": "code",
   "execution_count": 14,
   "metadata": {},
   "outputs": [
    {
     "name": "stdout",
     "output_type": "stream",
     "text": [
      "Package                      Version\n",
      "---------------------------- ---------\n",
      "absl-py                      2.1.0\n",
      "annotated-types              0.6.0\n",
      "ansi2html                    1.8.0\n",
      "anyio                        3.7.0\n",
      "appnope                      0.1.3\n",
      "argon2-cffi                  21.3.0\n",
      "argon2-cffi-bindings         21.2.0\n",
      "arrow                        1.2.3\n",
      "asttokens                    2.2.1\n",
      "astunparse                   1.6.3\n",
      "async-lru                    2.0.2\n",
      "attrs                        23.1.0\n",
      "Babel                        2.12.1\n",
      "backcall                     0.2.0\n",
      "backoff                      2.2.1\n",
      "beautifulsoup4               4.12.2\n",
      "bleach                       6.0.0\n",
      "blinker                      1.7.0\n",
      "Brotli                       1.1.0\n",
      "certifi                      2023.5.7\n",
      "cffi                         1.15.1\n",
      "charset-normalizer           3.1.0\n",
      "click                        8.1.7\n",
      "comm                         0.1.3\n",
      "computer-vision              0.0.6\n",
      "contextlib2                  21.6.0\n",
      "contourpy                    1.1.0\n",
      "cycler                       0.11.0\n",
      "Cython                       3.0.9\n",
      "dacite                       1.8.1\n",
      "dash                         2.14.2\n",
      "dash-bootstrap-components    1.3.1\n",
      "dash-colorscales             0.0.4\n",
      "dash-core-components         2.0.0\n",
      "dash-daq                     0.5.0\n",
      "dash-html-components         2.0.0\n",
      "dash-table                   5.0.0\n",
      "debugpy                      1.6.7\n",
      "decorator                    5.1.1\n",
      "defusedxml                   0.7.1\n",
      "dtale                        3.8.1\n",
      "et-xmlfile                   1.1.0\n",
      "executing                    1.2.0\n",
      "ez-setup                     0.9\n",
      "fastjsonschema               2.17.1\n",
      "filelock                     3.16.1\n",
      "Flask                        2.2.5\n",
      "Flask-Compress               1.14\n",
      "flask-ngrok                  0.0.25\n",
      "flatbuffers                  24.3.7\n",
      "fonttools                    4.42.0\n",
      "fqdn                         1.5.1\n",
      "fsspec                       2024.10.0\n",
      "future                       0.18.3\n",
      "gast                         0.5.4\n",
      "google-pasta                 0.2.0\n",
      "grpcio                       1.62.1\n",
      "h5py                         3.10.0\n",
      "htmlmin                      0.1.12\n",
      "huggingface-hub              0.26.3\n",
      "idna                         3.4\n",
      "ImageHash                    4.3.1\n",
      "importlib-metadata           7.0.0\n",
      "ipykernel                    6.23.2\n",
      "ipython                      8.14.0\n",
      "ipython-genutils             0.2.0\n",
      "ipywidgets                   8.1.0\n",
      "isoduration                  20.11.0\n",
      "itsdangerous                 2.1.2\n",
      "jedi                         0.18.2\n",
      "Jinja2                       3.1.2\n",
      "joblib                       1.1.1\n",
      "json5                        0.9.14\n",
      "jsonpointer                  2.3\n",
      "jsonschema                   4.17.3\n",
      "jupysql-plugin               0.3.0\n",
      "jupyter                      1.0.0\n",
      "jupyter_client               8.2.0\n",
      "jupyter-console              6.6.3\n",
      "jupyter_core                 5.3.1\n",
      "jupyter-events               0.6.3\n",
      "jupyter-lsp                  2.2.0\n",
      "jupyter_server               2.6.0\n",
      "jupyter_server_terminals     0.4.4\n",
      "jupyterlab                   4.0.2\n",
      "jupyterlab-pygments          0.2.2\n",
      "jupyterlab_server            2.23.0\n",
      "jupyterlab-widgets           3.0.8\n",
      "kaleido                      0.2.1\n",
      "keras                        3.1.1\n",
      "kiwisolver                   1.4.4\n",
      "libclang                     18.1.1\n",
      "llvmlite                     0.41.1\n",
      "lxml                         5.1.0\n",
      "lz4                          4.3.2\n",
      "Markdown                     3.6\n",
      "markdown-it-py               3.0.0\n",
      "MarkupSafe                   2.1.3\n",
      "matplotlib                   3.8.3\n",
      "matplotlib-inline            0.1.6\n",
      "mdurl                        0.1.2\n",
      "missingno                    0.5.2\n",
      "mistune                      2.0.5\n",
      "ml-dtypes                    0.3.2\n",
      "monotonic                    1.6\n",
      "mpmath                       1.3.0\n",
      "multimethod                  1.10\n",
      "namex                        0.0.7\n",
      "nbclient                     0.8.0\n",
      "nbconvert                    7.5.0\n",
      "nbformat                     5.9.0\n",
      "nest-asyncio                 1.5.6\n",
      "networkx                     3.2.1\n",
      "nltk                         3.9.1\n",
      "notebook                     7.0.2\n",
      "notebook_shim                0.2.3\n",
      "numba                        0.58.1\n",
      "numpy                        1.25.2\n",
      "object-detection             0.0.3\n",
      "opencv-python                4.10.0.84\n",
      "openpyxl                     3.1.2\n",
      "opt-einsum                   3.3.0\n",
      "optree                       0.10.0\n",
      "overrides                    7.3.1\n",
      "packaging                    23.1\n",
      "pandas                       2.0.3\n",
      "pandas-profiling             3.2.0\n",
      "pandocfilters                1.5.0\n",
      "parso                        0.8.3\n",
      "patsy                        0.5.3\n",
      "pexpect                      4.8.0\n",
      "phik                         0.12.3\n",
      "pickleshare                  0.7.5\n",
      "Pillow                       10.0.0\n",
      "pip                          24.3.1\n",
      "platformdirs                 3.5.3\n",
      "ploomber-core                0.2.19\n",
      "plotly                       5.15.0\n",
      "posthog                      3.1.0\n",
      "prometheus-client            0.17.0\n",
      "prompt-toolkit               3.0.38\n",
      "protobuf                     4.25.3\n",
      "psutil                       5.9.5\n",
      "ptyprocess                   0.7.0\n",
      "pure-eval                    0.2.2\n",
      "pycoingecko                  3.1.0\n",
      "pycparser                    2.21\n",
      "pydantic                     2.4.2\n",
      "pydantic_core                2.10.1\n",
      "Pygments                     2.15.1\n",
      "pyparsing                    3.0.9\n",
      "pyrsistent                   0.19.3\n",
      "python-dateutil              2.8.2\n",
      "python-json-logger           2.0.7\n",
      "pytz                         2023.3\n",
      "PyWavelets                   1.4.1\n",
      "PyYAML                       6.0\n",
      "pyzmq                        25.1.0\n",
      "qtconsole                    5.4.3\n",
      "QtPy                         2.3.1\n",
      "regex                        2024.11.6\n",
      "requests                     2.31.0\n",
      "retrying                     1.3.4\n",
      "rfc3339-validator            0.1.4\n",
      "rfc3986-validator            0.1.1\n",
      "rich                         13.7.1\n",
      "safetensors                  0.4.5\n",
      "scikit-learn                 1.3.2\n",
      "scipy                        1.11.3\n",
      "seaborn                      0.12.2\n",
      "Send2Trash                   1.8.2\n",
      "sentencepiece                0.2.0\n",
      "setuptools                   69.2.0\n",
      "six                          1.16.0\n",
      "sniffio                      1.3.0\n",
      "soupsieve                    2.4.1\n",
      "squarify                     0.4.3\n",
      "stack-data                   0.6.2\n",
      "statsmodels                  0.14.0\n",
      "strsimpy                     0.2.1\n",
      "sympy                        1.13.1\n",
      "tangled-up-in-unicode        0.2.0\n",
      "tenacity                     8.2.2\n",
      "tensorboard                  2.16.2\n",
      "tensorboard-data-server      0.7.2\n",
      "tensorflow                   2.16.1\n",
      "tensorflow-hub               0.16.1\n",
      "tensorflow-io-gcs-filesystem 0.36.0\n",
      "termcolor                    2.4.0\n",
      "terminado                    0.17.1\n",
      "tf_keras                     2.16.0\n",
      "threadpoolctl                3.2.0\n",
      "tinycss2                     1.2.1\n",
      "tokenizers                   0.20.3\n",
      "torch                        2.5.0\n",
      "tornado                      6.3.2\n",
      "tqdm                         4.66.1\n",
      "traitlets                    5.9.0\n",
      "transformers                 4.46.3\n",
      "typeguard                    4.1.5\n",
      "typing_extensions            4.8.0\n",
      "tzdata                       2023.3\n",
      "uri-template                 1.2.0\n",
      "urllib3                      2.0.3\n",
      "visions                      0.7.5\n",
      "wcwidth                      0.2.6\n",
      "webcolors                    1.13\n",
      "webencodings                 0.5.1\n",
      "websocket-client             1.5.3\n",
      "Werkzeug                     3.0.1\n",
      "wheel                        0.43.0\n",
      "widgetsnbextension           4.0.8\n",
      "wordcloud                    1.9.2\n",
      "wrapt                        1.16.0\n",
      "xarray                       2023.12.0\n",
      "xgboost                      2.0.1\n",
      "xlrd                         2.0.1\n",
      "ydata-profiling              4.6.1\n",
      "zipp                         3.17.0\n",
      "Note: you may need to restart the kernel to use updated packages.\n"
     ]
    }
   ],
   "source": [
    "pip list"
   ]
  },
  {
   "cell_type": "code",
   "execution_count": 7,
   "metadata": {},
   "outputs": [
    {
     "name": "stdout",
     "output_type": "stream",
     "text": [
      "Requirement already satisfied: pip in /Library/Frameworks/Python.framework/Versions/3.11/lib/python3.11/site-packages (24.0)\n",
      "Collecting pip\n",
      "  Downloading pip-24.3.1-py3-none-any.whl.metadata (3.7 kB)\n",
      "Downloading pip-24.3.1-py3-none-any.whl (1.8 MB)\n",
      "\u001b[2K   \u001b[38;2;114;156;31m━━━━━━━━━━━━━━━━━━━━━━━━━━━━━━━━━━━━━━━━\u001b[0m \u001b[32m1.8/1.8 MB\u001b[0m \u001b[31m6.7 MB/s\u001b[0m eta \u001b[36m0:00:00\u001b[0m MB/s\u001b[0m eta \u001b[36m0:00:01\u001b[0m:01\u001b[0m\n",
      "\u001b[?25hInstalling collected packages: pip\n",
      "  Attempting uninstall: pip\n",
      "    Found existing installation: pip 24.0\n",
      "    Uninstalling pip-24.0:\n",
      "      Successfully uninstalled pip-24.0\n",
      "Successfully installed pip-24.3.1\n",
      "Note: you may need to restart the kernel to use updated packages.\n"
     ]
    }
   ],
   "source": [
    "pip install --upgrade pip"
   ]
  },
  {
   "cell_type": "code",
   "execution_count": 8,
   "metadata": {},
   "outputs": [
    {
     "name": "stdout",
     "output_type": "stream",
     "text": [
      "Requirement already satisfied: nltk in /Library/Frameworks/Python.framework/Versions/3.11/lib/python3.11/site-packages (3.9.1)\n",
      "Requirement already satisfied: click in /Library/Frameworks/Python.framework/Versions/3.11/lib/python3.11/site-packages (from nltk) (8.1.7)\n",
      "Requirement already satisfied: joblib in /Library/Frameworks/Python.framework/Versions/3.11/lib/python3.11/site-packages (from nltk) (1.1.1)\n",
      "Requirement already satisfied: regex>=2021.8.3 in /Library/Frameworks/Python.framework/Versions/3.11/lib/python3.11/site-packages (from nltk) (2024.11.6)\n",
      "Requirement already satisfied: tqdm in /Library/Frameworks/Python.framework/Versions/3.11/lib/python3.11/site-packages (from nltk) (4.66.1)\n",
      "Note: you may need to restart the kernel to use updated packages.\n"
     ]
    }
   ],
   "source": [
    "pip install nltk"
   ]
  },
  {
   "cell_type": "code",
   "execution_count": 11,
   "metadata": {},
   "outputs": [
    {
     "name": "stdout",
     "output_type": "stream",
     "text": [
      "Requirement already satisfied: transformers in /Users/yash/miniforge3/envs/stockandcrypto/lib/python3.10/site-packages (4.47.1)\n",
      "Requirement already satisfied: filelock in /Users/yash/miniforge3/envs/stockandcrypto/lib/python3.10/site-packages (from transformers) (3.16.1)\n",
      "Requirement already satisfied: huggingface-hub<1.0,>=0.24.0 in /Users/yash/miniforge3/envs/stockandcrypto/lib/python3.10/site-packages (from transformers) (0.27.0)\n",
      "Requirement already satisfied: numpy>=1.17 in /Users/yash/miniforge3/envs/stockandcrypto/lib/python3.10/site-packages (from transformers) (2.2.1)\n",
      "Requirement already satisfied: packaging>=20.0 in /Users/yash/miniforge3/envs/stockandcrypto/lib/python3.10/site-packages (from transformers) (24.2)\n",
      "Requirement already satisfied: pyyaml>=5.1 in /Users/yash/miniforge3/envs/stockandcrypto/lib/python3.10/site-packages (from transformers) (6.0.2)\n",
      "Requirement already satisfied: regex!=2019.12.17 in /Users/yash/miniforge3/envs/stockandcrypto/lib/python3.10/site-packages (from transformers) (2024.11.6)\n",
      "Requirement already satisfied: requests in /Users/yash/miniforge3/envs/stockandcrypto/lib/python3.10/site-packages (from transformers) (2.32.3)\n",
      "Requirement already satisfied: tokenizers<0.22,>=0.21 in /Users/yash/miniforge3/envs/stockandcrypto/lib/python3.10/site-packages (from transformers) (0.21.0)\n",
      "Requirement already satisfied: safetensors>=0.4.1 in /Users/yash/miniforge3/envs/stockandcrypto/lib/python3.10/site-packages (from transformers) (0.4.5)\n",
      "Requirement already satisfied: tqdm>=4.27 in /Users/yash/miniforge3/envs/stockandcrypto/lib/python3.10/site-packages (from transformers) (4.67.1)\n",
      "Requirement already satisfied: fsspec>=2023.5.0 in /Users/yash/miniforge3/envs/stockandcrypto/lib/python3.10/site-packages (from huggingface-hub<1.0,>=0.24.0->transformers) (2024.12.0)\n",
      "Requirement already satisfied: typing-extensions>=3.7.4.3 in /Users/yash/miniforge3/envs/stockandcrypto/lib/python3.10/site-packages (from huggingface-hub<1.0,>=0.24.0->transformers) (4.12.2)\n",
      "Requirement already satisfied: charset-normalizer<4,>=2 in /Users/yash/miniforge3/envs/stockandcrypto/lib/python3.10/site-packages (from requests->transformers) (3.4.1)\n",
      "Requirement already satisfied: idna<4,>=2.5 in /Users/yash/miniforge3/envs/stockandcrypto/lib/python3.10/site-packages (from requests->transformers) (3.10)\n",
      "Requirement already satisfied: urllib3<3,>=1.21.1 in /Users/yash/miniforge3/envs/stockandcrypto/lib/python3.10/site-packages (from requests->transformers) (2.3.0)\n",
      "Requirement already satisfied: certifi>=2017.4.17 in /Users/yash/miniforge3/envs/stockandcrypto/lib/python3.10/site-packages (from requests->transformers) (2024.12.14)\n",
      "Requirement already satisfied: torch in /Users/yash/miniforge3/envs/stockandcrypto/lib/python3.10/site-packages (2.5.1)\n",
      "Requirement already satisfied: filelock in /Users/yash/miniforge3/envs/stockandcrypto/lib/python3.10/site-packages (from torch) (3.16.1)\n",
      "Requirement already satisfied: typing-extensions>=4.8.0 in /Users/yash/miniforge3/envs/stockandcrypto/lib/python3.10/site-packages (from torch) (4.12.2)\n",
      "Requirement already satisfied: networkx in /Users/yash/miniforge3/envs/stockandcrypto/lib/python3.10/site-packages (from torch) (3.4.2)\n",
      "Requirement already satisfied: jinja2 in /Users/yash/miniforge3/envs/stockandcrypto/lib/python3.10/site-packages (from torch) (3.1.5)\n",
      "Requirement already satisfied: fsspec in /Users/yash/miniforge3/envs/stockandcrypto/lib/python3.10/site-packages (from torch) (2024.12.0)\n",
      "Requirement already satisfied: sympy==1.13.1 in /Users/yash/miniforge3/envs/stockandcrypto/lib/python3.10/site-packages (from torch) (1.13.1)\n",
      "Requirement already satisfied: mpmath<1.4,>=1.1.0 in /Users/yash/miniforge3/envs/stockandcrypto/lib/python3.10/site-packages (from sympy==1.13.1->torch) (1.3.0)\n",
      "Requirement already satisfied: MarkupSafe>=2.0 in /Users/yash/miniforge3/envs/stockandcrypto/lib/python3.10/site-packages (from jinja2->torch) (3.0.2)\n"
     ]
    }
   ],
   "source": [
    "!pip install transformers\n",
    "!pip install torch"
   ]
  },
  {
   "cell_type": "code",
   "execution_count": 10,
   "metadata": {},
   "outputs": [
    {
     "name": "stderr",
     "output_type": "stream",
     "text": [
      "[nltk_data] Error loading punkt: <urlopen error [SSL:\n",
      "[nltk_data]     CERTIFICATE_VERIFY_FAILED] certificate verify failed:\n",
      "[nltk_data]     unable to get local issuer certificate (_ssl.c:1002)>\n"
     ]
    }
   ],
   "source": [
    "import nltk\n",
    "nltk.download('punkt')\n",
    "from transformers import PegasusTokenizer, PegasusForConditionalGeneration, pipeline, AutoTokenizer, AutoModelForSequenceClassification, RobertaTokenizer, RobertaForSequenceClassification, AlbertTokenizer, AlbertForSequenceClassification\n",
    "from bs4 import BeautifulSoup\n",
    "import requests\n",
    "import re\n",
    "import csv\n",
    "import torch\n",
    "from torch.optim import Adam\n",
    "from nltk.tokenize import word_tokenize\n",
    "import numpy as np"
   ]
  },
  {
   "cell_type": "code",
   "execution_count": 13,
   "metadata": {},
   "outputs": [
    {
     "name": "stderr",
     "output_type": "stream",
     "text": [
      "[nltk_data] Downloading package punkt to /Users/yash/nltk_data...\n",
      "[nltk_data]   Package punkt is already up-to-date!\n"
     ]
    },
    {
     "data": {
      "text/plain": [
       "True"
      ]
     },
     "execution_count": 13,
     "metadata": {},
     "output_type": "execute_result"
    }
   ],
   "source": [
    "import nltk\n",
    "import ssl\n",
    "\n",
    "try:\n",
    "    _create_unverified_https_context = ssl._create_unverified_context\n",
    "except AttributeError:\n",
    "    pass\n",
    "else:\n",
    "    ssl._create_default_https_context = _create_unverified_https_context\n",
    "\n",
    "nltk.download('punkt')"
   ]
  },
  {
   "cell_type": "markdown",
   "metadata": {},
   "source": [
    "# 2. Setup Summarization Model"
   ]
  },
  {
   "cell_type": "code",
   "execution_count": 19,
   "metadata": {},
   "outputs": [
    {
     "name": "stderr",
     "output_type": "stream",
     "text": [
      "Some weights of PegasusForConditionalGeneration were not initialized from the model checkpoint at human-centered-summarization/financial-summarization-pegasus and are newly initialized: ['model.decoder.embed_positions.weight', 'model.encoder.embed_positions.weight']\n",
      "You should probably TRAIN this model on a down-stream task to be able to use it for predictions and inference.\n"
     ]
    }
   ],
   "source": [
    "model_name = \"human-centered-summarization/financial-summarization-pegasus\"\n",
    "tokenizer_pegasus = PegasusTokenizer.from_pretrained(model_name)\n",
    "model_pegasus = PegasusForConditionalGeneration.from_pretrained(model_name)"
   ]
  },
  {
   "cell_type": "markdown",
   "metadata": {},
   "source": [
    "# 2.1 Setup Sentiment Analysis Models (BERT, RoBERTa, ALBERT)"
   ]
  },
  {
   "cell_type": "code",
   "execution_count": 16,
   "metadata": {},
   "outputs": [
    {
     "data": {
      "application/vnd.jupyter.widget-view+json": {
       "model_id": "826c0a77ee43453cada25a924e9ee34a",
       "version_major": 2,
       "version_minor": 0
      },
      "text/plain": [
       "tokenizer_config.json:   0%|          | 0.00/48.0 [00:00<?, ?B/s]"
      ]
     },
     "metadata": {},
     "output_type": "display_data"
    },
    {
     "data": {
      "application/vnd.jupyter.widget-view+json": {
       "model_id": "6ac8e14ec81e4d9a947f3297728ccca3",
       "version_major": 2,
       "version_minor": 0
      },
      "text/plain": [
       "config.json:   0%|          | 0.00/629 [00:00<?, ?B/s]"
      ]
     },
     "metadata": {},
     "output_type": "display_data"
    },
    {
     "data": {
      "application/vnd.jupyter.widget-view+json": {
       "model_id": "1858323d4f22410b940abc3d6f6e5506",
       "version_major": 2,
       "version_minor": 0
      },
      "text/plain": [
       "vocab.txt:   0%|          | 0.00/232k [00:00<?, ?B/s]"
      ]
     },
     "metadata": {},
     "output_type": "display_data"
    },
    {
     "data": {
      "application/vnd.jupyter.widget-view+json": {
       "model_id": "7d3e84873a5d41e0982daa89f89762a0",
       "version_major": 2,
       "version_minor": 0
      },
      "text/plain": [
       "model.safetensors:   0%|          | 0.00/268M [00:00<?, ?B/s]"
      ]
     },
     "metadata": {},
     "output_type": "display_data"
    }
   ],
   "source": [
    "model_name_bert = \"distilbert-base-uncased-finetuned-sst-2-english\"\n",
    "tokenizer_bert = AutoTokenizer.from_pretrained(model_name_bert)\n",
    "model_bert = AutoModelForSequenceClassification.from_pretrained(model_name_bert)"
   ]
  },
  {
   "cell_type": "code",
   "execution_count": 17,
   "metadata": {},
   "outputs": [
    {
     "data": {
      "application/vnd.jupyter.widget-view+json": {
       "model_id": "a766ad964a7447978a539c9ea61da344",
       "version_major": 2,
       "version_minor": 0
      },
      "text/plain": [
       "tokenizer_config.json:   0%|          | 0.00/25.0 [00:00<?, ?B/s]"
      ]
     },
     "metadata": {},
     "output_type": "display_data"
    },
    {
     "data": {
      "application/vnd.jupyter.widget-view+json": {
       "model_id": "3eadd5f5b2964d758cb54e6cc5c16901",
       "version_major": 2,
       "version_minor": 0
      },
      "text/plain": [
       "vocab.json:   0%|          | 0.00/899k [00:00<?, ?B/s]"
      ]
     },
     "metadata": {},
     "output_type": "display_data"
    },
    {
     "data": {
      "application/vnd.jupyter.widget-view+json": {
       "model_id": "bd6f599801ab4c6385c3f7f33074689d",
       "version_major": 2,
       "version_minor": 0
      },
      "text/plain": [
       "merges.txt:   0%|          | 0.00/456k [00:00<?, ?B/s]"
      ]
     },
     "metadata": {},
     "output_type": "display_data"
    },
    {
     "data": {
      "application/vnd.jupyter.widget-view+json": {
       "model_id": "30af06a6a18c4b978bdfbf81b5ba45f7",
       "version_major": 2,
       "version_minor": 0
      },
      "text/plain": [
       "tokenizer.json:   0%|          | 0.00/1.36M [00:00<?, ?B/s]"
      ]
     },
     "metadata": {},
     "output_type": "display_data"
    },
    {
     "data": {
      "application/vnd.jupyter.widget-view+json": {
       "model_id": "74679a984ec84f53a697a7df47852af9",
       "version_major": 2,
       "version_minor": 0
      },
      "text/plain": [
       "config.json:   0%|          | 0.00/688 [00:00<?, ?B/s]"
      ]
     },
     "metadata": {},
     "output_type": "display_data"
    },
    {
     "data": {
      "application/vnd.jupyter.widget-view+json": {
       "model_id": "f22eb31c4ac941f0a06a752269cc0224",
       "version_major": 2,
       "version_minor": 0
      },
      "text/plain": [
       "model.safetensors:   0%|          | 0.00/1.43G [00:00<?, ?B/s]"
      ]
     },
     "metadata": {},
     "output_type": "display_data"
    },
    {
     "name": "stderr",
     "output_type": "stream",
     "text": [
      "Some weights of the model checkpoint at roberta-large-mnli were not used when initializing RobertaForSequenceClassification: ['roberta.pooler.dense.bias', 'roberta.pooler.dense.weight']\n",
      "- This IS expected if you are initializing RobertaForSequenceClassification from the checkpoint of a model trained on another task or with another architecture (e.g. initializing a BertForSequenceClassification model from a BertForPreTraining model).\n",
      "- This IS NOT expected if you are initializing RobertaForSequenceClassification from the checkpoint of a model that you expect to be exactly identical (initializing a BertForSequenceClassification model from a BertForSequenceClassification model).\n"
     ]
    }
   ],
   "source": [
    "model_name_roberta = \"roberta-large-mnli\"\n",
    "tokenizer_roberta = RobertaTokenizer.from_pretrained(model_name_roberta)\n",
    "model_roberta = RobertaForSequenceClassification.from_pretrained(model_name_roberta)"
   ]
  },
  {
   "cell_type": "code",
   "execution_count": 18,
   "metadata": {},
   "outputs": [
    {
     "data": {
      "application/vnd.jupyter.widget-view+json": {
       "model_id": "68d056aeb383426b8f1050e5850ff764",
       "version_major": 2,
       "version_minor": 0
      },
      "text/plain": [
       "tokenizer_config.json:   0%|          | 0.00/25.0 [00:00<?, ?B/s]"
      ]
     },
     "metadata": {},
     "output_type": "display_data"
    },
    {
     "data": {
      "application/vnd.jupyter.widget-view+json": {
       "model_id": "72c203f658324c5d832403f5563acd6e",
       "version_major": 2,
       "version_minor": 0
      },
      "text/plain": [
       "spiece.model:   0%|          | 0.00/760k [00:00<?, ?B/s]"
      ]
     },
     "metadata": {},
     "output_type": "display_data"
    },
    {
     "data": {
      "application/vnd.jupyter.widget-view+json": {
       "model_id": "fd4e989ce3164422af62e96f37aa4cd9",
       "version_major": 2,
       "version_minor": 0
      },
      "text/plain": [
       "special_tokens_map.json:   0%|          | 0.00/156 [00:00<?, ?B/s]"
      ]
     },
     "metadata": {},
     "output_type": "display_data"
    },
    {
     "data": {
      "application/vnd.jupyter.widget-view+json": {
       "model_id": "a360e0165053414493931c5839e0e4c6",
       "version_major": 2,
       "version_minor": 0
      },
      "text/plain": [
       "config.json:   0%|          | 0.00/732 [00:00<?, ?B/s]"
      ]
     },
     "metadata": {},
     "output_type": "display_data"
    },
    {
     "data": {
      "application/vnd.jupyter.widget-view+json": {
       "model_id": "23a6d75053db4e03bfc6c17a8c8d11b4",
       "version_major": 2,
       "version_minor": 0
      },
      "text/plain": [
       "pytorch_model.bin:   0%|          | 0.00/46.7M [00:00<?, ?B/s]"
      ]
     },
     "metadata": {},
     "output_type": "display_data"
    },
    {
     "data": {
      "application/vnd.jupyter.widget-view+json": {
       "model_id": "c86207db9ff345fc9b327b174d2cbd83",
       "version_major": 2,
       "version_minor": 0
      },
      "text/plain": [
       "model.safetensors:   0%|          | 0.00/46.7M [00:00<?, ?B/s]"
      ]
     },
     "metadata": {},
     "output_type": "display_data"
    }
   ],
   "source": [
    "model_name_albert = \"textattack/albert-base-v2-SST-2\"\n",
    "tokenizer_albert = AlbertTokenizer.from_pretrained(model_name_albert)\n",
    "model_albert = AlbertForSequenceClassification.from_pretrained(model_name_albert)"
   ]
  },
  {
   "cell_type": "markdown",
   "metadata": {},
   "source": [
    "# 3. Summarize a Single Article (Example - now a function)"
   ]
  },
  {
   "cell_type": "code",
   "execution_count": null,
   "metadata": {},
   "outputs": [],
   "source": [
    "'''def summarize_article(url, max_words=400, max_length=55):\n",
    "    r = requests.get(url)\n",
    "    soup = BeautifulSoup(r.text, 'html.parser')\n",
    "    paragraphs = soup.find_all('p')\n",
    "    text = [paragraph.text for paragraph in paragraphs]\n",
    "    words = ' '.join(text).split(' ')[:max_words]\n",
    "    article = ' '.join(words)\n",
    "\n",
    "    input_ids = tokenizer_pegasus.encode(article, return_tensors='pt')\n",
    "    output = model_pegasus.generate(input_ids, max_length=max_length, num_beams=5, early_stopping=True)\n",
    "    summary = tokenizer_pegasus.decode(output[0], skip_special_tokens=True)\n",
    "    return summary'''"
   ]
  },
  {
   "cell_type": "code",
   "execution_count": 20,
   "metadata": {},
   "outputs": [],
   "source": [
    "url = \"https://finance.yahoo.com/news/us-bitcoin-etf-inflows-near-035640575.html\"\n",
    "r = requests.get(url)\n",
    "soup = BeautifulSoup(r.text, 'html.parser')\n",
    "paragraphs = soup.find_all('p')"
   ]
  },
  {
   "cell_type": "code",
   "execution_count": 21,
   "metadata": {},
   "outputs": [
    {
     "data": {
      "text/plain": [
       "'We are experiencing some temporary issues. The market data on this page is currently delayed. Please bear with us as we address this and restore your personalized lists.'"
      ]
     },
     "execution_count": 21,
     "metadata": {},
     "output_type": "execute_result"
    }
   ],
   "source": [
    "paragraphs[0].text"
   ]
  },
  {
   "cell_type": "code",
   "execution_count": 22,
   "metadata": {},
   "outputs": [],
   "source": [
    "text = [paragraph.text for paragraph in paragraphs]\n",
    "words = ' '.join(text).split(' ')[:400]\n",
    "ARTICLE = ' '.join(words)"
   ]
  },
  {
   "cell_type": "code",
   "execution_count": 23,
   "metadata": {},
   "outputs": [
    {
     "data": {
      "text/plain": [
       "'We are experiencing some temporary issues. The market data on this page is currently delayed. Please bear with us as we address this and restore your personalized lists. (Bloomberg) -- Almost $10 billion has poured into US exchange-traded funds investing directly in Bitcoin since Donald Trump became president-elect, in a bet that his embrace of the crypto sector heralds a boom for the market. Most Read from Bloomberg A Chicago Skyscraper Cements the Legacy of a Visionary Postmodern Architect NYC’s Run-Down Bus Terminal Gets Approval for $10 Billion Revamp Kansas City Looks Back on its Long, Costly Ride With Microtransit The dozen funds from issuers including BlackRock Inc. and Fidelity Investments have attracted about $9.9 billion of net inflows in the period following Election Day on Nov. 5, helping to lift the group’s total assets to approximately $113 billion, according to data compiled by Bloomberg. The president-elect last week picked a digital-asset supporter to be the next head of the US securities regulator and named the first-ever White House czar for artificial intelligence and crypto. Trump has vowed to replace Biden administration skepticism about digital assets with supportive rules and even backed the idea of a strategic national Bitcoin reserve. The Republican used to be a crypto skeptic but pivoted as the industry unleashed an election campaign war chest to promote its interests. Bitcoin topped $100,000 for the first time on Dec. 5 and traded at $98,860 as of 11:55 a.m. Monday in Singapore. The token’s six-week streak of gains through Sunday is the longest such run since the crypto frenzy of 2021. Volatility swept across Bitcoin a day after the token achieved the landmark six-figure level. The swings briefly drove the largest digital asset down toward $92,000, a drop that sowed some caution over the immediate outlook. A “sustained and decided” push past $100,000 may require further positive catalysts to materialize, David Lawant, head of research at crypto prime broker FalconX, wrote in a note. US regulators have also permitted spot-Ether ETFs, a group of nine funds that lured almost $2 billion of net subscriptions in the wake of Trump’s election win. Ether, the second-ranked token, has outperformed Bitcoin of late. Most Read from Bloomberg Businessweek Dubai’s Alleged Crypto Scams Are Raking in Billions The Quest to Turn Human Waste Into Medicine How a Billionaire’s ‘Baby Project’ Ensnared Dozens of Women Grand Theft Auto VI Will Rule the Video'"
      ]
     },
     "execution_count": 23,
     "metadata": {},
     "output_type": "execute_result"
    }
   ],
   "source": [
    "ARTICLE"
   ]
  },
  {
   "cell_type": "code",
   "execution_count": 24,
   "metadata": {},
   "outputs": [],
   "source": [
    "input_ids = tokenizer.encode(ARTICLE, return_tensors='pt')\n",
    "output = model.generate(input_ids, max_length=55, num_beams=5, early_stopping=True)\n",
    "summary = tokenizer.decode(output[0], skip_special_tokens=True)"
   ]
  },
  {
   "cell_type": "code",
   "execution_count": 25,
   "metadata": {},
   "outputs": [
    {
     "data": {
      "text/plain": [
       "'Almost $10 billion has poured into Bitcoin-related funds. Volatility briefly drives Bitcoin lower after hitting $100,000 level'"
      ]
     },
     "execution_count": 25,
     "metadata": {},
     "output_type": "execute_result"
    }
   ],
   "source": [
    "summary"
   ]
  },
  {
   "cell_type": "markdown",
   "metadata": {},
   "source": [
    "# 4. Building a News and Sentiment Pipeline"
   ]
  },
  {
   "cell_type": "code",
   "execution_count": 26,
   "metadata": {},
   "outputs": [],
   "source": [
    "monitored_tickers = ['GME', 'TSLA', 'BTC']"
   ]
  },
  {
   "cell_type": "markdown",
   "metadata": {},
   "source": [
    "## 4.1. Search for Stock News using Google and Yahoo Finance"
   ]
  },
  {
   "cell_type": "code",
   "execution_count": 27,
   "metadata": {},
   "outputs": [],
   "source": [
    "def search_for_stock_news_urls(ticker):\n",
    "    search_url = \"https://www.google.com/search?q=yahoo+finance+{}&tbm=nws\".format(ticker)\n",
    "    r = requests.get(search_url)\n",
    "    soup = BeautifulSoup(r.text, 'html.parser')\n",
    "    atags = soup.find_all('a')\n",
    "    hrefs = [link['href'] for link in atags]\n",
    "    return hrefs "
   ]
  },
  {
   "cell_type": "code",
   "execution_count": 28,
   "metadata": {},
   "outputs": [
    {
     "data": {
      "text/plain": [
       "{'GME': ['/?sa=X&ved=0ahUKEwi1tNW6qsqKAxWpqZUCHQxrK_wQOwgC',\n",
       "  '/search?q=yahoo+finance+GME&sca_esv=4afd992475402443&ie=UTF-8&tbm=nws&gbv=1&sei=F91vZ_XMFKnT1sQPjNat4Q8',\n",
       "  '/search?q=yahoo+finance+GME&sca_esv=4afd992475402443&ie=UTF-8&source=lnms&sa=X&ved=0ahUKEwi1tNW6qsqKAxWpqZUCHQxrK_wQ_AUIBSgA',\n",
       "  '/search?q=yahoo+finance+GME&sca_esv=4afd992475402443&ie=UTF-8&tbm=vid&source=lnms&sa=X&ved=0ahUKEwi1tNW6qsqKAxWpqZUCHQxrK_wQ_AUIBygC',\n",
       "  '/search?q=yahoo+finance+GME&sca_esv=4afd992475402443&ie=UTF-8&tbm=bks&source=lnms&sa=X&ved=0ahUKEwi1tNW6qsqKAxWpqZUCHQxrK_wQ_AUICCgD',\n",
       "  '/search?q=yahoo+finance+GME&sca_esv=4afd992475402443&ie=UTF-8&tbm=isch&source=lnms&sa=X&ved=0ahUKEwi1tNW6qsqKAxWpqZUCHQxrK_wQ_AUICSgE',\n",
       "  '/url?q=https://maps.google.com/maps%3Fq%3Dyahoo%2Bfinance%2BGME%26um%3D1%26ie%3DUTF-8%26ved%3D1t:200713%26ictx%3D111&opi=89978449&sa=U&ved=0ahUKEwi1tNW6qsqKAxWpqZUCHQxrK_wQiaAMCAooBQ&usg=AOvVaw0dmVVVl9jrabWuYxy_hKrv',\n",
       "  '/url?q=/search%3Fq%3Dyahoo%2Bfinance%2BGME%26sca_esv%3D4afd992475402443%26ie%3DUTF-8%26tbm%3Dshop%26source%3Dlnms%26ved%3D1t:200713%26ictx%3D111&opi=89978449&sa=U&ved=0ahUKEwi1tNW6qsqKAxWpqZUCHQxrK_wQiaAMCAsoBg&usg=AOvVaw02gR0DmnhsyWlaBMZJgc0K',\n",
       "  '/advanced_search',\n",
       "  '/search?q=yahoo+finance+GME&sca_esv=4afd992475402443&ie=UTF-8&tbm=nws&source=lnt&tbs=qdr:h&sa=X&ved=0ahUKEwi1tNW6qsqKAxWpqZUCHQxrK_wQpwUIDQ',\n",
       "  '/search?q=yahoo+finance+GME&sca_esv=4afd992475402443&ie=UTF-8&tbm=nws&source=lnt&tbs=qdr:d&sa=X&ved=0ahUKEwi1tNW6qsqKAxWpqZUCHQxrK_wQpwUIDg',\n",
       "  '/search?q=yahoo+finance+GME&sca_esv=4afd992475402443&ie=UTF-8&tbm=nws&source=lnt&tbs=qdr:w&sa=X&ved=0ahUKEwi1tNW6qsqKAxWpqZUCHQxrK_wQpwUIDw',\n",
       "  '/search?q=yahoo+finance+GME&sca_esv=4afd992475402443&ie=UTF-8&tbm=nws&source=lnt&tbs=qdr:m&sa=X&ved=0ahUKEwi1tNW6qsqKAxWpqZUCHQxrK_wQpwUIEA',\n",
       "  '/search?q=yahoo+finance+GME&sca_esv=4afd992475402443&ie=UTF-8&tbm=nws&source=lnt&tbs=qdr:y&sa=X&ved=0ahUKEwi1tNW6qsqKAxWpqZUCHQxrK_wQpwUIEQ',\n",
       "  '/search?q=yahoo+finance+GME&sca_esv=4afd992475402443&ie=UTF-8&tbm=nws&source=lnt&tbs=ar:1&sa=X&ved=0ahUKEwi1tNW6qsqKAxWpqZUCHQxrK_wQpwUIEg',\n",
       "  '/search?q=yahoo+finance+GME&sca_esv=4afd992475402443&ie=UTF-8&tbm=nws&source=lnt&tbs=sbd:1&sa=X&ved=0ahUKEwi1tNW6qsqKAxWpqZUCHQxrK_wQpwUIFA',\n",
       "  '/url?q=https://finance.yahoo.com/news/3-reasons-sell-gme-1-091114257.html&sa=U&ved=2ahUKEwi1tNW6qsqKAxWpqZUCHQxrK_wQxfQBegQIAxAC&usg=AOvVaw09wYy11SP6Z9FFalWg3hCp',\n",
       "  '/url?q=https://finance.yahoo.com/news/why-gamestop-gme-stock-down-162604744.html&sa=U&ved=2ahUKEwi1tNW6qsqKAxWpqZUCHQxrK_wQxfQBegQICRAC&usg=AOvVaw3jxtzImCxcg2LYUAFbEXFH',\n",
       "  '/url?q=https://finance.yahoo.com/news/bull-day-gamestop-gme-090000895.html&sa=U&ved=2ahUKEwi1tNW6qsqKAxWpqZUCHQxrK_wQxfQBegQIBRAC&usg=AOvVaw3bxIRIndEY-uIHhujwo55D',\n",
       "  '/url?q=https://finance.yahoo.com/news/company-news-dec-27-2024-122000815.html&sa=U&ved=2ahUKEwi1tNW6qsqKAxWpqZUCHQxrK_wQxfQBegQIABAC&usg=AOvVaw0_TTZl4mZXLK0oWe1j3Pr-',\n",
       "  '/url?q=https://finance.yahoo.com/news/gamestop-gets-holiday-boost-roaring-163100508.html&sa=U&ved=2ahUKEwi1tNW6qsqKAxWpqZUCHQxrK_wQxfQBegQIAhAC&usg=AOvVaw2yDtHljXNIssP61VDBk5gs',\n",
       "  '/url?q=https://finance.yahoo.com/news/makes-gamestop-gme-strong-buy-170011043.html&sa=U&ved=2ahUKEwi1tNW6qsqKAxWpqZUCHQxrK_wQxfQBegQICBAC&usg=AOvVaw3THy1-hhkmdFSz5ha7ipsl',\n",
       "  '/url?q=https://finance.yahoo.com/news/jim-cramer-refers-gamestop-corp-235402974.html&sa=U&ved=2ahUKEwi1tNW6qsqKAxWpqZUCHQxrK_wQxfQBegQIBhAC&usg=AOvVaw3umRNxcSsaBlm91110Hcb1',\n",
       "  '/url?q=https://finance.yahoo.com/news/gamestop-nyse-gme-reports-sales-211114985.html&sa=U&ved=2ahUKEwi1tNW6qsqKAxWpqZUCHQxrK_wQxfQBegQIARAC&usg=AOvVaw3WNq9XkQzPC_r4mNGMzVYr',\n",
       "  '/url?q=https://finance.yahoo.com/news/gamestop-gme-stock-outpacing-consumer-144011955.html&sa=U&ved=2ahUKEwi1tNW6qsqKAxWpqZUCHQxrK_wQxfQBegQIBxAC&usg=AOvVaw2sgQO6vDHBEiFZIQt_En0w',\n",
       "  '/url?q=https://finance.yahoo.com/news/healthy-balance-sheet-won-t-193646025.html&sa=U&ved=2ahUKEwi1tNW6qsqKAxWpqZUCHQxrK_wQxfQBegQIBBAC&usg=AOvVaw3mqRFWspIpYA6F8TRZ2hF3',\n",
       "  '/search?q=yahoo+finance+GME&sca_esv=4afd992475402443&ie=UTF-8&tbm=nws&ei=F91vZ_XMFKnT1sQPjNat4Q8&start=10&sa=N',\n",
       "  '/url?q=https://support.google.com/websearch%3Fp%3Dws_settings_location%26hl%3Den-IN&opi=89978449&sa=U&ved=0ahUKEwi1tNW6qsqKAxWpqZUCHQxrK_wQty4IUw&usg=AOvVaw2JUjzUN7IEvPVyQUDZN4Sg',\n",
       "  '/url?q=https://accounts.google.com/ServiceLogin%3Fcontinue%3Dhttps://www.google.com/search%253Fq%253Dyahoo%252Bfinance%252BGME%2526tbm%253Dnws%26hl%3Den&opi=89978449&sa=U&ved=0ahUKEwi1tNW6qsqKAxWpqZUCHQxrK_wQxs8CCFQ&usg=AOvVaw2Rk_racjSGYemXLJnufyP1',\n",
       "  'https://www.google.com/preferences?hl=en-IN&fg=1&sa=X&ved=0ahUKEwi1tNW6qsqKAxWpqZUCHQxrK_wQ5fUCCFU',\n",
       "  'https://policies.google.com/privacy?hl=en-IN&fg=1',\n",
       "  'https://policies.google.com/terms?hl=en-IN&fg=1',\n",
       "  '/setprefs?hl=en&prev=https://www.google.com/search?q%3Dyahoo%2Bfinance%2BGME%26tbm%3Dnws%26pccc%3D1&sig=0_cod2bzv7TPXu4toda-iopLWg50o%3D&cs=2&sa=X&ved=0ahUKEwi1tNW6qsqKAxWpqZUCHQxrK_wQjcAJCFY'],\n",
       " 'TSLA': ['/?sa=X&ved=0ahUKEwiG4be7qsqKAxWqlJUCHdMYJswQOwgC',\n",
       "  '/search?q=yahoo+finance+TSLA&sca_esv=4afd992475402443&ie=UTF-8&tbm=nws&gbv=1&sei=GN1vZ4b1Oaqp1sQP07GY4Qw',\n",
       "  '/search?q=yahoo+finance+TSLA&sca_esv=4afd992475402443&ie=UTF-8&source=lnms&sa=X&ved=0ahUKEwiG4be7qsqKAxWqlJUCHdMYJswQ_AUIBSgA',\n",
       "  '/search?q=yahoo+finance+TSLA&sca_esv=4afd992475402443&ie=UTF-8&tbm=vid&source=lnms&sa=X&ved=0ahUKEwiG4be7qsqKAxWqlJUCHdMYJswQ_AUIBygC',\n",
       "  '/search?q=yahoo+finance+TSLA&sca_esv=4afd992475402443&ie=UTF-8&tbm=isch&source=lnms&sa=X&ved=0ahUKEwiG4be7qsqKAxWqlJUCHdMYJswQ_AUICCgD',\n",
       "  '/url?q=https://maps.google.com/maps%3Fq%3Dyahoo%2Bfinance%2BTSLA%26um%3D1%26ie%3DUTF-8%26ved%3D1t:200713%26ictx%3D111&opi=89978449&sa=U&ved=0ahUKEwiG4be7qsqKAxWqlJUCHdMYJswQiaAMCAkoBA&usg=AOvVaw3Lcm1fFo3e9AWdQSsDICnN',\n",
       "  '/url?q=/search%3Fq%3Dyahoo%2Bfinance%2BTSLA%26sca_esv%3D4afd992475402443%26ie%3DUTF-8%26tbm%3Dshop%26source%3Dlnms%26ved%3D1t:200713%26ictx%3D111&opi=89978449&sa=U&ved=0ahUKEwiG4be7qsqKAxWqlJUCHdMYJswQiaAMCAooBQ&usg=AOvVaw09Bco9LhWDnMb-LQfmKCtK',\n",
       "  '/search?q=yahoo+finance+TSLA&sca_esv=4afd992475402443&ie=UTF-8&tbm=bks&source=lnms&sa=X&ved=0ahUKEwiG4be7qsqKAxWqlJUCHdMYJswQ_AUICygG',\n",
       "  '/advanced_search',\n",
       "  '/search?q=yahoo+finance+TSLA&sca_esv=4afd992475402443&ie=UTF-8&tbm=nws&source=lnt&tbs=qdr:h&sa=X&ved=0ahUKEwiG4be7qsqKAxWqlJUCHdMYJswQpwUIDQ',\n",
       "  '/search?q=yahoo+finance+TSLA&sca_esv=4afd992475402443&ie=UTF-8&tbm=nws&source=lnt&tbs=qdr:d&sa=X&ved=0ahUKEwiG4be7qsqKAxWqlJUCHdMYJswQpwUIDg',\n",
       "  '/search?q=yahoo+finance+TSLA&sca_esv=4afd992475402443&ie=UTF-8&tbm=nws&source=lnt&tbs=qdr:w&sa=X&ved=0ahUKEwiG4be7qsqKAxWqlJUCHdMYJswQpwUIDw',\n",
       "  '/search?q=yahoo+finance+TSLA&sca_esv=4afd992475402443&ie=UTF-8&tbm=nws&source=lnt&tbs=qdr:m&sa=X&ved=0ahUKEwiG4be7qsqKAxWqlJUCHdMYJswQpwUIEA',\n",
       "  '/search?q=yahoo+finance+TSLA&sca_esv=4afd992475402443&ie=UTF-8&tbm=nws&source=lnt&tbs=qdr:y&sa=X&ved=0ahUKEwiG4be7qsqKAxWqlJUCHdMYJswQpwUIEQ',\n",
       "  '/search?q=yahoo+finance+TSLA&sca_esv=4afd992475402443&ie=UTF-8&tbm=nws&source=lnt&tbs=ar:1&sa=X&ved=0ahUKEwiG4be7qsqKAxWqlJUCHdMYJswQpwUIEg',\n",
       "  '/search?q=yahoo+finance+TSLA&sca_esv=4afd992475402443&ie=UTF-8&tbm=nws&source=lnt&tbs=sbd:1&sa=X&ved=0ahUKEwiG4be7qsqKAxWqlJUCHdMYJswQpwUIFA',\n",
       "  '/url?q=https://finance.yahoo.com/news/teslas-stock-flying-too-high-162841378.html&sa=U&ved=2ahUKEwiG4be7qsqKAxWqlJUCHdMYJswQxfQBegQIABAC&usg=AOvVaw0LpIuC7Hz16kTz5F1GQl7r',\n",
       "  '/url?q=https://finance.yahoo.com/video/consumer-discretionary-tesla-led-sectors-154352588.html&sa=U&ved=2ahUKEwiG4be7qsqKAxWqlJUCHdMYJswQxfQBegQICRAC&usg=AOvVaw11xQ4rQUDwln0E6M-Cl6t0',\n",
       "  '/url?q=https://finance.yahoo.com/news/tesla-stock-jumps-to-another-high-as-mizuho-more-than-doubles-price-target-to-515-163030620.html&sa=U&ved=2ahUKEwiG4be7qsqKAxWqlJUCHdMYJswQxfQBegQIBxAC&usg=AOvVaw1jtmztw5V3_aaKAk5HydQu',\n",
       "  '/url?q=https://finance.yahoo.com/news/tesla-2024-3-things-that-defined-its-big-year-140032809.html&sa=U&ved=2ahUKEwiG4be7qsqKAxWqlJUCHdMYJswQxfQBegQICBAC&usg=AOvVaw289c-43NaGampHsnAffe1E',\n",
       "  '/url?q=https://finance.yahoo.com/news/teslas-cheaper-model-q-on-the-way-and-likely-new-china-ev-analyst-says-following-tesla-meeting-164534610.html&sa=U&ved=2ahUKEwiG4be7qsqKAxWqlJUCHdMYJswQxfQBegQIBhAC&usg=AOvVaw209CqYwfSUct5_L9pUBAu7',\n",
       "  '/url?q=https://finance.yahoo.com/news/nvidia-gm-walmart-palantir-tesla-meta-and-others-battle-this-yahoo-finance-awards-season-110036402.html&sa=U&ved=2ahUKEwiG4be7qsqKAxWqlJUCHdMYJswQxfQBegQIBRAC&usg=AOvVaw0EqUbIznDdjrkSSe-zEptm',\n",
       "  '/url?q=https://finance.yahoo.com/news/tesla-stock-pops-as-giga-austin-visit-has-bofa-bullish-172718038.html&sa=U&ved=2ahUKEwiG4be7qsqKAxWqlJUCHdMYJswQxfQBegQIARAC&usg=AOvVaw3W0w6FzxkqQjX3ER5tIoHI',\n",
       "  '/url?q=https://finance.yahoo.com/news/tesla-stock-rides-trump-effect-to-all-time-highs-211226765.html&sa=U&ved=2ahUKEwiG4be7qsqKAxWqlJUCHdMYJswQxfQBegQIAhAC&usg=AOvVaw2F38T6TihOfk4V2E3ldYjP',\n",
       "  '/url?q=https://finance.yahoo.com/news/live/stock-market-today-dow-sp-nasdaq-slide-on-big-tech-losses-but-weekly-gains-hold-143206294.html&sa=U&ved=2ahUKEwiG4be7qsqKAxWqlJUCHdMYJswQxfQBegQIAxAC&usg=AOvVaw04eXg_vZK-9LLKx2gRV5Ef',\n",
       "  '/url?q=https://finance.yahoo.com/news/analyst-tesla-tsla-no-cause-230555408.html&sa=U&ved=2ahUKEwiG4be7qsqKAxWqlJUCHdMYJswQxfQBegQIBBAC&usg=AOvVaw3A_PjS9q1SsvHKk41Z2tCr',\n",
       "  '/search?q=yahoo+finance+TSLA&sca_esv=4afd992475402443&ie=UTF-8&tbm=nws&ei=GN1vZ4b1Oaqp1sQP07GY4Qw&start=10&sa=N',\n",
       "  '/url?q=https://support.google.com/websearch%3Fp%3Dws_settings_location%26hl%3Den-IN&opi=89978449&sa=U&ved=0ahUKEwiG4be7qsqKAxWqlJUCHdMYJswQty4IUw&usg=AOvVaw3HcHvIsRGQZzMlWjVMZSrT',\n",
       "  '/url?q=https://accounts.google.com/ServiceLogin%3Fcontinue%3Dhttps://www.google.com/search%253Fq%253Dyahoo%252Bfinance%252BTSLA%2526tbm%253Dnws%26hl%3Den&opi=89978449&sa=U&ved=0ahUKEwiG4be7qsqKAxWqlJUCHdMYJswQxs8CCFQ&usg=AOvVaw3YG301uzJKwIBYAl9N4AnC',\n",
       "  'https://www.google.com/preferences?hl=en-IN&fg=1&sa=X&ved=0ahUKEwiG4be7qsqKAxWqlJUCHdMYJswQ5fUCCFU',\n",
       "  'https://policies.google.com/privacy?hl=en-IN&fg=1',\n",
       "  'https://policies.google.com/terms?hl=en-IN&fg=1',\n",
       "  '/setprefs?hl=en&prev=https://www.google.com/search?q%3Dyahoo%2Bfinance%2BTSLA%26tbm%3Dnws%26pccc%3D1&sig=0_rxUx7jhKPKI5gSE7Nyx84g9ha2o%3D&cs=2&sa=X&ved=0ahUKEwiG4be7qsqKAxWqlJUCHdMYJswQjcAJCFY'],\n",
       " 'BTC': ['/?sa=X&ved=0ahUKEwiJnue8qsqKAxUzq5UCHT_pDF0QOwgC',\n",
       "  '/search?q=yahoo+finance+BTC&sca_esv=4afd992475402443&ie=UTF-8&tbm=nws&gbv=1&sei=G91vZ8mkMrPW1sQPv9Kz6AU',\n",
       "  '/search?q=yahoo+finance+BTC&sca_esv=4afd992475402443&ie=UTF-8&source=lnms&sa=X&ved=0ahUKEwiJnue8qsqKAxUzq5UCHT_pDF0Q_AUIBSgA',\n",
       "  '/search?q=yahoo+finance+BTC&sca_esv=4afd992475402443&ie=UTF-8&tbm=isch&source=lnms&sa=X&ved=0ahUKEwiJnue8qsqKAxUzq5UCHT_pDF0Q_AUIBygC',\n",
       "  '/search?q=yahoo+finance+BTC&sca_esv=4afd992475402443&ie=UTF-8&tbm=vid&source=lnms&sa=X&ved=0ahUKEwiJnue8qsqKAxUzq5UCHT_pDF0Q_AUICCgD',\n",
       "  '/url?q=https://maps.google.com/maps%3Fq%3Dyahoo%2Bfinance%2BBTC%26um%3D1%26ie%3DUTF-8%26ved%3D1t:200713%26ictx%3D111&opi=89978449&sa=U&ved=0ahUKEwiJnue8qsqKAxUzq5UCHT_pDF0QiaAMCAkoBA&usg=AOvVaw2wKBUbkibM5S_EA-J37qyu',\n",
       "  '/url?q=/search%3Fq%3Dyahoo%2Bfinance%2BBTC%26sca_esv%3D4afd992475402443%26ie%3DUTF-8%26tbm%3Dshop%26source%3Dlnms%26ved%3D1t:200713%26ictx%3D111&opi=89978449&sa=U&ved=0ahUKEwiJnue8qsqKAxUzq5UCHT_pDF0QiaAMCAooBQ&usg=AOvVaw2XEO8G85MLedBApnkNfpBs',\n",
       "  '/search?q=yahoo+finance+BTC&sca_esv=4afd992475402443&ie=UTF-8&tbm=bks&source=lnms&sa=X&ved=0ahUKEwiJnue8qsqKAxUzq5UCHT_pDF0Q_AUICygG',\n",
       "  '/advanced_search',\n",
       "  '/search?q=yahoo+finance+BTC&sca_esv=4afd992475402443&ie=UTF-8&tbm=nws&source=lnt&tbs=qdr:h&sa=X&ved=0ahUKEwiJnue8qsqKAxUzq5UCHT_pDF0QpwUIDQ',\n",
       "  '/search?q=yahoo+finance+BTC&sca_esv=4afd992475402443&ie=UTF-8&tbm=nws&source=lnt&tbs=qdr:d&sa=X&ved=0ahUKEwiJnue8qsqKAxUzq5UCHT_pDF0QpwUIDg',\n",
       "  '/search?q=yahoo+finance+BTC&sca_esv=4afd992475402443&ie=UTF-8&tbm=nws&source=lnt&tbs=qdr:w&sa=X&ved=0ahUKEwiJnue8qsqKAxUzq5UCHT_pDF0QpwUIDw',\n",
       "  '/search?q=yahoo+finance+BTC&sca_esv=4afd992475402443&ie=UTF-8&tbm=nws&source=lnt&tbs=qdr:m&sa=X&ved=0ahUKEwiJnue8qsqKAxUzq5UCHT_pDF0QpwUIEA',\n",
       "  '/search?q=yahoo+finance+BTC&sca_esv=4afd992475402443&ie=UTF-8&tbm=nws&source=lnt&tbs=qdr:y&sa=X&ved=0ahUKEwiJnue8qsqKAxUzq5UCHT_pDF0QpwUIEQ',\n",
       "  '/search?q=yahoo+finance+BTC&sca_esv=4afd992475402443&ie=UTF-8&tbm=nws&source=lnt&tbs=ar:1&sa=X&ved=0ahUKEwiJnue8qsqKAxUzq5UCHT_pDF0QpwUIEg',\n",
       "  '/search?q=yahoo+finance+BTC&sca_esv=4afd992475402443&ie=UTF-8&tbm=nws&source=lnt&tbs=sbd:1&sa=X&ved=0ahUKEwiJnue8qsqKAxUzq5UCHT_pDF0QpwUIFA',\n",
       "  '/url?q=https://finance.yahoo.com/news/bitcoins-holiday-slump-trump-strategic-133000768.html&sa=U&ved=2ahUKEwiJnue8qsqKAxUzq5UCHT_pDF0QxfQBegQIARAC&usg=AOvVaw2B5EaJ3fK4BriMQZjdHjBy',\n",
       "  '/url?q=https://finance.yahoo.com/news/bitcoin-holds-steady-near-95-222618450.html&sa=U&ved=2ahUKEwiJnue8qsqKAxUzq5UCHT_pDF0QxfQBegQICRAC&usg=AOvVaw14qBFuXg4ApsFabuYcj6Vr',\n",
       "  '/url?q=https://finance.yahoo.com/news/live/stock-market-today-dow-ekes-out-gains-bitcoin-slumps-as-santa-claus-rally-takes-a-pause-175235354.html&sa=U&ved=2ahUKEwiJnue8qsqKAxUzq5UCHT_pDF0QxfQBegQIBBAC&usg=AOvVaw0OfqBXB0aABaW5UnnEFMzK',\n",
       "  '/url?q=https://finance.yahoo.com/video/us-strategic-could-push-bitcoin-213000587.html&sa=U&ved=2ahUKEwiJnue8qsqKAxUzq5UCHT_pDF0QxfQBegQIBxAC&usg=AOvVaw20Kz7IRxpZKPQzpvJhIkeG',\n",
       "  '/url?q=https://finance.yahoo.com/news/bitcoin-surpasses-107000-to-hit-new-high-amid-relentless-etf-demand-172001994.html&sa=U&ved=2ahUKEwiJnue8qsqKAxUzq5UCHT_pDF0QxfQBegQICBAC&usg=AOvVaw1wrex10NrIdUPpna47VFQv',\n",
       "  '/url?q=https://finance.yahoo.com/news/bitcoin-just-crossed-100000-for-the-first-time-wall-street-sees-200000-following-soon-200622402.html&sa=U&ved=2ahUKEwiJnue8qsqKAxUzq5UCHT_pDF0QxfQBegQIBhAC&usg=AOvVaw3P2k2SPWEZyxYF6i-0oHoo',\n",
       "  '/url?q=https://finance.yahoo.com/video/microstrategy-chairman-says-bitcoin-simple-212018091.html&sa=U&ved=2ahUKEwiJnue8qsqKAxUzq5UCHT_pDF0QxfQBegQIAxAC&usg=AOvVaw2j1keU-TTNCnCOqyFRaI1s',\n",
       "  '/url?q=https://finance.yahoo.com/news/invested-bitcoin-ahead-last-inauguration-170016464.html&sa=U&ved=2ahUKEwiJnue8qsqKAxUzq5UCHT_pDF0QxfQBegQIAhAC&usg=AOvVaw2wg6JK1ATzh0iqVKC2IPuN',\n",
       "  '/url?q=https://finance.yahoo.com/video/stocks-set-open-lower-jobless-140951379.html&sa=U&ved=2ahUKEwiJnue8qsqKAxUzq5UCHT_pDF0QxfQBegQIABAC&usg=AOvVaw3iJFolJP6jauG0MZxOZK1w',\n",
       "  '/url?q=https://finance.yahoo.com/news/bitcoin-gains-microstrategy-plans-issue-034118453.html&sa=U&ved=2ahUKEwiJnue8qsqKAxUzq5UCHT_pDF0QxfQBegQIBRAC&usg=AOvVaw2F76E-2N8UYe_q7bfiEcDS',\n",
       "  '/search?q=yahoo+finance+BTC&sca_esv=4afd992475402443&ie=UTF-8&tbm=nws&ei=G91vZ8mkMrPW1sQPv9Kz6AU&start=10&sa=N',\n",
       "  '/url?q=https://support.google.com/websearch%3Fp%3Dws_settings_location%26hl%3Den-IN&opi=89978449&sa=U&ved=0ahUKEwiJnue8qsqKAxUzq5UCHT_pDF0Qty4IUw&usg=AOvVaw28phqFb-xL3Fj1DLFlmg7L',\n",
       "  '/url?q=https://accounts.google.com/ServiceLogin%3Fcontinue%3Dhttps://www.google.com/search%253Fq%253Dyahoo%252Bfinance%252BBTC%2526tbm%253Dnws%26hl%3Den&opi=89978449&sa=U&ved=0ahUKEwiJnue8qsqKAxUzq5UCHT_pDF0Qxs8CCFQ&usg=AOvVaw0f5Ud-MYgIM1DJJlx6A92r',\n",
       "  'https://www.google.com/preferences?hl=en-IN&fg=1&sa=X&ved=0ahUKEwiJnue8qsqKAxUzq5UCHT_pDF0Q5fUCCFU',\n",
       "  'https://policies.google.com/privacy?hl=en-IN&fg=1',\n",
       "  'https://policies.google.com/terms?hl=en-IN&fg=1',\n",
       "  '/setprefs?hl=en&prev=https://www.google.com/search?q%3Dyahoo%2Bfinance%2BBTC%26tbm%3Dnws%26pccc%3D1&sig=0_sA7H41VfZvLJcNGGH3CcO2pYZM8%3D&cs=2&sa=X&ved=0ahUKEwiJnue8qsqKAxUzq5UCHT_pDF0QjcAJCFY']}"
      ]
     },
     "execution_count": 28,
     "metadata": {},
     "output_type": "execute_result"
    }
   ],
   "source": [
    "raw_urls = {ticker:search_for_stock_news_urls(ticker) for ticker in monitored_tickers}\n",
    "raw_urls"
   ]
  },
  {
   "cell_type": "code",
   "execution_count": 29,
   "metadata": {},
   "outputs": [
    {
     "data": {
      "text/plain": [
       "['/?sa=X&ved=0ahUKEwi1tNW6qsqKAxWpqZUCHQxrK_wQOwgC',\n",
       " '/search?q=yahoo+finance+GME&sca_esv=4afd992475402443&ie=UTF-8&tbm=nws&gbv=1&sei=F91vZ_XMFKnT1sQPjNat4Q8',\n",
       " '/search?q=yahoo+finance+GME&sca_esv=4afd992475402443&ie=UTF-8&source=lnms&sa=X&ved=0ahUKEwi1tNW6qsqKAxWpqZUCHQxrK_wQ_AUIBSgA',\n",
       " '/search?q=yahoo+finance+GME&sca_esv=4afd992475402443&ie=UTF-8&tbm=vid&source=lnms&sa=X&ved=0ahUKEwi1tNW6qsqKAxWpqZUCHQxrK_wQ_AUIBygC',\n",
       " '/search?q=yahoo+finance+GME&sca_esv=4afd992475402443&ie=UTF-8&tbm=bks&source=lnms&sa=X&ved=0ahUKEwi1tNW6qsqKAxWpqZUCHQxrK_wQ_AUICCgD',\n",
       " '/search?q=yahoo+finance+GME&sca_esv=4afd992475402443&ie=UTF-8&tbm=isch&source=lnms&sa=X&ved=0ahUKEwi1tNW6qsqKAxWpqZUCHQxrK_wQ_AUICSgE',\n",
       " '/url?q=https://maps.google.com/maps%3Fq%3Dyahoo%2Bfinance%2BGME%26um%3D1%26ie%3DUTF-8%26ved%3D1t:200713%26ictx%3D111&opi=89978449&sa=U&ved=0ahUKEwi1tNW6qsqKAxWpqZUCHQxrK_wQiaAMCAooBQ&usg=AOvVaw0dmVVVl9jrabWuYxy_hKrv',\n",
       " '/url?q=/search%3Fq%3Dyahoo%2Bfinance%2BGME%26sca_esv%3D4afd992475402443%26ie%3DUTF-8%26tbm%3Dshop%26source%3Dlnms%26ved%3D1t:200713%26ictx%3D111&opi=89978449&sa=U&ved=0ahUKEwi1tNW6qsqKAxWpqZUCHQxrK_wQiaAMCAsoBg&usg=AOvVaw02gR0DmnhsyWlaBMZJgc0K',\n",
       " '/advanced_search',\n",
       " '/search?q=yahoo+finance+GME&sca_esv=4afd992475402443&ie=UTF-8&tbm=nws&source=lnt&tbs=qdr:h&sa=X&ved=0ahUKEwi1tNW6qsqKAxWpqZUCHQxrK_wQpwUIDQ',\n",
       " '/search?q=yahoo+finance+GME&sca_esv=4afd992475402443&ie=UTF-8&tbm=nws&source=lnt&tbs=qdr:d&sa=X&ved=0ahUKEwi1tNW6qsqKAxWpqZUCHQxrK_wQpwUIDg',\n",
       " '/search?q=yahoo+finance+GME&sca_esv=4afd992475402443&ie=UTF-8&tbm=nws&source=lnt&tbs=qdr:w&sa=X&ved=0ahUKEwi1tNW6qsqKAxWpqZUCHQxrK_wQpwUIDw',\n",
       " '/search?q=yahoo+finance+GME&sca_esv=4afd992475402443&ie=UTF-8&tbm=nws&source=lnt&tbs=qdr:m&sa=X&ved=0ahUKEwi1tNW6qsqKAxWpqZUCHQxrK_wQpwUIEA',\n",
       " '/search?q=yahoo+finance+GME&sca_esv=4afd992475402443&ie=UTF-8&tbm=nws&source=lnt&tbs=qdr:y&sa=X&ved=0ahUKEwi1tNW6qsqKAxWpqZUCHQxrK_wQpwUIEQ',\n",
       " '/search?q=yahoo+finance+GME&sca_esv=4afd992475402443&ie=UTF-8&tbm=nws&source=lnt&tbs=ar:1&sa=X&ved=0ahUKEwi1tNW6qsqKAxWpqZUCHQxrK_wQpwUIEg',\n",
       " '/search?q=yahoo+finance+GME&sca_esv=4afd992475402443&ie=UTF-8&tbm=nws&source=lnt&tbs=sbd:1&sa=X&ved=0ahUKEwi1tNW6qsqKAxWpqZUCHQxrK_wQpwUIFA',\n",
       " '/url?q=https://finance.yahoo.com/news/3-reasons-sell-gme-1-091114257.html&sa=U&ved=2ahUKEwi1tNW6qsqKAxWpqZUCHQxrK_wQxfQBegQIAxAC&usg=AOvVaw09wYy11SP6Z9FFalWg3hCp',\n",
       " '/url?q=https://finance.yahoo.com/news/why-gamestop-gme-stock-down-162604744.html&sa=U&ved=2ahUKEwi1tNW6qsqKAxWpqZUCHQxrK_wQxfQBegQICRAC&usg=AOvVaw3jxtzImCxcg2LYUAFbEXFH',\n",
       " '/url?q=https://finance.yahoo.com/news/bull-day-gamestop-gme-090000895.html&sa=U&ved=2ahUKEwi1tNW6qsqKAxWpqZUCHQxrK_wQxfQBegQIBRAC&usg=AOvVaw3bxIRIndEY-uIHhujwo55D',\n",
       " '/url?q=https://finance.yahoo.com/news/company-news-dec-27-2024-122000815.html&sa=U&ved=2ahUKEwi1tNW6qsqKAxWpqZUCHQxrK_wQxfQBegQIABAC&usg=AOvVaw0_TTZl4mZXLK0oWe1j3Pr-',\n",
       " '/url?q=https://finance.yahoo.com/news/gamestop-gets-holiday-boost-roaring-163100508.html&sa=U&ved=2ahUKEwi1tNW6qsqKAxWpqZUCHQxrK_wQxfQBegQIAhAC&usg=AOvVaw2yDtHljXNIssP61VDBk5gs',\n",
       " '/url?q=https://finance.yahoo.com/news/makes-gamestop-gme-strong-buy-170011043.html&sa=U&ved=2ahUKEwi1tNW6qsqKAxWpqZUCHQxrK_wQxfQBegQICBAC&usg=AOvVaw3THy1-hhkmdFSz5ha7ipsl',\n",
       " '/url?q=https://finance.yahoo.com/news/jim-cramer-refers-gamestop-corp-235402974.html&sa=U&ved=2ahUKEwi1tNW6qsqKAxWpqZUCHQxrK_wQxfQBegQIBhAC&usg=AOvVaw3umRNxcSsaBlm91110Hcb1',\n",
       " '/url?q=https://finance.yahoo.com/news/gamestop-nyse-gme-reports-sales-211114985.html&sa=U&ved=2ahUKEwi1tNW6qsqKAxWpqZUCHQxrK_wQxfQBegQIARAC&usg=AOvVaw3WNq9XkQzPC_r4mNGMzVYr',\n",
       " '/url?q=https://finance.yahoo.com/news/gamestop-gme-stock-outpacing-consumer-144011955.html&sa=U&ved=2ahUKEwi1tNW6qsqKAxWpqZUCHQxrK_wQxfQBegQIBxAC&usg=AOvVaw2sgQO6vDHBEiFZIQt_En0w',\n",
       " '/url?q=https://finance.yahoo.com/news/healthy-balance-sheet-won-t-193646025.html&sa=U&ved=2ahUKEwi1tNW6qsqKAxWpqZUCHQxrK_wQxfQBegQIBBAC&usg=AOvVaw3mqRFWspIpYA6F8TRZ2hF3',\n",
       " '/search?q=yahoo+finance+GME&sca_esv=4afd992475402443&ie=UTF-8&tbm=nws&ei=F91vZ_XMFKnT1sQPjNat4Q8&start=10&sa=N',\n",
       " '/url?q=https://support.google.com/websearch%3Fp%3Dws_settings_location%26hl%3Den-IN&opi=89978449&sa=U&ved=0ahUKEwi1tNW6qsqKAxWpqZUCHQxrK_wQty4IUw&usg=AOvVaw2JUjzUN7IEvPVyQUDZN4Sg',\n",
       " '/url?q=https://accounts.google.com/ServiceLogin%3Fcontinue%3Dhttps://www.google.com/search%253Fq%253Dyahoo%252Bfinance%252BGME%2526tbm%253Dnws%26hl%3Den&opi=89978449&sa=U&ved=0ahUKEwi1tNW6qsqKAxWpqZUCHQxrK_wQxs8CCFQ&usg=AOvVaw2Rk_racjSGYemXLJnufyP1',\n",
       " 'https://www.google.com/preferences?hl=en-IN&fg=1&sa=X&ved=0ahUKEwi1tNW6qsqKAxWpqZUCHQxrK_wQ5fUCCFU',\n",
       " 'https://policies.google.com/privacy?hl=en-IN&fg=1',\n",
       " 'https://policies.google.com/terms?hl=en-IN&fg=1',\n",
       " '/setprefs?hl=en&prev=https://www.google.com/search?q%3Dyahoo%2Bfinance%2BGME%26tbm%3Dnws%26pccc%3D1&sig=0_cod2bzv7TPXu4toda-iopLWg50o%3D&cs=2&sa=X&ved=0ahUKEwi1tNW6qsqKAxWpqZUCHQxrK_wQjcAJCFY']"
      ]
     },
     "execution_count": 29,
     "metadata": {},
     "output_type": "execute_result"
    }
   ],
   "source": [
    "raw_urls['GME']"
   ]
  },
  {
   "cell_type": "markdown",
   "metadata": {},
   "source": [
    "## 4.2. Strip out unwanted URLs"
   ]
  },
  {
   "cell_type": "code",
   "execution_count": 30,
   "metadata": {},
   "outputs": [],
   "source": [
    "import re"
   ]
  },
  {
   "cell_type": "code",
   "execution_count": 31,
   "metadata": {},
   "outputs": [],
   "source": [
    "exclude_list = ['maps', 'policies', 'preferences', 'accounts', 'support']"
   ]
  },
  {
   "cell_type": "code",
   "execution_count": 32,
   "metadata": {},
   "outputs": [],
   "source": [
    "def strip_unwanted_urls(urls, exclude_list):\n",
    "    val = []\n",
    "    for url in urls: \n",
    "        if 'https://' in url and not any(exclude_word in url for exclude_word in exclude_list):\n",
    "            res = re.findall(r'(https?://\\S+)', url)[0].split('&')[0]\n",
    "            val.append(res)\n",
    "    return list(set(val))"
   ]
  },
  {
   "cell_type": "code",
   "execution_count": 33,
   "metadata": {},
   "outputs": [
    {
     "data": {
      "text/plain": [
       "{'GME': ['https://finance.yahoo.com/news/gamestop-gme-stock-outpacing-consumer-144011955.html',\n",
       "  'https://finance.yahoo.com/news/3-reasons-sell-gme-1-091114257.html',\n",
       "  'https://finance.yahoo.com/news/healthy-balance-sheet-won-t-193646025.html',\n",
       "  'https://finance.yahoo.com/news/jim-cramer-refers-gamestop-corp-235402974.html',\n",
       "  'https://finance.yahoo.com/news/company-news-dec-27-2024-122000815.html',\n",
       "  'https://finance.yahoo.com/news/why-gamestop-gme-stock-down-162604744.html',\n",
       "  'https://finance.yahoo.com/news/bull-day-gamestop-gme-090000895.html',\n",
       "  'https://finance.yahoo.com/news/makes-gamestop-gme-strong-buy-170011043.html',\n",
       "  'https://finance.yahoo.com/news/gamestop-nyse-gme-reports-sales-211114985.html',\n",
       "  'https://www.google.com/search?q%3Dyahoo%2Bfinance%2BGME%26tbm%3Dnws%26pccc%3D1',\n",
       "  'https://finance.yahoo.com/news/gamestop-gets-holiday-boost-roaring-163100508.html'],\n",
       " 'TSLA': ['https://finance.yahoo.com/news/tesla-2024-3-things-that-defined-its-big-year-140032809.html',\n",
       "  'https://finance.yahoo.com/news/tesla-stock-rides-trump-effect-to-all-time-highs-211226765.html',\n",
       "  'https://finance.yahoo.com/news/teslas-cheaper-model-q-on-the-way-and-likely-new-china-ev-analyst-says-following-tesla-meeting-164534610.html',\n",
       "  'https://finance.yahoo.com/news/analyst-tesla-tsla-no-cause-230555408.html',\n",
       "  'https://finance.yahoo.com/news/tesla-stock-pops-as-giga-austin-visit-has-bofa-bullish-172718038.html',\n",
       "  'https://finance.yahoo.com/news/live/stock-market-today-dow-sp-nasdaq-slide-on-big-tech-losses-but-weekly-gains-hold-143206294.html',\n",
       "  'https://finance.yahoo.com/news/teslas-stock-flying-too-high-162841378.html',\n",
       "  'https://www.google.com/search?q%3Dyahoo%2Bfinance%2BTSLA%26tbm%3Dnws%26pccc%3D1',\n",
       "  'https://finance.yahoo.com/news/nvidia-gm-walmart-palantir-tesla-meta-and-others-battle-this-yahoo-finance-awards-season-110036402.html',\n",
       "  'https://finance.yahoo.com/news/tesla-stock-jumps-to-another-high-as-mizuho-more-than-doubles-price-target-to-515-163030620.html',\n",
       "  'https://finance.yahoo.com/video/consumer-discretionary-tesla-led-sectors-154352588.html'],\n",
       " 'BTC': ['https://finance.yahoo.com/video/us-strategic-could-push-bitcoin-213000587.html',\n",
       "  'https://finance.yahoo.com/news/bitcoin-surpasses-107000-to-hit-new-high-amid-relentless-etf-demand-172001994.html',\n",
       "  'https://finance.yahoo.com/video/microstrategy-chairman-says-bitcoin-simple-212018091.html',\n",
       "  'https://finance.yahoo.com/news/bitcoin-gains-microstrategy-plans-issue-034118453.html',\n",
       "  'https://finance.yahoo.com/news/invested-bitcoin-ahead-last-inauguration-170016464.html',\n",
       "  'https://finance.yahoo.com/news/bitcoins-holiday-slump-trump-strategic-133000768.html',\n",
       "  'https://finance.yahoo.com/news/live/stock-market-today-dow-ekes-out-gains-bitcoin-slumps-as-santa-claus-rally-takes-a-pause-175235354.html',\n",
       "  'https://finance.yahoo.com/news/bitcoin-just-crossed-100000-for-the-first-time-wall-street-sees-200000-following-soon-200622402.html',\n",
       "  'https://finance.yahoo.com/video/stocks-set-open-lower-jobless-140951379.html',\n",
       "  'https://www.google.com/search?q%3Dyahoo%2Bfinance%2BBTC%26tbm%3Dnws%26pccc%3D1',\n",
       "  'https://finance.yahoo.com/news/bitcoin-holds-steady-near-95-222618450.html']}"
      ]
     },
     "execution_count": 33,
     "metadata": {},
     "output_type": "execute_result"
    }
   ],
   "source": [
    "cleaned_urls = {ticker:strip_unwanted_urls(raw_urls[ticker], exclude_list) for ticker in monitored_tickers}\n",
    "cleaned_urls"
   ]
  },
  {
   "cell_type": "markdown",
   "metadata": {},
   "source": [
    "## 4.3. Search and Scrape Cleaned URLs"
   ]
  },
  {
   "cell_type": "code",
   "execution_count": 34,
   "metadata": {},
   "outputs": [],
   "source": [
    "def scrape_and_process(URLs, max_words=350):\n",
    "    ARTICLES = []\n",
    "    for url in URLs:\n",
    "        try:  # Added try-except to handle potential errors during scraping\n",
    "            r = requests.get(url)\n",
    "            soup = BeautifulSoup(r.text, 'html.parser')\n",
    "            paragraphs = soup.find_all('p')\n",
    "            text = [paragraph.text for paragraph in paragraphs]\n",
    "            words = ' '.join(text).split(' ')[:max_words]\n",
    "            ARTICLE = ' '.join(words)\n",
    "            ARTICLES.append(ARTICLE)\n",
    "        except Exception as e:\n",
    "            print(f\"Error scraping {url}: {e}\")\n",
    "            ARTICLES.append('')  # Append empty string for failed scrapes\n",
    "    return ARTICLES"
   ]
  },
  {
   "cell_type": "code",
   "execution_count": 35,
   "metadata": {},
   "outputs": [
    {
     "data": {
      "text/plain": [
       "{'GME': [\"We are experiencing some temporary issues. The market data on this page is currently delayed. Please bear with us as we address this and restore your personalized lists. For those looking to find strong Consumer Discretionary stocks, it is prudent to search for companies in the group that are outperforming their peers. Is GameStop (GME) one of those stocks right now? Let's take a closer look at the stock's year-to-date performance to find out. GameStop is a member of our Consumer Discretionary group, which includes 272 different companies and currently sits at #6 in the Zacks Sector Rank. The Zacks Sector Rank considers 16 different sector groups. The average Zacks Rank of the individual stocks within the groups is measured, and the sectors are listed from best to worst. The Zacks Rank emphasizes earnings estimates and estimate revisions to find stocks with improving earnings outlooks. This system has a long record of success, and these stocks tend to be on track to beat the market over the next one to three months. GameStop is currently sporting a Zacks Rank of #1 (Strong Buy). Over the past 90 days, the Zacks Consensus Estimate for GME's full-year earnings has moved 700% higher. This shows that analyst sentiment has improved and the company's earnings outlook is stronger. According to our latest data, GME has moved about 59.7% on a year-to-date basis. In comparison, Consumer Discretionary companies have returned an average of 15.6%. This means that GameStop is performing better than its sector in terms of year-to-date returns. Another stock in the Consumer Discretionary sector, Cinemark Holdings (CNK), has outperformed the sector so far this year. The stock's year-to-date return is 128.3%. The consensus estimate for Cinemark Holdings' current year EPS has increased 49.6% over the past three months. The stock currently has a Zacks Rank #2 (Buy). To break things down more, GameStop belongs to the Gaming industry, a group that includes 42 individual companies and currently sits at #148 in the Zacks Industry Rank. This group has gained an average of 25.3% so far this year, so GME is performing better in\",\n",
       "  \"We are experiencing some temporary issues. The market data on this page is currently delayed. Please bear with us as we address this and restore your personalized lists. GameStop currently trades at $32.17 and has been a dream stock for shareholders. It’s returned 2,081% since December 2019, blowing past the S&P 500’s 85.7% gain. The company has also beaten the index over the past six months as its stock price is up 28.2% thanks to its solid quarterly results. Is there a buying opportunity in GameStop, or does it present a risk to your portfolio? Get the full stock story straight from our expert analysts, it’s free. We’re happy investors have made money, but we're sitting this one out for now. Here are three reasons why GME doesn't excite us and a stock we'd rather own. Drawing gaming fans with demo units set up with the latest releases, GameStop (NYSE:GME) sells new and used video games, consoles, and accessories, as well as pop culture merchandise. Same-store sales show the change in sales for a retailer's e-commerce platform and brick-and-mortar shops that have existed for at least a year. This is a key performance indicator because it measures organic growth. GameStop’s demand has been shrinking over the last two years as its same-store sales have averaged 4.5% annual declines. Note that GameStop reports its same-store sales intermittently, so some data points are missing in the chart below. Operating margin is an important measure of profitability as it shows the portion of revenue left after accounting for all core expenses–everything from the cost of goods sold to advertising and wages. It’s also useful for comparing profitability across companies with different levels of debt and tax rates because it excludes interest and taxes. GameStop was roughly breakeven when averaging the last two years of quarterly operating profits, one of the worst outcomes in the consumer retail sector. This result isn’t too surprising given its low gross margin as a starting point. Growth gives us insight into a company’s long-term potential, but how capital-efficient was that growth? A company’s ROIC explains this by showing\",\n",
       "  \"We are experiencing some temporary issues. The market data on this page is currently delayed. Please bear with us as we address this and restore your personalized lists. GameStop (GME) is a struggling video game retailer that should have become irrelevant years ago. Yet the company continues to operate and improve its already impressive balance sheet. We believe that despite this attraction, the lack of a solid business plan makes it a sell. The company sells gaming consoles, software, accessories, collectibles, and services to a mainly younger audience. It derives its revenue from the sale of new and pre-owned games, collectibles, downloadable digital products, in-game purchases, and subscriptions through the Game Informer magazine. The target audience of the company includes individuals within the gaming community, residing mainly in the US, Canada, Australia, and Europe. GameStop gained attention after it became a meme sensation when on the verge of bankruptcy. The resulting rally is still remembered as one of the hottest rallies in the stock market’s history. It also started the new trend of meme-trading, where retail traders would load up on options on a stock, hoping it would make a big move. While the success of GME as a meme stock cannot be denied, the underlying business hardly has anything to impress investors. The company continues to raise money by selling stock fairly frequently to stay afloat. This, despite the fact that it has almost no long-term loan and nearly $5 billion in cash. The company’s recent earnings report also didn't impress many as its revenue fell over 20% YoY. While the company was able to show a small profit, we do not view it as a positive in the absence of a recovery plan. The software and collectibles segment's growth is overshadowed by the decline in hardware and accessories sales. The company continues its recent trend of not holding an earnings call. Rough estimates would put the company’s cash position at over $10 per share. This is by no means bad. But the underlying business continues to meander along without any solid plan for a turnaround. As long as\",\n",
       "  \"We are experiencing some temporary issues. The market data on this page is currently delayed. Please bear with us as we address this and restore your personalized lists. We recently compiled a list of the Jim Cramer's Game Plan This Week: 10 Stocks to Watch.\\xa0In this article, we are going to take a look at where GameStop Corp. (NYSE:GME) stands against the other stocks featured in Jim Cramer's game plan for this week . Jim Cramer, the host of Mad Money, recently discussed the current state of the market, touching on various factors including upcoming earnings reports and new inflation data. Reflecting on the November jobs report, which came in largely as expected, Cramer noted: “After basically in line November jobs report, better than October, but with the unemployment rate still ticking up to 4.2%, I don't think that does much to change the Federal Reserve's rate cut calculus.” On Friday, Cramer remarked that the market had a relatively calm session, with the Dow dipping by 123 points, the S&P gaining 0.25%, and the NASDAQ climbing 0.81%. He emphasized that nothing about Friday’s action surprised him, and he maintained his expectation for a 25-basis point rate cut later this month. Cramer added that he still anticipates the Fed will go ahead with this move despite the recent data. READ ALSO Jim Cramer Discussed 10 Stocks That Can Do Well in December and Jim Cramer’s Lightning Round: 7 Stocks to Watch Looking ahead, Cramer highlighted Wednesday’s upcoming release of the Consumer Price Index (CPI), which he noted could play a crucial role in the Fed’s decision-making. With the Federal Reserve meeting in just two weeks, he cautioned that there will be chatter about the Fed’s decision to cut rates. “All of us still see high prices when we go to the supermarket, right? So we shouldn't be surprised if the CPI comes in hot. At that point, why should the Fed really bother to cut? Be ready for that kind of chatter. Don't worry, they'll still cut.” The following day, Thursday, will bring the release of the Producer Price Index (PPI),\",\n",
       "  'We are experiencing some temporary issues. The market data on this page is currently delayed. Please bear with us as we address this and restore your personalized lists. Shares of Toyota Motor Corporation (TM) increased 8.8% following reports that the company plans to double its return on equity target, signaling stronger financial performance. GameStop Corp. (GME) shares rose 5.9% after “Roaring Kitty,” Keith Gill, made a mysterious social media post that excited meme stock investors. Apple (AAPL) shares rose 0.3% as the company moved closer to becoming the first ever to reach a $4 trillion market valuation. MicroStrategy Incorporated (MSTR) shares fell 4.8% as Bitcoin prices dropped by 3.4%. Want the latest recommendations from Zacks Investment Research? Today, you can download 7 Best Stocks for the Next 30 Days. Click to get this free report Apple Inc. (AAPL) : Free Stock Analysis Report Toyota Motor Corporation (TM) : Free Stock Analysis Report GameStop Corp. (GME) : Free Stock Analysis Report MicroStrategy Incorporated (MSTR) : Free Stock Analysis Report To read this article on Zacks.com click here. Zacks Investment Research In the closing of the recent trading day, Hasbro (HAS) stood at $57, denoting a -0.26% change from the preceding trading day. A profit opportunity led to nearly $100 million in trading volumes for a charity-themed memecoin. While some speculators lost money, the effort bore fruit for the original cause. Major U.S. indexes were little changed and slightly higher at midday Thursday, looking to add to gains earlier in the week. Here at Zacks, our focus is on the proven Zacks Rank system, which emphasizes earnings estimates and estimate revisions to find great stocks. Nevertheless, we are always paying attention to the latest value, growth, and momentum trends to underscore strong picks. In the most recent trading session, Hasbro (HAS) closed at $56.70, indicating a -0.53% shift from the previous trading day. In the most recent trading session, Take-Two Interactive (TTWO) closed at $187.16, indicating a +0.95% shift from the previous trading day. BigBear.ai, Palantir Technologies, GameStop, Reddit and Rocket Lab are part of the Zacks Investment Ideas article. Costamare (CMRE)',\n",
       "  'We are experiencing some temporary issues. The market data on this page is currently delayed. Please bear with us as we address this and restore your personalized lists. Shares of video game retailer GameStop (NYSE:GME) fell 5.2% in the morning session after the major indices declined sharply (Nasdaq down 1.9%, S&P 500 down 1.1%) as investors appeared to be locking in some gains in a year marked by significant progress in the Fed\\'s effort to deliver a soft landing—taming inflation without causing more damage to the economy—despite early signs of weakness in the labor market. With two more trading days to wrap up the year, investors are likely hoping for a \"Santa Claus Rally.\" So far, the Nasdaq has climbed more than 30% year to date, while the S&P 500 has gained over 25%, reflecting the resilience of the U.S. economy. The improved momentum, especially in the second half of the year, was fueled by the ongoing investment in AI within the tech sector, the Fed\\'s continued dovish shift as inflation cooled, enabling the Powell-led committee to deliver three rate cuts (0.5% in September and 0.25% each in November and December). Additionally, the November 2024 elections sparked optimism for more business-friendly regulations in energy, tech, and industrials following Donald Trump\\'s return to the presidency. Nonetheless, the outlook for 2025 remains clouded by the pace and magnitude of future rate cuts as well as potential changes in trade policy and corporate taxes once the Trump administration takes over. The path forward is marked by uncertainty. The stock market overreacts to news, and big price drops can present good opportunities to buy high-quality stocks. Is now the time to buy GameStop? Access our full analysis report here, it’s free. GameStop’s shares are extremely volatile and have had 55 moves greater than 5% over the last year. In that context, today’s move indicates the market considers this news meaningful but not something that would fundamentally change its perception of the business. The previous big move we wrote about was 16 days ago when the stock gained 8.5% on the news that the company',\n",
       "  'We are experiencing some temporary issues. The market data on this page is currently delayed. Please bear with us as we address this and restore your personalized lists. Zacks Rank #1 (Strong Buy) stock GameStop (GME) is the leading brick-and-mortar video game and gaming console retailer. GameStop, the world’s largest video game retailer, has more than 4,000 locations internationally. The company also has an online presence with its GameStop.com and EBgames.com websites. Despite GME’s dominance in the gaming realm, digitization in the industry has led to hurdles for the company and sparked management close some GameStop locations and take portfolio optimization measures. The Covid-19 era was truly unprecedented on Wall Street and let to the “meme stock” craze. As the unknown virus spread, most US citizens who were deemed “non-essential” workers, were told by their managers to work from home. With no sports on television, many gyms closed, and little in the way of activities to do, many people who previously never traded stocks began to take up interest in Wall Street and open Robinhood (HOOD) brokerage accounts. These new investors, flush with stimulus checks from the government, took to social media platform Redditt (RDDT) to discuss stock ideas. Under the “subreddit” r/WallStreetBets, a large group of savvy retail investors banded together to orchestrate a short squeeze. The plan worked, and institutional investors who were heavily short the stock were “squeezed” sending GME shares soaring by more than 6,000% Image Source: Zacks Investment Research Normally, most short squeeze stories would end with the stock crashing back to Earth and investors who failed to sell into the spike, out of luck. However, the GME story is different in that there have been multiple short squeezes, and each time management has made the prescient decision of raising cash through stock sales near the top, translating to a massive cash hoard for the company. Image Source: Zacks Investment Research GameStop enjoys more than $4 billion in cash reserves as a result of management’s prudent stock sales. This large cash hoard gives the company flexibility to make strategic investments, acquisitions, or pay a special',\n",
       "  \"We are experiencing some temporary issues. The market data on this page is currently delayed. Please bear with us as we address this and restore your personalized lists. Investors might want to bet on GameStop (GME), as it has been recently upgraded to a Zacks Rank #1 (Strong Buy). An upward trend in earnings estimates -- one of the most powerful forces impacting stock prices -- has triggered this rating change. A company's changing earnings picture is at the core of the Zacks rating. The system tracks the Zacks Consensus Estimate -- the consensus measure of EPS estimates from the sell-side analysts covering the stock -- for the current and following years. The power of a changing earnings picture in determining near-term stock price movements makes the Zacks rating system highly useful for individual investors, since it can be difficult to make decisions based on rating upgrades by Wall Street analysts. These are mostly driven by subjective factors that are hard to see and measure in real time. As such, the Zacks rating upgrade for GameStop is essentially a positive comment on its earnings outlook that could have a favorable impact on its stock price. The change in a company's future earnings potential, as reflected in earnings estimate revisions, has proven to be strongly correlated with the near-term price movement of its stock. That's partly because of the influence of institutional investors that use earnings and earnings estimates for calculating the fair value of a company's shares. An increase or decrease in earnings estimates in their valuation models simply results in higher or lower fair value for a stock, and institutional investors typically buy or sell it. Their bulk investment action then leads to price movement for the stock. For GameStop, rising earnings estimates and the consequent rating upgrade fundamentally mean an improvement in the company's underlying business. And investors' appreciation of this improving business trend should push the stock higher. Empirical research shows a strong correlation between trends in earnings estimate revisions and near-term stock movements, so it could be truly rewarding if such revisions are tracked for making\",\n",
       "  'We are experiencing some temporary issues. The market data on this page is currently delayed. Please bear with us as we address this and restore your personalized lists. Video game retailer GameStop (NYSE:GME) missed Wall Street’s revenue expectations in Q3 CY2024, with sales falling 20.2% year on year to $860.3 million. Its non-GAAP profit of $0.06 per share was significantly above analysts’ consensus estimates. Is now the time to buy GameStop? Find out in our full research report. Revenue: $860.3 million vs analyst estimates of $887.7 million (20.2% year-on-year decline, 3.1% miss) Adjusted EPS: $0.06 vs analyst estimates of -$0.03 (significant beat) Operating Margin: -3.9%, down from -1.4% in the same quarter last year Free Cash Flow Margin: 2.3%, up from 1% in the same quarter last year Market Capitalization: $12.47 billion Drawing gaming fans with demo units set up with the latest releases, GameStop (NYSE:GME) sells new and used video games, consoles, and accessories, as well as pop culture merchandise. After a long day, some of us want to just watch TV, play video games, listen to music, or scroll through our phones; electronics and gaming retailers sell the technology that makes this possible, plus more. Shoppers can find everything from surround-sound speakers to gaming controllers to home appliances in their stores. Competitive prices and helpful store associates that can talk through topics like the latest technology in gaming and installation keep customers coming back. This is a category that has moved rapidly online over the last few decades, so these electronics and gaming retailers have needed to be nimble and aggressive with their e-commerce and omnichannel investments. A company’s long-term performance is an indicator of its overall quality. While any business can experience short-term success, top-performing ones enjoy sustained growth for years. GameStop is a small retailer, which sometimes brings disadvantages compared to larger competitors benefiting from economies of scale and negotiating leverage. As you can see below, GameStop struggled to generate demand over the last five years (we compare to 2019 to normalize for COVID-19 impacts). Its sales dropped by 10% annually as it closed stores and',\n",
       "  '© 2024 - Privacy - Terms',\n",
       "  'We are experiencing some temporary issues. The market data on this page is currently delayed. Please bear with us as we address this and restore your personalized lists. Shares of the popular meme stock GameStop (GME) (GME) increased on Thursday afternoon after Keith Gill, the investor popularly known as “Roaring Kitty,” shared an image of a wrapped Christmas present on X. While it’s unclear what is inside the gift box, the video game retailer’s fans went on a buying spree on Thursday morning, which helped lift the stock price by 3.5%, bringing it to $32 per share. Till Thursday mid-morning, more than 4 million people had viewed the post, which received 47,000 likes and 8,800 retweets. This isn’t the first time Gill has posted a vague message or image on Twitter, leaving followers wondering what it means and driving up the stock price. GameStop’s run as a meme stock reached its peak in 2021 when a group of small investors, encouraged by the Reddit community WallStreetBets and helped along by an Elon Musk tweet, pushed its shares from $3 to $120. Following that, Gill disappeared from Twitter. Earlier this year, Gill ended his three-year hiatus with a tweet in May. He posted a picture on X featuring a gamer leaning forward in a chair, which suggested intense focus. This prompted speculation among his followers that he might return to Reddit. Shares of the company are up nearly 94% year-to-date. Earlier this month, GameStop reported its latest quarterly results, which showed a decline in sales. For the latest news, Facebook, Twitter and Instagram. Sign in to access your portfolio'],\n",
       " 'TSLA': [\"We are experiencing some temporary issues. The market data on this page is currently delayed. Please bear with us as we address this and restore your personalized lists. Tesla's (TSLA) 2024 went out with a bang, thanks to CEO Elon Musk and one of his biggest gambles yet. While the stock gained over 70% year to date thanks to a post-Trump election surge, it wasn’t all smooth sailing for the EV giant. Here are three highlights from the year and what to expect in 2025. When Tesla released its third quarter 2023 results in January, it warned its production growth would be “notably lower” in the year ahead. Meanwhile, investors questioning Tesla’s profitability picture in March sent shares to their lowest in nearly a year. Another big delivery miss in the first quarter didn’t help matters — nor did growing competition in China. Musk saw an opening and tried to turn the tide, claiming Tesla would finally reveal its long-awaited robotaxi in August. Initially, there was concern that the robotaxi push would hamper the release of the cheaper EV or relegate it to the dustbin. Emmanuel Rosner, a Deutsche Bank analyst at the time, felt Tesla’s focus on the robotaxi came at the abandonment of the cheap EV, which was a main reason for owning the stock. In fact, Musk had said in the past that a cheap EV would be difficult to make profitably. Later in the month of April, after Tesla stock hit its nadir for the year, Tesla confirmed in its fiscal Q1 earnings report it would indeed accelerate the launch of more affordable vehicles while it worked on the robotaxi, assuaging investors and analysts. A couple of months later, while investors awaited news on the robotaxi and cheap EV, issues with design and functionality led Tesla to delay its robotaxi reveal to Oct. 10. At the time of the robotaxi delay, a run-up in shares plus Musk’s open support for Donald Trump — whose antipathy toward EVs was not secret — led some investors to dump Tesla shares. “TSLA has always traded with a premium attached\",\n",
       "  \"We are experiencing some temporary issues. The market data on this page is currently delayed. Please bear with us as we address this and restore your personalized lists. Tesla stock (TSLA) roared to another all-time high on Friday, capping off a huge week for the stock and CEO Elon Musk. Shares of Tesla rose over 4% on Friday and reached a closing high of $436.23. The stock hit a record high on Wednesday as well, and it finished up 12.08% for the week. Call it the Trump effect. Tesla stock is up over 73% since Trump’s election win last month. CEO Elon Musk’s big bet on a Trump win and the resulting influence he is seen as having on the new administration has investors bullish on Tesla’s prospects. For example, Reuters reported earlier on Friday that Team Trump has recommended that the new administration whack a National Highway Traffic Safety Administration (NHTSA) order requiring automakers to report crashes involving self-driving or autonomous driving systems. Such a move would obviously be a good thing for Tesla. The company has had to report more than 1,500 crashes to NHTSA involving its FSD (Full Self-Driving) and Autopilot software, Reuters said. But it just wasn't Trump this week — there was other good news for Tesla. On Tuesday, Tesla’s China unit said it sold 21,900 electric vehicles on the mainland during the first week of December, its highest weekly sales thus far in the fourth quarter. The disclosure comes after Tesla revealed November was its best month of the year, with 73,000 units sold, Reuters reported. One big reason for its success: In November and early December, the company offered incentives like 0% interest loans for five years and 10,000 yuan (approximately $1,400) for new Model Y loans. But, no doubt, it is the Musk-Trump connection that's playing a large factor in Tesla's monstrous run-up. Analysts like Edison Yu of Deutsche Bank, John Murphy of BofA, and Adam Jonas of Morgan Stanley have improved their price targets for the stock over the past few days, citing Musk and his closeness to the new administration.\",\n",
       "  'We are experiencing some temporary issues. The market data on this page is currently delayed. Please bear with us as we address this and restore your personalized lists. Deutsche Bank is upping its price target for Tesla (TSLA) following investor meetings where Tesla revealed more about its upcoming vehicles. While the majority of the meeting was about FSD (full self-driving), robotaxis, and Tesla’s Optimus robot, the discussion with Tesla investors and head of investor relations Travis Axelrod also covered what was coming down the product pipeline. “The new Tesla model (we refer to as ‘Model Q’) should launch in 1H25 and will be priced <$30,000 including subsidies (i.e., $37,499 if US EV tax credit goes away),” analyst Edison Yu wrote in a note late Monday. Yu also said there will likely be other vehicles intended to increase Tesla’s TAM (total addressable market), with Yu suspecting “a 3-row longer wheelbase Model Y variant” in China. There have also been rumors of a Tesla van for passengers and cargo, and while the cheaper EV was expected, the revelation of the Model Q name and a new Model Y variant coming to China was notable. Yu and Deutsche Bank upped their Tesla price target to $370 from $295, citing these new products and other Tesla initiatives. Tesla closed up 2.9%, resulting in a five-day winning streak for the stock. Yu is just the latest analyst touting the growth of Tesla’s TAM due to upcoming products. Last week BofA upped its Tesla price target following a Giga Austin factory visit. Bofa said the new, cheap EV will increase Tesla’s TAM, cost less than $30,000, and benefit from a lower cost due to reduced features and cost-cutting. BofA also said it was confident more models were coming in 2025. In addition, following its investor meeting with Axelrod, Yu wrote Tesla was confident that it would hit volume growth of 25%-30% next year, with the company touting its ability to squeeze out more production capacity in its existing factories. A main concern has been demand for Tesla and its EVs with regards to volume growth. Goldman',\n",
       "  'We are experiencing some temporary issues. The market data on this page is currently delayed. Please bear with us as we address this and restore your personalized lists. We recently published a list of Analysts Are Talking About These 10 AI Stocks. In this article, we are going to take a look at where Tesla Inc (NASDAQ:TSLA) stands against other stocks analysts are talking about. Marco Argenti, Chief Information Officer at Goldman Sachs, recently said that in 2025, the world will witness the full potential of AI that has been in development. He used the analogy of a child raised in a library, now ready to step out into the world. “What if they, we make them interact with sensory data, with vision data, with, uh, you know, like basically opening that door of the library and making this child walk into the real world? I think this creation of word models, like they’re called generally in the industry, where you combine multimodal information, that is not only text but is also videos, but is also sensory data. It might be temperature, it might be anything you can perceive around you, could actually unlock the next level of capabilities,” Argenti said, according to CNBC. Despite high hopes, a potential plateau in performance improvements in AI systems, high energy consumption of AI data centers and transparency remain key issues tech companies will continue to grapple with in 2025. READ ALSO: 7 Best Stocks to Buy For Long-Term\\xa0and\\xa08 Cheap Jim Cramer Stocks to Invest In For this article, we picked 10 AI stocks currently trending based on latest news and analyst ratings. With each stock, we have mentioned the number of hedge fund investors. Why are we interested in the stocks that hedge funds pile into? The reason is simple: our research has shown that we can outperform the market by imitating the top stock picks of the best hedge funds. Our quarterly newsletter’s strategy selects 14 small-cap and large-cap stocks every quarter and has returned 275% since May 2014, beating its benchmark by 150 percentage points\\xa0(see more details here). Copyright: wolandmaster',\n",
       "  \"We are experiencing some temporary issues. The market data on this page is currently delayed. Please bear with us as we address this and restore your personalized lists. Tesla (TSLA) stock popped Thursday on the back of bullish comments from BofA Securities, with the firm’s analysts fresh off a Giga Austin factory visit. “The trip gave us increased confidence that TSLA is well-positioned to grow in 2025+ with its core EV business and launch of its robotaxi offering, and longer-term from its investments in Optimus,” lead analyst John Murphy wrote in a note to investors. Murphy reiterated his Buy rating for Tesla and upped his price target to $400 from $350. Tesla shares jumped 3% in midday trade. Following the factory visit, Murphy and BofA claim the first big driver for Tesla is the prospect of an upcoming low-cost EV, which Tesla said is coming in the first half of 2025. Murphy believes the new vehicle will increase Tesla’s TAM (total addressable market), cost less than $30,000, and benefit from a lower cost due to factors like “de-contenting, making the motor more efficient and thereby enabling a smaller battery, and changing the interior,” among other factors. Murphy is confident the low-cost model won't be its only new model in 2025, per Tesla’s past statements. BofA and the team are also bullish on Tesla’s latest FSD (full self-driving) software, currently in beta. “The Cybertruck and Model Y we rode in … drove seamlessly to a charging station several miles away despite abnormal road conditions, traveling on roads under construction and taking a tough left turn against traffic,” Murphy wrote, noting that the minimal interventions needed by a human driver suggest a supervised launch of Tesla’s robotaxi business is near. Murphy said a shift to grow software-based products like FSD would also improve margins. Tesla has said it plans to expand its robotaxi testing next year, and CEO Elon Musk predicted during the Q3 earnings conference call that the Cybercab would reach volume production in 2026, with the company aiming for 2 million Cybercabs per year. One of the more intriguing points\",\n",
       "  'We are experiencing some temporary issues. The market data on this page is currently delayed. Please bear with us as we address this and restore your personalized lists. US stocks closed the holiday week on a downbeat note as Wall Street slogged to the finish of a largely triumphant year. The S&P 500 (^GSPC) lost 1.1%, while the tech-heavy Nasdaq Composite (^IXIC) shed 1.5% Friday at the close. The Dow Jones Industrial Average (^DJI) gave up 0.8%. Meanwhile, the 10-year Treasury yield (^TNX) hovered near seven-month highs around 4.6%. After stacking impressive gains this year, some of the biggest names in tech lost ground as investors took profits, rebalance portfolios, or reassessed their lofty valuations. Tesla (TSLA) lost 5%. Nvidia (NVDA) gave up 2%, while Amazon (AMZN) decreased by 1%. Wall Street has just three trading days remaining in a 2024 full of big gains, but markets have been unable to mount a \"Santa Claus\" rally into the end of the year. Despite the negative day, the S&P 500 logged a weekly gain of 1.8%. The Nasdaq also posted a win of 1.8%, while the Dow notched a 1.5% increase. Markets have largely digested the year\\'s remaining key economic data points, and investors are now turning their attention to two big themes for the coming year: the Federal Reserve\\'s path for interest rates and the implications of Donald Trump\\'s ascent back to the White House. On the former, stocks have largely taken in stride the Fed\\'s plans to scale back rate cuts next year after an initial plunge last week. Bets have now shifted squarely to May as the next meeting at which the Fed will slash interest rates, as it continues to grapple with stubborn inflation while keeping a close eye on a cooling labor market. And on the latter, Yahoo Finance\\'s Ben Werschkul writes that while Trump talked up his big plans during the campaign, especially on the economy, those plans could soon face a reality check from other key power players. Gains from earlier in the week were enough to lift US stocks despite a day in',\n",
       "  \"We are experiencing some temporary issues. The market data on this page is currently delayed. Please bear with us as we address this and restore your personalized lists. Tesla (NASDAQ:TSLA) is on a wild ride. Even with the current decline of nearly 4%, the stock is still riding high on a 75% surge year-to-date, fueled by all things Trump, autonomous vehicles, and AI. But here's the kicker: investors are holding their breath as Tesla prepares to report its fourth-quarter deliveries. Analysts are looking for around 510,000 vehicles delivered, just shy of the company's 515,000 target. If Tesla misses this goal, some analysts say it won't crush the stock's momentum, but it'll certainly test whether the hype behind its tech and leadership can keep pushing this rocket ship. Here's the deal: Tesla's success in China is helping offset weaker sales in the U.S. and Europe. In fact, Tesla's China division is on fire, reporting its highest weekly sales for Q4 earlier this month. But let's not sugarcoat everything. Tesla's stock has been on a tear, and while it's been exciting to watch, Barclays analysts are raising eyebrows. They're calling out a sharp disconnect between the stock price and the company's fundamentals, likening it more to cryptocurrency than an actual automaker. So yeah, the stock is soaring, but it might be running on fumes. And just to add another layer of complexity, Tesla's battery supplier, Contemporary Amperex Technology (CATL), is prepping for a secondary listing on the Hong Kong stock exchange. This could shake things up as U.S. automakers, including General Motors (NYSE:GM), are feeling the heat from local Chinese competitors like BYD and Nio. As Tesla continues to dominate in China, the competition is getting fiercer, and CATL's listing could add a whole new dynamic to the EV market. Buckle up. This article first appeared on GuruFocus. Sign in to access your portfolio\",\n",
       "  '© 2024 - Privacy - Terms',\n",
       "  \"We are experiencing some temporary issues. The market data on this page is currently delayed. Please bear with us as we address this and restore your personalized lists. This is The Takeaway from today's Morning Brief, which you can sign up to receive in your inbox every morning along with: The chart of the day What we're watching What we're reading Economic data releases and earnings It's awards season here at Yahoo Finance! Yahoo Finance has been releasing its coveted Company of the Year award since 2014. Our newsroom has done some amazing work reporting on the annual award across text, video, social media, and infographics. In many instances, we've profiled companies before they became household names. In 2014, for example, we gave the award to what was then a scrappy workout apparel company named Under Armour (UA) as it was shaking up its industry. Last year, the award went to weight-loss drug and insulin supplier Novo Nordisk (NVO) for its life-changing work and stock price performance. We don’t take the decision of who wins lightly, and names are thoroughly discussed by our editorial leaders. The winner must fulfill several criteria laid out by our veteran team of news and investing lovers. These criteria range from stock price performance and financial performance to leadership effectiveness and a couple of intangibles. This year, we thought, why not throw some gas on this annual ritual and expand our awards franchise? So we have done just that. Starting Monday morning and continuing through Thursday, we'll reveal a winner in the following categories: Company of the Year Comeback of the Year Surprise of the Year Product of the Year There will be a host of exclusive interviews and content shared across Yahoo Finance video (which you can stream on desktop, our app, and all major streaming platforms) and our podcasts from sunup to sundown. The fun begins live on the Opening Bid podcast at 8:30 a.m. ET on Monday from the Nasdaq in Times Square. The feature leadership interviews will drop online at 6 a.m. ET each morning. I can tell you there were\",\n",
       "  'We are experiencing some temporary issues. The market data on this page is currently delayed. Please bear with us as we address this and restore your personalized lists. Tesla stock (TSLA) pushed higher on Tuesday, hitting another record and adding to monster end-of-year gains as another Wall Street analyst says there\\'s more room to run. Tesla shares jumped 3.6%, closing over $479 per share. The stock is up nearly 20% in the past five days, reflecting positive news reports regarding Tesla\\'s — and CEO Elon Musk’s — connection to President-elect Donald Trump. Tesla stock is now up over 85% since Election Day. The latest analyst to weigh in is Vijay Rakesh of Mizuho Securities, who upgraded Tesla to Outperform from Neutral and more than doubled his price target to $515 from $230. Citing \"idiosyncratic tailwinds,\" Rakesh like other analysts, believes loosening autonomous driving rules from the incoming Trump administration, the repeal of consumer electric vehicle tax credits — which Rakesh believes will ultimately benefit Tesla over others — and a more profitable low-cost EV versus its peers gives Tesla room to run in 2025 and beyond. \"We expect TSLA\\'s leadership across EVs, solar/battery storage, and charging infrastructure should allow the company to better weather the storm than less-established peers as the Trump administration removes subsidies for key end-markets,\" Rakesh wrote to clients. \"We also see less stringent regulation on autonomous vehicles (\\'AVs\\') as a key tailwind to TSLA\\'s ability to scale FSD/Robo-Taxi deployments, with our base case scenario implying significant long-term revenue from AV operations.\" Bumping Mizuho\\'s price target to $515 shows the bank is playing catch-up due to missing out on the rally, but the firm\\'s new target implies around 10% more upside is possible. Mizuho and Rakesh see a \"bull case\" of $681 a share if Tesla can accelerate its Full Self-Driving (FSD) and robotaxi deployments, and hit breakthroughs with its Optimus robot and AI development. On Monday Wedbush analyst Dan Ives kicked off Tesla\\'s good week with a price target improvement as well. “We estimate the AI and autonomous opportunity is worth at least $1 trillion alone',\n",
       "  'Thank you for your patience. Our engineers are working quickly to resolve the issue.'],\n",
       " 'BTC': ['Thank you for your patience. Our engineers are working quickly to resolve the issue.',\n",
       "  'We are experiencing some temporary issues. The market data on this page is currently delayed. Please bear with us as we address this and restore your personalized lists. Bitcoin (BTC-USD) recaptured investor attention on Monday afternoon as the world\\'s biggest cryptocurrency jumped beyond $107,000 to a new record. The token has gained more than 50% since Donald Trump\\'s presidential victory in November on optimism over bitcoin-friendly policies under his incoming administration. Much of the upward price action stems from institutional buyers and flows into bitcoin spot exchange-traded funds (ETFs). \"Bitcoin ETF demand has been relentless with over $2Bn inflows clocked last week. Seven out of the last nine weeks, Bitcoin ETF inflows have exceeded $2Bn,\" Bernstein analyst Gautam Chhugani wrote in a note on Monday. Even as bitcoin\\'s price has more than doubled this year, Chhugani forecasts the token will reach $200,000 by the end of 2025. UK-based Standard Chartered analysts recently noted institutions have bought 683,000 tokens year to date via spot ETFs and purchases by software firm MicroStrategy (MSTR). About a third of those inflows, or the purchase of 245,000 bitcoins, have occurred since the presidential election. \"In 2025, we expect institutional flows to continue at or above the 2024 pace,\" wrote Geoff Kendrick, global head of digital assets research at Standard Chartered, earlier this month. Crypto-related stocks also rallied on Monday with bitcoin proxy MicroStrategy (MSTR) popping 6% as investors reacted to the company’s latest token purchase and its upcoming addition to the Nasdaq 100. Read more: Bitcoin clears another record: Is now the time to invest?\\xa0 Bitcoin\\'s meteoric rise over the past month has made the asset hard to ignore even among more traditional portfolio managers. \"It’s worked like crazy, and it’ll probably continue to work like crazy, but I can’t put my pencil to the paper and make sense of it from a financial standpoint,\" George Seay, Annandale Capital founder and chairman, told Yahoo Finance on Monday morning. \"It’s much more of a psychological anti-fiat currency, anti-government, anti-inflation trade, but it’s worked so I don’t have anything against it,\" he said. Ines Ferre is a',\n",
       "  'Thank you for your patience. Our engineers are working quickly to resolve the issue.',\n",
       "  'We are experiencing some temporary issues. The market data on this page is currently delayed. Please bear with us as we address this and restore your personalized lists. (Bloomberg) -- Bitcoin declined even with cryptocurrency stockpiler MicroStrategy Inc. planing to issue more shares, a move that would allow it to buy even more tokens. Most Read from Bloomberg Ho Chi Minh City Opens First Metro Line After Years of Delay The digital asset was down around 3% at $95,420 as of 7:12 a.m. in New York on Thursday. A broader gauge of cryptocurrencies comprising smaller tokens including Ether, Solana and meme-coin favorite Dogecoin was down around 3%. “The market is being forward looking about MicroStrategy’s Bitcoin buys and that’s been the single biggest reason for market to go up,” said Sean McNulty, director of trading at liquidity provider Arbelos Markets. “Watching MicroStrategy news is becoming a big part of my day.” MicroStrategy Inc. is seeking permission to increase the number of authorized shares of Class A common stock and preferred stock, according to a Dec. 23 filing with the U.S. Securities and Exchange Commission. Such a move would provide the company, which has transformed itself from a software maker into a Bitcoin accumulator, more firepower. MicroStrategy announced earlier this week it had purchased an additional $561 million of the digital token at an average price near last week’s record high. That marked the seventh week in a row of purchases. Bitcoin has risen 135% so far this year, exceeding returns from traditional investments such as global stocks and gold. Some traders cautioned that markets could turn volatile in the coming day on massive expiries of open interest in Bitcoin and Ether derivatives. On Friday, a record $43 billion of open interest including $13.95 billion in Bitcoin options and $3.77 billion in Ether options will expire on derivatives exchange Deribit. “Market makers could unwind their hedges and short Bitcoin strikes which might make it a choppy market on Friday,” McNulty said. Most Read from Bloomberg Businessweek How Elon Musk Took Over America Phil Knight Is Using His Nike Fortune to Make',\n",
       "  'We are experiencing some temporary issues. The market data on this page is currently delayed. Please bear with us as we address this and restore your personalized lists. As the financial world braces for a new president in January, it’s worth reflecting on a remarkable investment story: Bitcoin’s meteoric rise since the last U.S. Inauguration Day in January 2021. Back then, the cryptocurrency seemed risky to many, yet those who made the leap have seen incredible returns. Check Out: 6 Things To Buy Before Trump’s Inauguration in January Read Next: 13 Cheap Cryptocurrencies With the Highest Potential Upside for You Here’s how much an investment in Bitcoin ahead of the last Inauguration Day would be worth now. Also see five stocks to invest in ahead of Inauguration Day, according to experts. When President Joe Biden took office on Jan. 20, 2021, Bitcoin was priced at approximately $35,500. Specifically, it closed at $35,547.75, per Yahoo Finance. At the time, skepticism loomed large. “Bitcoin seemed like a risky bet,” said Andrew Lokenauth, experienced Bitcoin and banking expert and founder of Fluent in Finance. “Traditional investors were just starting to take notice, and many folks doubted its future.” Fast forward to today, and Bitcoin has smashed previous records, rising above $100,000 after the election. This means that even the most cautious investors who jumped in back then would have reaped significant rewards. Try This: The Trump Economy Begins: 4 Money Moves Retirees Should Make Before Inauguration Day On Dec. 23, 2024, Bitcoin closed at $94,686.24. Compared with its closing price on Inauguration Day, Bitcoin has seen a 166.36% gain. If you had invested $1,000 on Jan. 20, 2021, your investment would be worth approximately $2,664. If you had invested $5,000, your investment would have grown to $13,318, enough to buy a reliable used car. If you had invested $10,000, you’d be looking at about $26,636, which could cover student loans or a down payment on a home. While the returns are impressive, Alexandr Sharilov, CEO of CoinDataFlow, reminded investors that Bitcoin’s journey has been anything but smooth. “By mid-2021, Bitcoin surged to over',\n",
       "  \"We are experiencing some temporary issues. The market data on this page is currently delayed. Please bear with us as we address this and restore your personalized lists. Bitcoin took a festive dip to $92K before jingling back up to $96K. This holiday rollercoaster reflects the crypto market’s merry volatility as investors navigate the season’s upcoming events that may trigger market shifts. KULR Technology Group purchased 217.18 Bitcoin for a not-so-subtle price of $21 million as part of its Bitcoin Treasury strategy, which allocates up to 90% of its surplus cash to Bitcoin. The company stated that they intend to continue these acquisitions, and selected Coinbase’s Prime platform for bitcoin custody and wallet services. Specializing in advanced energy management, KULR provides storage solutions for industries like space, aerospace, and defense. They design, test, and manufacture batteries, delivering efficient and cost-effective energy systems to meet their clients’ needs. On Christmas Eve, BlackRock’s iShares Bitcoin Trust ETF saw its biggest single-day outflow ever, with $188.7 million withdrawn, bringing total outflows from US bitcoin funds to over $1.5 billion in four days. Ironically, ethereum ETFs were attracting more investments, with the reasoning still up for debate. Despite the bitcoin ETF withdrawals, US bitcoin funds have now surpassed gold ETFs in assets under management, signaling a shift in investor preference. Donald Trump has appointed former college football player and unsuccessful congressional candidate, Bo Hines as the executive director of his new Presidential Council of Advisors for Digital Assets. Hines will be working directly under newly appointed “Crypto Czar” David Sacks. Their mission is to drive innovation and growth in the cryptocurrency industry in the US. Announced via Trump's Truth Social platform, this appointment is part of a broader technology-focused leadership aimed at enhancing America’s technological dominance. Despite his background, Hines is charged with leading the effort to create a thriving environment for the crypto sector in the U.S. Vivek Ramaswamy’s Strive Asset Management announced the launch of a new Bitcoin Bond Exchange Traded Fund (ETF) filing with US regulators. This ETF will focus on convertible bonds from companies like MicroStrategy that are big bitcoin\",\n",
       "  'We are experiencing some temporary issues. The market data on this page is currently delayed. Please bear with us as we address this and restore your personalized lists. US stocks struggled to meaningfully extend a \"Santa Claus\" rally the day after Christmas while Wall Street digested one of the only significant economic data points of the week. The S&P 500 (^GSPC) fell below the flatline while the tech-heavy Nasdaq (^IXIC) fell slightly. The Dow Jones Industrial Average (^DJI) closed the session up 28 points after flipping between positive and negative territory throughout the light trading session. Small cap stocks inched higher, sending the Russell 2000 (^RUT) up 0.9%. Meanwhile, bitcoin (BTC-USD) fell to hover near the $96,000 level as volatile trading continued. Crypto-linked stocks like MicroStrategy (MSTR) tracked the declines. Markets kicked off the \"Santa Claus\" rally on Tuesday as the S&P 500 notched its best Christmas Eve performance since 1974, according to Bespoke. The broader index and Nasdaq Composite moved to within striking distance of their records after clawing back gains from a Fed-fueled dive last week. As Wall Street saunters back from its holiday break, the normally routine release of weekly jobless claims took more of a spotlight than usual as the only piece of the jobs puzzle on the docket this week. According to the latest Labor Department data, weekly jobless claims fell to 219,000 compared with expectations of 223,000. However continuing claims pointed to a cooling labor market, jumping by 46,000 in the week ending Dec. 14 to 1.91 million, the highest level since November 2021. Stocks closed mixed amid a light trading session on Thursday following the Christmas holiday break. The S&P 500 (^GSPC) and tech-heavy Nasdaq (^IXIC) closed just below the flat line. The Dow Jones Industrial Average (^DJI) rose about 28 points, or nearly 0.1%. Stocks were little changed throughout the session, with the major averages flipping between positive and negative territory as the market struggled to meaningfully extend its Santa Claus rally. Small cap stocks however rose as the Russell 2000 (^RUT) gained more than 0.9%. The Dow Jones Industrial Average is',\n",
       "  'We are experiencing some temporary issues. The market data on this page is currently delayed. Please bear with us as we address this and restore your personalized lists. Bitcoin\\'s (BTC-USD) recent cross above $100,000 has emboldened Wall Street bulls. After Donald Trump\\'s presidential win catalyzed the token\\'s rally on hopes of crypto-friendly policies, this week\\'s push to record highs above $103,000 per token has some strategists looking for another doubling in price by the end of next year. \"We remain convinced $100,000 is not the final milestone,\" Bernstein analyst Gautam Chhugani wrote in a note on Thursday. \"We expect Bitcoin to hit a cycle-high of $200,000 in late 2025,\" Chhugani noted the President-elect\\'s pick of crypto advocate Paul Atkins to chair the Securities and Exchange Commission, along with a broader regulatory direction under Trump 2.0, \"is materially positive\" for the wider crypto industry. After bitcoin surpassed $100,000 for the first time, Trump took to social media early Thursday to congratulate crypto investors, adding, \"YOU\\'RE WELCOME!!!\" Later that day, the president-elect announced he would appoint venture capitalist David Sacks as the incoming administration\\'s \"AI and Crypto Czar.\" The move was seen as yet another positive sign for the industry. \"As crypto becomes mainstream, it will likely converge and transform capital markets and change the way we deliver financial services across the world,\" Bernstein\\'s Chhugani wrote. \"We expect Bitcoin to emerge as the new-age premier ‘store of value’ asset eventually replacing Gold over the next decade and becoming a permanent part of institutional multi-asset allocation and a standard for corporate treasury management,\" he added. At UK-based Standard Chartered, analysts noted bitcoin flows have been dominated by institutional investors this year, with institutions buying 683,000 tokens year to date via spot ETFs along with big purchases by software firm MicroStrategy (MSTR). About a third of those inflows, or the purchase of 245,000 bitcoins, have occurred since the presidential election. \"In 2025, we expect institutional flows to continue at or above the 2024 pace,\" wrote Geoff Kendrick, global head of digital assets research at Standard Chartered. Kendrick expects global pension funds to increase their',\n",
       "  'Thank you for your patience. Our engineers are working quickly to resolve the issue.',\n",
       "  '© 2024 - Privacy - Terms',\n",
       "  'We are experiencing some temporary issues. The market data on this page is currently delayed. Please bear with us as we address this and restore your personalized lists. On Friday, the price of bitcoin floated near $95,000, after reaching more than $108,000 earlier this month. Since the Christmas holiday, the world’s largest cryptocurrency has held steady near $95,000, as investors expect the world’s top cryptocurrency to eventually rally in 2025. With U.S. president-elect Donald Trump’s second term set to begin in 2025, the digital asset industry is largely optimistic about bitcoin’s upcoming growth trajectory – particularly amid Trump\\'s pledge to make the U.S. the world\\'s “crypto capital.” On Thursday, bitcoin exchange-traded funds (ETFs), which debuted this January, logged $475 million in inflows after four consecutive days of withdrawals. Meanwhile, ETFs for the world’s second-largest crypto by market capitalization, ethereum, reached $89 million in inflows. \"The ETF inflows highlight robust institutional support, particularly as macroeconomic conditions improve and inflation appears to be easing,” BRN\\'s lead analyst Valentin Fourner told The Block. Slowing inflation and an increasingly stable economy are also factors making crypto more attractive. Investors are also expressing growing interest in artificial intelligence in crypto projects and DeFi (decentralized finance). \"AI-driven investments and high-performance DeFi platforms are gaining traction as the next frontier for growth,\" Bitget chief analyst Ryan Lee told The Block. \"[D]evelopments highlight a shift toward technologically advanced and innovative crypto investments, though they come with heightened risk,\" Lee said. \"We recommend using small dips to strengthen exposure to bitcoin and ether.\" By mid-2025, the world\\'s largest cryptocurrency, bitcoin, is expected to potentially increase to $200,000, according to analysts at Bitfinex. “Our minimum price target for bitcoin remains at $140,000 - $200,000 around mid-2025,” Bitfinex analysts said. “The current bull market reflects strong institutional demand, led by ETFs and spot accumulation. Historical data suggests we are mid-cycle, following the April 2024 halving, with the market likely to peak around [the third and fourth quarter of] 2025, approximately 450 days post-halving. Historically, post-halving years have seen the strongest rallies.” Sign in to access your portfolio']}"
      ]
     },
     "execution_count": 35,
     "metadata": {},
     "output_type": "execute_result"
    }
   ],
   "source": [
    "articles = {ticker:scrape_and_process(cleaned_urls[ticker]) for ticker in monitored_tickers}\n",
    "articles"
   ]
  },
  {
   "cell_type": "code",
   "execution_count": 36,
   "metadata": {},
   "outputs": [
    {
     "data": {
      "text/plain": [
       "\"We are experiencing some temporary issues. The market data on this page is currently delayed. Please bear with us as we address this and restore your personalized lists. Tesla's (TSLA) 2024 went out with a bang, thanks to CEO Elon Musk and one of his biggest gambles yet. While the stock gained over 70% year to date thanks to a post-Trump election surge, it wasn’t all smooth sailing for the EV giant. Here are three highlights from the year and what to expect in 2025. When Tesla released its third quarter 2023 results in January, it warned its production growth would be “notably lower” in the year ahead. Meanwhile, investors questioning Tesla’s profitability picture in March sent shares to their lowest in nearly a year. Another big delivery miss in the first quarter didn’t help matters — nor did growing competition in China. Musk saw an opening and tried to turn the tide, claiming Tesla would finally reveal its long-awaited robotaxi in August. Initially, there was concern that the robotaxi push would hamper the release of the cheaper EV or relegate it to the dustbin. Emmanuel Rosner, a Deutsche Bank analyst at the time, felt Tesla’s focus on the robotaxi came at the abandonment of the cheap EV, which was a main reason for owning the stock. In fact, Musk had said in the past that a cheap EV would be difficult to make profitably. Later in the month of April, after Tesla stock hit its nadir for the year, Tesla confirmed in its fiscal Q1 earnings report it would indeed accelerate the launch of more affordable vehicles while it worked on the robotaxi, assuaging investors and analysts. A couple of months later, while investors awaited news on the robotaxi and cheap EV, issues with design and functionality led Tesla to delay its robotaxi reveal to Oct. 10. At the time of the robotaxi delay, a run-up in shares plus Musk’s open support for Donald Trump — whose antipathy toward EVs was not secret — led some investors to dump Tesla shares. “TSLA has always traded with a premium attached\""
      ]
     },
     "execution_count": 36,
     "metadata": {},
     "output_type": "execute_result"
    }
   ],
   "source": [
    "articles['TSLA'][0]"
   ]
  },
  {
   "cell_type": "markdown",
   "metadata": {},
   "source": [
    "## 4.4. Summarise all Articles"
   ]
  },
  {
   "cell_type": "code",
   "execution_count": 37,
   "metadata": {},
   "outputs": [],
   "source": [
    "def summarize(articles, max_length=55):\n",
    "    summaries = []\n",
    "    for article in articles:\n",
    "        if article:  # Avoid processing empty articles\n",
    "           input_ids = tokenizer_pegasus.encode(article, return_tensors='pt')\n",
    "           output = model_pegasus.generate(input_ids, max_length=max_length, num_beams=5, early_stopping=True)\n",
    "           summary = tokenizer_pegasus.decode(output[0], skip_special_tokens=True)\n",
    "        else:\n",
    "           summary = '' # Append empty string for failed scrapes\n",
    "\n",
    "        summaries.append(summary)\n",
    "    return summaries"
   ]
  },
  {
   "cell_type": "code",
   "execution_count": 38,
   "metadata": {},
   "outputs": [
    {
     "data": {
      "text/plain": [
       "\"def summarize(articles):\\n    summaries = []\\n    for article in articles:\\n        input_ids = tokenizer.encode(article, return_tensors='pt')\\n        output = model.generate(input_ids, max_length=55, num_beams=5, early_stopping=True)\\n        summary = tokenizer.decode(output[0], skip_special_tokens=True)\\n        summaries.append(summary)\\n    return summaries\""
      ]
     },
     "execution_count": 38,
     "metadata": {},
     "output_type": "execute_result"
    }
   ],
   "source": [
    "'''def summarize(articles):\n",
    "    summaries = []\n",
    "    for article in articles:\n",
    "        input_ids = tokenizer.encode(article, return_tensors='pt')\n",
    "        output = model.generate(input_ids, max_length=55, num_beams=5, early_stopping=True)\n",
    "        summary = tokenizer.decode(output[0], skip_special_tokens=True)\n",
    "        summaries.append(summary)\n",
    "    return summaries'''"
   ]
  },
  {
   "cell_type": "code",
   "execution_count": 39,
   "metadata": {},
   "outputs": [
    {
     "data": {
      "text/plain": [
       "{'GME': ['Stocks in the Consumer Discretionary sector have been outperforming this year.',\n",
       "  'Video game retailer’s same-store sales have been falling for two years. Return on invested capital (ROIC) is also a key metric',\n",
       "  'Video game retailer is a meme stock, but lacks solid business plan.',\n",
       "  'GameStop stands against other stocks featured in Jim Cramer’s game plan.',\n",
       "  'Apple nears $4 trillion valuation, Bitcoin drops. Hasbro profit opportunity led to charity-themed memecoin',\n",
       "  'Video game retailer’s shares have had 55 moves greater than 5% over last year.',\n",
       "  'Video game and console retailer has more than 4,000 locations. Management has been prudent in raising cash through stock sales',\n",
       "  \"Wall Street's earnings estimate revisions are at the heart of this rating change.\",\n",
       "  'Video game retailer’s sales fell 20.2% year on year. Adjusted EPS was significantly above analysts’ estimates',\n",
       "  'Your information may be shared with third parties.',\n",
       "  'Investor known as ‘Roaring Kitty’ posts picture on Twitter. Video game retailer’s shares are up 94% year-to-date'],\n",
       " 'TSLA': ['Musk’s big bet on robotaxi and cheap EV paid off. EV giant to unveil cheaper, longer-range model in 2021',\n",
       "  'Musk’s big bet on a Trump win has investors flocking to the stock.',\n",
       "  'Model Q to be priced $30,000, new Model Y to be launched in China. Tesla is confident of volume growth of 25%-30% next year',\n",
       "  'Tesla, Amazon, Alphabet, Facebook among top trending stocks. Goldman Sachs’ Argenti sees ‘full potential’ of AI in 2025',\n",
       "  'BofA says low-cost EV coming in first half of 2025. Tesla has said it plans to expand its robotaxi testing next year',\n",
       "  'Tesla, Amazon drop after impressive gains this year. Yields near seven-month highs as Fed meeting nears',\n",
       "  'Tesla prepares to report fourth-quarter deliveries. Carmaker preparing for Hong Kong secondary listing',\n",
       "  'Your information may be shared with third parties.',\n",
       "  'A look back at some of the top Company of the Year winners. Comeback of the Year, surprise of the year',\n",
       "  'Mizuho more than doubled its price target on Tuesday. Musk’s connection to Trump seen boosting shares',\n",
       "  'We are aware of the issue and are working to resolve it.'],\n",
       " 'BTC': ['We are aware of the issue and are working to resolve it.',\n",
       "  'The token has gained more than 50% since Donald Trump’s election victory. Bitcoin ETF inflows have exceeded $2Bn this year',\n",
       "  'We are aware of the issue and are working to resolve it.',\n",
       "  'MicroStrategy seeks permission to issue more shares. Bitcoin has risen 135% this year, exceeding returns from traditional investments',\n",
       "  'How much would an investment in Bitcoin be worth now? Back then, the cryptocurrency seemed risky to many',\n",
       "  'KULR Technology Group purchases Bitcoin for $21 million. BlackRock’s Bitcoin Trust ETF saw record outflows on Christmas Eve',\n",
       "  'Weekly jobless claims rise to highest since November 2021.',\n",
       "  'Bitcoin to hit cycle-high of $200,000 in late 2025, Bernstein says. Standard Chartered sees crypto inflows at or above 2024 pace',\n",
       "  'We are aware of the issue and are working to resolve it.',\n",
       "  'Your information may be shared with third parties.',\n",
       "  'Analysts at Bitfinex see minimum price target for bitcoin at $140,000. Bitcoin and ether seen as ‘next frontier for growth’']}"
      ]
     },
     "execution_count": 39,
     "metadata": {},
     "output_type": "execute_result"
    }
   ],
   "source": [
    "summaries = {ticker:summarize(articles[ticker]) for ticker in monitored_tickers}\n",
    "summaries"
   ]
  },
  {
   "cell_type": "code",
   "execution_count": 40,
   "metadata": {},
   "outputs": [
    {
     "data": {
      "text/plain": [
       "['We are aware of the issue and are working to resolve it.',\n",
       " 'The token has gained more than 50% since Donald Trump’s election victory. Bitcoin ETF inflows have exceeded $2Bn this year',\n",
       " 'We are aware of the issue and are working to resolve it.',\n",
       " 'MicroStrategy seeks permission to issue more shares. Bitcoin has risen 135% this year, exceeding returns from traditional investments',\n",
       " 'How much would an investment in Bitcoin be worth now? Back then, the cryptocurrency seemed risky to many',\n",
       " 'KULR Technology Group purchases Bitcoin for $21 million. BlackRock’s Bitcoin Trust ETF saw record outflows on Christmas Eve',\n",
       " 'Weekly jobless claims rise to highest since November 2021.',\n",
       " 'Bitcoin to hit cycle-high of $200,000 in late 2025, Bernstein says. Standard Chartered sees crypto inflows at or above 2024 pace',\n",
       " 'We are aware of the issue and are working to resolve it.',\n",
       " 'Your information may be shared with third parties.',\n",
       " 'Analysts at Bitfinex see minimum price target for bitcoin at $140,000. Bitcoin and ether seen as ‘next frontier for growth’']"
      ]
     },
     "execution_count": 40,
     "metadata": {},
     "output_type": "execute_result"
    }
   ],
   "source": [
    "summaries['BTC']"
   ]
  },
  {
   "cell_type": "markdown",
   "metadata": {},
   "source": [
    "# 5. Adding Sentiment Analysis"
   ]
  },
  {
   "cell_type": "code",
   "execution_count": 41,
   "metadata": {},
   "outputs": [
    {
     "name": "stderr",
     "output_type": "stream",
     "text": [
      "Some weights of the model checkpoint at cardiffnlp/twitter-roberta-base-sentiment-latest were not used when initializing RobertaForSequenceClassification: ['roberta.pooler.dense.bias', 'roberta.pooler.dense.weight']\n",
      "- This IS expected if you are initializing RobertaForSequenceClassification from the checkpoint of a model trained on another task or with another architecture (e.g. initializing a BertForSequenceClassification model from a BertForPreTraining model).\n",
      "- This IS NOT expected if you are initializing RobertaForSequenceClassification from the checkpoint of a model that you expect to be exactly identical (initializing a BertForSequenceClassification model from a BertForSequenceClassification model).\n",
      "Hardware accelerator e.g. GPU is available in the environment, but no `device` argument is passed to the `Pipeline` object. Model will be on CPU.\n"
     ]
    }
   ],
   "source": [
    "from transformers import pipeline\n",
    "model_id = \"cardiffnlp/twitter-roberta-base-sentiment-latest\"\n",
    "\n",
    "sentiment = pipeline(\"sentiment-analysis\", model=model_id)\n",
    "#sentiment = pipeline('sentiment-analysis')"
   ]
  },
  {
   "cell_type": "code",
   "execution_count": 42,
   "metadata": {},
   "outputs": [
    {
     "data": {
      "text/plain": [
       "[{'label': 'neutral', 'score': 0.7725824117660522},\n",
       " {'label': 'positive', 'score': 0.9506503343582153},\n",
       " {'label': 'neutral', 'score': 0.7725824117660522},\n",
       " {'label': 'positive', 'score': 0.8074238896369934},\n",
       " {'label': 'neutral', 'score': 0.6717263460159302},\n",
       " {'label': 'neutral', 'score': 0.857910692691803},\n",
       " {'label': 'negative', 'score': 0.6393394470214844},\n",
       " {'label': 'positive', 'score': 0.5200138688087463},\n",
       " {'label': 'neutral', 'score': 0.7725824117660522},\n",
       " {'label': 'neutral', 'score': 0.9321518540382385},\n",
       " {'label': 'neutral', 'score': 0.5912577509880066}]"
      ]
     },
     "execution_count": 42,
     "metadata": {},
     "output_type": "execute_result"
    },
    {
     "data": {
      "application/vnd.jupyter.widget-view+json": {
       "model_id": "37ded01f8d834f80b7095c2d5a812878",
       "version_major": 2,
       "version_minor": 0
      },
      "text/plain": [
       "model.safetensors:   0%|          | 0.00/501M [00:00<?, ?B/s]"
      ]
     },
     "metadata": {},
     "output_type": "display_data"
    }
   ],
   "source": [
    "sentiment(summaries['BTC'])"
   ]
  },
  {
   "cell_type": "code",
   "execution_count": 43,
   "metadata": {},
   "outputs": [
    {
     "data": {
      "text/plain": [
       "{'GME': [{'label': 'positive', 'score': 0.924379289150238},\n",
       "  {'label': 'negative', 'score': 0.7111995220184326},\n",
       "  {'label': 'negative', 'score': 0.7945842146873474},\n",
       "  {'label': 'neutral', 'score': 0.8605117797851562},\n",
       "  {'label': 'neutral', 'score': 0.6410014629364014},\n",
       "  {'label': 'neutral', 'score': 0.7576891183853149},\n",
       "  {'label': 'positive', 'score': 0.6059834957122803},\n",
       "  {'label': 'neutral', 'score': 0.8268831372261047},\n",
       "  {'label': 'negative', 'score': 0.4804984927177429},\n",
       "  {'label': 'neutral', 'score': 0.9321518540382385},\n",
       "  {'label': 'positive', 'score': 0.8081803917884827}],\n",
       " 'TSLA': [{'label': 'positive', 'score': 0.8464134335517883},\n",
       "  {'label': 'neutral', 'score': 0.5201290845870972},\n",
       "  {'label': 'positive', 'score': 0.7652406096458435},\n",
       "  {'label': 'positive', 'score': 0.9289472103118896},\n",
       "  {'label': 'positive', 'score': 0.5922951698303223},\n",
       "  {'label': 'neutral', 'score': 0.5334809422492981},\n",
       "  {'label': 'neutral', 'score': 0.8347300291061401},\n",
       "  {'label': 'neutral', 'score': 0.9321518540382385},\n",
       "  {'label': 'positive', 'score': 0.8511285185813904},\n",
       "  {'label': 'positive', 'score': 0.8544108271598816},\n",
       "  {'label': 'neutral', 'score': 0.7725824117660522}],\n",
       " 'BTC': [{'label': 'neutral', 'score': 0.7725824117660522},\n",
       "  {'label': 'positive', 'score': 0.9506503343582153},\n",
       "  {'label': 'neutral', 'score': 0.7725824117660522},\n",
       "  {'label': 'positive', 'score': 0.8074238896369934},\n",
       "  {'label': 'neutral', 'score': 0.6717263460159302},\n",
       "  {'label': 'neutral', 'score': 0.857910692691803},\n",
       "  {'label': 'negative', 'score': 0.6393394470214844},\n",
       "  {'label': 'positive', 'score': 0.5200138688087463},\n",
       "  {'label': 'neutral', 'score': 0.7725824117660522},\n",
       "  {'label': 'neutral', 'score': 0.9321518540382385},\n",
       "  {'label': 'neutral', 'score': 0.5912577509880066}]}"
      ]
     },
     "execution_count": 43,
     "metadata": {},
     "output_type": "execute_result"
    }
   ],
   "source": [
    "scores = {ticker:sentiment(summaries[ticker]) for ticker in monitored_tickers}\n",
    "scores"
   ]
  },
  {
   "cell_type": "code",
   "execution_count": 44,
   "metadata": {},
   "outputs": [
    {
     "name": "stdout",
     "output_type": "stream",
     "text": [
      "GameStop stands against other stocks featured in Jim Cramer’s game plan. neutral 0.8605117797851562\n"
     ]
    }
   ],
   "source": [
    "print(summaries['GME'][3], scores['GME'][3]['label'], scores['GME'][3]['score'])"
   ]
  },
  {
   "cell_type": "code",
   "execution_count": 45,
   "metadata": {},
   "outputs": [
    {
     "data": {
      "text/plain": [
       "0.7725824117660522"
      ]
     },
     "execution_count": 45,
     "metadata": {},
     "output_type": "execute_result"
    }
   ],
   "source": [
    "scores['BTC'][0]['score']"
   ]
  },
  {
   "cell_type": "markdown",
   "metadata": {},
   "source": [
    "# 6. Exporting Results to CSV"
   ]
  },
  {
   "cell_type": "code",
   "execution_count": 46,
   "metadata": {},
   "outputs": [
    {
     "data": {
      "text/plain": [
       "{'GME': ['Stocks in the Consumer Discretionary sector have been outperforming this year.',\n",
       "  'Video game retailer’s same-store sales have been falling for two years. Return on invested capital (ROIC) is also a key metric',\n",
       "  'Video game retailer is a meme stock, but lacks solid business plan.',\n",
       "  'GameStop stands against other stocks featured in Jim Cramer’s game plan.',\n",
       "  'Apple nears $4 trillion valuation, Bitcoin drops. Hasbro profit opportunity led to charity-themed memecoin',\n",
       "  'Video game retailer’s shares have had 55 moves greater than 5% over last year.',\n",
       "  'Video game and console retailer has more than 4,000 locations. Management has been prudent in raising cash through stock sales',\n",
       "  \"Wall Street's earnings estimate revisions are at the heart of this rating change.\",\n",
       "  'Video game retailer’s sales fell 20.2% year on year. Adjusted EPS was significantly above analysts’ estimates',\n",
       "  'Your information may be shared with third parties.',\n",
       "  'Investor known as ‘Roaring Kitty’ posts picture on Twitter. Video game retailer’s shares are up 94% year-to-date'],\n",
       " 'TSLA': ['Musk’s big bet on robotaxi and cheap EV paid off. EV giant to unveil cheaper, longer-range model in 2021',\n",
       "  'Musk’s big bet on a Trump win has investors flocking to the stock.',\n",
       "  'Model Q to be priced $30,000, new Model Y to be launched in China. Tesla is confident of volume growth of 25%-30% next year',\n",
       "  'Tesla, Amazon, Alphabet, Facebook among top trending stocks. Goldman Sachs’ Argenti sees ‘full potential’ of AI in 2025',\n",
       "  'BofA says low-cost EV coming in first half of 2025. Tesla has said it plans to expand its robotaxi testing next year',\n",
       "  'Tesla, Amazon drop after impressive gains this year. Yields near seven-month highs as Fed meeting nears',\n",
       "  'Tesla prepares to report fourth-quarter deliveries. Carmaker preparing for Hong Kong secondary listing',\n",
       "  'Your information may be shared with third parties.',\n",
       "  'A look back at some of the top Company of the Year winners. Comeback of the Year, surprise of the year',\n",
       "  'Mizuho more than doubled its price target on Tuesday. Musk’s connection to Trump seen boosting shares',\n",
       "  'We are aware of the issue and are working to resolve it.'],\n",
       " 'BTC': ['We are aware of the issue and are working to resolve it.',\n",
       "  'The token has gained more than 50% since Donald Trump’s election victory. Bitcoin ETF inflows have exceeded $2Bn this year',\n",
       "  'We are aware of the issue and are working to resolve it.',\n",
       "  'MicroStrategy seeks permission to issue more shares. Bitcoin has risen 135% this year, exceeding returns from traditional investments',\n",
       "  'How much would an investment in Bitcoin be worth now? Back then, the cryptocurrency seemed risky to many',\n",
       "  'KULR Technology Group purchases Bitcoin for $21 million. BlackRock’s Bitcoin Trust ETF saw record outflows on Christmas Eve',\n",
       "  'Weekly jobless claims rise to highest since November 2021.',\n",
       "  'Bitcoin to hit cycle-high of $200,000 in late 2025, Bernstein says. Standard Chartered sees crypto inflows at or above 2024 pace',\n",
       "  'We are aware of the issue and are working to resolve it.',\n",
       "  'Your information may be shared with third parties.',\n",
       "  'Analysts at Bitfinex see minimum price target for bitcoin at $140,000. Bitcoin and ether seen as ‘next frontier for growth’']}"
      ]
     },
     "execution_count": 46,
     "metadata": {},
     "output_type": "execute_result"
    }
   ],
   "source": [
    "summaries"
   ]
  },
  {
   "cell_type": "code",
   "execution_count": 47,
   "metadata": {},
   "outputs": [
    {
     "data": {
      "text/plain": [
       "{'GME': [{'label': 'positive', 'score': 0.924379289150238},\n",
       "  {'label': 'negative', 'score': 0.7111995220184326},\n",
       "  {'label': 'negative', 'score': 0.7945842146873474},\n",
       "  {'label': 'neutral', 'score': 0.8605117797851562},\n",
       "  {'label': 'neutral', 'score': 0.6410014629364014},\n",
       "  {'label': 'neutral', 'score': 0.7576891183853149},\n",
       "  {'label': 'positive', 'score': 0.6059834957122803},\n",
       "  {'label': 'neutral', 'score': 0.8268831372261047},\n",
       "  {'label': 'negative', 'score': 0.4804984927177429},\n",
       "  {'label': 'neutral', 'score': 0.9321518540382385},\n",
       "  {'label': 'positive', 'score': 0.8081803917884827}],\n",
       " 'TSLA': [{'label': 'positive', 'score': 0.8464134335517883},\n",
       "  {'label': 'neutral', 'score': 0.5201290845870972},\n",
       "  {'label': 'positive', 'score': 0.7652406096458435},\n",
       "  {'label': 'positive', 'score': 0.9289472103118896},\n",
       "  {'label': 'positive', 'score': 0.5922951698303223},\n",
       "  {'label': 'neutral', 'score': 0.5334809422492981},\n",
       "  {'label': 'neutral', 'score': 0.8347300291061401},\n",
       "  {'label': 'neutral', 'score': 0.9321518540382385},\n",
       "  {'label': 'positive', 'score': 0.8511285185813904},\n",
       "  {'label': 'positive', 'score': 0.8544108271598816},\n",
       "  {'label': 'neutral', 'score': 0.7725824117660522}],\n",
       " 'BTC': [{'label': 'neutral', 'score': 0.7725824117660522},\n",
       "  {'label': 'positive', 'score': 0.9506503343582153},\n",
       "  {'label': 'neutral', 'score': 0.7725824117660522},\n",
       "  {'label': 'positive', 'score': 0.8074238896369934},\n",
       "  {'label': 'neutral', 'score': 0.6717263460159302},\n",
       "  {'label': 'neutral', 'score': 0.857910692691803},\n",
       "  {'label': 'negative', 'score': 0.6393394470214844},\n",
       "  {'label': 'positive', 'score': 0.5200138688087463},\n",
       "  {'label': 'neutral', 'score': 0.7725824117660522},\n",
       "  {'label': 'neutral', 'score': 0.9321518540382385},\n",
       "  {'label': 'neutral', 'score': 0.5912577509880066}]}"
      ]
     },
     "execution_count": 47,
     "metadata": {},
     "output_type": "execute_result"
    }
   ],
   "source": [
    "scores"
   ]
  },
  {
   "cell_type": "code",
   "execution_count": 48,
   "metadata": {},
   "outputs": [
    {
     "data": {
      "text/plain": [
       "{'GME': ['https://finance.yahoo.com/news/gamestop-gme-stock-outpacing-consumer-144011955.html',\n",
       "  'https://finance.yahoo.com/news/3-reasons-sell-gme-1-091114257.html',\n",
       "  'https://finance.yahoo.com/news/healthy-balance-sheet-won-t-193646025.html',\n",
       "  'https://finance.yahoo.com/news/jim-cramer-refers-gamestop-corp-235402974.html',\n",
       "  'https://finance.yahoo.com/news/company-news-dec-27-2024-122000815.html',\n",
       "  'https://finance.yahoo.com/news/why-gamestop-gme-stock-down-162604744.html',\n",
       "  'https://finance.yahoo.com/news/bull-day-gamestop-gme-090000895.html',\n",
       "  'https://finance.yahoo.com/news/makes-gamestop-gme-strong-buy-170011043.html',\n",
       "  'https://finance.yahoo.com/news/gamestop-nyse-gme-reports-sales-211114985.html',\n",
       "  'https://www.google.com/search?q%3Dyahoo%2Bfinance%2BGME%26tbm%3Dnws%26pccc%3D1',\n",
       "  'https://finance.yahoo.com/news/gamestop-gets-holiday-boost-roaring-163100508.html'],\n",
       " 'TSLA': ['https://finance.yahoo.com/news/tesla-2024-3-things-that-defined-its-big-year-140032809.html',\n",
       "  'https://finance.yahoo.com/news/tesla-stock-rides-trump-effect-to-all-time-highs-211226765.html',\n",
       "  'https://finance.yahoo.com/news/teslas-cheaper-model-q-on-the-way-and-likely-new-china-ev-analyst-says-following-tesla-meeting-164534610.html',\n",
       "  'https://finance.yahoo.com/news/analyst-tesla-tsla-no-cause-230555408.html',\n",
       "  'https://finance.yahoo.com/news/tesla-stock-pops-as-giga-austin-visit-has-bofa-bullish-172718038.html',\n",
       "  'https://finance.yahoo.com/news/live/stock-market-today-dow-sp-nasdaq-slide-on-big-tech-losses-but-weekly-gains-hold-143206294.html',\n",
       "  'https://finance.yahoo.com/news/teslas-stock-flying-too-high-162841378.html',\n",
       "  'https://www.google.com/search?q%3Dyahoo%2Bfinance%2BTSLA%26tbm%3Dnws%26pccc%3D1',\n",
       "  'https://finance.yahoo.com/news/nvidia-gm-walmart-palantir-tesla-meta-and-others-battle-this-yahoo-finance-awards-season-110036402.html',\n",
       "  'https://finance.yahoo.com/news/tesla-stock-jumps-to-another-high-as-mizuho-more-than-doubles-price-target-to-515-163030620.html',\n",
       "  'https://finance.yahoo.com/video/consumer-discretionary-tesla-led-sectors-154352588.html'],\n",
       " 'BTC': ['https://finance.yahoo.com/video/us-strategic-could-push-bitcoin-213000587.html',\n",
       "  'https://finance.yahoo.com/news/bitcoin-surpasses-107000-to-hit-new-high-amid-relentless-etf-demand-172001994.html',\n",
       "  'https://finance.yahoo.com/video/microstrategy-chairman-says-bitcoin-simple-212018091.html',\n",
       "  'https://finance.yahoo.com/news/bitcoin-gains-microstrategy-plans-issue-034118453.html',\n",
       "  'https://finance.yahoo.com/news/invested-bitcoin-ahead-last-inauguration-170016464.html',\n",
       "  'https://finance.yahoo.com/news/bitcoins-holiday-slump-trump-strategic-133000768.html',\n",
       "  'https://finance.yahoo.com/news/live/stock-market-today-dow-ekes-out-gains-bitcoin-slumps-as-santa-claus-rally-takes-a-pause-175235354.html',\n",
       "  'https://finance.yahoo.com/news/bitcoin-just-crossed-100000-for-the-first-time-wall-street-sees-200000-following-soon-200622402.html',\n",
       "  'https://finance.yahoo.com/video/stocks-set-open-lower-jobless-140951379.html',\n",
       "  'https://www.google.com/search?q%3Dyahoo%2Bfinance%2BBTC%26tbm%3Dnws%26pccc%3D1',\n",
       "  'https://finance.yahoo.com/news/bitcoin-holds-steady-near-95-222618450.html']}"
      ]
     },
     "execution_count": 48,
     "metadata": {},
     "output_type": "execute_result"
    }
   ],
   "source": [
    "cleaned_urls"
   ]
  },
  {
   "cell_type": "code",
   "execution_count": 49,
   "metadata": {},
   "outputs": [
    {
     "data": {
      "text/plain": [
       "range(0, 11)"
      ]
     },
     "execution_count": 49,
     "metadata": {},
     "output_type": "execute_result"
    }
   ],
   "source": [
    "range(len(summaries['GME']))"
   ]
  },
  {
   "cell_type": "code",
   "execution_count": 50,
   "metadata": {},
   "outputs": [
    {
     "data": {
      "text/plain": [
       "'GameStop stands against other stocks featured in Jim Cramer’s game plan.'"
      ]
     },
     "execution_count": 50,
     "metadata": {},
     "output_type": "execute_result"
    }
   ],
   "source": [
    "summaries['GME'][3]"
   ]
  },
  {
   "cell_type": "code",
   "execution_count": 51,
   "metadata": {},
   "outputs": [],
   "source": [
    "def create_output_array(summaries, scores, urls):\n",
    "    output = []\n",
    "    for ticker in monitored_tickers:\n",
    "        for counter in range(len(summaries[ticker])):\n",
    "            output_this = [\n",
    "                ticker,\n",
    "                summaries[ticker][counter],\n",
    "                scores[ticker][counter]['label'],\n",
    "                scores[ticker][counter]['score'],\n",
    "                urls[ticker][counter]\n",
    "            ]\n",
    "            output.append(output_this)\n",
    "    return output"
   ]
  },
  {
   "cell_type": "code",
   "execution_count": 52,
   "metadata": {},
   "outputs": [
    {
     "data": {
      "text/plain": [
       "[['GME',\n",
       "  'Stocks in the Consumer Discretionary sector have been outperforming this year.',\n",
       "  'positive',\n",
       "  0.924379289150238,\n",
       "  'https://finance.yahoo.com/news/gamestop-gme-stock-outpacing-consumer-144011955.html'],\n",
       " ['GME',\n",
       "  'Video game retailer’s same-store sales have been falling for two years. Return on invested capital (ROIC) is also a key metric',\n",
       "  'negative',\n",
       "  0.7111995220184326,\n",
       "  'https://finance.yahoo.com/news/3-reasons-sell-gme-1-091114257.html'],\n",
       " ['GME',\n",
       "  'Video game retailer is a meme stock, but lacks solid business plan.',\n",
       "  'negative',\n",
       "  0.7945842146873474,\n",
       "  'https://finance.yahoo.com/news/healthy-balance-sheet-won-t-193646025.html'],\n",
       " ['GME',\n",
       "  'GameStop stands against other stocks featured in Jim Cramer’s game plan.',\n",
       "  'neutral',\n",
       "  0.8605117797851562,\n",
       "  'https://finance.yahoo.com/news/jim-cramer-refers-gamestop-corp-235402974.html'],\n",
       " ['GME',\n",
       "  'Apple nears $4 trillion valuation, Bitcoin drops. Hasbro profit opportunity led to charity-themed memecoin',\n",
       "  'neutral',\n",
       "  0.6410014629364014,\n",
       "  'https://finance.yahoo.com/news/company-news-dec-27-2024-122000815.html'],\n",
       " ['GME',\n",
       "  'Video game retailer’s shares have had 55 moves greater than 5% over last year.',\n",
       "  'neutral',\n",
       "  0.7576891183853149,\n",
       "  'https://finance.yahoo.com/news/why-gamestop-gme-stock-down-162604744.html'],\n",
       " ['GME',\n",
       "  'Video game and console retailer has more than 4,000 locations. Management has been prudent in raising cash through stock sales',\n",
       "  'positive',\n",
       "  0.6059834957122803,\n",
       "  'https://finance.yahoo.com/news/bull-day-gamestop-gme-090000895.html'],\n",
       " ['GME',\n",
       "  \"Wall Street's earnings estimate revisions are at the heart of this rating change.\",\n",
       "  'neutral',\n",
       "  0.8268831372261047,\n",
       "  'https://finance.yahoo.com/news/makes-gamestop-gme-strong-buy-170011043.html'],\n",
       " ['GME',\n",
       "  'Video game retailer’s sales fell 20.2% year on year. Adjusted EPS was significantly above analysts’ estimates',\n",
       "  'negative',\n",
       "  0.4804984927177429,\n",
       "  'https://finance.yahoo.com/news/gamestop-nyse-gme-reports-sales-211114985.html'],\n",
       " ['GME',\n",
       "  'Your information may be shared with third parties.',\n",
       "  'neutral',\n",
       "  0.9321518540382385,\n",
       "  'https://www.google.com/search?q%3Dyahoo%2Bfinance%2BGME%26tbm%3Dnws%26pccc%3D1'],\n",
       " ['GME',\n",
       "  'Investor known as ‘Roaring Kitty’ posts picture on Twitter. Video game retailer’s shares are up 94% year-to-date',\n",
       "  'positive',\n",
       "  0.8081803917884827,\n",
       "  'https://finance.yahoo.com/news/gamestop-gets-holiday-boost-roaring-163100508.html'],\n",
       " ['TSLA',\n",
       "  'Musk’s big bet on robotaxi and cheap EV paid off. EV giant to unveil cheaper, longer-range model in 2021',\n",
       "  'positive',\n",
       "  0.8464134335517883,\n",
       "  'https://finance.yahoo.com/news/tesla-2024-3-things-that-defined-its-big-year-140032809.html'],\n",
       " ['TSLA',\n",
       "  'Musk’s big bet on a Trump win has investors flocking to the stock.',\n",
       "  'neutral',\n",
       "  0.5201290845870972,\n",
       "  'https://finance.yahoo.com/news/tesla-stock-rides-trump-effect-to-all-time-highs-211226765.html'],\n",
       " ['TSLA',\n",
       "  'Model Q to be priced $30,000, new Model Y to be launched in China. Tesla is confident of volume growth of 25%-30% next year',\n",
       "  'positive',\n",
       "  0.7652406096458435,\n",
       "  'https://finance.yahoo.com/news/teslas-cheaper-model-q-on-the-way-and-likely-new-china-ev-analyst-says-following-tesla-meeting-164534610.html'],\n",
       " ['TSLA',\n",
       "  'Tesla, Amazon, Alphabet, Facebook among top trending stocks. Goldman Sachs’ Argenti sees ‘full potential’ of AI in 2025',\n",
       "  'positive',\n",
       "  0.9289472103118896,\n",
       "  'https://finance.yahoo.com/news/analyst-tesla-tsla-no-cause-230555408.html'],\n",
       " ['TSLA',\n",
       "  'BofA says low-cost EV coming in first half of 2025. Tesla has said it plans to expand its robotaxi testing next year',\n",
       "  'positive',\n",
       "  0.5922951698303223,\n",
       "  'https://finance.yahoo.com/news/tesla-stock-pops-as-giga-austin-visit-has-bofa-bullish-172718038.html'],\n",
       " ['TSLA',\n",
       "  'Tesla, Amazon drop after impressive gains this year. Yields near seven-month highs as Fed meeting nears',\n",
       "  'neutral',\n",
       "  0.5334809422492981,\n",
       "  'https://finance.yahoo.com/news/live/stock-market-today-dow-sp-nasdaq-slide-on-big-tech-losses-but-weekly-gains-hold-143206294.html'],\n",
       " ['TSLA',\n",
       "  'Tesla prepares to report fourth-quarter deliveries. Carmaker preparing for Hong Kong secondary listing',\n",
       "  'neutral',\n",
       "  0.8347300291061401,\n",
       "  'https://finance.yahoo.com/news/teslas-stock-flying-too-high-162841378.html'],\n",
       " ['TSLA',\n",
       "  'Your information may be shared with third parties.',\n",
       "  'neutral',\n",
       "  0.9321518540382385,\n",
       "  'https://www.google.com/search?q%3Dyahoo%2Bfinance%2BTSLA%26tbm%3Dnws%26pccc%3D1'],\n",
       " ['TSLA',\n",
       "  'A look back at some of the top Company of the Year winners. Comeback of the Year, surprise of the year',\n",
       "  'positive',\n",
       "  0.8511285185813904,\n",
       "  'https://finance.yahoo.com/news/nvidia-gm-walmart-palantir-tesla-meta-and-others-battle-this-yahoo-finance-awards-season-110036402.html'],\n",
       " ['TSLA',\n",
       "  'Mizuho more than doubled its price target on Tuesday. Musk’s connection to Trump seen boosting shares',\n",
       "  'positive',\n",
       "  0.8544108271598816,\n",
       "  'https://finance.yahoo.com/news/tesla-stock-jumps-to-another-high-as-mizuho-more-than-doubles-price-target-to-515-163030620.html'],\n",
       " ['TSLA',\n",
       "  'We are aware of the issue and are working to resolve it.',\n",
       "  'neutral',\n",
       "  0.7725824117660522,\n",
       "  'https://finance.yahoo.com/video/consumer-discretionary-tesla-led-sectors-154352588.html'],\n",
       " ['BTC',\n",
       "  'We are aware of the issue and are working to resolve it.',\n",
       "  'neutral',\n",
       "  0.7725824117660522,\n",
       "  'https://finance.yahoo.com/video/us-strategic-could-push-bitcoin-213000587.html'],\n",
       " ['BTC',\n",
       "  'The token has gained more than 50% since Donald Trump’s election victory. Bitcoin ETF inflows have exceeded $2Bn this year',\n",
       "  'positive',\n",
       "  0.9506503343582153,\n",
       "  'https://finance.yahoo.com/news/bitcoin-surpasses-107000-to-hit-new-high-amid-relentless-etf-demand-172001994.html'],\n",
       " ['BTC',\n",
       "  'We are aware of the issue and are working to resolve it.',\n",
       "  'neutral',\n",
       "  0.7725824117660522,\n",
       "  'https://finance.yahoo.com/video/microstrategy-chairman-says-bitcoin-simple-212018091.html'],\n",
       " ['BTC',\n",
       "  'MicroStrategy seeks permission to issue more shares. Bitcoin has risen 135% this year, exceeding returns from traditional investments',\n",
       "  'positive',\n",
       "  0.8074238896369934,\n",
       "  'https://finance.yahoo.com/news/bitcoin-gains-microstrategy-plans-issue-034118453.html'],\n",
       " ['BTC',\n",
       "  'How much would an investment in Bitcoin be worth now? Back then, the cryptocurrency seemed risky to many',\n",
       "  'neutral',\n",
       "  0.6717263460159302,\n",
       "  'https://finance.yahoo.com/news/invested-bitcoin-ahead-last-inauguration-170016464.html'],\n",
       " ['BTC',\n",
       "  'KULR Technology Group purchases Bitcoin for $21 million. BlackRock’s Bitcoin Trust ETF saw record outflows on Christmas Eve',\n",
       "  'neutral',\n",
       "  0.857910692691803,\n",
       "  'https://finance.yahoo.com/news/bitcoins-holiday-slump-trump-strategic-133000768.html'],\n",
       " ['BTC',\n",
       "  'Weekly jobless claims rise to highest since November 2021.',\n",
       "  'negative',\n",
       "  0.6393394470214844,\n",
       "  'https://finance.yahoo.com/news/live/stock-market-today-dow-ekes-out-gains-bitcoin-slumps-as-santa-claus-rally-takes-a-pause-175235354.html'],\n",
       " ['BTC',\n",
       "  'Bitcoin to hit cycle-high of $200,000 in late 2025, Bernstein says. Standard Chartered sees crypto inflows at or above 2024 pace',\n",
       "  'positive',\n",
       "  0.5200138688087463,\n",
       "  'https://finance.yahoo.com/news/bitcoin-just-crossed-100000-for-the-first-time-wall-street-sees-200000-following-soon-200622402.html'],\n",
       " ['BTC',\n",
       "  'We are aware of the issue and are working to resolve it.',\n",
       "  'neutral',\n",
       "  0.7725824117660522,\n",
       "  'https://finance.yahoo.com/video/stocks-set-open-lower-jobless-140951379.html'],\n",
       " ['BTC',\n",
       "  'Your information may be shared with third parties.',\n",
       "  'neutral',\n",
       "  0.9321518540382385,\n",
       "  'https://www.google.com/search?q%3Dyahoo%2Bfinance%2BBTC%26tbm%3Dnws%26pccc%3D1'],\n",
       " ['BTC',\n",
       "  'Analysts at Bitfinex see minimum price target for bitcoin at $140,000. Bitcoin and ether seen as ‘next frontier for growth’',\n",
       "  'neutral',\n",
       "  0.5912577509880066,\n",
       "  'https://finance.yahoo.com/news/bitcoin-holds-steady-near-95-222618450.html']]"
      ]
     },
     "execution_count": 52,
     "metadata": {},
     "output_type": "execute_result"
    }
   ],
   "source": [
    "final_output = create_output_array(summaries, scores, cleaned_urls)\n",
    "final_output"
   ]
  },
  {
   "cell_type": "code",
   "execution_count": 53,
   "metadata": {},
   "outputs": [],
   "source": [
    "final_output.insert(0, ['Ticker', 'Summary', 'Label', 'Confidence', 'URL'])"
   ]
  },
  {
   "cell_type": "code",
   "execution_count": 54,
   "metadata": {},
   "outputs": [
    {
     "data": {
      "text/plain": [
       "[['Ticker', 'Summary', 'Label', 'Confidence', 'URL'],\n",
       " ['GME',\n",
       "  'Stocks in the Consumer Discretionary sector have been outperforming this year.',\n",
       "  'positive',\n",
       "  0.924379289150238,\n",
       "  'https://finance.yahoo.com/news/gamestop-gme-stock-outpacing-consumer-144011955.html'],\n",
       " ['GME',\n",
       "  'Video game retailer’s same-store sales have been falling for two years. Return on invested capital (ROIC) is also a key metric',\n",
       "  'negative',\n",
       "  0.7111995220184326,\n",
       "  'https://finance.yahoo.com/news/3-reasons-sell-gme-1-091114257.html'],\n",
       " ['GME',\n",
       "  'Video game retailer is a meme stock, but lacks solid business plan.',\n",
       "  'negative',\n",
       "  0.7945842146873474,\n",
       "  'https://finance.yahoo.com/news/healthy-balance-sheet-won-t-193646025.html'],\n",
       " ['GME',\n",
       "  'GameStop stands against other stocks featured in Jim Cramer’s game plan.',\n",
       "  'neutral',\n",
       "  0.8605117797851562,\n",
       "  'https://finance.yahoo.com/news/jim-cramer-refers-gamestop-corp-235402974.html'],\n",
       " ['GME',\n",
       "  'Apple nears $4 trillion valuation, Bitcoin drops. Hasbro profit opportunity led to charity-themed memecoin',\n",
       "  'neutral',\n",
       "  0.6410014629364014,\n",
       "  'https://finance.yahoo.com/news/company-news-dec-27-2024-122000815.html'],\n",
       " ['GME',\n",
       "  'Video game retailer’s shares have had 55 moves greater than 5% over last year.',\n",
       "  'neutral',\n",
       "  0.7576891183853149,\n",
       "  'https://finance.yahoo.com/news/why-gamestop-gme-stock-down-162604744.html'],\n",
       " ['GME',\n",
       "  'Video game and console retailer has more than 4,000 locations. Management has been prudent in raising cash through stock sales',\n",
       "  'positive',\n",
       "  0.6059834957122803,\n",
       "  'https://finance.yahoo.com/news/bull-day-gamestop-gme-090000895.html'],\n",
       " ['GME',\n",
       "  \"Wall Street's earnings estimate revisions are at the heart of this rating change.\",\n",
       "  'neutral',\n",
       "  0.8268831372261047,\n",
       "  'https://finance.yahoo.com/news/makes-gamestop-gme-strong-buy-170011043.html'],\n",
       " ['GME',\n",
       "  'Video game retailer’s sales fell 20.2% year on year. Adjusted EPS was significantly above analysts’ estimates',\n",
       "  'negative',\n",
       "  0.4804984927177429,\n",
       "  'https://finance.yahoo.com/news/gamestop-nyse-gme-reports-sales-211114985.html'],\n",
       " ['GME',\n",
       "  'Your information may be shared with third parties.',\n",
       "  'neutral',\n",
       "  0.9321518540382385,\n",
       "  'https://www.google.com/search?q%3Dyahoo%2Bfinance%2BGME%26tbm%3Dnws%26pccc%3D1'],\n",
       " ['GME',\n",
       "  'Investor known as ‘Roaring Kitty’ posts picture on Twitter. Video game retailer’s shares are up 94% year-to-date',\n",
       "  'positive',\n",
       "  0.8081803917884827,\n",
       "  'https://finance.yahoo.com/news/gamestop-gets-holiday-boost-roaring-163100508.html'],\n",
       " ['TSLA',\n",
       "  'Musk’s big bet on robotaxi and cheap EV paid off. EV giant to unveil cheaper, longer-range model in 2021',\n",
       "  'positive',\n",
       "  0.8464134335517883,\n",
       "  'https://finance.yahoo.com/news/tesla-2024-3-things-that-defined-its-big-year-140032809.html'],\n",
       " ['TSLA',\n",
       "  'Musk’s big bet on a Trump win has investors flocking to the stock.',\n",
       "  'neutral',\n",
       "  0.5201290845870972,\n",
       "  'https://finance.yahoo.com/news/tesla-stock-rides-trump-effect-to-all-time-highs-211226765.html'],\n",
       " ['TSLA',\n",
       "  'Model Q to be priced $30,000, new Model Y to be launched in China. Tesla is confident of volume growth of 25%-30% next year',\n",
       "  'positive',\n",
       "  0.7652406096458435,\n",
       "  'https://finance.yahoo.com/news/teslas-cheaper-model-q-on-the-way-and-likely-new-china-ev-analyst-says-following-tesla-meeting-164534610.html'],\n",
       " ['TSLA',\n",
       "  'Tesla, Amazon, Alphabet, Facebook among top trending stocks. Goldman Sachs’ Argenti sees ‘full potential’ of AI in 2025',\n",
       "  'positive',\n",
       "  0.9289472103118896,\n",
       "  'https://finance.yahoo.com/news/analyst-tesla-tsla-no-cause-230555408.html'],\n",
       " ['TSLA',\n",
       "  'BofA says low-cost EV coming in first half of 2025. Tesla has said it plans to expand its robotaxi testing next year',\n",
       "  'positive',\n",
       "  0.5922951698303223,\n",
       "  'https://finance.yahoo.com/news/tesla-stock-pops-as-giga-austin-visit-has-bofa-bullish-172718038.html'],\n",
       " ['TSLA',\n",
       "  'Tesla, Amazon drop after impressive gains this year. Yields near seven-month highs as Fed meeting nears',\n",
       "  'neutral',\n",
       "  0.5334809422492981,\n",
       "  'https://finance.yahoo.com/news/live/stock-market-today-dow-sp-nasdaq-slide-on-big-tech-losses-but-weekly-gains-hold-143206294.html'],\n",
       " ['TSLA',\n",
       "  'Tesla prepares to report fourth-quarter deliveries. Carmaker preparing for Hong Kong secondary listing',\n",
       "  'neutral',\n",
       "  0.8347300291061401,\n",
       "  'https://finance.yahoo.com/news/teslas-stock-flying-too-high-162841378.html'],\n",
       " ['TSLA',\n",
       "  'Your information may be shared with third parties.',\n",
       "  'neutral',\n",
       "  0.9321518540382385,\n",
       "  'https://www.google.com/search?q%3Dyahoo%2Bfinance%2BTSLA%26tbm%3Dnws%26pccc%3D1'],\n",
       " ['TSLA',\n",
       "  'A look back at some of the top Company of the Year winners. Comeback of the Year, surprise of the year',\n",
       "  'positive',\n",
       "  0.8511285185813904,\n",
       "  'https://finance.yahoo.com/news/nvidia-gm-walmart-palantir-tesla-meta-and-others-battle-this-yahoo-finance-awards-season-110036402.html'],\n",
       " ['TSLA',\n",
       "  'Mizuho more than doubled its price target on Tuesday. Musk’s connection to Trump seen boosting shares',\n",
       "  'positive',\n",
       "  0.8544108271598816,\n",
       "  'https://finance.yahoo.com/news/tesla-stock-jumps-to-another-high-as-mizuho-more-than-doubles-price-target-to-515-163030620.html'],\n",
       " ['TSLA',\n",
       "  'We are aware of the issue and are working to resolve it.',\n",
       "  'neutral',\n",
       "  0.7725824117660522,\n",
       "  'https://finance.yahoo.com/video/consumer-discretionary-tesla-led-sectors-154352588.html'],\n",
       " ['BTC',\n",
       "  'We are aware of the issue and are working to resolve it.',\n",
       "  'neutral',\n",
       "  0.7725824117660522,\n",
       "  'https://finance.yahoo.com/video/us-strategic-could-push-bitcoin-213000587.html'],\n",
       " ['BTC',\n",
       "  'The token has gained more than 50% since Donald Trump’s election victory. Bitcoin ETF inflows have exceeded $2Bn this year',\n",
       "  'positive',\n",
       "  0.9506503343582153,\n",
       "  'https://finance.yahoo.com/news/bitcoin-surpasses-107000-to-hit-new-high-amid-relentless-etf-demand-172001994.html'],\n",
       " ['BTC',\n",
       "  'We are aware of the issue and are working to resolve it.',\n",
       "  'neutral',\n",
       "  0.7725824117660522,\n",
       "  'https://finance.yahoo.com/video/microstrategy-chairman-says-bitcoin-simple-212018091.html'],\n",
       " ['BTC',\n",
       "  'MicroStrategy seeks permission to issue more shares. Bitcoin has risen 135% this year, exceeding returns from traditional investments',\n",
       "  'positive',\n",
       "  0.8074238896369934,\n",
       "  'https://finance.yahoo.com/news/bitcoin-gains-microstrategy-plans-issue-034118453.html'],\n",
       " ['BTC',\n",
       "  'How much would an investment in Bitcoin be worth now? Back then, the cryptocurrency seemed risky to many',\n",
       "  'neutral',\n",
       "  0.6717263460159302,\n",
       "  'https://finance.yahoo.com/news/invested-bitcoin-ahead-last-inauguration-170016464.html'],\n",
       " ['BTC',\n",
       "  'KULR Technology Group purchases Bitcoin for $21 million. BlackRock’s Bitcoin Trust ETF saw record outflows on Christmas Eve',\n",
       "  'neutral',\n",
       "  0.857910692691803,\n",
       "  'https://finance.yahoo.com/news/bitcoins-holiday-slump-trump-strategic-133000768.html'],\n",
       " ['BTC',\n",
       "  'Weekly jobless claims rise to highest since November 2021.',\n",
       "  'negative',\n",
       "  0.6393394470214844,\n",
       "  'https://finance.yahoo.com/news/live/stock-market-today-dow-ekes-out-gains-bitcoin-slumps-as-santa-claus-rally-takes-a-pause-175235354.html'],\n",
       " ['BTC',\n",
       "  'Bitcoin to hit cycle-high of $200,000 in late 2025, Bernstein says. Standard Chartered sees crypto inflows at or above 2024 pace',\n",
       "  'positive',\n",
       "  0.5200138688087463,\n",
       "  'https://finance.yahoo.com/news/bitcoin-just-crossed-100000-for-the-first-time-wall-street-sees-200000-following-soon-200622402.html'],\n",
       " ['BTC',\n",
       "  'We are aware of the issue and are working to resolve it.',\n",
       "  'neutral',\n",
       "  0.7725824117660522,\n",
       "  'https://finance.yahoo.com/video/stocks-set-open-lower-jobless-140951379.html'],\n",
       " ['BTC',\n",
       "  'Your information may be shared with third parties.',\n",
       "  'neutral',\n",
       "  0.9321518540382385,\n",
       "  'https://www.google.com/search?q%3Dyahoo%2Bfinance%2BBTC%26tbm%3Dnws%26pccc%3D1'],\n",
       " ['BTC',\n",
       "  'Analysts at Bitfinex see minimum price target for bitcoin at $140,000. Bitcoin and ether seen as ‘next frontier for growth’',\n",
       "  'neutral',\n",
       "  0.5912577509880066,\n",
       "  'https://finance.yahoo.com/news/bitcoin-holds-steady-near-95-222618450.html']]"
      ]
     },
     "execution_count": 54,
     "metadata": {},
     "output_type": "execute_result"
    }
   ],
   "source": [
    "final_output"
   ]
  },
  {
   "cell_type": "code",
   "execution_count": 55,
   "metadata": {},
   "outputs": [],
   "source": [
    "import csv\n",
    "with open('assetsummaries.csv', mode='w', newline='') as f:\n",
    "    csv_writer = csv.writer(f, delimiter=',', quotechar='\"', quoting=csv.QUOTE_MINIMAL)\n",
    "    csv_writer.writerows(final_output)"
   ]
  },
  {
   "cell_type": "markdown",
   "metadata": {},
   "source": [
    "# 7. Sentiment Analysis including bert, roberta and albert"
   ]
  },
  {
   "cell_type": "code",
   "execution_count": 56,
   "metadata": {},
   "outputs": [],
   "source": [
    "def get_sentiment(text, model_type=\"bert\"):\n",
    "    if model_type == \"bert\":\n",
    "        tokenizer = tokenizer_bert\n",
    "        model = model_bert\n",
    "    elif model_type == \"roberta\":\n",
    "        tokenizer = tokenizer_roberta\n",
    "        model = model_roberta\n",
    "    elif model_type == \"albert\":\n",
    "        tokenizer = tokenizer_albert\n",
    "        model = model_albert\n",
    "    else:\n",
    "        raise ValueError(\"Invalid model type. Choose 'bert', 'roberta', or 'albert'.\")\n",
    "    \n",
    "    if not text:\n",
    "        return {'label': 'NEUTRAL', 'score': 0.5}  # Return neutral for empty text\n",
    "    \n",
    "    inputs = tokenizer(text, return_tensors=\"pt\", truncation=True, padding=True, max_length=512)\n",
    "    with torch.no_grad():\n",
    "        outputs = model(**inputs)\n",
    "\n",
    "    if model_type == \"roberta\":\n",
    "        logits = outputs.logits\n",
    "        predicted_class_idx = torch.argmax(logits, dim=-1).item()\n",
    "        score = torch.softmax(logits, dim=1)[0, predicted_class_idx].item()\n",
    "        label = model.config.id2label[predicted_class_idx]\n",
    "    else:\n",
    "        logits = outputs.logits\n",
    "        predicted_class_idx = torch.argmax(logits, dim=-1).item()\n",
    "        score = torch.softmax(logits, dim=1)[0, predicted_class_idx].item()\n",
    "        label = model.config.id2label[predicted_class_idx]\n",
    "\n",
    "    return {'label': label, 'score': score}"
   ]
  },
  {
   "cell_type": "markdown",
   "metadata": {},
   "source": [
    "# 8. GloVe Embedding (Example - integration for future use)"
   ]
  },
  {
   "cell_type": "code",
   "execution_count": 57,
   "metadata": {},
   "outputs": [],
   "source": [
    "def load_glove_embeddings(file_path):\n",
    "    embeddings_index = {}\n",
    "    with open(file_path, 'r', encoding='utf-8') as f:\n",
    "        for line in f:\n",
    "            values = line.split()\n",
    "            word = values[0]\n",
    "            coefs = np.asarray(values[1:], dtype='float32')\n",
    "            embeddings_index[word] = coefs\n",
    "    return embeddings_index\n",
    "\n",
    "# (Example) Using GloVe for embedding the summary (this is for demonstration purposes)\n",
    "def get_glove_embedding(text, embeddings_index, embedding_dim=100):\n",
    "    tokens = word_tokenize(text.lower())\n",
    "    embeddings = [embeddings_index.get(token, np.zeros(embedding_dim)) for token in tokens]\n",
    "    if embeddings:\n",
    "      return np.mean(embeddings, axis=0)\n",
    "    else:\n",
    "      return np.zeros(embedding_dim)"
   ]
  },
  {
   "cell_type": "markdown",
   "metadata": {},
   "source": [
    "# 9. Main Execution"
   ]
  },
  {
   "cell_type": "code",
   "execution_count": null,
   "metadata": {},
   "outputs": [],
   "source": [
    "if __name__ == '__main__':\n",
    "    raw_urls = {ticker: search_for_stock_news_urls(ticker) for ticker in monitored_tickers}\n",
    "    cleaned_urls = {ticker: strip_unwanted_urls(raw_urls[ticker], exclude_list) for ticker in monitored_tickers}\n",
    "    articles = {ticker: scrape_and_process(cleaned_urls[ticker]) for ticker in monitored_tickers}\n",
    "    summaries = {ticker: summarize(articles[ticker]) for ticker in monitored_tickers}\n",
    "    # Choose the model type for sentiment analysis here \n",
    "    sentiment_model_type = \"bert\" # can be \"bert\", \"roberta\", or \"albert\"\n",
    "    scores = {ticker: [get_sentiment(summary, sentiment_model_type) for summary in summaries[ticker]] for ticker in monitored_tickers}\n",
    "    \n",
    "\n",
    "    # (Example) GloVe Loading - you can adapt the path to your GloVe file\n",
    "    #glove_file_path = \"glove.6B.100d.txt\" # Update with your path\n",
    "    #try:\n",
    "        #glove_embeddings = load_glove_embeddings(glove_file_path)\n",
    "        #glove_embeddings_active = True  # Enable glove embeddings\n",
    "    #except FileNotFoundError:\n",
    "        #print(f\"Warning: GloVe embeddings file not found at {glove_file_path}. GloVe embeddings will not be used.\")\n",
    "        #glove_embeddings_active = False\n",
    "\n",
    "    # Create output array\n",
    "    def create_output_array(summaries, scores, urls):\n",
    "      output = []\n",
    "      for ticker in monitored_tickers:\n",
    "        for counter in range(len(summaries[ticker])):\n",
    "          # Default Output\n",
    "          output_this = [\n",
    "                ticker,\n",
    "                summaries[ticker][counter],\n",
    "                scores[ticker][counter]['label'],\n",
    "                scores[ticker][counter]['score'],\n",
    "                urls[ticker][counter]\n",
    "            ]\n",
    "\n",
    "          # Adding the GloVe embedding if active:\n",
    "          #if glove_embeddings_active and summaries[ticker][counter] != '':\n",
    "            #   glove_vector = get_glove_embedding(summaries[ticker][counter], glove_embeddings)\n",
    "            #   output_this.extend(glove_vector.tolist())  # Append embedding as a list\n",
    "          output.append(output_this)\n",
    "      return output\n",
    "\n",
    "    final_output = create_output_array(summaries, scores, cleaned_urls)\n",
    "    final_output.insert(0, ['Ticker', 'Summary', 'Label', 'Confidence', 'URL'])\n",
    "    \n",
    "    # Exporting Results to CSV\n",
    "    with open('assetsummaries.csv', mode='w', newline='', encoding='utf-8') as f:\n",
    "        csv_writer = csv.writer(f, delimiter=',', quotechar='\"', quoting=csv.QUOTE_MINIMAL)\n",
    "        csv_writer.writerows(final_output)\n",
    "    print(\"Results exported to assetsummaries.csv\")"
   ]
  },
  {
   "cell_type": "code",
   "execution_count": null,
   "metadata": {},
   "outputs": [],
   "source": []
  }
 ],
 "metadata": {
  "kernelspec": {
   "display_name": "Python 3 (ipykernel)",
   "language": "python",
   "name": "python3"
  },
  "language_info": {
   "codemirror_mode": {
    "name": "ipython",
    "version": 3
   },
   "file_extension": ".py",
   "mimetype": "text/x-python",
   "name": "python",
   "nbconvert_exporter": "python",
   "pygments_lexer": "ipython3",
   "version": "3.11.3"
  }
 },
 "nbformat": 4,
 "nbformat_minor": 4
}
